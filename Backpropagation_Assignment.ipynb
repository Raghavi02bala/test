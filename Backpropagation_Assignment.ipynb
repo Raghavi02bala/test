{
  "nbformat": 4,
  "nbformat_minor": 0,
  "metadata": {
    "colab": {
      "name": "Backpropagation_Assignment.ipynb",
      "provenance": [],
      "collapsed_sections": []
    },
    "kernelspec": {
      "display_name": "Python 3",
      "language": "python",
      "name": "python3"
    },
    "language_info": {
      "codemirror_mode": {
        "name": "ipython",
        "version": 3
      },
      "file_extension": ".py",
      "mimetype": "text/x-python",
      "name": "python",
      "nbconvert_exporter": "python",
      "pygments_lexer": "ipython3",
      "version": "3.6.3"
    }
  },
  "cells": [
    {
      "cell_type": "markdown",
      "metadata": {
        "id": "y871RZtRhCEH"
      },
      "source": [
        "# <font color='red'>Backpropagation</font>"
      ]
    },
    {
      "cell_type": "markdown",
      "metadata": {
        "id": "LqePYi-4mFvK"
      },
      "source": [
        "\n",
        "In this assignment, you will implement Backpropagation from scratch. You will then verify the correctness of the your implementation using a \"grader\" function/cell (provided by us) which will match your implmentation.\n",
        "\n",
        "The grader fucntion would help you validate the correctness of your code. \n",
        "\n",
        "Please submit the final Colab notebook in the classroom ONLY after you have verified your code using the grader function/cell.\n",
        "\n",
        "\n"
      ]
    },
    {
      "cell_type": "markdown",
      "metadata": {
        "id": "0huUQ0byiI0I"
      },
      "source": [
        "## <font color='red'>Loading data </font>"
      ]
    },
    {
      "cell_type": "code",
      "source": [
        "from google.colab import drive\n",
        "drive.mount('/content/drive')"
      ],
      "metadata": {
        "colab": {
          "base_uri": "https://localhost:8080/"
        },
        "id": "-RF9mf_nIC8e",
        "outputId": "ee5b0ea4-02c8-4bfa-eba6-8f7b95274db5"
      },
      "execution_count": 1,
      "outputs": [
        {
          "output_type": "stream",
          "name": "stdout",
          "text": [
            "Drive already mounted at /content/drive; to attempt to forcibly remount, call drive.mount(\"/content/drive\", force_remount=True).\n"
          ]
        }
      ]
    },
    {
      "cell_type": "code",
      "metadata": {
        "id": "1hSje5CBgcUb",
        "colab": {
          "base_uri": "https://localhost:8080/"
        },
        "outputId": "9ad86dc3-0024-4664-a59b-a9f440f8309e"
      },
      "source": [
        "import pickle\n",
        "import numpy as np\n",
        "from tqdm import tqdm\n",
        "import matplotlib.pyplot as plt\n",
        "import math\n",
        "\n",
        "with open('/content/drive/MyDrive/Colab Notebooks/data.pkl', 'rb') as f:\n",
        "    data = pickle.load(f)\n",
        "print(data.shape)\n",
        "X = data[:, :5]\n",
        "y = data[:, -1]\n",
        "print(X.shape, y.shape)"
      ],
      "execution_count": 2,
      "outputs": [
        {
          "output_type": "stream",
          "name": "stdout",
          "text": [
            "(506, 6)\n",
            "(506, 5) (506,)\n"
          ]
        }
      ]
    },
    {
      "cell_type": "markdown",
      "metadata": {
        "id": "hmphIg_E52Rs"
      },
      "source": [
        "<font color='blue'><b>Check this video for better understanding of the computational graphs and back propagation</font>"
      ]
    },
    {
      "cell_type": "code",
      "metadata": {
        "colab": {
          "base_uri": "https://localhost:8080/",
          "height": 521
        },
        "id": "uUWpHhgg53eu",
        "outputId": "908a5ebd-3ff6-46b0-cca4-953e584f1763"
      },
      "source": [
        "from IPython.display import YouTubeVideo\n",
        "YouTubeVideo('i94OvYb6noo',width=\"1000\",height=\"500\")"
      ],
      "execution_count": 3,
      "outputs": [
        {
          "output_type": "execute_result",
          "data": {
            "text/plain": [
              "<IPython.lib.display.YouTubeVideo at 0x7f6c48203e10>"
            ],
            "text/html": [
              "\n",
              "        <iframe\n",
              "            width=\"1000\"\n",
              "            height=\"500\"\n",
              "            src=\"https://www.youtube.com/embed/i94OvYb6noo\"\n",
              "            frameborder=\"0\"\n",
              "            allowfullscreen\n",
              "        ></iframe>\n",
              "        "
            ],
            "image/jpeg": "[encoded data removed]"
          },
          "metadata": {},
          "execution_count": 3
        }
      ]
    },
    {
      "cell_type": "markdown",
      "metadata": {
        "id": "5JL-0soQistC"
      },
      "source": [
        "# <font color='red'>Computational graph</font>"
      ]
    },
    {
      "cell_type": "markdown",
      "metadata": {
        "id": "nREnTTJ3i0Vd"
      },
      "source": [
        "<img src='https://i.imgur.com/seSGbNS.png'>"
      ]
    },
    {
      "cell_type": "markdown",
      "metadata": {
        "id": "DSPX_H_4i_HT"
      },
      "source": [
        "\n",
        "*  **If you observe the graph, we are having input features [f1, f2, f3, f4, f5] and 9 weights [w1, w2, w3, w4, w5, w6,    w7, w8, w9]**.<br><br>\n",
        "*  **The final output of this graph is a value L which is computed as (Y-Y')^2** "
      ]
    },
    {
      "cell_type": "markdown",
      "metadata": {
        "id": "D54eDEv6jkO4"
      },
      "source": [
        "## <font color='red'>Task 1: Implementing Forward propagation, Backpropagation and Gradient checking </font>"
      ]
    },
    {
      "cell_type": "markdown",
      "metadata": {
        "id": "xyWK94o_fTKH"
      },
      "source": [
        "# <font color='red'>Task 1.1 </font>"
      ]
    },
    {
      "cell_type": "markdown",
      "metadata": {
        "id": "RwEcPWLffTKI"
      },
      "source": [
        "## <font color='blue'>Forward propagation </font>"
      ]
    },
    {
      "cell_type": "markdown",
      "metadata": {
        "id": "FCZrm-gkfTKI"
      },
      "source": [
        "\n",
        "*  <b>\n",
        "    Forward propagation</b>(Write your code in<font color='blue'> def forward_propagation()</b></font>)<br><br>\n",
        "    For easy debugging, we will break the computational graph into 3 parts.\n",
        "\n",
        "    <font color='green'><b>Part 1</b></font></b>\n",
        "    <img src='https://i.imgur.com/0xUaxy6.png'><br><br>\n",
        "    <font color='green'><b>Part 2</b></font></b><br>\n",
        "    <img src='https://i.imgur.com/J29pAJL.png'><br><br>\n",
        "    <font color='green'><b>Part 3</b></font></b>\n",
        "    <img src='https://i.imgur.com/vMyCsd9.png'>"
      ]
    },
    {
      "cell_type": "code",
      "metadata": {
        "id": "ADCovl2FfTKJ"
      },
      "source": [
        "def sigmoid(z):\n",
        "  return 1/(1 + np.exp(-z))"
      ],
      "execution_count": 4,
      "outputs": []
    },
    {
      "cell_type": "code",
      "metadata": {
        "id": "dLJ-OYwefTKJ",
        "colab": {
          "base_uri": "https://localhost:8080/"
        },
        "outputId": "3e8596d0-fd89-419e-8049-80a13f2dcb88"
      },
      "source": [
        "def grader_sigmoid(z):\n",
        "  #if you have written the code correctly then the grader function will output true\n",
        "  val=sigmoid(z)\n",
        "  assert(val==0.8807970779778823)\n",
        "  return True\n",
        "grader_sigmoid(2)"
      ],
      "execution_count": 5,
      "outputs": [
        {
          "output_type": "execute_result",
          "data": {
            "text/plain": [
              "True"
            ]
          },
          "metadata": {},
          "execution_count": 5
        }
      ]
    },
    {
      "cell_type": "code",
      "metadata": {
        "id": "KD3piNkifTKJ"
      },
      "source": [
        "def forward_propagation(x, y, w):\n",
        "  forward_dict={}\n",
        "  val_1= (w[0]*x[0]+w[1]*x[1]) * (w[0]*x[0]+w[1]*x[1]) + w[5]\n",
        "  part_1 = np.exp(val_1)\n",
        "  val_2 = part_1 + w[6]\n",
        "  part_2 = np.tanh(val_2)\n",
        "  val_3  = ((np.sin(w[2]*x[2])) * ((w[3]*x[3]) + (w[4]*x[4]))) + w[7]\n",
        "  part_3 = sigmoid(val_3)\n",
        "  y_pred = (part_3 * w[8]) + part_2\n",
        "  loss   = np.square(y-y_pred)\n",
        "  dl = -2*(y-y_pred)\n",
        "\n",
        "  forward_dict['exp']= part_1\n",
        "  forward_dict['tanh'] = part_2\n",
        "  forward_dict['sigmoid'] = part_3\n",
        "  forward_dict['loss'] = loss\n",
        "  forward_dict['dy_pred'] = dl\n",
        "  forward_dict['y_pred'] = y_pred\n",
        "  \n",
        "  return forward_dict"
      ],
      "execution_count": 6,
      "outputs": []
    },
    {
      "cell_type": "code",
      "metadata": {
        "id": "vP0iV7f4fTKK",
        "colab": {
          "base_uri": "https://localhost:8080/"
        },
        "outputId": "c2a3cbdd-b165-4110-f0ce-d4a033f9ccb8"
      },
      "source": [
        "def grader_forwardprop(data):\n",
        "    dl = (data['dy_pred']==-1.9285278284819143)\n",
        "    loss=(data['loss']==0.9298048963072919)\n",
        "    part1=(data['exp']==1.1272967040973583)\n",
        "    part2=(data['tanh']==0.8417934192562146)\n",
        "    part3=(data['sigmoid']==0.5279179387419721)\n",
        "    assert(dl and loss and part1 and part2 and part3)\n",
        "    return True\n",
        "w=np.ones(9)*0.1\n",
        "d1=forward_propagation(X[0],y[0],w)\n",
        "grader_forwardprop(d1)"
      ],
      "execution_count": 7,
      "outputs": [
        {
          "output_type": "execute_result",
          "data": {
            "text/plain": [
              "True"
            ]
          },
          "metadata": {},
          "execution_count": 7
        }
      ]
    },
    {
      "cell_type": "markdown",
      "metadata": {
        "id": "2zcQmvkvfTKL"
      },
      "source": [
        "# <font color='red'>Task 1.2 </font>"
      ]
    },
    {
      "cell_type": "markdown",
      "metadata": {
        "id": "4YVYD18xfTKL"
      },
      "source": [
        "## <font color='blue'>Backward propagation</font>"
      ]
    },
    {
      "cell_type": "code",
      "metadata": {
        "id": "Ld1PMQtffTKL"
      },
      "source": [
        "def backward_propagation(x,y,w,forward_dict):\n",
        "  \n",
        "  dw1 = forward_dict['dy_pred']*(1-(math.pow(forward_dict['tanh'],2)))*forward_dict[\"exp\"]*2*((w[0]*x[0])+(w[1]*x[1]))*x[0]\n",
        "  dw2 = forward_dict['dy_pred']*(1-(math.pow(forward_dict['tanh'],2)))*forward_dict[\"exp\"]*2*((w[0]*x[0])+(w[1]*x[1]))*x[1]\n",
        "  dw3 = forward_dict['dy_pred']*(forward_dict['sigmoid']*(1-forward_dict['sigmoid']))*w[8]*((w[3]*x[3])+(w[4]*x[4]))*math.cos(x[2]*w[2])*x[2]\n",
        "  dw4 = forward_dict['dy_pred']*(forward_dict['sigmoid']*(1-forward_dict['sigmoid']))*w[8]*math.sin(x[2]*w[2])*x[3]\n",
        "  dw5 = forward_dict['dy_pred']*(forward_dict['sigmoid']*(1-forward_dict['sigmoid']))*w[8]*math.sin(x[2]*w[2])*x[4]\n",
        "  dw6 = forward_dict['dy_pred']*(1-(math.pow(forward_dict['tanh'],2)))*forward_dict[\"exp\"]\n",
        "  dw7 = forward_dict['dy_pred']*(1-(math.pow(forward_dict['tanh'],2)))\n",
        "  dw8 = forward_dict['dy_pred']*(forward_dict['sigmoid']*(1-forward_dict['sigmoid']))*w[8]\n",
        "  dw9 = forward_dict['dy_pred']*forward_dict['sigmoid']\n",
        "  \n",
        "  backward_dict={}\n",
        "  backward_dict['dw1']=dw1 \n",
        "  backward_dict['dw2']=dw2\n",
        "  backward_dict['dw3']=dw3\n",
        "  backward_dict['dw4']=dw4\n",
        "  backward_dict['dw5']=dw5\n",
        "  backward_dict['dw6']=dw6\n",
        "  backward_dict['dw7']=dw7\n",
        "  backward_dict['dw8']=dw8\n",
        "  backward_dict['dw9']=dw9 \n",
        "  \n",
        "  return backward_dict"
      ],
      "execution_count": 8,
      "outputs": []
    },
    {
      "cell_type": "code",
      "metadata": {
        "id": "0ipQbNXOfTKM",
        "colab": {
          "base_uri": "https://localhost:8080/"
        },
        "outputId": "26ad2649-3227-49c4-fe0e-b786fd1b8706"
      },
      "source": [
        "def grader_backprop(data):\n",
        "    dw1=(np.round(data['dw1'],6)==-0.229733)\n",
        "    dw2=(np.round(data['dw2'],6)==-0.021408)\n",
        "    dw3=(np.round(data['dw3'],6)==-0.005625)\n",
        "    dw4=(np.round(data['dw4'],6)==-0.004658)\n",
        "    dw5=(np.round(data['dw5'],6)==-0.001008)\n",
        "    dw6=(np.round(data['dw6'],6)==-0.633475)\n",
        "    dw7=(np.round(data['dw7'],6)==-0.561942)\n",
        "    dw8=(np.round(data['dw8'],6)==-0.048063)\n",
        "    dw9=(np.round(data['dw9'],6)==-1.018104)\n",
        "    assert(dw1 and dw2 and dw3 and dw4 and dw5 and dw6 and dw7 and dw8 and dw9)\n",
        "    return True \n",
        "w=np.ones(9)*0.1\n",
        "forward_dict=forward_propagation(X[0],y[0],w)\n",
        "backward_dict=backward_propagation(X[0],y[0],w,forward_dict)\n",
        "grader_backprop(backward_dict)"
      ],
      "execution_count": 9,
      "outputs": [
        {
          "output_type": "execute_result",
          "data": {
            "text/plain": [
              "True"
            ]
          },
          "metadata": {},
          "execution_count": 9
        }
      ]
    },
    {
      "cell_type": "markdown",
      "metadata": {
        "id": "RlR1JVN5fTKM"
      },
      "source": [
        "# <font color='red'>Task 1.3 </font>"
      ]
    },
    {
      "cell_type": "markdown",
      "metadata": {
        "id": "STS4NrQQc6OH"
      },
      "source": [
        " ## <font color='blue'>Gradient clipping</font>"
      ]
    },
    {
      "cell_type": "markdown",
      "metadata": {
        "id": "XY7ivRNzdPok"
      },
      "source": [
        "<b> Check this  <a href='https://towardsdatascience.com/how-to-debug-a-neural-network-with-gradient-checking-41deec0357a9'>blog link</a> for more details on Gradient clipping"
      ]
    },
    {
      "cell_type": "markdown",
      "metadata": {
        "id": "BrsfpDoidtZ5"
      },
      "source": [
        " we know that the derivative of any function is\n",
        " \n",
        " $$\\lim_{\\epsilon\\to0}\\frac{f(x+\\epsilon)-f(x-\\epsilon)}{2\\epsilon}$$\n"
      ]
    },
    {
      "cell_type": "markdown",
      "metadata": {
        "id": "vUcmt0kPd02f"
      },
      "source": [
        "*  The definition above can be used as a numerical approximation of the derivative. Taking an epsilon small enough, the calculated approximation will have an error in the range of epsilon squared. \n",
        "\n",
        "*  In other words, if epsilon is 0.001, the approximation will be off by 0.00001.\n",
        "\n",
        "Therefore, we can use this to approximate the gradient, and in turn make sure that backpropagation is implemented properly. This forms the basis of <b>gradient checking!</b>"
      ]
    },
    {
      "cell_type": "markdown",
      "metadata": {
        "id": "pFSu16KCeU0x"
      },
      "source": [
        "## <Font color='blue'>Gradient checking example</font>"
      ]
    },
    {
      "cell_type": "markdown",
      "metadata": {
        "id": "Gz0mmT_xecfC"
      },
      "source": [
        "<font >\n",
        "lets understand the concept with a simple example:\n",
        "$f(w1,w2,x1,x2)=w_{1}^{2} . x_{1} + w_{2} . x_{2}$ \n",
        "\n",
        "from the above function , lets assume $w_{1}=1$, $w_{2}=2$, $x_{1}=3$, $x_{2}=4$ the gradient of $f$ w.r.t $w_{1}$ is\n",
        "\n",
        "\\begin{array} {lcl}\n",
        "\\frac{df}{dw_{1}} = dw_{1} &=&2.w_{1}.x_{1} \\\\& = &2.1.3\\\\& = &6\n",
        "\\end{array}\n",
        "\n",
        "\n",
        "let calculate the aproximate gradient of $w_{1}$ as mentinoned in the above formula and considering $\\epsilon=0.0001$\n",
        "\n",
        "\\begin{array} {lcl}\n",
        "dw_1^{approx} & = & \\frac{f(w1+\\epsilon,w2,x1,x2)-f(w1-\\epsilon,w2,x1,x2)}{2\\epsilon} \\\\ & = & \\frac{((1+0.0001)^{2} . 3 + 2 . 4) - ((1-0.0001)^{2} . 3 + 2 . 4)}{2\\epsilon} \\\\ & = & \\frac{(1.00020001 . 3 + 2 . 4) - (0.99980001. 3 + 2 . 4)}{2*0.0001} \\\\ & = & \\frac{(11.00060003) - (10.99940003)}{0.0002}\\\\ & = & 5.99999999999\n",
        "\\end{array}\n",
        "\n",
        "Then, we apply the following formula for gradient check: <i>gradient_check</i> = \n",
        "$\\frac{\\left\\Vert\\left (dW-dW^{approx}\\rm\\right) \\right\\Vert_2}{\\left\\Vert\\left (dW\\rm\\right) \\right\\Vert_2+\\left\\Vert\\left (dW^{approx}\\rm\\right) \\right\\Vert_2}$\n",
        "\n",
        "The equation above is basically the Euclidean distance normalized by the sum of the norm of the vectors. We use normalization in case that one of the vectors is very small.\n",
        "As a value for epsilon, we usually opt for 1e-7. Therefore, if gradient check return a value less than 1e-7, then it means that backpropagation was implemented correctly. Otherwise, there is potentially a mistake in your implementation. If the value exceeds 1e-3, then you are sure that the code is not correct.\n",
        "\n",
        "in our example: <i>gradient_check</i> $ = \\frac{(6 - 5.999999999994898)}{(6 + 5.999999999994898)} = 4.2514140356330737e^{-13}$\n",
        "\n",
        "you can mathamatically derive the same thing like this\n",
        "\n",
        "\\begin{array} {lcl}\n",
        "dw_1^{approx} & = & \\frac{f(w1+\\epsilon,w2,x1,x2)-f(w1-\\epsilon,w2,x1,x2)}{2\\epsilon} \\\\ & = & \\frac{((w_{1}+\\epsilon)^{2} . x_{1} + w_{2} . x_{2}) - ((w_{1}-\\epsilon)^{2} . x_{1} + w_{2} . x_{2})}{2\\epsilon} \\\\ & = & \\frac{4. \\epsilon.w_{1}. x_{1}}{2\\epsilon} \\\\ & = &  2.w_{1}.x_{1}\n",
        "\\end{array}\n"
      ]
    },
    {
      "cell_type": "markdown",
      "metadata": {
        "id": "f1BFQQaCermK"
      },
      "source": [
        "## <font color='red'> Implement Gradient checking </font> <br>\n",
        " (Write your code in <font color='blue'> def gradient_checking()</font>)"
      ]
    },
    {
      "cell_type": "markdown",
      "metadata": {
        "id": "GqpfA3AqfJba"
      },
      "source": [
        "**Algorithm** \n",
        "\n"
      ]
    },
    {
      "cell_type": "markdown",
      "metadata": {
        "id": "FL39KeRFfNoD"
      },
      "source": [
        "<pre>\n",
        "<font color='darkblue'>\n",
        "W = initilize_randomly\n",
        "def gradient_checking(data_point, W):<font color='grey'>\n",
        "    # compute the L value using forward_propagation()\n",
        "    # compute the gradients of W using backword_propagation()</font>\n",
        "    approx_gradients = []\n",
        "    for each wi weight value in W:<font color='grey'>\n",
        "        # add a small value to weight wi, and then find the values of L with the updated weights\n",
        "        # subtract a small value to weight wi, and then find the values of L with the updated weights\n",
        "        # compute the approximation gradients of weight wi</font>\n",
        "        approx_gradients.append(approximation gradients of weight wi)<font color='grey'>\n",
        "    # compare the gradient of weights W from backword_propagation() with the aproximation gradients of weights with <br>  gradient_check formula</font>\n",
        "    return gradient_check</font>\n",
        "<b>NOTE: you can do sanity check by checking all the return values of gradient_checking(),<br> they have to be zero. if not you have bug in your code\n",
        "</pre></b>"
      ]
    },
    {
      "cell_type": "code",
      "metadata": {
        "id": "XBoJRqAwfTKO"
      },
      "source": [
        "def gradient_checking(x,y,w,eps):\n",
        "  forward_dict=forward_propagation(x,y,w)\n",
        "  backward_dict=backward_propagation(x,y,w,forward_dict)\n",
        "  approx_gradients_list=[]\n",
        "  for i in range(len(w)):\n",
        "    w1 = w.copy()\n",
        "    w1[i]=w[i]+eps\n",
        "    l1=forward_propagation(x,y,w1)\n",
        "    loss1=l1['loss']\n",
        "\n",
        "    w2 = w.copy()\n",
        "    w2[i]=w[i]-eps\n",
        "    l2=forward_propagation(x,y,w2)\n",
        "    loss2=l2[\"loss\"]\n",
        "\n",
        "    approx=(loss1-loss2)/(2*eps)\n",
        "    approx_gradients_list.append(approx)\n",
        "\n",
        "  actual_grad=list(backward_dict.values())\n",
        "  numerator = np.linalg.norm(np.array(actual_grad) - np.array(approx_gradients_list))\n",
        "  denominator = np.linalg.norm(np.array(actual_grad) + np.array(approx_gradients_list))\n",
        "  gradient_check_value = numerator / denominator\n",
        "  return gradient_check_value    "
      ],
      "execution_count": 10,
      "outputs": []
    },
    {
      "cell_type": "code",
      "metadata": {
        "id": "aWSU56GffTKO",
        "colab": {
          "base_uri": "https://localhost:8080/"
        },
        "outputId": "273ae261-db57-4f93-8326-d8e639239a35"
      },
      "source": [
        "def grader_grad_check(value):\n",
        "    print(value)\n",
        "    assert(np.all(value <= 10**-3))\n",
        "    return True \n",
        "\n",
        "w=[ 0.00271756,  0.01260512,  0.00167639, -0.00207756,  0.00720768,\n",
        "   0.00114524,  0.00684168,  0.02242521,  0.01296444]\n",
        "\n",
        "eps=10**-7\n",
        "value= gradient_checking(X[0],y[0],w,eps)\n",
        "grader_grad_check(value)"
      ],
      "execution_count": 11,
      "outputs": [
        {
          "output_type": "stream",
          "name": "stdout",
          "text": [
            "1.322358194659239e-09\n"
          ]
        },
        {
          "output_type": "execute_result",
          "data": {
            "text/plain": [
              "True"
            ]
          },
          "metadata": {},
          "execution_count": 11
        }
      ]
    },
    {
      "cell_type": "markdown",
      "metadata": {
        "id": "0ufbFBFfhgL0"
      },
      "source": [
        "# <font color='red'> Task 2 : Optimizers </font>"
      ]
    },
    {
      "cell_type": "markdown",
      "metadata": {
        "id": "7zt05soYh1RM"
      },
      "source": [
        "* As a part of this task, you will be implementing 2  optimizers(methods to update weight)\n",
        "* Use the same computational graph that was mentioned above to do this task\n",
        "* The weights have been initialized from normal distribution with mean=0 and std=0.01. The initialization of weights is very important otherwiswe you can face vanishing gradient and exploding gradients problem."
      ]
    },
    {
      "cell_type": "markdown",
      "metadata": {
        "id": "CAyi7aSAicbr"
      },
      "source": [
        "**Check below video for reference purpose**"
      ]
    },
    {
      "cell_type": "code",
      "metadata": {
        "id": "ZogcxiegkQpz",
        "colab": {
          "base_uri": "https://localhost:8080/",
          "height": 521
        },
        "outputId": "447ca160-4d1f-4283-f3d4-4e2dd6860471"
      },
      "source": [
        "from IPython.display import YouTubeVideo\n",
        "YouTubeVideo('gYpoJMlgyXA',width=\"1000\",height=\"500\")"
      ],
      "execution_count": 12,
      "outputs": [
        {
          "output_type": "execute_result",
          "data": {
            "text/plain": [
              "<IPython.lib.display.YouTubeVideo at 0x7f6c44af3ad0>"
            ],
            "text/html": [
              "\n",
              "        <iframe\n",
              "            width=\"1000\"\n",
              "            height=\"500\"\n",
              "            src=\"https://www.youtube.com/embed/gYpoJMlgyXA\"\n",
              "            frameborder=\"0\"\n",
              "            allowfullscreen\n",
              "        ></iframe>\n",
              "        "
            ],
            "image/jpeg": "[encoded data removed]"
          },
          "metadata": {},
          "execution_count": 12
        }
      ]
    },
    {
      "cell_type": "markdown",
      "metadata": {
        "id": "jmefh7ktjbaR"
      },
      "source": [
        "<font color='blue'><b>Algorithm</b>"
      ]
    },
    {
      "cell_type": "markdown",
      "metadata": {
        "id": "nAc4NudkjdNa"
      },
      "source": [
        "<pre>\n",
        "    for each epoch(1-20):\n",
        "        for each data point in your data:\n",
        "            using the functions forward_propagation() and backword_propagation() compute the gradients of weights\n",
        "            update the weigts with help of gradients  \n",
        "</pre>"
      ]
    },
    {
      "cell_type": "markdown",
      "metadata": {
        "id": "_fdmPNqtjm3X"
      },
      "source": [
        "## <font color='red'> Implement below tasks</b>"
      ]
    },
    {
      "cell_type": "markdown",
      "metadata": {
        "id": "Ll9-CRsLjx_D"
      },
      "source": [
        "\n",
        "*  <b>Task 2.1</b>: you will be implementing the above algorithm with <b>Vanilla update</b> of weights<br><br>\n",
        "*  <b>Task 2.2</b>: you will be implementing the above algorithm with <b>Momentum update</b> of weights<br><br>\n",
        "*  <b>Task 2.3</b>: you will be implementing the above algorithm with <b>Adam update</b> of weights<br><br>\n"
      ]
    },
    {
      "cell_type": "markdown",
      "metadata": {
        "id": "atp082demrUR"
      },
      "source": [
        "**Note : If you get any assertion error while running grader functions, please print the variables in grader functions and check which variable is returning False .Recheck your logic for that variable .**"
      ]
    },
    {
      "cell_type": "markdown",
      "metadata": {
        "id": "cv_hZFWalS2z"
      },
      "source": [
        "### <font color='blue'>2.1 Algorithm with Vanilla update of weights</font>"
      ]
    },
    {
      "cell_type": "code",
      "metadata": {
        "id": "KlVuEsRjQoW5"
      },
      "source": [
        "from sklearn.metrics import mean_squared_error \n",
        "rate=.001\n",
        "mu, sigma = 0, 0.01 \n",
        "w = np.random.normal(mu, sigma, 9) \n",
        "weight=w"
      ],
      "execution_count": 13,
      "outputs": []
    },
    {
      "cell_type": "code",
      "metadata": {
        "id": "HuDaxRnCQoW5"
      },
      "source": [
        "loss_value_vanilla=[]\n",
        "epoch_vanilla=[]\n",
        "for epoch in range(100):\n",
        "  epoch_vanilla.append(epoch)\n",
        "  y_pred=[]\n",
        "  for point in range(len(data)):\n",
        "    forward=forward_propagation(X[point], y[point], w)\n",
        "    y_pred.append(forward['y_pred'])\n",
        "    backward_dict=backward_propagation(X[point],y,w,forward)\n",
        "    backward = list(backward_dict.values())\n",
        "    for i in range(w.shape[0]):\n",
        "      w[i]=w[i]-rate*backward[i]\n",
        "  loss=mean_squared_error(y,y_pred) \n",
        "  loss_value_vanilla.append(loss)"
      ],
      "execution_count": 14,
      "outputs": []
    },
    {
      "cell_type": "code",
      "source": [
        "%matplotlib inline\n",
        "import matplotlib.pyplot as plt\n",
        "plt.figure(figsize=(8,6))\n",
        "plt.grid()\n",
        "plt.plot(epoch_vanilla,loss_value_vanilla, label=' loss')\n",
        "plt.title(\"epoch vs loss\")\n",
        "plt.xlabel(\"epoch_number\")\n",
        "plt.ylabel(\"loss\")\n",
        "plt.legend()"
      ],
      "metadata": {
        "colab": {
          "base_uri": "https://localhost:8080/",
          "height": 422
        },
        "id": "7qq4uRRqAjSK",
        "outputId": "e83a50f0-d2df-4763-ec76-13ad7636f059"
      },
      "execution_count": 15,
      "outputs": [
        {
          "output_type": "execute_result",
          "data": {
            "text/plain": [
              "<matplotlib.legend.Legend at 0x7f6c385b11d0>"
            ]
          },
          "metadata": {},
          "execution_count": 15
        },
        {
          "output_type": "display_data",
          "data": {
            "text/plain": [
              "<Figure size 576x432 with 1 Axes>"
            ],
            "image/png": "[encoded data removed]"
          },
          "metadata": {
            "needs_background": "light"
          }
        }
      ]
    },
    {
      "cell_type": "markdown",
      "source": [
        "Vanilla update of weights is a fairly simple method to update weights.It is the basic update rule without any customization, it works wells for small/shallow network, as the network becomes denser it will take more time to converge. "
      ],
      "metadata": {
        "id": "_maL1LD-93U7"
      }
    },
    {
      "cell_type": "markdown",
      "metadata": {
        "id": "V4RWWrZ7lWap"
      },
      "source": [
        "### <font color='blue'>2.2 Algorithm with Momentum update of weights</font>"
      ]
    },
    {
      "cell_type": "markdown",
      "metadata": {
        "id": "oM2BAasL6zz4"
      },
      "source": [
        "<img src='https://i.imgur.com/gyPSXhS.png'>"
      ]
    },
    {
      "cell_type": "markdown",
      "metadata": {
        "id": "2iCc4sIE-4A-"
      },
      "source": [
        "Here Gamma referes to the momentum coefficient, eta is leaning rate and v_t is moving average of our gradients at timestep t"
      ]
    },
    {
      "cell_type": "code",
      "source": [
        "rate=.001\n",
        "m=np.zeros(9)\n",
        "b=.9\n",
        "mu, sigma = 0, 0.01 \n",
        "w = np.random.normal(mu, sigma, 9) "
      ],
      "metadata": {
        "id": "rx0R9LjGAwW0"
      },
      "execution_count": 16,
      "outputs": []
    },
    {
      "cell_type": "code",
      "source": [
        "loss_value_momentum=[]\n",
        "epoch_momentum=[]\n",
        "for epoch in range(100):\n",
        "  epoch_momentum.append(epoch)\n",
        "  y_pred=[]\n",
        "  for point in range(len(data)):\n",
        "    forward=forward_propagation(X[point], y[point], w)\n",
        "    y_pred.append(forward['y_pred'])\n",
        "    backward_dict=backward_propagation(X[point],y,w,forward)\n",
        "    backward = list(backward_dict.values())\n",
        "    for i in range(w.shape[0]):\n",
        "      m[i]=b*m[i]+(1-b)*backward[i]\n",
        "      w[i]=w[i]-rate*m[i]\n",
        "  loss=mean_squared_error(y,y_pred) \n",
        "  loss_value_momentum.append(loss)"
      ],
      "metadata": {
        "id": "GpjwQ7viA_JV"
      },
      "execution_count": 17,
      "outputs": []
    },
    {
      "cell_type": "code",
      "source": [
        "%matplotlib inline\n",
        "import matplotlib.pyplot as plt\n",
        "plt.figure(figsize=(8,6))\n",
        "plt.grid()\n",
        "plt.plot(epoch_momentum,loss_value_momentum, label=' loss')\n",
        "plt.title(\"epoch vs loss\")\n",
        "plt.xlabel(\"epoch_number\")\n",
        "plt.ylabel(\"loss\")\n",
        "plt.legend()\n"
      ],
      "metadata": {
        "colab": {
          "base_uri": "https://localhost:8080/",
          "height": 422
        },
        "id": "ZwdlXQ4pA_MI",
        "outputId": "ad575b42-d4d8-4187-96fc-30b43bef81c3"
      },
      "execution_count": 18,
      "outputs": [
        {
          "output_type": "execute_result",
          "data": {
            "text/plain": [
              "<matplotlib.legend.Legend at 0x7f6c38050350>"
            ]
          },
          "metadata": {},
          "execution_count": 18
        },
        {
          "output_type": "display_data",
          "data": {
            "text/plain": [
              "<Figure size 576x432 with 1 Axes>"
            ],
            "image/png": "[encoded data removed]"
          },
          "metadata": {
            "needs_background": "light"
          }
        }
      ]
    },
    {
      "cell_type": "markdown",
      "source": [
        "This works well in most cases, it used to speed up the process of convergence in SGD, as SGD takes a random batch everytime for calculating the weights, leading it to diverge from the point of convergence. Momentum helps regulate the direction in which the SGD travels to ensure faster convergence.This is exactly done using exponential moving average, where we give more importance to the recent weights compared to older ones."
      ],
      "metadata": {
        "id": "XYT_SFQJco90"
      }
    },
    {
      "cell_type": "markdown",
      "metadata": {
        "id": "Agtmr_lZQoW6"
      },
      "source": [
        "### <font color='blue'>2.3 Algorithm with Adam update of weights</font>"
      ]
    },
    {
      "cell_type": "markdown",
      "metadata": {
        "id": "WRYiT2KKQoW6"
      },
      "source": [
        "<img src='https://i.imgur.com/GDR8UFP.jpg'>"
      ]
    },
    {
      "cell_type": "code",
      "metadata": {
        "id": "0YffVQ2LQoW6"
      },
      "source": [
        "rate=.001\n",
        "m=np.zeros(9)\n",
        "v=np.zeros(9)\n",
        "b1=.9\n",
        "b2=0.999\n",
        "z=1e-8\n",
        "mu, sigma = 0, 0.01\n",
        "w = np.random.normal(mu, sigma, 9) "
      ],
      "execution_count": 19,
      "outputs": []
    },
    {
      "cell_type": "code",
      "source": [
        "loss_value_adam=[]\n",
        "epoch_adam=[]\n",
        "for epoch in range(100):\n",
        "  epoch_adam.append(epoch)\n",
        "  y_pred=[]\n",
        "  for point in range(len(data)):\n",
        "    forward=forward_propagation(X[point], y[point], w)\n",
        "    y_pred.append(forward['y_pred'])\n",
        "    backward_dict=backward_propagation(X[point],y,w,forward)\n",
        "    backward=list(backward_dict.values())\n",
        "    for i in range(w.shape[0]):\n",
        "      m[i]=b1*m[i]+(1-b1)*backward[i]\n",
        "      mt=m[i]/(1-b1)\n",
        "      v[i]=b2*v[i]+(1-b2)*math.pow(backward[i],2)\n",
        "      vt=v[i]/(1-b2)\n",
        "      w[i]=w[i]-(rate/(math.sqrt(vt)+z))*mt\n",
        "  loss=mean_squared_error(y,y_pred) \n",
        "  loss_value_adam.append(loss)"
      ],
      "metadata": {
        "id": "J_VSNeOiBpVe"
      },
      "execution_count": 20,
      "outputs": []
    },
    {
      "cell_type": "code",
      "source": [
        "%matplotlib inline\n",
        "import matplotlib.pyplot as plt\n",
        "plt.figure(figsize=(8,6))\n",
        "plt.grid()\n",
        "plt.plot(epoch_adam,loss_value_adam, label=' loss')\n",
        "plt.title(\"epoch vs loss\")\n",
        "plt.xlabel(\"epoch_number\")\n",
        "plt.ylabel(\"loss\")\n",
        "plt.legend()"
      ],
      "metadata": {
        "colab": {
          "base_uri": "https://localhost:8080/",
          "height": 422
        },
        "id": "QQ9U6wWfBraI",
        "outputId": "6f2f488a-eadc-4b49-9800-2516aa79e111"
      },
      "execution_count": 21,
      "outputs": [
        {
          "output_type": "execute_result",
          "data": {
            "text/plain": [
              "<matplotlib.legend.Legend at 0x7f6c37fd1610>"
            ]
          },
          "metadata": {},
          "execution_count": 21
        },
        {
          "output_type": "display_data",
          "data": {
            "text/plain": [
              "<Figure size 576x432 with 1 Axes>"
            ],
            "image/png": "[encoded data removed]"
          },
          "metadata": {
            "needs_background": "light"
          }
        }
      ]
    },
    {
      "cell_type": "markdown",
      "source": [
        "We can see from the below comparison graph that Adam works better than both momentum and vannila solutions. Among the presnet algorithms Adam is considered the more efficient. We elevate the idea behind momentum by using first order moment instead of 2nd order moment."
      ],
      "metadata": {
        "id": "nCNQ6ehNgTGv"
      }
    },
    {
      "cell_type": "markdown",
      "metadata": {
        "id": "7627cy8YlnYO"
      },
      "source": [
        "<font color='blue'>Comparision plot between epochs and loss with different optimizers. Make sure that loss is conerging with increaing epochs</font>"
      ]
    },
    {
      "cell_type": "code",
      "metadata": {
        "id": "scleSfIXl_bC",
        "colab": {
          "base_uri": "https://localhost:8080/",
          "height": 406
        },
        "outputId": "1c4dc42d-7f30-4afe-eeeb-6d0f17315718"
      },
      "source": [
        "%matplotlib inline\n",
        "import matplotlib.pyplot as plt\n",
        "plt.figure(figsize=(8,6))\n",
        "plt.grid()\n",
        "plt.plot(epoch_adam,loss_value_adam, label=' adam update')\n",
        "plt.plot(epoch_vanilla,loss_value_vanilla, label=' vanilla update')\n",
        "plt.plot(epoch_momentum,loss_value_momentum, label=' momentum')\n",
        "plt.xlabel(\"epoch_number\")\n",
        "plt.ylabel(\"loss\")\n",
        "plt.legend()"
      ],
      "execution_count": 22,
      "outputs": [
        {
          "output_type": "execute_result",
          "data": {
            "text/plain": [
              "<matplotlib.legend.Legend at 0x7f6c37f61a10>"
            ]
          },
          "metadata": {},
          "execution_count": 22
        },
        {
          "output_type": "display_data",
          "data": {
            "text/plain": [
              "<Figure size 576x432 with 1 Axes>"
            ],
            "image/png": "[encoded data removed]"
          },
          "metadata": {
            "needs_background": "light"
          }
        }
      ]
    },
    {
      "cell_type": "markdown",
      "metadata": {
        "id": "YfDWEOCr69uQ"
      },
      "source": [
        "<font color='blue'><b>You can go through the following blog to understand the implementation of other optimizers .</font>\n",
        "   <br> [Gradients update blog](https://cs231n.github.io/neural-networks-3/) </br>"
      ]
    }
  ]
}