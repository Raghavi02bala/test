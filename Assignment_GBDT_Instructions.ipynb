{
  "cells": [
    {
      "cell_type": "markdown",
      "metadata": {
        "id": "8wqapAXjsc24"
      },
      "source": [
        "# Assignment 9: GBDT"
      ]
    },
    {
      "cell_type": "markdown",
      "metadata": {
        "id": "8u5NhbnEsc2-"
      },
      "source": [
        "#### Response Coding: Example"
      ]
    },
    {
      "cell_type": "markdown",
      "metadata": {
        "id": "HIFWmwHKsc3A"
      },
      "source": [
        "<img src='http://i.imgur.com/TufZptV.jpg' width=700px>\n",
        "\n",
        "> The response tabel is built only on train dataset.\n",
        "> For a category which is not there in train data and present in test data, we will encode them with default values\n",
        "Ex: in our test data if have State: D then we encode it as [0.5, 0.05]"
      ]
    },
    {
      "cell_type": "markdown",
      "metadata": {
        "id": "3KwfGufDsc3D"
      },
      "source": [
        "<ol>\n",
        "    <li><strong>Apply GBDT on these feature sets</strong>\n",
        "        <ul>\n",
        "            <li><font color='red'>Set 1</font>: categorical(instead of one hot encoding, try <a href='https://www.appliedaicourse.com/course/applied-ai-course-online/lessons/handling-categorical-and-numerical-features/'>response coding</a>: use probability values), numerical features + project_title(TFIDF)+  preprocessed_eassay (TFIDF)+sentiment Score of eassay(check the bellow example, include all 4 values as 4 features)</li>\n",
        "            <li><font color='red'>Set 2</font>: categorical(instead of one hot encoding, try <a href='https://www.appliedaicourse.com/course/applied-ai-course-online/lessons/handling-categorical-and-numerical-features/'>response coding</a>: use probability values), numerical features + project_title(TFIDF W2V)+  preprocessed_eassay (TFIDF W2V)</li>        \n",
        "    </li>\n",
        "    <li> Here in response encoding you need to apply the <strong>laplase smoothing</strong> value for test set. Laplase smoothing means, If test point is present in test but not in train then you need to apply default 0.5 as probability value for that data point (Refer the Response Encoding Image from above cell) </li>\n",
        "    <li>Please use atleast <strong> 35k </strong> data points </li></ul>\n",
        "    <li><strong>The hyper paramter tuning (Consider any two hyper parameters)</strong>\n",
        "        <ul>\n",
        "    <li>Find the best hyper parameter which will give the maximum <a href='https://www.appliedaicourse.com/course/applied-ai-course-online/lessons/receiver-operating-characteristic-curve-roc-curve-and-auc-1/'>AUC</a> value</li>\n",
        "    <li>find the best hyper paramter using k-fold cross validation/simple cross validation data</li>\n",
        "    <li>use gridsearch cv or randomsearch cv or you can write your own for loops to do this task</li>\n",
        "        </ul>\n",
        "    </li>\n",
        "    <li>\n",
        "    <strong>Representation of results</strong>\n",
        "        <ul>\n",
        "    <li>You need to plot the performance of model both on train data and cross validation data for each hyper parameter, like shown in the figure\n",
        "    <img src='https://i.imgur.com/Gp2DQmh.jpg' width=500px> with X-axis as <strong>n_estimators</strong>, Y-axis as <strong>max_depth</strong>, and Z-axis as <strong>AUC Score</strong> , we have given the notebook which explains how to plot this 3d plot, you can find it in the same drive <i>3d_scatter_plot.ipynb</i></li>\n",
        "            <p style=\"text-align:center;font-size:30px;color:red;\"><strong>or</strong></p> <br>\n",
        "    <li>You need to plot the performance of model both on train data and cross validation data for each hyper parameter, like shown in the figure\n",
        "    <img src='https://i.imgur.com/fgN9aUP.jpg' width=300px> <a href='https://seaborn.pydata.org/generated/seaborn.heatmap.html'>seaborn heat maps</a> with rows as <strong>n_estimators</strong>, columns as <strong>max_depth</strong>, and values inside the cell representing <strong>AUC Score</strong> </li>\n",
        "    <li>You choose either of the plotting techniques out of 3d plot or heat map</li>\n",
        "    <li>Once after you found the best hyper parameter, you need to train your model with it, and find the AUC on test data and plot the ROC curve on both train and test.\n",
        "        Make sure that you are using predict_proba method to calculate AUC curves, because AUC is calcualted on class probabilities and not on class labels.\n",
        "    <img src='https://i.imgur.com/wMQDTFe.jpg' width=300px></li>\n",
        "    <li>Along with plotting ROC curve, you need to print the <a href='https://www.appliedaicourse.com/course/applied-ai-course-online/lessons/confusion-matrix-tpr-fpr-fnr-tnr-1/'>confusion matrix</a> with predicted and original labels of test data points\n",
        "    <img src='https://i.imgur.com/IdN5Ctv.png' width=300px></li>\n",
        "            </ul>\n",
        "    <br>\n",
        "    <li>You need to summarize the results at the end of the notebook, summarize it in the table format\n",
        "        <img src='http://i.imgur.com/YVpIGGE.jpg' width=400px>\n",
        "    </li>\n",
        "</ol>"
      ]
    },
    {
      "cell_type": "markdown",
      "metadata": {
        "id": "sWEV8zj0MPoM"
      },
      "source": [
        "# Few Notes"
      ]
    },
    {
      "cell_type": "markdown",
      "metadata": {
        "id": "MBfxFIxmMPoN"
      },
      "source": [
        "1. Use atleast 35k data points\n",
        "2. Use classifier.Predict_proba() method instead of predict() method while calculating roc_auc scores\n",
        "3. Be sure that you are using laplase smoothing in response encoding function. Laplase smoothing means applying the default (0.5) value to test data if the test data is not present in the train set\n"
      ]
    },
    {
      "cell_type": "code",
      "execution_count": 1,
      "metadata": {
        "colab": {
          "base_uri": "https://localhost:8080/"
        },
        "id": "iffa2_WGsc3H",
        "outputId": "9de9757d-300f-4646-98a8-4462133a5ca0"
      },
      "outputs": [
        {
          "output_type": "stream",
          "name": "stdout",
          "text": [
            "[nltk_data] Downloading package vader_lexicon to /root/nltk_data...\n",
            "[nltk_data]   Package vader_lexicon is already up-to-date!\n"
          ]
        },
        {
          "output_type": "stream",
          "name": "stderr",
          "text": [
            "/usr/local/lib/python3.7/dist-packages/nltk/twitter/__init__.py:20: UserWarning: The twython library has not been installed. Some functionality from the twitter package will not be available.\n",
            "  warnings.warn(\"The twython library has not been installed. \"\n"
          ]
        }
      ],
      "source": [
        "import nltk\n",
        "from nltk.sentiment.vader import SentimentIntensityAnalyzer\n",
        "nltk.download('vader_lexicon')\n",
        "\n",
        "sid = SentimentIntensityAnalyzer()"
      ]
    },
    {
      "cell_type": "code",
      "execution_count": 2,
      "metadata": {
        "colab": {
          "base_uri": "https://localhost:8080/"
        },
        "id": "rMfxAMHlXpKS",
        "outputId": "942e2649-0823-4801-9567-9add4a95adfe"
      },
      "outputs": [
        {
          "output_type": "stream",
          "name": "stdout",
          "text": [
            "Drive already mounted at /content/drive; to attempt to forcibly remount, call drive.mount(\"/content/drive\", force_remount=True).\n"
          ]
        }
      ],
      "source": [
        "from google.colab import drive\n",
        "drive.mount('/content/drive')"
      ]
    },
    {
      "cell_type": "code",
      "execution_count": 3,
      "metadata": {
        "id": "RarBACvkdbYO"
      },
      "outputs": [],
      "source": [
        "import pickle\n",
        "import io\n",
        "import numpy as np\n",
        "from scipy.sparse import hstack, csr_matrix"
      ]
    },
    {
      "cell_type": "code",
      "execution_count": 4,
      "metadata": {
        "id": "nekTV-YEdZvO"
      },
      "outputs": [],
      "source": [
        "with io.open('/content/drive/MyDrive/Colab Notebooks/glove_vectors', 'rb') as f:\n",
        "    model = pickle.load(f)\n",
        "    glove_words =  set(model.keys())"
      ]
    },
    {
      "cell_type": "markdown",
      "metadata": {
        "id": "BOyTl7oKsc3W"
      },
      "source": [
        "<h1>1. GBDT (xgboost/lightgbm) </h1>"
      ]
    },
    {
      "cell_type": "markdown",
      "metadata": {
        "id": "VWge-b2Zsc3Z"
      },
      "source": [
        "## 1.1 Loading Data"
      ]
    },
    {
      "cell_type": "code",
      "execution_count": 5,
      "metadata": {
        "id": "WDZFu6-usc3d"
      },
      "outputs": [],
      "source": [
        "import pandas as pd\n",
        "data = pd.read_csv('/content/drive/MyDrive/Colab Notebooks/preprocessed_data.csv', nrows=35000)"
      ]
    },
    {
      "cell_type": "code",
      "execution_count": 6,
      "metadata": {
        "id": "mmu2sUmwicuf"
      },
      "outputs": [],
      "source": [
        "data['compound'] = [sid.polarity_scores(x)['compound'] for x in data['essay']]\n",
        "data['neg'] = [sid.polarity_scores(x)['neg'] for x in data['essay']]\n",
        "data['neu'] = [sid.polarity_scores(x)['neu'] for x in data['essay']]\n",
        "data['pos'] = [sid.polarity_scores(x)['pos'] for x in data['essay']]"
      ]
    },
    {
      "cell_type": "code",
      "execution_count": 7,
      "metadata": {
        "id": "HDd-pOK0iik0"
      },
      "outputs": [],
      "source": [
        "del sid"
      ]
    },
    {
      "cell_type": "code",
      "execution_count": 8,
      "metadata": {
        "id": "j3lvSy3ZYtll"
      },
      "outputs": [],
      "source": [
        "X = data.drop(['project_is_approved'], axis=1)\n",
        "y = data['project_is_approved']"
      ]
    },
    {
      "cell_type": "markdown",
      "metadata": {
        "id": "6lAMFKFcsc3j"
      },
      "source": [
        "<h2>1.2 Splitting data into Train and cross validation(or test): Stratified Sampling</h2>"
      ]
    },
    {
      "cell_type": "code",
      "execution_count": 9,
      "metadata": {
        "id": "ODMijuuNsc3l"
      },
      "outputs": [],
      "source": [
        "from sklearn.model_selection import train_test_split\n",
        "\n",
        "X_train, X_test, y_train, y_test = train_test_split(X, y, test_size=0.33, stratify=y)"
      ]
    },
    {
      "cell_type": "markdown",
      "metadata": {
        "id": "t0lV2ne5Yhy_"
      },
      "source": [
        "Creating respond encoding variables"
      ]
    },
    {
      "cell_type": "code",
      "execution_count": 10,
      "metadata": {
        "id": "qmLx0Ye2q5nQ"
      },
      "outputs": [],
      "source": [
        "train_respond = pd.concat([X_train, y_train], axis=1)"
      ]
    },
    {
      "cell_type": "code",
      "execution_count": 11,
      "metadata": {
        "id": "ILcsS34SyeuN"
      },
      "outputs": [],
      "source": [
        "def response_variables(data,col):\n",
        "  var_dict_total = dict(train_respond[col].value_counts())\n",
        "  col_prob = {}\n",
        "  for i in var_dict_total:\n",
        "    col_prob[i] = round(((len(data.loc[(data[col] == i) & (data['project_is_approved'] == 0)])) / var_dict_total[i]),3)\n",
        "  return col_prob"
      ]
    },
    {
      "cell_type": "code",
      "execution_count": 12,
      "metadata": {
        "id": "Wr3jHMRCbg--"
      },
      "outputs": [],
      "source": [
        "school_var_0 = response_variables(train_respond,\"school_state\")\n",
        "teacher_var_0 = response_variables(train_respond,\"teacher_prefix\")\n",
        "prj_cat_var_0 = response_variables(train_respond,\"project_grade_category\")\n",
        "clean_cat_var_0 = response_variables(train_respond,\"clean_categories\")\n",
        "clean_sub_var_0 = response_variables(train_respond,\"clean_subcategories\")"
      ]
    },
    {
      "cell_type": "code",
      "execution_count": 13,
      "metadata": {
        "id": "pELc2vlX9qqz"
      },
      "outputs": [],
      "source": [
        "del train_respond"
      ]
    },
    {
      "cell_type": "markdown",
      "metadata": {
        "id": "vsALgl5Asc3u"
      },
      "source": [
        "<h2>1.3 Make Data Model Ready: encoding eassay, and project_title</h2>"
      ]
    },
    {
      "cell_type": "markdown",
      "metadata": {
        "id": "8ULA9bNHbsPC"
      },
      "source": [
        "TfIdf encoding"
      ]
    },
    {
      "cell_type": "code",
      "execution_count": 14,
      "metadata": {
        "id": "1A_85jbWsc3v"
      },
      "outputs": [],
      "source": [
        "from sklearn.feature_extraction.text import TfidfVectorizer\n",
        "vect_tfidf = TfidfVectorizer(min_df=10,ngram_range=(1,3),max_features=10000)\n",
        "vect_tfidf.fit(X_train['essay'])\n",
        "X_train_essay_tfidf = vect_tfidf.transform(X_train['essay'].values)\n",
        "X_test_essay_tfidf = vect_tfidf.transform(X_test['essay'].values)"
      ]
    },
    {
      "cell_type": "markdown",
      "metadata": {
        "id": "S3Vxxv2Hsc31"
      },
      "source": [
        "<h2>1.4 Make Data Model Ready: encoding numerical, categorical features</h2>"
      ]
    },
    {
      "cell_type": "markdown",
      "metadata": {
        "id": "hn8FLWR8jWav"
      },
      "source": [
        "Categorical Features"
      ]
    },
    {
      "cell_type": "code",
      "execution_count": 14,
      "metadata": {
        "id": "ORv-bMaQO73h"
      },
      "outputs": [],
      "source": [
        "def encoding_values(col,var):\n",
        "  for i in var:\n",
        "    X_train.loc[X_train[col] == i, [col]] = var[i]\n",
        "  a = X_train[col]\n",
        "  b = 1 - X_train[col]\n",
        "  return a,b    "
      ]
    },
    {
      "cell_type": "code",
      "execution_count": 15,
      "metadata": {
        "id": "E_qamNwhVRAk"
      },
      "outputs": [],
      "source": [
        "def encoding_values_test(col,var):\n",
        "  col_var = dict(X_test[col].value_counts())\n",
        "  not_inter = col_var.keys() - (col_var.keys() & var.keys())\n",
        "  for i in var:\n",
        "    if i not in not_inter:\n",
        "      X_test.loc[X_test[col] == i, [col]] = var[i]\n",
        "\n",
        "  for j in not_inter:\n",
        "    X_test.loc[X_test[col] == j,[col]] = 0.5\n",
        "\n",
        "  a = X_test[col]\n",
        "  b = 1 - X_test[col]\n",
        "  return a,b    "
      ]
    },
    {
      "cell_type": "markdown",
      "metadata": {
        "id": "AY-O1Qf-Hc-T"
      },
      "source": [
        "School State "
      ]
    },
    {
      "cell_type": "code",
      "execution_count": 16,
      "metadata": {
        "id": "ElgDbkyxRr2U"
      },
      "outputs": [],
      "source": [
        "train_school_0,train_school_1 = encoding_values('school_state',school_var_0)\n",
        "test_school_0,test_school_1 = encoding_values_test('school_state',school_var_0)"
      ]
    },
    {
      "cell_type": "code",
      "execution_count": 17,
      "metadata": {
        "id": "PaVV_Fmu7Qi8"
      },
      "outputs": [],
      "source": [
        "train_school_0 = csr_matrix(train_school_0.to_numpy(dtype=float).reshape(-1,1))\n",
        "train_school_1 = csr_matrix(train_school_1.to_numpy(dtype=float).reshape(-1,1))\n",
        "test_school_0 = csr_matrix(test_school_0.to_numpy(dtype=float).reshape(-1,1))\n",
        "test_school_1 = csr_matrix(test_school_1.to_numpy(dtype=float).reshape(-1,1))"
      ]
    },
    {
      "cell_type": "markdown",
      "metadata": {
        "id": "N2G3fg7U7JPE"
      },
      "source": [
        "Teacher Prefix"
      ]
    },
    {
      "cell_type": "code",
      "execution_count": 18,
      "metadata": {
        "id": "KV75NKSxNoSE"
      },
      "outputs": [],
      "source": [
        "train_teacher_0,train_teacher_1 = encoding_values('teacher_prefix',teacher_var_0)\n",
        "test_teacher_0,test_teacher_1 = encoding_values_test('teacher_prefix',teacher_var_0)"
      ]
    },
    {
      "cell_type": "code",
      "execution_count": 19,
      "metadata": {
        "id": "UPJELyyB-dLn"
      },
      "outputs": [],
      "source": [
        "train_teacher_0 = csr_matrix(train_teacher_0.to_numpy(dtype=float).reshape(-1,1))\n",
        "train_teacher_1 = csr_matrix(train_teacher_1.to_numpy(dtype=float).reshape(-1,1))\n",
        "test_teacher_0 = csr_matrix(test_teacher_0.to_numpy(dtype=float).reshape(-1,1))\n",
        "test_teacher_1 = csr_matrix(test_teacher_1.to_numpy(dtype=float).reshape(-1,1))"
      ]
    },
    {
      "cell_type": "markdown",
      "metadata": {
        "id": "WK5E2_clOo8R"
      },
      "source": [
        "Project Grade Category"
      ]
    },
    {
      "cell_type": "code",
      "execution_count": 20,
      "metadata": {
        "id": "sLLp_vhMNzkJ"
      },
      "outputs": [],
      "source": [
        "train_prj_cat_0,train_prj_cat_1 = encoding_values('project_grade_category',prj_cat_var_0)\n",
        "test_prj_cat_0,test_prj_cat_1 = encoding_values_test('project_grade_category',prj_cat_var_0)"
      ]
    },
    {
      "cell_type": "code",
      "execution_count": 21,
      "metadata": {
        "id": "Cu2q2EESAvoV"
      },
      "outputs": [],
      "source": [
        "train_prj_cat_0 = csr_matrix(train_prj_cat_0.to_numpy(dtype=float).reshape(-1,1))\n",
        "train_prj_cat_1 = csr_matrix(train_prj_cat_1.to_numpy(dtype=float).reshape(-1,1))\n",
        "test_prj_cat_0 = csr_matrix(test_prj_cat_0.to_numpy(dtype=float).reshape(-1,1))\n",
        "test_prj_cat_1 = csr_matrix(test_prj_cat_1.to_numpy(dtype=float).reshape(-1,1))"
      ]
    },
    {
      "cell_type": "markdown",
      "metadata": {
        "id": "G0ZnzFZ8A-63"
      },
      "source": [
        "Clean Categories"
      ]
    },
    {
      "cell_type": "code",
      "execution_count": 22,
      "metadata": {
        "id": "Ctbs1_H0BBKT"
      },
      "outputs": [],
      "source": [
        "train_cat_0,train_cat_1 = encoding_values('clean_categories',clean_cat_var_0)\n",
        "test_cat_0,test_cat_1 = encoding_values_test('clean_categories',clean_cat_var_0)"
      ]
    },
    {
      "cell_type": "code",
      "execution_count": 23,
      "metadata": {
        "id": "F-Vz1NKoBBWy"
      },
      "outputs": [],
      "source": [
        "train_cat_0 = csr_matrix(train_cat_0.to_numpy(dtype=float).reshape(-1,1))\n",
        "train_cat_1 = csr_matrix(train_cat_1.to_numpy(dtype=float).reshape(-1,1))\n",
        "test_cat_0 = csr_matrix(test_cat_0.to_numpy(dtype=float).reshape(-1,1))\n",
        "test_cat_1 = csr_matrix(test_cat_1.to_numpy(dtype=float).reshape(-1,1))"
      ]
    },
    {
      "cell_type": "markdown",
      "metadata": {
        "id": "ek_99h6vCWY7"
      },
      "source": [
        "Clean SubCategories"
      ]
    },
    {
      "cell_type": "code",
      "execution_count": 24,
      "metadata": {
        "id": "gdiDL4usCaMo"
      },
      "outputs": [],
      "source": [
        "train_subcat_0,train_subcat_1 = encoding_values('clean_subcategories',clean_sub_var_0)\n",
        "test_subcat_0,test_subcat_1 = encoding_values_test('clean_subcategories',clean_sub_var_0)"
      ]
    },
    {
      "cell_type": "code",
      "execution_count": 25,
      "metadata": {
        "id": "RHDVNM_RCidC"
      },
      "outputs": [],
      "source": [
        "train_subcat_0 = csr_matrix(train_subcat_0.to_numpy(dtype=float).reshape(-1,1))\n",
        "train_subcat_1 = csr_matrix(train_subcat_1.to_numpy(dtype=float).reshape(-1,1))\n",
        "test_subcat_0 = csr_matrix(test_subcat_0.to_numpy(dtype=float).reshape(-1,1))\n",
        "test_subcat_1 = csr_matrix(test_subcat_1.to_numpy(dtype=float).reshape(-1,1))"
      ]
    },
    {
      "cell_type": "code",
      "execution_count": 26,
      "metadata": {
        "id": "o_intZpmSL1l"
      },
      "outputs": [],
      "source": [
        "del school_var_0, teacher_var_0 , prj_cat_var_0, clean_cat_var_0, clean_sub_var_0 "
      ]
    },
    {
      "cell_type": "markdown",
      "metadata": {
        "id": "_Uf-GaF9DNjS"
      },
      "source": [
        "Numerical Features"
      ]
    },
    {
      "cell_type": "code",
      "execution_count": 27,
      "metadata": {
        "id": "OKy1d29rDY2A"
      },
      "outputs": [],
      "source": [
        "from sklearn.preprocessing import Normalizer\n",
        "normalizer = Normalizer()"
      ]
    },
    {
      "cell_type": "markdown",
      "metadata": {
        "id": "dtlO0DLzDNl_"
      },
      "source": [
        "Price"
      ]
    },
    {
      "cell_type": "code",
      "execution_count": 28,
      "metadata": {
        "id": "se1D_MLiDeP1"
      },
      "outputs": [],
      "source": [
        "X_train_price_norm = normalizer.transform(X_train['price'].values.reshape(1,-1))\n",
        "X_test_price_norm = normalizer.transform(X_test['price'].values.reshape(1,-1))"
      ]
    },
    {
      "cell_type": "code",
      "execution_count": 29,
      "metadata": {
        "id": "kB-mlu90Dhoj"
      },
      "outputs": [],
      "source": [
        "X_train_price_norm = csr_matrix(X_train_price_norm.reshape(-1,1))\n",
        "X_test_price_norm = csr_matrix(X_test_price_norm.reshape(-1,1))"
      ]
    },
    {
      "cell_type": "markdown",
      "metadata": {
        "id": "M-DjhHOxDYYe"
      },
      "source": [
        "Teacher's Previously Submitted Project"
      ]
    },
    {
      "cell_type": "code",
      "execution_count": 30,
      "metadata": {
        "id": "oi5fkIOHDmIW"
      },
      "outputs": [],
      "source": [
        "X_train_prev_sub_norm = normalizer.transform(X_train['teacher_number_of_previously_posted_projects'].values.reshape(1,-1))\n",
        "X_test_prev_sub_norm = normalizer.transform(X_test['teacher_number_of_previously_posted_projects'].values.reshape(1,-1))"
      ]
    },
    {
      "cell_type": "code",
      "execution_count": 31,
      "metadata": {
        "id": "qP54_vW3DnCj"
      },
      "outputs": [],
      "source": [
        "X_train_prev_sub_norm = csr_matrix(X_train_prev_sub_norm.reshape(-1,1))\n",
        "X_test_prev_sub_norm = csr_matrix(X_test_prev_sub_norm.reshape(-1,1))"
      ]
    },
    {
      "cell_type": "code",
      "execution_count": 32,
      "metadata": {
        "id": "qi8f7laSDsU7"
      },
      "outputs": [],
      "source": [
        "del data, normalizer"
      ]
    },
    {
      "cell_type": "markdown",
      "metadata": {
        "id": "XKkeF-x3Dttq"
      },
      "source": [
        "Set 1"
      ]
    },
    {
      "cell_type": "code",
      "execution_count": 34,
      "metadata": {
        "id": "-c3BAPHQDwBK"
      },
      "outputs": [],
      "source": [
        "X_train_1 = hstack([X_train_essay_tfidf,train_school_0,train_school_1,train_teacher_0,train_teacher_1,train_prj_cat_0,train_prj_cat_1,train_cat_0,train_cat_1,train_subcat_0,train_subcat_1,X_train_price_norm,X_train_prev_sub_norm,X_train['compound'].values.reshape(-1,1),X_train['neg'].values.reshape(-1,1),X_train['neu'].values.reshape(-1,1),X_train['pos'].values.reshape(-1,1)])\n",
        "X_test_1  = hstack([X_test_essay_tfidf,test_school_0,test_school_1,test_teacher_0,test_teacher_1,test_prj_cat_0,test_prj_cat_1,test_cat_0,test_cat_1,test_subcat_0,test_subcat_1,X_test_price_norm,X_test_prev_sub_norm,X_test['compound'].values.reshape(-1,1),X_test['neg'].values.reshape(-1,1),X_test['neu'].values.reshape(-1,1),X_test['pos'].values.reshape(-1,1)])"
      ]
    },
    {
      "cell_type": "code",
      "execution_count": 35,
      "metadata": {
        "id": "mgRuOvnUGUkJ"
      },
      "outputs": [],
      "source": [
        "del X_train_essay_tfidf,train_school_0,train_school_1,train_teacher_0,train_teacher_1,train_prj_cat_0,train_prj_cat_1,train_cat_0,train_cat_1,train_subcat_0,train_subcat_1,X_train_price_norm,X_train_prev_sub_norm"
      ]
    },
    {
      "cell_type": "code",
      "execution_count": 36,
      "metadata": {
        "id": "8HGlk06bFmmX"
      },
      "outputs": [],
      "source": [
        "del X_test_essay_tfidf,test_school_0,test_school_1,test_teacher_0,test_teacher_1,test_prj_cat_0,test_prj_cat_1,test_cat_0,test_cat_1,test_subcat_0,test_subcat_1,X_test_price_norm,X_test_prev_sub_norm"
      ]
    },
    {
      "cell_type": "markdown",
      "metadata": {
        "id": "I5wDFj17sc3-"
      },
      "source": [
        "<h2>1.5 Appling Models on different kind of featurization as mentioned in the instructions</h2>"
      ]
    },
    {
      "cell_type": "markdown",
      "metadata": {
        "id": "O5tWox1jsc3_"
      },
      "source": [
        "<br>Apply GBDT on different kind of featurization as mentioned in the instructions\n",
        "<br> For Every model that you work on make sure you do the step 2 and step 3 of instrucations"
      ]
    },
    {
      "cell_type": "code",
      "execution_count": 39,
      "metadata": {
        "id": "5V0CSuZdGjhx"
      },
      "outputs": [],
      "source": [
        "from sklearn.model_selection import RandomizedSearchCV\n",
        "from sklearn.ensemble import GradientBoostingClassifier\n",
        "import seaborn as sns "
      ]
    },
    {
      "cell_type": "code",
      "execution_count": 38,
      "metadata": {
        "id": "7wgJ4gozJ8y1",
        "colab": {
          "base_uri": "https://localhost:8080/"
        },
        "outputId": "c1e325e1-6e57-4d98-eb0f-d7f062b98903"
      },
      "outputs": [
        {
          "output_type": "execute_result",
          "data": {
            "text/plain": [
              "RandomizedSearchCV(cv=5, estimator=GradientBoostingClassifier(), n_iter=5,\n",
              "                   param_distributions={'learning_rate': [0.001, 0.01, 0.1, 10],\n",
              "                                        'n_estimators': [50, 100, 150, 200]},\n",
              "                   return_train_score=True, scoring='roc_auc')"
            ]
          },
          "metadata": {},
          "execution_count": 38
        }
      ],
      "source": [
        "model = GradientBoostingClassifier()\n",
        "parameters = {'learning_rate':[0.001, 0.01, 0.1, 10],'n_estimators':[50, 100, 150, 200]}\n",
        "clf = RandomizedSearchCV(model, parameters, cv=5, n_iter=5 ,scoring='roc_auc',return_train_score=True)\n",
        "clf.fit(X_train_1,y_train)"
      ]
    },
    {
      "cell_type": "code",
      "execution_count": 39,
      "metadata": {
        "id": "o1LzeSgaJ84K"
      },
      "outputs": [],
      "source": [
        "results = pd.DataFrame.from_dict(clf.cv_results_)"
      ]
    },
    {
      "cell_type": "code",
      "execution_count": 40,
      "metadata": {
        "id": "MU4lHNojJ89A"
      },
      "outputs": [],
      "source": [
        "del clf,model,parameters"
      ]
    },
    {
      "cell_type": "code",
      "execution_count": 41,
      "metadata": {
        "colab": {
          "base_uri": "https://localhost:8080/",
          "height": 297
        },
        "id": "Cvwd06WFJ8_v",
        "outputId": "34595358-c90f-4d7e-80f6-5ec94d8062d5"
      },
      "outputs": [
        {
          "output_type": "execute_result",
          "data": {
            "text/plain": [
              "<matplotlib.axes._subplots.AxesSubplot at 0x7ff06373a5d0>"
            ]
          },
          "metadata": {},
          "execution_count": 41
        },
        {
          "output_type": "display_data",
          "data": {
            "text/plain": [
              "<Figure size 432x288 with 2 Axes>"
            ],
            "image/png": "[encoded data removed]"
          },
          "metadata": {
            "needs_background": "light"
          }
        }
      ],
      "source": [
        "max_scores = results.groupby(['param_learning_rate', 'param_n_estimators']).max()\n",
        "max_scores = max_scores.unstack()[['mean_test_score', 'mean_train_score']]\n",
        "sns.heatmap(max_scores.mean_train_score, annot=True, fmt='.4g')"
      ]
    },
    {
      "cell_type": "code",
      "execution_count": 42,
      "metadata": {
        "colab": {
          "base_uri": "https://localhost:8080/",
          "height": 280
        },
        "id": "lYPGQXwCOTMh",
        "outputId": "f98b3266-8a3f-41ca-cf0a-83996ed23f79"
      },
      "outputs": [
        {
          "output_type": "display_data",
          "data": {
            "text/plain": [
              "<Figure size 432x288 with 2 Axes>"
            ],
            "image/png": "[encoded data removed]"
          },
          "metadata": {
            "needs_background": "light"
          }
        }
      ],
      "source": [
        "sns.heatmap(max_scores.mean_test_score, annot=True, fmt='.4g');"
      ]
    },
    {
      "cell_type": "markdown",
      "metadata": {
        "id": "Hjvwqdv7OaGx"
      },
      "source": [
        "The best feature is learning rate = 0.1 and n_estimators = 150"
      ]
    },
    {
      "cell_type": "code",
      "execution_count": 47,
      "metadata": {
        "id": "0x-GXWSKOaQ0"
      },
      "outputs": [],
      "source": [
        "from sklearn.metrics import roc_curve, auc\n",
        "import matplotlib.pyplot as plt"
      ]
    },
    {
      "cell_type": "code",
      "execution_count": 40,
      "metadata": {
        "colab": {
          "base_uri": "https://localhost:8080/",
          "height": 295
        },
        "id": "Jg8Lx9EpOdZf",
        "outputId": "1c3924ef-f0ba-464e-d8cd-f07bef045f18"
      },
      "outputs": [
        {
          "output_type": "display_data",
          "data": {
            "text/plain": [
              "<Figure size 432x288 with 1 Axes>"
            ],
            "image/png": "[encoded data removed]"
          },
          "metadata": {
            "needs_background": "light"
          }
        }
      ],
      "source": [
        "model = GradientBoostingClassifier(learning_rate=0.1,n_estimators=150)\n",
        "model.fit(X_train_1,y_train)\n",
        "\n",
        "y_train_pred = model.predict_proba(X_train_1)\n",
        "y_test_pred = model.predict_proba(X_test_1)\n",
        "\n",
        "train_fpr, train_tpr, tr_thresholds = roc_curve(y_train, y_train_pred[:,1])\n",
        "test_fpr, test_tpr, ts_thresholds = roc_curve(y_test, y_test_pred[:,1])\n",
        "\n",
        "\n",
        "plt.plot(train_fpr, train_tpr, label=\"train AUC =\"+str(auc(train_fpr, train_tpr)))\n",
        "plt.plot(test_fpr, test_tpr, label=\"test AUC =\"+str(auc(test_fpr, test_tpr)))\n",
        "plt.legend()\n",
        "plt.xlabel(\"FPR\")\n",
        "plt.ylabel(\"TPR\")\n",
        "plt.title(\"AUC PLOTS\")\n",
        "plt.grid()\n",
        "plt.show()"
      ]
    },
    {
      "cell_type": "code",
      "execution_count": 41,
      "metadata": {
        "colab": {
          "base_uri": "https://localhost:8080/",
          "height": 282
        },
        "id": "ac6mnvEJOeSD",
        "outputId": "feec67bd-bb8b-4d27-8d73-bf557ee693da"
      },
      "outputs": [
        {
          "output_type": "execute_result",
          "data": {
            "text/plain": [
              "<matplotlib.axes._subplots.AxesSubplot at 0x7f10ea29be10>"
            ]
          },
          "metadata": {},
          "execution_count": 41
        },
        {
          "output_type": "display_data",
          "data": {
            "text/plain": [
              "<Figure size 432x288 with 2 Axes>"
            ],
            "image/png": "[encoded data removed]"
          },
          "metadata": {
            "needs_background": "light"
          }
        }
      ],
      "source": [
        "from sklearn.metrics import confusion_matrix\n",
        "\n",
        "model.fit(X_train_1,y_train)\n",
        "y_test_pred = model.predict(X_test_1)\n",
        "\n",
        "cf_matrix = confusion_matrix(y_test, y_test_pred)\n",
        "\n",
        "group_names = ['True Neg','False Pos','False Neg','True Pos']\n",
        "group_counts = [\"{0:0.0f}\".format(value) for value in\n",
        "                cf_matrix.flatten()]\n",
        "group_percentages = [\"{0:.2%}\".format(value) for value in\n",
        "                     cf_matrix.flatten()/np.sum(cf_matrix)]\n",
        "labels = [f\"{v1}\\n{v2}\\n{v3}\" for v1, v2, v3 in\n",
        "          zip(group_names,group_counts,group_percentages)]\n",
        "        \n",
        "labels = np.asarray(labels).reshape(2,2)\n",
        "\n",
        "sns.heatmap(cf_matrix, annot=labels, cmap='Blues',fmt='')"
      ]
    },
    {
      "cell_type": "code",
      "execution_count": null,
      "metadata": {
        "id": "xetyShGsZYlw"
      },
      "outputs": [],
      "source": [
        "del X_train_1,X_test_1"
      ]
    },
    {
      "cell_type": "markdown",
      "metadata": {
        "id": "p9jOTweQEYdP"
      },
      "source": [
        "Set 2"
      ]
    },
    {
      "cell_type": "code",
      "execution_count": 35,
      "metadata": {
        "colab": {
          "base_uri": "https://localhost:8080/"
        },
        "id": "lrJ4_OdSc_qQ",
        "outputId": "cf945515-ca26-4441-ec0a-553e3c7fe8c3"
      },
      "outputs": [
        {
          "output_type": "stream",
          "name": "stderr",
          "text": [
            "/usr/local/lib/python3.7/dist-packages/sklearn/utils/deprecation.py:87: FutureWarning: Function get_feature_names is deprecated; get_feature_names is deprecated in 1.0 and will be removed in 1.2. Please use get_feature_names_out instead.\n",
            "  warnings.warn(msg, category=FutureWarning)\n"
          ]
        }
      ],
      "source": [
        "from sklearn.feature_extraction.text import TfidfVectorizer\n",
        "vect_tfidf = TfidfVectorizer()\n",
        "vect_tfidf.fit(X_train['essay'])\n",
        "dict_tfidf = dict(zip(vect_tfidf.get_feature_names_out(),list(vect_tfidf.idf_)))\n",
        "tfidf_words = set(vect_tfidf.get_feature_names())"
      ]
    },
    {
      "cell_type": "code",
      "execution_count": 36,
      "metadata": {
        "id": "ME_CSaSzEmn2"
      },
      "outputs": [],
      "source": [
        "def tfidf_w2v(preprocessed_essay):\n",
        "  tfidf_w2v_vectors = []\n",
        "  for sentence in preprocessed_essay:\n",
        "    vector = np.zeros(300)\n",
        "    tf_idf_weight = 0\n",
        "    for word in sentence.split():\n",
        "      if(word in glove_words) and (word in tfidf_words):\n",
        "        vec = model[word]\n",
        "        tf_idf = dict_tfidf[word]*(sentence.count(word)/len(sentence.split()))\n",
        "        vector += (vec*tf_idf)\n",
        "        tf_idf_weight += tf_idf\n",
        "      if tf_idf_weight != 0:\n",
        "        vector /= tf_idf_weight\n",
        "    tfidf_w2v_vectors.append(vector)\n",
        "  return tfidf_w2v_vectors "
      ]
    },
    {
      "cell_type": "code",
      "execution_count": 37,
      "metadata": {
        "id": "1rD1yGUlFE-4"
      },
      "outputs": [],
      "source": [
        "X_train_essay_w2v = tfidf_w2v(X_train['essay'].values)\n",
        "X_test_essay_w2v = tfidf_w2v(X_test['essay'].values)"
      ]
    },
    {
      "cell_type": "code",
      "execution_count": 38,
      "metadata": {
        "id": "RebsvuCQFJIf"
      },
      "outputs": [],
      "source": [
        "del glove_words,tfidf_words,dict_tfidf,vect_tfidf"
      ]
    },
    {
      "cell_type": "code",
      "execution_count": 39,
      "metadata": {
        "id": "l0zzQv1dFhB4"
      },
      "outputs": [],
      "source": [
        "X_train_2 = hstack([X_train_essay_w2v,train_school_0,train_school_1,train_teacher_0,train_teacher_1,train_prj_cat_0,train_prj_cat_1,train_cat_0,train_cat_1,train_subcat_0,train_subcat_1,X_train_price_norm,X_train_prev_sub_norm,X_train['compound'].values.reshape(-1,1),X_train['neg'].values.reshape(-1,1),X_train['neu'].values.reshape(-1,1),X_train['pos'].values.reshape(-1,1)])\n",
        "X_test_2  = hstack([X_test_essay_w2v,test_school_0,test_school_1,test_teacher_0,test_teacher_1,test_prj_cat_0,test_prj_cat_1,test_cat_0,test_cat_1,test_subcat_0,test_subcat_1,X_test_price_norm,X_test_prev_sub_norm,X_test['compound'].values.reshape(-1,1),X_test['neg'].values.reshape(-1,1),X_test['neu'].values.reshape(-1,1),X_test['pos'].values.reshape(-1,1)])"
      ]
    },
    {
      "cell_type": "markdown",
      "metadata": {
        "id": "-zfaFsOgPbps"
      },
      "source": [
        "Set 2 hyperparameter tuning"
      ]
    },
    {
      "cell_type": "code",
      "execution_count": 40,
      "metadata": {
        "id": "SufIYc1qG4qr"
      },
      "outputs": [],
      "source": [
        "from sklearn.model_selection import RandomizedSearchCV\n",
        "from sklearn.ensemble import GradientBoostingClassifier\n",
        "import seaborn as sns "
      ]
    },
    {
      "cell_type": "code",
      "execution_count": 41,
      "metadata": {
        "id": "ssT6_fKAPbzu",
        "colab": {
          "base_uri": "https://localhost:8080/"
        },
        "outputId": "9f3333d0-3f30-4ce6-84b4-31659538c700"
      },
      "outputs": [
        {
          "output_type": "execute_result",
          "data": {
            "text/plain": [
              "RandomizedSearchCV(cv=5, estimator=GradientBoostingClassifier(), n_iter=5,\n",
              "                   param_distributions={'learning_rate': [0.001, 0.01, 0.1, 10],\n",
              "                                        'n_estimators': [50, 100, 150, 200]},\n",
              "                   return_train_score=True, scoring='roc_auc')"
            ]
          },
          "metadata": {},
          "execution_count": 41
        }
      ],
      "source": [
        "model = GradientBoostingClassifier()\n",
        "parameters = {'learning_rate':[0.001, 0.01, 0.1, 10],'n_estimators':[50, 100, 150, 200]}\n",
        "clf = RandomizedSearchCV(model, parameters, cv=5, n_iter=5 ,scoring='roc_auc',return_train_score=True)\n",
        "clf.fit(X_train_2,y_train)"
      ]
    },
    {
      "cell_type": "code",
      "execution_count": 42,
      "metadata": {
        "id": "yTuSkU3rB7NU"
      },
      "outputs": [],
      "source": [
        "results = pd.DataFrame.from_dict(clf.cv_results_)"
      ]
    },
    {
      "cell_type": "code",
      "execution_count": 43,
      "metadata": {
        "id": "KWmxMvoNPndX"
      },
      "outputs": [],
      "source": [
        "del clf,model,parameters"
      ]
    },
    {
      "cell_type": "code",
      "execution_count": 44,
      "metadata": {
        "id": "GP8w7YjiPqQa",
        "colab": {
          "base_uri": "https://localhost:8080/",
          "height": 297
        },
        "outputId": "96a4b151-8772-4ed3-abac-22905cb9d87d"
      },
      "outputs": [
        {
          "output_type": "execute_result",
          "data": {
            "text/plain": [
              "<matplotlib.axes._subplots.AxesSubplot at 0x7f6b39f32310>"
            ]
          },
          "metadata": {},
          "execution_count": 44
        },
        {
          "output_type": "display_data",
          "data": {
            "text/plain": [
              "<Figure size 432x288 with 2 Axes>"
            ],
            "image/png": "[encoded data removed]"
          },
          "metadata": {
            "needs_background": "light"
          }
        }
      ],
      "source": [
        "max_scores = results.groupby(['param_learning_rate', 'param_n_estimators']).max()\n",
        "max_scores = max_scores.unstack()[['mean_test_score', 'mean_train_score']]\n",
        "sns.heatmap(max_scores.mean_train_score, annot=True, fmt='.4g')"
      ]
    },
    {
      "cell_type": "code",
      "execution_count": 45,
      "metadata": {
        "id": "wBfNzZcmPqtx",
        "colab": {
          "base_uri": "https://localhost:8080/",
          "height": 297
        },
        "outputId": "965e4985-3d8b-4f0b-cc9f-53ff6c971f0e"
      },
      "outputs": [
        {
          "output_type": "execute_result",
          "data": {
            "text/plain": [
              "<matplotlib.axes._subplots.AxesSubplot at 0x7f6b3a750690>"
            ]
          },
          "metadata": {},
          "execution_count": 45
        },
        {
          "output_type": "display_data",
          "data": {
            "text/plain": [
              "<Figure size 432x288 with 2 Axes>"
            ],
            "image/png": "[encoded data removed]"
          },
          "metadata": {
            "needs_background": "light"
          }
        }
      ],
      "source": [
        "sns.heatmap(max_scores.mean_test_score, annot=True, fmt='.4g')"
      ]
    },
    {
      "cell_type": "markdown",
      "metadata": {
        "id": "dI18gNQHPvNn"
      },
      "source": [
        "The best feature is learning rate = 0.1 and n_estimators = 50"
      ]
    },
    {
      "cell_type": "code",
      "execution_count": 48,
      "metadata": {
        "id": "6cfolDbcPuu5",
        "colab": {
          "base_uri": "https://localhost:8080/",
          "height": 295
        },
        "outputId": "6e785156-52c9-43e5-9c64-e04a2116c955"
      },
      "outputs": [
        {
          "output_type": "display_data",
          "data": {
            "text/plain": [
              "<Figure size 432x288 with 1 Axes>"
            ],
            "image/png": "[encoded data removed]"
          },
          "metadata": {
            "needs_background": "light"
          }
        }
      ],
      "source": [
        "model = GradientBoostingClassifier(learning_rate=0.1,n_estimators=50)\n",
        "model.fit(X_train_2,y_train)\n",
        "\n",
        "y_train_pred = model.predict_proba(X_train_2)\n",
        "y_test_pred = model.predict_proba(X_test_2)\n",
        "\n",
        "train_fpr, train_tpr, tr_thresholds = roc_curve(y_train, y_train_pred[:,1])\n",
        "test_fpr, test_tpr, ts_thresholds = roc_curve(y_test, y_test_pred[:,1])\n",
        "\n",
        "\n",
        "plt.plot(train_fpr, train_tpr, label=\"train AUC =\"+str(auc(train_fpr, train_tpr)))\n",
        "plt.plot(test_fpr, test_tpr, label=\"test AUC =\"+str(auc(test_fpr, test_tpr)))\n",
        "plt.legend()\n",
        "plt.xlabel(\"FPR\")\n",
        "plt.ylabel(\"TPR\")\n",
        "plt.title(\"AUC PLOTS\")\n",
        "plt.grid()\n",
        "plt.show()"
      ]
    },
    {
      "cell_type": "code",
      "execution_count": 50,
      "metadata": {
        "id": "QBToxjTCP3tf",
        "colab": {
          "base_uri": "https://localhost:8080/",
          "height": 282
        },
        "outputId": "aaee74ac-dba9-481e-dd34-0989ddc41ac2"
      },
      "outputs": [
        {
          "output_type": "execute_result",
          "data": {
            "text/plain": [
              "<matplotlib.axes._subplots.AxesSubplot at 0x7f6b3a8cc850>"
            ]
          },
          "metadata": {},
          "execution_count": 50
        },
        {
          "output_type": "display_data",
          "data": {
            "text/plain": [
              "<Figure size 432x288 with 2 Axes>"
            ],
            "image/png": "[encoded data removed]"
          },
          "metadata": {
            "needs_background": "light"
          }
        }
      ],
      "source": [
        "from sklearn.metrics import confusion_matrix\n",
        "model.fit(X_train_2,y_train)\n",
        "y_test_pred = model.predict(X_test_2)\n",
        "\n",
        "cf_matrix = confusion_matrix(y_test, y_test_pred)\n",
        "\n",
        "group_names = ['True Neg','False Pos','False Neg','True Pos']\n",
        "group_counts = [\"{0:0.0f}\".format(value) for value in\n",
        "                cf_matrix.flatten()]\n",
        "group_percentages = [\"{0:.2%}\".format(value) for value in\n",
        "                     cf_matrix.flatten()/np.sum(cf_matrix)]\n",
        "labels = [f\"{v1}\\n{v2}\\n{v3}\" for v1, v2, v3 in\n",
        "          zip(group_names,group_counts,group_percentages)]\n",
        "        \n",
        "labels = np.asarray(labels).reshape(2,2)\n",
        "\n",
        "sns.heatmap(cf_matrix, annot=labels, cmap='Blues',fmt='')"
      ]
    },
    {
      "cell_type": "code",
      "execution_count": 51,
      "metadata": {
        "id": "Q_J94dxCCYJN"
      },
      "outputs": [],
      "source": [
        "del X_train_2, X_test_2"
      ]
    },
    {
      "cell_type": "markdown",
      "metadata": {
        "id": "YhFN-lDWsc4G"
      },
      "source": [
        "<h1>3. Summary</h1>\n",
        "\n",
        "<br> as mentioned in the step 4 of instructions"
      ]
    },
    {
      "cell_type": "code",
      "execution_count": 57,
      "metadata": {
        "id": "V-JZBemVP_i5"
      },
      "outputs": [],
      "source": [
        "from prettytable import PrettyTable\n",
        "x = PrettyTable()"
      ]
    },
    {
      "cell_type": "code",
      "execution_count": 58,
      "metadata": {
        "id": "kca3DUzXP_mf"
      },
      "outputs": [],
      "source": [
        "x.field_names = [\"Vectorizer\", \"Model\", \"learning_rate\", \"n_estimators\", \"AUC\"]\n",
        "x.add_row([\"TFIDf\", \"Brute\", 0.1, 150, 0.70])\n",
        "x.add_row([\"W2V\", \"Brute\", 0.1, 50, 0.63])"
      ]
    },
    {
      "cell_type": "code",
      "execution_count": 59,
      "metadata": {
        "id": "AUB0HC9e5Fia",
        "colab": {
          "base_uri": "https://localhost:8080/",
          "height": 83
        },
        "outputId": "f6fa37a6-6d14-4219-a954-af0a63fe5381"
      },
      "outputs": [
        {
          "output_type": "execute_result",
          "data": {
            "text/plain": [
              "+------------+-------+---------------+--------------+------+\n",
              "| Vectorizer | Model | learning_rate | n_estimators | AUC  |\n",
              "+------------+-------+---------------+--------------+------+\n",
              "|   TFIDf    | Brute |      0.1      |     150      | 0.7  |\n",
              "|    W2V     | Brute |      0.1      |      50      | 0.63 |\n",
              "+------------+-------+---------------+--------------+------+"
            ],
            "text/html": [
              "<table>\n",
              "    <thead>\n",
              "        <tr>\n",
              "            <th>Vectorizer</th>\n",
              "            <th>Model</th>\n",
              "            <th>learning_rate</th>\n",
              "            <th>n_estimators</th>\n",
              "            <th>AUC</th>\n",
              "        </tr>\n",
              "    </thead>\n",
              "    <tbody>\n",
              "        <tr>\n",
              "            <td>TFIDf</td>\n",
              "            <td>Brute</td>\n",
              "            <td>0.1</td>\n",
              "            <td>150</td>\n",
              "            <td>0.7</td>\n",
              "        </tr>\n",
              "        <tr>\n",
              "            <td>W2V</td>\n",
              "            <td>Brute</td>\n",
              "            <td>0.1</td>\n",
              "            <td>50</td>\n",
              "            <td>0.63</td>\n",
              "        </tr>\n",
              "    </tbody>\n",
              "</table>"
            ]
          },
          "metadata": {},
          "execution_count": 59
        }
      ],
      "source": [
        "x"
      ]
    }
  ],
  "metadata": {
    "colab": {
      "collapsed_sections": [],
      "name": "Assignment_GBDT_Instructions.ipynb",
      "provenance": []
    },
    "kernelspec": {
      "display_name": "Python 3",
      "language": "python",
      "name": "python3"
    },
    "language_info": {
      "codemirror_mode": {
        "name": "ipython",
        "version": 3
      },
      "file_extension": ".py",
      "mimetype": "text/x-python",
      "name": "python",
      "nbconvert_exporter": "python",
      "pygments_lexer": "ipython3",
      "version": "3.6.3"
    },
    "accelerator": "GPU"
  },
  "nbformat": 4,
  "nbformat_minor": 0
}