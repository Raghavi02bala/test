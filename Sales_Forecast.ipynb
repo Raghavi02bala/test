{
  "nbformat": 4,
  "nbformat_minor": 0,
  "metadata": {
    "colab": {
      "name": "Sales_Forecast.ipynb",
      "provenance": [],
      "collapsed_sections": []
    },
    "kernelspec": {
      "name": "python3",
      "display_name": "Python 3"
    },
    "language_info": {
      "name": "python"
    },
    "widgets": {
      "application/vnd.jupyter.widget-state+json": {
        "145f9b6c5e524a298429b4b1486d5cff": {
          "model_module": "@jupyter-widgets/controls",
          "model_name": "HBoxModel",
          "model_module_version": "1.5.0",
          "state": {
            "_view_name": "HBoxView",
            "_dom_classes": [],
            "_model_name": "HBoxModel",
            "_view_module": "@jupyter-widgets/controls",
            "_model_module_version": "1.5.0",
            "_view_count": null,
            "_view_module_version": "1.5.0",
            "box_style": "",
            "layout": "IPY_MODEL_3c4d6bd1372c499bb1e03a7140c69e3c",
            "_model_module": "@jupyter-widgets/controls",
            "children": [
              "IPY_MODEL_ac38d5d1b1ce468ba30d0a9b2e366a3c",
              "IPY_MODEL_16c8039733a048bc83d73d42cf0a03b9",
              "IPY_MODEL_f93b58f23def49659056cedd5e319be5"
            ]
          }
        },
        "3c4d6bd1372c499bb1e03a7140c69e3c": {
          "model_module": "@jupyter-widgets/base",
          "model_name": "LayoutModel",
          "model_module_version": "1.2.0",
          "state": {
            "_view_name": "LayoutView",
            "grid_template_rows": null,
            "right": null,
            "justify_content": null,
            "_view_module": "@jupyter-widgets/base",
            "overflow": null,
            "_model_module_version": "1.2.0",
            "_view_count": null,
            "flex_flow": null,
            "width": null,
            "min_width": null,
            "border": null,
            "align_items": null,
            "bottom": null,
            "_model_module": "@jupyter-widgets/base",
            "top": null,
            "grid_column": null,
            "overflow_y": null,
            "overflow_x": null,
            "grid_auto_flow": null,
            "grid_area": null,
            "grid_template_columns": null,
            "flex": null,
            "_model_name": "LayoutModel",
            "justify_items": null,
            "grid_row": null,
            "max_height": null,
            "align_content": null,
            "visibility": null,
            "align_self": null,
            "height": null,
            "min_height": null,
            "padding": null,
            "grid_auto_rows": null,
            "grid_gap": null,
            "max_width": null,
            "order": null,
            "_view_module_version": "1.2.0",
            "grid_template_areas": null,
            "object_position": null,
            "object_fit": null,
            "grid_auto_columns": null,
            "margin": null,
            "display": null,
            "left": null
          }
        },
        "ac38d5d1b1ce468ba30d0a9b2e366a3c": {
          "model_module": "@jupyter-widgets/controls",
          "model_name": "HTMLModel",
          "model_module_version": "1.5.0",
          "state": {
            "_view_name": "HTMLView",
            "style": "IPY_MODEL_6da6167b1a804448a13023994a77a172",
            "_dom_classes": [],
            "description": "",
            "_model_name": "HTMLModel",
            "placeholder": "​",
            "_view_module": "@jupyter-widgets/controls",
            "_model_module_version": "1.5.0",
            "value": "Downloading: 100%",
            "_view_count": null,
            "_view_module_version": "1.5.0",
            "description_tooltip": null,
            "_model_module": "@jupyter-widgets/controls",
            "layout": "IPY_MODEL_235da0479611408c8e06b0be0a1e2a3f"
          }
        },
        "16c8039733a048bc83d73d42cf0a03b9": {
          "model_module": "@jupyter-widgets/controls",
          "model_name": "FloatProgressModel",
          "model_module_version": "1.5.0",
          "state": {
            "_view_name": "ProgressView",
            "style": "IPY_MODEL_c87dea2c0b6f4d76b86c8ebe71f0cadf",
            "_dom_classes": [],
            "description": "",
            "_model_name": "FloatProgressModel",
            "bar_style": "success",
            "max": 995526,
            "_view_module": "@jupyter-widgets/controls",
            "_model_module_version": "1.5.0",
            "value": 995526,
            "_view_count": null,
            "_view_module_version": "1.5.0",
            "orientation": "horizontal",
            "min": 0,
            "description_tooltip": null,
            "_model_module": "@jupyter-widgets/controls",
            "layout": "IPY_MODEL_704e593bfc3846209247b0917e572eb6"
          }
        },
        "f93b58f23def49659056cedd5e319be5": {
          "model_module": "@jupyter-widgets/controls",
          "model_name": "HTMLModel",
          "model_module_version": "1.5.0",
          "state": {
            "_view_name": "HTMLView",
            "style": "IPY_MODEL_4f5be5b2b27e43c5a2c037338c5a0d87",
            "_dom_classes": [],
            "description": "",
            "_model_name": "HTMLModel",
            "placeholder": "​",
            "_view_module": "@jupyter-widgets/controls",
            "_model_module_version": "1.5.0",
            "value": " 996k/996k [00:00&lt;00:00, 1.48MB/s]",
            "_view_count": null,
            "_view_module_version": "1.5.0",
            "description_tooltip": null,
            "_model_module": "@jupyter-widgets/controls",
            "layout": "IPY_MODEL_7fcc984a947244359bc16c055a03ec91"
          }
        },
        "6da6167b1a804448a13023994a77a172": {
          "model_module": "@jupyter-widgets/controls",
          "model_name": "DescriptionStyleModel",
          "model_module_version": "1.5.0",
          "state": {
            "_view_name": "StyleView",
            "_model_name": "DescriptionStyleModel",
            "description_width": "",
            "_view_module": "@jupyter-widgets/base",
            "_model_module_version": "1.5.0",
            "_view_count": null,
            "_view_module_version": "1.2.0",
            "_model_module": "@jupyter-widgets/controls"
          }
        },
        "235da0479611408c8e06b0be0a1e2a3f": {
          "model_module": "@jupyter-widgets/base",
          "model_name": "LayoutModel",
          "model_module_version": "1.2.0",
          "state": {
            "_view_name": "LayoutView",
            "grid_template_rows": null,
            "right": null,
            "justify_content": null,
            "_view_module": "@jupyter-widgets/base",
            "overflow": null,
            "_model_module_version": "1.2.0",
            "_view_count": null,
            "flex_flow": null,
            "width": null,
            "min_width": null,
            "border": null,
            "align_items": null,
            "bottom": null,
            "_model_module": "@jupyter-widgets/base",
            "top": null,
            "grid_column": null,
            "overflow_y": null,
            "overflow_x": null,
            "grid_auto_flow": null,
            "grid_area": null,
            "grid_template_columns": null,
            "flex": null,
            "_model_name": "LayoutModel",
            "justify_items": null,
            "grid_row": null,
            "max_height": null,
            "align_content": null,
            "visibility": null,
            "align_self": null,
            "height": null,
            "min_height": null,
            "padding": null,
            "grid_auto_rows": null,
            "grid_gap": null,
            "max_width": null,
            "order": null,
            "_view_module_version": "1.2.0",
            "grid_template_areas": null,
            "object_position": null,
            "object_fit": null,
            "grid_auto_columns": null,
            "margin": null,
            "display": null,
            "left": null
          }
        },
        "c87dea2c0b6f4d76b86c8ebe71f0cadf": {
          "model_module": "@jupyter-widgets/controls",
          "model_name": "ProgressStyleModel",
          "model_module_version": "1.5.0",
          "state": {
            "_view_name": "StyleView",
            "_model_name": "ProgressStyleModel",
            "description_width": "",
            "_view_module": "@jupyter-widgets/base",
            "_model_module_version": "1.5.0",
            "_view_count": null,
            "_view_module_version": "1.2.0",
            "bar_color": null,
            "_model_module": "@jupyter-widgets/controls"
          }
        },
        "704e593bfc3846209247b0917e572eb6": {
          "model_module": "@jupyter-widgets/base",
          "model_name": "LayoutModel",
          "model_module_version": "1.2.0",
          "state": {
            "_view_name": "LayoutView",
            "grid_template_rows": null,
            "right": null,
            "justify_content": null,
            "_view_module": "@jupyter-widgets/base",
            "overflow": null,
            "_model_module_version": "1.2.0",
            "_view_count": null,
            "flex_flow": null,
            "width": null,
            "min_width": null,
            "border": null,
            "align_items": null,
            "bottom": null,
            "_model_module": "@jupyter-widgets/base",
            "top": null,
            "grid_column": null,
            "overflow_y": null,
            "overflow_x": null,
            "grid_auto_flow": null,
            "grid_area": null,
            "grid_template_columns": null,
            "flex": null,
            "_model_name": "LayoutModel",
            "justify_items": null,
            "grid_row": null,
            "max_height": null,
            "align_content": null,
            "visibility": null,
            "align_self": null,
            "height": null,
            "min_height": null,
            "padding": null,
            "grid_auto_rows": null,
            "grid_gap": null,
            "max_width": null,
            "order": null,
            "_view_module_version": "1.2.0",
            "grid_template_areas": null,
            "object_position": null,
            "object_fit": null,
            "grid_auto_columns": null,
            "margin": null,
            "display": null,
            "left": null
          }
        },
        "4f5be5b2b27e43c5a2c037338c5a0d87": {
          "model_module": "@jupyter-widgets/controls",
          "model_name": "DescriptionStyleModel",
          "model_module_version": "1.5.0",
          "state": {
            "_view_name": "StyleView",
            "_model_name": "DescriptionStyleModel",
            "description_width": "",
            "_view_module": "@jupyter-widgets/base",
            "_model_module_version": "1.5.0",
            "_view_count": null,
            "_view_module_version": "1.2.0",
            "_model_module": "@jupyter-widgets/controls"
          }
        },
        "7fcc984a947244359bc16c055a03ec91": {
          "model_module": "@jupyter-widgets/base",
          "model_name": "LayoutModel",
          "model_module_version": "1.2.0",
          "state": {
            "_view_name": "LayoutView",
            "grid_template_rows": null,
            "right": null,
            "justify_content": null,
            "_view_module": "@jupyter-widgets/base",
            "overflow": null,
            "_model_module_version": "1.2.0",
            "_view_count": null,
            "flex_flow": null,
            "width": null,
            "min_width": null,
            "border": null,
            "align_items": null,
            "bottom": null,
            "_model_module": "@jupyter-widgets/base",
            "top": null,
            "grid_column": null,
            "overflow_y": null,
            "overflow_x": null,
            "grid_auto_flow": null,
            "grid_area": null,
            "grid_template_columns": null,
            "flex": null,
            "_model_name": "LayoutModel",
            "justify_items": null,
            "grid_row": null,
            "max_height": null,
            "align_content": null,
            "visibility": null,
            "align_self": null,
            "height": null,
            "min_height": null,
            "padding": null,
            "grid_auto_rows": null,
            "grid_gap": null,
            "max_width": null,
            "order": null,
            "_view_module_version": "1.2.0",
            "grid_template_areas": null,
            "object_position": null,
            "object_fit": null,
            "grid_auto_columns": null,
            "margin": null,
            "display": null,
            "left": null
          }
        },
        "10c95dfec881461591cb74dd7a4dd1c5": {
          "model_module": "@jupyter-widgets/controls",
          "model_name": "HBoxModel",
          "model_module_version": "1.5.0",
          "state": {
            "_view_name": "HBoxView",
            "_dom_classes": [],
            "_model_name": "HBoxModel",
            "_view_module": "@jupyter-widgets/controls",
            "_model_module_version": "1.5.0",
            "_view_count": null,
            "_view_module_version": "1.5.0",
            "box_style": "",
            "layout": "IPY_MODEL_6080b7461fa14a9d881401e19711f665",
            "_model_module": "@jupyter-widgets/controls",
            "children": [
              "IPY_MODEL_295cbc26e6cc4d5eacc2abe07a74d761",
              "IPY_MODEL_cbab5dad771345d5b46d6a8cb9808283",
              "IPY_MODEL_3c6fb4adc1dc43e38daebf7c40f9b3ec"
            ]
          }
        },
        "6080b7461fa14a9d881401e19711f665": {
          "model_module": "@jupyter-widgets/base",
          "model_name": "LayoutModel",
          "model_module_version": "1.2.0",
          "state": {
            "_view_name": "LayoutView",
            "grid_template_rows": null,
            "right": null,
            "justify_content": null,
            "_view_module": "@jupyter-widgets/base",
            "overflow": null,
            "_model_module_version": "1.2.0",
            "_view_count": null,
            "flex_flow": null,
            "width": null,
            "min_width": null,
            "border": null,
            "align_items": null,
            "bottom": null,
            "_model_module": "@jupyter-widgets/base",
            "top": null,
            "grid_column": null,
            "overflow_y": null,
            "overflow_x": null,
            "grid_auto_flow": null,
            "grid_area": null,
            "grid_template_columns": null,
            "flex": null,
            "_model_name": "LayoutModel",
            "justify_items": null,
            "grid_row": null,
            "max_height": null,
            "align_content": null,
            "visibility": null,
            "align_self": null,
            "height": null,
            "min_height": null,
            "padding": null,
            "grid_auto_rows": null,
            "grid_gap": null,
            "max_width": null,
            "order": null,
            "_view_module_version": "1.2.0",
            "grid_template_areas": null,
            "object_position": null,
            "object_fit": null,
            "grid_auto_columns": null,
            "margin": null,
            "display": null,
            "left": null
          }
        },
        "295cbc26e6cc4d5eacc2abe07a74d761": {
          "model_module": "@jupyter-widgets/controls",
          "model_name": "HTMLModel",
          "model_module_version": "1.5.0",
          "state": {
            "_view_name": "HTMLView",
            "style": "IPY_MODEL_27e60f552d5744a59c6d6b9f1a22c84d",
            "_dom_classes": [],
            "description": "",
            "_model_name": "HTMLModel",
            "placeholder": "​",
            "_view_module": "@jupyter-widgets/controls",
            "_model_module_version": "1.5.0",
            "value": "Downloading: 100%",
            "_view_count": null,
            "_view_module_version": "1.5.0",
            "description_tooltip": null,
            "_model_module": "@jupyter-widgets/controls",
            "layout": "IPY_MODEL_5835663c30ef46d69d5c289f27bf6731"
          }
        },
        "cbab5dad771345d5b46d6a8cb9808283": {
          "model_module": "@jupyter-widgets/controls",
          "model_name": "FloatProgressModel",
          "model_module_version": "1.5.0",
          "state": {
            "_view_name": "ProgressView",
            "style": "IPY_MODEL_8b96f31d3feb4408af9f831e0ca976e9",
            "_dom_classes": [],
            "description": "",
            "_model_name": "FloatProgressModel",
            "bar_style": "success",
            "max": 29,
            "_view_module": "@jupyter-widgets/controls",
            "_model_module_version": "1.5.0",
            "value": 29,
            "_view_count": null,
            "_view_module_version": "1.5.0",
            "orientation": "horizontal",
            "min": 0,
            "description_tooltip": null,
            "_model_module": "@jupyter-widgets/controls",
            "layout": "IPY_MODEL_c1e1ead0bec840e69639452ed9e6b59e"
          }
        },
        "3c6fb4adc1dc43e38daebf7c40f9b3ec": {
          "model_module": "@jupyter-widgets/controls",
          "model_name": "HTMLModel",
          "model_module_version": "1.5.0",
          "state": {
            "_view_name": "HTMLView",
            "style": "IPY_MODEL_dee9565e7a9e448cb7732e921a145aec",
            "_dom_classes": [],
            "description": "",
            "_model_name": "HTMLModel",
            "placeholder": "​",
            "_view_module": "@jupyter-widgets/controls",
            "_model_module_version": "1.5.0",
            "value": " 29.0/29.0 [00:00&lt;00:00, 762B/s]",
            "_view_count": null,
            "_view_module_version": "1.5.0",
            "description_tooltip": null,
            "_model_module": "@jupyter-widgets/controls",
            "layout": "IPY_MODEL_bf19fa1ba09841f185f177fe9852caed"
          }
        },
        "27e60f552d5744a59c6d6b9f1a22c84d": {
          "model_module": "@jupyter-widgets/controls",
          "model_name": "DescriptionStyleModel",
          "model_module_version": "1.5.0",
          "state": {
            "_view_name": "StyleView",
            "_model_name": "DescriptionStyleModel",
            "description_width": "",
            "_view_module": "@jupyter-widgets/base",
            "_model_module_version": "1.5.0",
            "_view_count": null,
            "_view_module_version": "1.2.0",
            "_model_module": "@jupyter-widgets/controls"
          }
        },
        "5835663c30ef46d69d5c289f27bf6731": {
          "model_module": "@jupyter-widgets/base",
          "model_name": "LayoutModel",
          "model_module_version": "1.2.0",
          "state": {
            "_view_name": "LayoutView",
            "grid_template_rows": null,
            "right": null,
            "justify_content": null,
            "_view_module": "@jupyter-widgets/base",
            "overflow": null,
            "_model_module_version": "1.2.0",
            "_view_count": null,
            "flex_flow": null,
            "width": null,
            "min_width": null,
            "border": null,
            "align_items": null,
            "bottom": null,
            "_model_module": "@jupyter-widgets/base",
            "top": null,
            "grid_column": null,
            "overflow_y": null,
            "overflow_x": null,
            "grid_auto_flow": null,
            "grid_area": null,
            "grid_template_columns": null,
            "flex": null,
            "_model_name": "LayoutModel",
            "justify_items": null,
            "grid_row": null,
            "max_height": null,
            "align_content": null,
            "visibility": null,
            "align_self": null,
            "height": null,
            "min_height": null,
            "padding": null,
            "grid_auto_rows": null,
            "grid_gap": null,
            "max_width": null,
            "order": null,
            "_view_module_version": "1.2.0",
            "grid_template_areas": null,
            "object_position": null,
            "object_fit": null,
            "grid_auto_columns": null,
            "margin": null,
            "display": null,
            "left": null
          }
        },
        "8b96f31d3feb4408af9f831e0ca976e9": {
          "model_module": "@jupyter-widgets/controls",
          "model_name": "ProgressStyleModel",
          "model_module_version": "1.5.0",
          "state": {
            "_view_name": "StyleView",
            "_model_name": "ProgressStyleModel",
            "description_width": "",
            "_view_module": "@jupyter-widgets/base",
            "_model_module_version": "1.5.0",
            "_view_count": null,
            "_view_module_version": "1.2.0",
            "bar_color": null,
            "_model_module": "@jupyter-widgets/controls"
          }
        },
        "c1e1ead0bec840e69639452ed9e6b59e": {
          "model_module": "@jupyter-widgets/base",
          "model_name": "LayoutModel",
          "model_module_version": "1.2.0",
          "state": {
            "_view_name": "LayoutView",
            "grid_template_rows": null,
            "right": null,
            "justify_content": null,
            "_view_module": "@jupyter-widgets/base",
            "overflow": null,
            "_model_module_version": "1.2.0",
            "_view_count": null,
            "flex_flow": null,
            "width": null,
            "min_width": null,
            "border": null,
            "align_items": null,
            "bottom": null,
            "_model_module": "@jupyter-widgets/base",
            "top": null,
            "grid_column": null,
            "overflow_y": null,
            "overflow_x": null,
            "grid_auto_flow": null,
            "grid_area": null,
            "grid_template_columns": null,
            "flex": null,
            "_model_name": "LayoutModel",
            "justify_items": null,
            "grid_row": null,
            "max_height": null,
            "align_content": null,
            "visibility": null,
            "align_self": null,
            "height": null,
            "min_height": null,
            "padding": null,
            "grid_auto_rows": null,
            "grid_gap": null,
            "max_width": null,
            "order": null,
            "_view_module_version": "1.2.0",
            "grid_template_areas": null,
            "object_position": null,
            "object_fit": null,
            "grid_auto_columns": null,
            "margin": null,
            "display": null,
            "left": null
          }
        },
        "dee9565e7a9e448cb7732e921a145aec": {
          "model_module": "@jupyter-widgets/controls",
          "model_name": "DescriptionStyleModel",
          "model_module_version": "1.5.0",
          "state": {
            "_view_name": "StyleView",
            "_model_name": "DescriptionStyleModel",
            "description_width": "",
            "_view_module": "@jupyter-widgets/base",
            "_model_module_version": "1.5.0",
            "_view_count": null,
            "_view_module_version": "1.2.0",
            "_model_module": "@jupyter-widgets/controls"
          }
        },
        "bf19fa1ba09841f185f177fe9852caed": {
          "model_module": "@jupyter-widgets/base",
          "model_name": "LayoutModel",
          "model_module_version": "1.2.0",
          "state": {
            "_view_name": "LayoutView",
            "grid_template_rows": null,
            "right": null,
            "justify_content": null,
            "_view_module": "@jupyter-widgets/base",
            "overflow": null,
            "_model_module_version": "1.2.0",
            "_view_count": null,
            "flex_flow": null,
            "width": null,
            "min_width": null,
            "border": null,
            "align_items": null,
            "bottom": null,
            "_model_module": "@jupyter-widgets/base",
            "top": null,
            "grid_column": null,
            "overflow_y": null,
            "overflow_x": null,
            "grid_auto_flow": null,
            "grid_area": null,
            "grid_template_columns": null,
            "flex": null,
            "_model_name": "LayoutModel",
            "justify_items": null,
            "grid_row": null,
            "max_height": null,
            "align_content": null,
            "visibility": null,
            "align_self": null,
            "height": null,
            "min_height": null,
            "padding": null,
            "grid_auto_rows": null,
            "grid_gap": null,
            "max_width": null,
            "order": null,
            "_view_module_version": "1.2.0",
            "grid_template_areas": null,
            "object_position": null,
            "object_fit": null,
            "grid_auto_columns": null,
            "margin": null,
            "display": null,
            "left": null
          }
        },
        "e8e617f5e3a1488bacd9edce508937b4": {
          "model_module": "@jupyter-widgets/controls",
          "model_name": "HBoxModel",
          "model_module_version": "1.5.0",
          "state": {
            "_view_name": "HBoxView",
            "_dom_classes": [],
            "_model_name": "HBoxModel",
            "_view_module": "@jupyter-widgets/controls",
            "_model_module_version": "1.5.0",
            "_view_count": null,
            "_view_module_version": "1.5.0",
            "box_style": "",
            "layout": "IPY_MODEL_f9b8bd82c49d45fd8c77fa8ea7a0269e",
            "_model_module": "@jupyter-widgets/controls",
            "children": [
              "IPY_MODEL_3147495154fd4142a2bb76476ae3620f",
              "IPY_MODEL_0d29249a82a34591b4f11d1996a0e7a4",
              "IPY_MODEL_d47001707dcf40068452b145af70f896"
            ]
          }
        },
        "f9b8bd82c49d45fd8c77fa8ea7a0269e": {
          "model_module": "@jupyter-widgets/base",
          "model_name": "LayoutModel",
          "model_module_version": "1.2.0",
          "state": {
            "_view_name": "LayoutView",
            "grid_template_rows": null,
            "right": null,
            "justify_content": null,
            "_view_module": "@jupyter-widgets/base",
            "overflow": null,
            "_model_module_version": "1.2.0",
            "_view_count": null,
            "flex_flow": null,
            "width": null,
            "min_width": null,
            "border": null,
            "align_items": null,
            "bottom": null,
            "_model_module": "@jupyter-widgets/base",
            "top": null,
            "grid_column": null,
            "overflow_y": null,
            "overflow_x": null,
            "grid_auto_flow": null,
            "grid_area": null,
            "grid_template_columns": null,
            "flex": null,
            "_model_name": "LayoutModel",
            "justify_items": null,
            "grid_row": null,
            "max_height": null,
            "align_content": null,
            "visibility": null,
            "align_self": null,
            "height": null,
            "min_height": null,
            "padding": null,
            "grid_auto_rows": null,
            "grid_gap": null,
            "max_width": null,
            "order": null,
            "_view_module_version": "1.2.0",
            "grid_template_areas": null,
            "object_position": null,
            "object_fit": null,
            "grid_auto_columns": null,
            "margin": null,
            "display": null,
            "left": null
          }
        },
        "3147495154fd4142a2bb76476ae3620f": {
          "model_module": "@jupyter-widgets/controls",
          "model_name": "HTMLModel",
          "model_module_version": "1.5.0",
          "state": {
            "_view_name": "HTMLView",
            "style": "IPY_MODEL_9bda596a7d4d441c8480add5f56cdd5f",
            "_dom_classes": [],
            "description": "",
            "_model_name": "HTMLModel",
            "placeholder": "​",
            "_view_module": "@jupyter-widgets/controls",
            "_model_module_version": "1.5.0",
            "value": "Downloading: 100%",
            "_view_count": null,
            "_view_module_version": "1.5.0",
            "description_tooltip": null,
            "_model_module": "@jupyter-widgets/controls",
            "layout": "IPY_MODEL_6264db3c13f6429e85bea44f5cdd7134"
          }
        },
        "0d29249a82a34591b4f11d1996a0e7a4": {
          "model_module": "@jupyter-widgets/controls",
          "model_name": "FloatProgressModel",
          "model_module_version": "1.5.0",
          "state": {
            "_view_name": "ProgressView",
            "style": "IPY_MODEL_46305e493c574af8ae8b25035abcca44",
            "_dom_classes": [],
            "description": "",
            "_model_name": "FloatProgressModel",
            "bar_style": "success",
            "max": 1961828,
            "_view_module": "@jupyter-widgets/controls",
            "_model_module_version": "1.5.0",
            "value": 1961828,
            "_view_count": null,
            "_view_module_version": "1.5.0",
            "orientation": "horizontal",
            "min": 0,
            "description_tooltip": null,
            "_model_module": "@jupyter-widgets/controls",
            "layout": "IPY_MODEL_ead924cd52fe46adb4ed0f7c6af317b0"
          }
        },
        "d47001707dcf40068452b145af70f896": {
          "model_module": "@jupyter-widgets/controls",
          "model_name": "HTMLModel",
          "model_module_version": "1.5.0",
          "state": {
            "_view_name": "HTMLView",
            "style": "IPY_MODEL_65d8ae98bba9488e93afbae2c2c07aa1",
            "_dom_classes": [],
            "description": "",
            "_model_name": "HTMLModel",
            "placeholder": "​",
            "_view_module": "@jupyter-widgets/controls",
            "_model_module_version": "1.5.0",
            "value": " 1.96M/1.96M [00:00&lt;00:00, 1.64MB/s]",
            "_view_count": null,
            "_view_module_version": "1.5.0",
            "description_tooltip": null,
            "_model_module": "@jupyter-widgets/controls",
            "layout": "IPY_MODEL_af885bee38fb4d10a1b7db37f21b7e8d"
          }
        },
        "9bda596a7d4d441c8480add5f56cdd5f": {
          "model_module": "@jupyter-widgets/controls",
          "model_name": "DescriptionStyleModel",
          "model_module_version": "1.5.0",
          "state": {
            "_view_name": "StyleView",
            "_model_name": "DescriptionStyleModel",
            "description_width": "",
            "_view_module": "@jupyter-widgets/base",
            "_model_module_version": "1.5.0",
            "_view_count": null,
            "_view_module_version": "1.2.0",
            "_model_module": "@jupyter-widgets/controls"
          }
        },
        "6264db3c13f6429e85bea44f5cdd7134": {
          "model_module": "@jupyter-widgets/base",
          "model_name": "LayoutModel",
          "model_module_version": "1.2.0",
          "state": {
            "_view_name": "LayoutView",
            "grid_template_rows": null,
            "right": null,
            "justify_content": null,
            "_view_module": "@jupyter-widgets/base",
            "overflow": null,
            "_model_module_version": "1.2.0",
            "_view_count": null,
            "flex_flow": null,
            "width": null,
            "min_width": null,
            "border": null,
            "align_items": null,
            "bottom": null,
            "_model_module": "@jupyter-widgets/base",
            "top": null,
            "grid_column": null,
            "overflow_y": null,
            "overflow_x": null,
            "grid_auto_flow": null,
            "grid_area": null,
            "grid_template_columns": null,
            "flex": null,
            "_model_name": "LayoutModel",
            "justify_items": null,
            "grid_row": null,
            "max_height": null,
            "align_content": null,
            "visibility": null,
            "align_self": null,
            "height": null,
            "min_height": null,
            "padding": null,
            "grid_auto_rows": null,
            "grid_gap": null,
            "max_width": null,
            "order": null,
            "_view_module_version": "1.2.0",
            "grid_template_areas": null,
            "object_position": null,
            "object_fit": null,
            "grid_auto_columns": null,
            "margin": null,
            "display": null,
            "left": null
          }
        },
        "46305e493c574af8ae8b25035abcca44": {
          "model_module": "@jupyter-widgets/controls",
          "model_name": "ProgressStyleModel",
          "model_module_version": "1.5.0",
          "state": {
            "_view_name": "StyleView",
            "_model_name": "ProgressStyleModel",
            "description_width": "",
            "_view_module": "@jupyter-widgets/base",
            "_model_module_version": "1.5.0",
            "_view_count": null,
            "_view_module_version": "1.2.0",
            "bar_color": null,
            "_model_module": "@jupyter-widgets/controls"
          }
        },
        "ead924cd52fe46adb4ed0f7c6af317b0": {
          "model_module": "@jupyter-widgets/base",
          "model_name": "LayoutModel",
          "model_module_version": "1.2.0",
          "state": {
            "_view_name": "LayoutView",
            "grid_template_rows": null,
            "right": null,
            "justify_content": null,
            "_view_module": "@jupyter-widgets/base",
            "overflow": null,
            "_model_module_version": "1.2.0",
            "_view_count": null,
            "flex_flow": null,
            "width": null,
            "min_width": null,
            "border": null,
            "align_items": null,
            "bottom": null,
            "_model_module": "@jupyter-widgets/base",
            "top": null,
            "grid_column": null,
            "overflow_y": null,
            "overflow_x": null,
            "grid_auto_flow": null,
            "grid_area": null,
            "grid_template_columns": null,
            "flex": null,
            "_model_name": "LayoutModel",
            "justify_items": null,
            "grid_row": null,
            "max_height": null,
            "align_content": null,
            "visibility": null,
            "align_self": null,
            "height": null,
            "min_height": null,
            "padding": null,
            "grid_auto_rows": null,
            "grid_gap": null,
            "max_width": null,
            "order": null,
            "_view_module_version": "1.2.0",
            "grid_template_areas": null,
            "object_position": null,
            "object_fit": null,
            "grid_auto_columns": null,
            "margin": null,
            "display": null,
            "left": null
          }
        },
        "65d8ae98bba9488e93afbae2c2c07aa1": {
          "model_module": "@jupyter-widgets/controls",
          "model_name": "DescriptionStyleModel",
          "model_module_version": "1.5.0",
          "state": {
            "_view_name": "StyleView",
            "_model_name": "DescriptionStyleModel",
            "description_width": "",
            "_view_module": "@jupyter-widgets/base",
            "_model_module_version": "1.5.0",
            "_view_count": null,
            "_view_module_version": "1.2.0",
            "_model_module": "@jupyter-widgets/controls"
          }
        },
        "af885bee38fb4d10a1b7db37f21b7e8d": {
          "model_module": "@jupyter-widgets/base",
          "model_name": "LayoutModel",
          "model_module_version": "1.2.0",
          "state": {
            "_view_name": "LayoutView",
            "grid_template_rows": null,
            "right": null,
            "justify_content": null,
            "_view_module": "@jupyter-widgets/base",
            "overflow": null,
            "_model_module_version": "1.2.0",
            "_view_count": null,
            "flex_flow": null,
            "width": null,
            "min_width": null,
            "border": null,
            "align_items": null,
            "bottom": null,
            "_model_module": "@jupyter-widgets/base",
            "top": null,
            "grid_column": null,
            "overflow_y": null,
            "overflow_x": null,
            "grid_auto_flow": null,
            "grid_area": null,
            "grid_template_columns": null,
            "flex": null,
            "_model_name": "LayoutModel",
            "justify_items": null,
            "grid_row": null,
            "max_height": null,
            "align_content": null,
            "visibility": null,
            "align_self": null,
            "height": null,
            "min_height": null,
            "padding": null,
            "grid_auto_rows": null,
            "grid_gap": null,
            "max_width": null,
            "order": null,
            "_view_module_version": "1.2.0",
            "grid_template_areas": null,
            "object_position": null,
            "object_fit": null,
            "grid_auto_columns": null,
            "margin": null,
            "display": null,
            "left": null
          }
        },
        "983a8c6ff702474b89d2edb0a5133ea0": {
          "model_module": "@jupyter-widgets/controls",
          "model_name": "HBoxModel",
          "model_module_version": "1.5.0",
          "state": {
            "_view_name": "HBoxView",
            "_dom_classes": [],
            "_model_name": "HBoxModel",
            "_view_module": "@jupyter-widgets/controls",
            "_model_module_version": "1.5.0",
            "_view_count": null,
            "_view_module_version": "1.5.0",
            "box_style": "",
            "layout": "IPY_MODEL_a4158f0d1185448b97c875a0bafb5d65",
            "_model_module": "@jupyter-widgets/controls",
            "children": [
              "IPY_MODEL_8f173fd0c3314a05a78143a0586cc463",
              "IPY_MODEL_43143f2faf8c41be828f18fc7b5e28e8",
              "IPY_MODEL_36db2a1c1d994d718f6530a282363661"
            ]
          }
        },
        "a4158f0d1185448b97c875a0bafb5d65": {
          "model_module": "@jupyter-widgets/base",
          "model_name": "LayoutModel",
          "model_module_version": "1.2.0",
          "state": {
            "_view_name": "LayoutView",
            "grid_template_rows": null,
            "right": null,
            "justify_content": null,
            "_view_module": "@jupyter-widgets/base",
            "overflow": null,
            "_model_module_version": "1.2.0",
            "_view_count": null,
            "flex_flow": null,
            "width": null,
            "min_width": null,
            "border": null,
            "align_items": null,
            "bottom": null,
            "_model_module": "@jupyter-widgets/base",
            "top": null,
            "grid_column": null,
            "overflow_y": null,
            "overflow_x": null,
            "grid_auto_flow": null,
            "grid_area": null,
            "grid_template_columns": null,
            "flex": null,
            "_model_name": "LayoutModel",
            "justify_items": null,
            "grid_row": null,
            "max_height": null,
            "align_content": null,
            "visibility": null,
            "align_self": null,
            "height": null,
            "min_height": null,
            "padding": null,
            "grid_auto_rows": null,
            "grid_gap": null,
            "max_width": null,
            "order": null,
            "_view_module_version": "1.2.0",
            "grid_template_areas": null,
            "object_position": null,
            "object_fit": null,
            "grid_auto_columns": null,
            "margin": null,
            "display": null,
            "left": null
          }
        },
        "8f173fd0c3314a05a78143a0586cc463": {
          "model_module": "@jupyter-widgets/controls",
          "model_name": "HTMLModel",
          "model_module_version": "1.5.0",
          "state": {
            "_view_name": "HTMLView",
            "style": "IPY_MODEL_057102a023a7418791ab1c668119362b",
            "_dom_classes": [],
            "description": "",
            "_model_name": "HTMLModel",
            "placeholder": "​",
            "_view_module": "@jupyter-widgets/controls",
            "_model_module_version": "1.5.0",
            "value": "Downloading: 100%",
            "_view_count": null,
            "_view_module_version": "1.5.0",
            "description_tooltip": null,
            "_model_module": "@jupyter-widgets/controls",
            "layout": "IPY_MODEL_d2a95070d83748998b6205c666a541dc"
          }
        },
        "43143f2faf8c41be828f18fc7b5e28e8": {
          "model_module": "@jupyter-widgets/controls",
          "model_name": "FloatProgressModel",
          "model_module_version": "1.5.0",
          "state": {
            "_view_name": "ProgressView",
            "style": "IPY_MODEL_2deae5c6cb1c47cbb5dcf24e88135519",
            "_dom_classes": [],
            "description": "",
            "_model_name": "FloatProgressModel",
            "bar_style": "success",
            "max": 625,
            "_view_module": "@jupyter-widgets/controls",
            "_model_module_version": "1.5.0",
            "value": 625,
            "_view_count": null,
            "_view_module_version": "1.5.0",
            "orientation": "horizontal",
            "min": 0,
            "description_tooltip": null,
            "_model_module": "@jupyter-widgets/controls",
            "layout": "IPY_MODEL_f13bf62712ba453c9da7246bce7694f4"
          }
        },
        "36db2a1c1d994d718f6530a282363661": {
          "model_module": "@jupyter-widgets/controls",
          "model_name": "HTMLModel",
          "model_module_version": "1.5.0",
          "state": {
            "_view_name": "HTMLView",
            "style": "IPY_MODEL_a57cf67e60c04809b73a67791e371bb4",
            "_dom_classes": [],
            "description": "",
            "_model_name": "HTMLModel",
            "placeholder": "​",
            "_view_module": "@jupyter-widgets/controls",
            "_model_module_version": "1.5.0",
            "value": " 625/625 [00:00&lt;00:00, 7.78kB/s]",
            "_view_count": null,
            "_view_module_version": "1.5.0",
            "description_tooltip": null,
            "_model_module": "@jupyter-widgets/controls",
            "layout": "IPY_MODEL_603eaa82efd64721a6525db1426d0614"
          }
        },
        "057102a023a7418791ab1c668119362b": {
          "model_module": "@jupyter-widgets/controls",
          "model_name": "DescriptionStyleModel",
          "model_module_version": "1.5.0",
          "state": {
            "_view_name": "StyleView",
            "_model_name": "DescriptionStyleModel",
            "description_width": "",
            "_view_module": "@jupyter-widgets/base",
            "_model_module_version": "1.5.0",
            "_view_count": null,
            "_view_module_version": "1.2.0",
            "_model_module": "@jupyter-widgets/controls"
          }
        },
        "d2a95070d83748998b6205c666a541dc": {
          "model_module": "@jupyter-widgets/base",
          "model_name": "LayoutModel",
          "model_module_version": "1.2.0",
          "state": {
            "_view_name": "LayoutView",
            "grid_template_rows": null,
            "right": null,
            "justify_content": null,
            "_view_module": "@jupyter-widgets/base",
            "overflow": null,
            "_model_module_version": "1.2.0",
            "_view_count": null,
            "flex_flow": null,
            "width": null,
            "min_width": null,
            "border": null,
            "align_items": null,
            "bottom": null,
            "_model_module": "@jupyter-widgets/base",
            "top": null,
            "grid_column": null,
            "overflow_y": null,
            "overflow_x": null,
            "grid_auto_flow": null,
            "grid_area": null,
            "grid_template_columns": null,
            "flex": null,
            "_model_name": "LayoutModel",
            "justify_items": null,
            "grid_row": null,
            "max_height": null,
            "align_content": null,
            "visibility": null,
            "align_self": null,
            "height": null,
            "min_height": null,
            "padding": null,
            "grid_auto_rows": null,
            "grid_gap": null,
            "max_width": null,
            "order": null,
            "_view_module_version": "1.2.0",
            "grid_template_areas": null,
            "object_position": null,
            "object_fit": null,
            "grid_auto_columns": null,
            "margin": null,
            "display": null,
            "left": null
          }
        },
        "2deae5c6cb1c47cbb5dcf24e88135519": {
          "model_module": "@jupyter-widgets/controls",
          "model_name": "ProgressStyleModel",
          "model_module_version": "1.5.0",
          "state": {
            "_view_name": "StyleView",
            "_model_name": "ProgressStyleModel",
            "description_width": "",
            "_view_module": "@jupyter-widgets/base",
            "_model_module_version": "1.5.0",
            "_view_count": null,
            "_view_module_version": "1.2.0",
            "bar_color": null,
            "_model_module": "@jupyter-widgets/controls"
          }
        },
        "f13bf62712ba453c9da7246bce7694f4": {
          "model_module": "@jupyter-widgets/base",
          "model_name": "LayoutModel",
          "model_module_version": "1.2.0",
          "state": {
            "_view_name": "LayoutView",
            "grid_template_rows": null,
            "right": null,
            "justify_content": null,
            "_view_module": "@jupyter-widgets/base",
            "overflow": null,
            "_model_module_version": "1.2.0",
            "_view_count": null,
            "flex_flow": null,
            "width": null,
            "min_width": null,
            "border": null,
            "align_items": null,
            "bottom": null,
            "_model_module": "@jupyter-widgets/base",
            "top": null,
            "grid_column": null,
            "overflow_y": null,
            "overflow_x": null,
            "grid_auto_flow": null,
            "grid_area": null,
            "grid_template_columns": null,
            "flex": null,
            "_model_name": "LayoutModel",
            "justify_items": null,
            "grid_row": null,
            "max_height": null,
            "align_content": null,
            "visibility": null,
            "align_self": null,
            "height": null,
            "min_height": null,
            "padding": null,
            "grid_auto_rows": null,
            "grid_gap": null,
            "max_width": null,
            "order": null,
            "_view_module_version": "1.2.0",
            "grid_template_areas": null,
            "object_position": null,
            "object_fit": null,
            "grid_auto_columns": null,
            "margin": null,
            "display": null,
            "left": null
          }
        },
        "a57cf67e60c04809b73a67791e371bb4": {
          "model_module": "@jupyter-widgets/controls",
          "model_name": "DescriptionStyleModel",
          "model_module_version": "1.5.0",
          "state": {
            "_view_name": "StyleView",
            "_model_name": "DescriptionStyleModel",
            "description_width": "",
            "_view_module": "@jupyter-widgets/base",
            "_model_module_version": "1.5.0",
            "_view_count": null,
            "_view_module_version": "1.2.0",
            "_model_module": "@jupyter-widgets/controls"
          }
        },
        "603eaa82efd64721a6525db1426d0614": {
          "model_module": "@jupyter-widgets/base",
          "model_name": "LayoutModel",
          "model_module_version": "1.2.0",
          "state": {
            "_view_name": "LayoutView",
            "grid_template_rows": null,
            "right": null,
            "justify_content": null,
            "_view_module": "@jupyter-widgets/base",
            "overflow": null,
            "_model_module_version": "1.2.0",
            "_view_count": null,
            "flex_flow": null,
            "width": null,
            "min_width": null,
            "border": null,
            "align_items": null,
            "bottom": null,
            "_model_module": "@jupyter-widgets/base",
            "top": null,
            "grid_column": null,
            "overflow_y": null,
            "overflow_x": null,
            "grid_auto_flow": null,
            "grid_area": null,
            "grid_template_columns": null,
            "flex": null,
            "_model_name": "LayoutModel",
            "justify_items": null,
            "grid_row": null,
            "max_height": null,
            "align_content": null,
            "visibility": null,
            "align_self": null,
            "height": null,
            "min_height": null,
            "padding": null,
            "grid_auto_rows": null,
            "grid_gap": null,
            "max_width": null,
            "order": null,
            "_view_module_version": "1.2.0",
            "grid_template_areas": null,
            "object_position": null,
            "object_fit": null,
            "grid_auto_columns": null,
            "margin": null,
            "display": null,
            "left": null
          }
        }
      }
    }
  },
  "cells": [
    {
      "cell_type": "code",
      "metadata": {
        "colab": {
          "base_uri": "https://localhost:8080/"
        },
        "id": "roJVjC8AU6y9",
        "outputId": "03c5ee56-99d2-4a13-f705-26859938fdf9"
      },
      "source": [
        "from google.colab import drive\n",
        "drive.mount('/content/gdrive')"
      ],
      "execution_count": 1,
      "outputs": [
        {
          "output_type": "stream",
          "name": "stdout",
          "text": [
            "Mounted at /content/gdrive\n"
          ]
        }
      ]
    },
    {
      "cell_type": "code",
      "metadata": {
        "id": "O5BZK2Oudxw5"
      },
      "source": [
        "!pip install contractions"
      ],
      "execution_count": null,
      "outputs": []
    },
    {
      "cell_type": "code",
      "metadata": {
        "id": "mf1aiVREMEi9"
      },
      "source": [
        "!pip install transformers"
      ],
      "execution_count": null,
      "outputs": []
    },
    {
      "cell_type": "code",
      "metadata": {
        "id": "x6Kx4BAWSLls"
      },
      "source": [
        "import pandas as pd\n",
        "import re\n",
        "import contractions\n",
        "import tensorflow as tf\n",
        "from transformers import BertTokenizer, TFBertModel\n",
        "import numpy as np\n",
        "from datetime import date"
      ],
      "execution_count": 4,
      "outputs": []
    },
    {
      "cell_type": "code",
      "metadata": {
        "id": "1EcoHpz6ybzu"
      },
      "source": [
        "interactions = pd.read_excel('/content/gdrive/MyDrive/Colab Notebooks/interactions.xlsx', index_col=0)\n",
        "sales = pd.read_excel('/content/gdrive/MyDrive/Colab Notebooks/sales-pipeline.xlsx', index_col=0)"
      ],
      "execution_count": 6,
      "outputs": []
    },
    {
      "cell_type": "code",
      "metadata": {
        "id": "rsSvIiXR7Ard"
      },
      "source": [
        "min_date = sales['Created Date'].min()\n",
        "max_date = sales['Close Date'].max()"
      ],
      "execution_count": 7,
      "outputs": []
    },
    {
      "cell_type": "code",
      "metadata": {
        "id": "jFDHL4908E6T"
      },
      "source": [
        "interactions = interactions[(interactions['InteractionDate']>min_date) & (interactions['InteractionDate']<max_date)]"
      ],
      "execution_count": 8,
      "outputs": []
    },
    {
      "cell_type": "markdown",
      "metadata": {
        "id": "UlMixYvcXJiO"
      },
      "source": [
        "We sort the interaction date in such way that the recent interactions are shown first, because the sales close depends on the final interacion, if the final interaction is positive then deal is tend to end positive."
      ]
    },
    {
      "cell_type": "code",
      "metadata": {
        "id": "c8TW1snNUrQB"
      },
      "source": [
        "interactions = interactions.sort_values(by=\"InteractionDate\", ascending=False)"
      ],
      "execution_count": 9,
      "outputs": []
    },
    {
      "cell_type": "markdown",
      "metadata": {
        "id": "Gl5tsTcDXP4r"
      },
      "source": [
        "We only get the final interaction that happened between the sales agent and customer. To get only that data we remove all the prior interactions happened between them and keep only the last one.\n",
        "\n",
        "To do this we create a new column that joins sales agent email and user email. When we remove all the duplicates based on that column, we will only have the last interaction between each pair."
      ]
    },
    {
      "cell_type": "code",
      "metadata": {
        "id": "KjY2ROTBS9tV"
      },
      "source": [
        "interactions[\"sales_user\"] = interactions[\"fromEmailId\"] + interactions[\"toEmailId\"]"
      ],
      "execution_count": 10,
      "outputs": []
    },
    {
      "cell_type": "code",
      "metadata": {
        "id": "AEfNmoL5UdIS"
      },
      "source": [
        "interactions.drop_duplicates(subset=['sales_user'],inplace=True)\n",
        "interactions.drop(['sales_user'], axis=1, inplace=True)"
      ],
      "execution_count": 11,
      "outputs": []
    },
    {
      "cell_type": "code",
      "metadata": {
        "id": "l8nkM6_nXQo1"
      },
      "source": [
        "new_data =  pd.merge(sales,interactions,  how='left', left_on=['SalesAgentEmailID','ContactEmailID'], right_on = ['fromEmailId','toEmailId'])"
      ],
      "execution_count": 12,
      "outputs": []
    },
    {
      "cell_type": "markdown",
      "metadata": {
        "id": "eGiT6dkqYf0N"
      },
      "source": [
        "The same way when we join both interactions and sales table,some duplicate tables will be created. So we only keep one row for each sales and user combination. We create a new column that concatenates sales and user email and we then remove all the duplicate entries.Once the use of column is done, we remove that too."
      ]
    },
    {
      "cell_type": "code",
      "metadata": {
        "id": "HcEmtjGfQ6xU"
      },
      "source": [
        "new_data[\"sales_user\"] = new_data[\"SalesAgentEmailID\"] + new_data[\"ContactEmailID\"]"
      ],
      "execution_count": 13,
      "outputs": []
    },
    {
      "cell_type": "code",
      "metadata": {
        "id": "OqdQBQ_rWAya"
      },
      "source": [
        "new_data.drop_duplicates(subset=['sales_user'],inplace=True)\n",
        "new_data.drop(['sales_user'],axis=1,inplace=True)"
      ],
      "execution_count": 14,
      "outputs": []
    },
    {
      "cell_type": "code",
      "metadata": {
        "colab": {
          "base_uri": "https://localhost:8080/"
        },
        "id": "5NDY9-7LWIO6",
        "outputId": "a2524245-5420-4b33-d50c-b83167b011ed"
      },
      "source": [
        "new_data.shape"
      ],
      "execution_count": 15,
      "outputs": [
        {
          "output_type": "execute_result",
          "data": {
            "text/plain": [
              "(1744, 15)"
            ]
          },
          "metadata": {},
          "execution_count": 15
        }
      ]
    },
    {
      "cell_type": "code",
      "metadata": {
        "id": "gft5qnQ1d9BU"
      },
      "source": [
        "def contraction_fix(text):\n",
        "  expanded_words = [contractions.fix(x) for x in text.split()]\n",
        "  word =  ' '.join(expanded_words)\n",
        "  return ' '.join(re.findall(\"[a-zA-Z]+\", word))"
      ],
      "execution_count": 16,
      "outputs": []
    },
    {
      "cell_type": "code",
      "metadata": {
        "id": "mnRMj1-GfGOy"
      },
      "source": [
        "new_data['Extracted Interaction Text'] = new_data['Extracted Interaction Text'].apply(contraction_fix)"
      ],
      "execution_count": 17,
      "outputs": []
    },
    {
      "cell_type": "markdown",
      "metadata": {
        "id": "VvIkQe15JUbt"
      },
      "source": [
        "We are gonna split our data into two based on the deals that are closed and the deals that are still in progress"
      ]
    },
    {
      "cell_type": "code",
      "metadata": {
        "id": "0MxiJ0OfJe6i"
      },
      "source": [
        "data_progress = new_data[new_data['Deal_Stage'] == 'In Progress']"
      ],
      "execution_count": 18,
      "outputs": []
    },
    {
      "cell_type": "code",
      "metadata": {
        "id": "ekzPeVUv9mDS"
      },
      "source": [
        "data_progress.reset_index(inplace = True, drop = True)"
      ],
      "execution_count": null,
      "outputs": []
    },
    {
      "cell_type": "markdown",
      "metadata": {
        "id": "3qNkeB4RJ8rF"
      },
      "source": [
        "We are gonna use the deal_stage column to create response_label column which will have binary value. If the deal is Won the response_type for that interaction will be 1 else 0."
      ]
    },
    {
      "cell_type": "code",
      "metadata": {
        "id": "TIKpMSTXJ7xk"
      },
      "source": [
        "data_closed = new_data[new_data['Deal_Stage'] != 'In Progress']"
      ],
      "execution_count": 19,
      "outputs": []
    },
    {
      "cell_type": "code",
      "metadata": {
        "id": "PG9rIRMN9nxN"
      },
      "source": [
        "data_closed.reset_index(inplace = True, drop = True)"
      ],
      "execution_count": null,
      "outputs": []
    },
    {
      "cell_type": "code",
      "metadata": {
        "id": "KPki51ixJ2tz"
      },
      "source": [
        "def response_type(deal):\n",
        "  if deal == 'Won':\n",
        "    return 1\n",
        "  else:\n",
        "    return 0"
      ],
      "execution_count": 20,
      "outputs": []
    },
    {
      "cell_type": "code",
      "metadata": {
        "id": "DJFLeoSJKuGT"
      },
      "source": [
        "data_closed['response_label'] = data_closed['Deal_Stage'].apply(response_type)"
      ],
      "execution_count": null,
      "outputs": []
    },
    {
      "cell_type": "markdown",
      "metadata": {
        "id": "Yrl-d-v7LpjD"
      },
      "source": [
        "We are now gonna train BERT model using the Extracted Interaction Text and response_label. "
      ]
    },
    {
      "cell_type": "code",
      "metadata": {
        "colab": {
          "base_uri": "https://localhost:8080/",
          "height": 145,
          "referenced_widgets": [
            "145f9b6c5e524a298429b4b1486d5cff",
            "3c4d6bd1372c499bb1e03a7140c69e3c",
            "ac38d5d1b1ce468ba30d0a9b2e366a3c",
            "16c8039733a048bc83d73d42cf0a03b9",
            "f93b58f23def49659056cedd5e319be5",
            "6da6167b1a804448a13023994a77a172",
            "235da0479611408c8e06b0be0a1e2a3f",
            "c87dea2c0b6f4d76b86c8ebe71f0cadf",
            "704e593bfc3846209247b0917e572eb6",
            "4f5be5b2b27e43c5a2c037338c5a0d87",
            "7fcc984a947244359bc16c055a03ec91",
            "10c95dfec881461591cb74dd7a4dd1c5",
            "6080b7461fa14a9d881401e19711f665",
            "295cbc26e6cc4d5eacc2abe07a74d761",
            "cbab5dad771345d5b46d6a8cb9808283",
            "3c6fb4adc1dc43e38daebf7c40f9b3ec",
            "27e60f552d5744a59c6d6b9f1a22c84d",
            "5835663c30ef46d69d5c289f27bf6731",
            "8b96f31d3feb4408af9f831e0ca976e9",
            "c1e1ead0bec840e69639452ed9e6b59e",
            "dee9565e7a9e448cb7732e921a145aec",
            "bf19fa1ba09841f185f177fe9852caed",
            "e8e617f5e3a1488bacd9edce508937b4",
            "f9b8bd82c49d45fd8c77fa8ea7a0269e",
            "3147495154fd4142a2bb76476ae3620f",
            "0d29249a82a34591b4f11d1996a0e7a4",
            "d47001707dcf40068452b145af70f896",
            "9bda596a7d4d441c8480add5f56cdd5f",
            "6264db3c13f6429e85bea44f5cdd7134",
            "46305e493c574af8ae8b25035abcca44",
            "ead924cd52fe46adb4ed0f7c6af317b0",
            "65d8ae98bba9488e93afbae2c2c07aa1",
            "af885bee38fb4d10a1b7db37f21b7e8d",
            "983a8c6ff702474b89d2edb0a5133ea0",
            "a4158f0d1185448b97c875a0bafb5d65",
            "8f173fd0c3314a05a78143a0586cc463",
            "43143f2faf8c41be828f18fc7b5e28e8",
            "36db2a1c1d994d718f6530a282363661",
            "057102a023a7418791ab1c668119362b",
            "d2a95070d83748998b6205c666a541dc",
            "2deae5c6cb1c47cbb5dcf24e88135519",
            "f13bf62712ba453c9da7246bce7694f4",
            "a57cf67e60c04809b73a67791e371bb4",
            "603eaa82efd64721a6525db1426d0614"
          ]
        },
        "id": "73LGlNk-Losz",
        "outputId": "7d649765-6f4c-4bbc-f0db-5882a2f6a4b5"
      },
      "source": [
        "model_name = 'bert-base-multilingual-cased'\n",
        "tokenizer = BertTokenizer.from_pretrained(model_name)"
      ],
      "execution_count": 22,
      "outputs": [
        {
          "output_type": "display_data",
          "data": {
            "application/vnd.jupyter.widget-view+json": {
              "model_id": "145f9b6c5e524a298429b4b1486d5cff",
              "version_minor": 0,
              "version_major": 2
            },
            "text/plain": [
              "Downloading:   0%|          | 0.00/996k [00:00<?, ?B/s]"
            ]
          },
          "metadata": {}
        },
        {
          "output_type": "display_data",
          "data": {
            "application/vnd.jupyter.widget-view+json": {
              "model_id": "10c95dfec881461591cb74dd7a4dd1c5",
              "version_minor": 0,
              "version_major": 2
            },
            "text/plain": [
              "Downloading:   0%|          | 0.00/29.0 [00:00<?, ?B/s]"
            ]
          },
          "metadata": {}
        },
        {
          "output_type": "display_data",
          "data": {
            "application/vnd.jupyter.widget-view+json": {
              "model_id": "e8e617f5e3a1488bacd9edce508937b4",
              "version_minor": 0,
              "version_major": 2
            },
            "text/plain": [
              "Downloading:   0%|          | 0.00/1.96M [00:00<?, ?B/s]"
            ]
          },
          "metadata": {}
        },
        {
          "output_type": "display_data",
          "data": {
            "application/vnd.jupyter.widget-view+json": {
              "model_id": "983a8c6ff702474b89d2edb0a5133ea0",
              "version_minor": 0,
              "version_major": 2
            },
            "text/plain": [
              "Downloading:   0%|          | 0.00/625 [00:00<?, ?B/s]"
            ]
          },
          "metadata": {}
        }
      ]
    },
    {
      "cell_type": "code",
      "metadata": {
        "id": "xjBX41HYLJDC"
      },
      "source": [
        "def encode_sentence(s):\n",
        "   tokens = list(tokenizer.tokenize(s))\n",
        "   tokens.append('[SEP]')\n",
        "   return tokenizer.convert_tokens_to_ids(tokens)"
      ],
      "execution_count": 23,
      "outputs": []
    },
    {
      "cell_type": "code",
      "metadata": {
        "id": "MczzSxueMSfd"
      },
      "source": [
        "def bert_encode(text):\n",
        "    num_examples = len(text)\n",
        "\n",
        "    sentence1 = tf.ragged.constant([encode_sentence(s) for s in np.array(text)])\n",
        "\n",
        "    input_word_ids = tf.concat([sentence1], axis=-1)\n",
        "\n",
        "    input_mask = tf.ones_like(input_word_ids).to_tensor()\n",
        "\n",
        "    type_s1 = tf.zeros_like(sentence1)\n",
        "    input_type_ids = tf.concat(\n",
        "    [type_s1], axis=-1).to_tensor()\n",
        "    \n",
        "    inputs = {\n",
        "    'input_word_ids': input_word_ids.to_tensor(),\n",
        "    'input_mask': input_mask,\n",
        "    'input_type_ids': input_type_ids\n",
        "    }\n",
        "\n",
        "    return inputs"
      ],
      "execution_count": 24,
      "outputs": []
    },
    {
      "cell_type": "code",
      "metadata": {
        "id": "BSJHmHG-LQJW"
      },
      "source": [
        "train_input = bert_encode(data_closed['Extracted Interaction Text'].values)"
      ],
      "execution_count": 25,
      "outputs": []
    },
    {
      "cell_type": "code",
      "metadata": {
        "colab": {
          "base_uri": "https://localhost:8080/"
        },
        "id": "ShwrXn-aOYM7",
        "outputId": "f9fd62c1-3adb-4b7a-a49e-2079aaf0de06"
      },
      "source": [
        "train_input.keys()"
      ],
      "execution_count": 26,
      "outputs": [
        {
          "output_type": "execute_result",
          "data": {
            "text/plain": [
              "dict_keys(['input_word_ids', 'input_mask', 'input_type_ids'])"
            ]
          },
          "metadata": {},
          "execution_count": 26
        }
      ]
    },
    {
      "cell_type": "code",
      "metadata": {
        "id": "guZglxX-O4ul"
      },
      "source": [
        "def build_model():\n",
        "    bert_encoder = TFBertModel.from_pretrained(model_name)\n",
        "    input_word_ids = tf.keras.Input(shape=(None,), dtype=tf.int32, name=\"input_word_ids\")\n",
        "    input_mask = tf.keras.Input(shape=(None,), dtype=tf.int32, name=\"input_mask\")\n",
        "    input_type_ids = tf.keras.Input(shape=(None,), dtype=tf.int32, name=\"input_type_ids\")\n",
        "    \n",
        "    embedding = bert_encoder([input_word_ids, input_mask, input_type_ids])[0]\n",
        "    output = tf.keras.layers.Dense(3, activation='softmax')(embedding[:,0,:])\n",
        "    \n",
        "    model = tf.keras.Model(inputs=[input_word_ids, input_mask, input_type_ids], outputs=output)\n",
        "    model.compile(tf.keras.optimizers.Adam(lr=1e-5), loss='sparse_categorical_crossentropy', metrics=['accuracy'])\n",
        "    return model"
      ],
      "execution_count": 27,
      "outputs": []
    },
    {
      "cell_type": "code",
      "metadata": {
        "id": "e6Pm08gmO8DQ"
      },
      "source": [
        "model = build_model()"
      ],
      "execution_count": null,
      "outputs": []
    },
    {
      "cell_type": "code",
      "metadata": {
        "colab": {
          "base_uri": "https://localhost:8080/"
        },
        "id": "OG3CC4KrQGyX",
        "outputId": "f42a8f7e-1c81-4db9-f459-9c34f1d9aa22"
      },
      "source": [
        "model.summary()"
      ],
      "execution_count": 29,
      "outputs": [
        {
          "output_type": "stream",
          "name": "stdout",
          "text": [
            "Model: \"model\"\n",
            "__________________________________________________________________________________________________\n",
            "Layer (type)                    Output Shape         Param #     Connected to                     \n",
            "==================================================================================================\n",
            "input_word_ids (InputLayer)     [(None, None)]       0                                            \n",
            "__________________________________________________________________________________________________\n",
            "input_mask (InputLayer)         [(None, None)]       0                                            \n",
            "__________________________________________________________________________________________________\n",
            "input_type_ids (InputLayer)     [(None, None)]       0                                            \n",
            "__________________________________________________________________________________________________\n",
            "tf_bert_model (TFBertModel)     TFBaseModelOutputWit 177853440   input_word_ids[0][0]             \n",
            "                                                                 input_mask[0][0]                 \n",
            "                                                                 input_type_ids[0][0]             \n",
            "__________________________________________________________________________________________________\n",
            "tf.__operators__.getitem (Slici (None, 768)          0           tf_bert_model[0][0]              \n",
            "__________________________________________________________________________________________________\n",
            "dense (Dense)                   (None, 3)            2307        tf.__operators__.getitem[0][0]   \n",
            "==================================================================================================\n",
            "Total params: 177,855,747\n",
            "Trainable params: 177,855,747\n",
            "Non-trainable params: 0\n",
            "__________________________________________________________________________________________________\n"
          ]
        }
      ]
    },
    {
      "cell_type": "code",
      "metadata": {
        "id": "18D4APa2O-2Y"
      },
      "source": [
        "model.fit(train_input, data_closed.response_label.values, epochs = 6, verbose = 1, batch_size = 64, validation_split = 0.2)"
      ],
      "execution_count": null,
      "outputs": []
    },
    {
      "cell_type": "code",
      "metadata": {
        "id": "Fad6J2l9hHcP"
      },
      "source": [
        "test_input = bert_encode(data_progress['Extracted Interaction Text'])"
      ],
      "execution_count": 31,
      "outputs": []
    },
    {
      "cell_type": "code",
      "metadata": {
        "colab": {
          "base_uri": "https://localhost:8080/"
        },
        "id": "zLuwZqizhQt8",
        "outputId": "0263e215-79f6-4d50-a7b9-630282a8db5c"
      },
      "source": [
        "test_input.keys()"
      ],
      "execution_count": 32,
      "outputs": [
        {
          "output_type": "execute_result",
          "data": {
            "text/plain": [
              "dict_keys(['input_word_ids', 'input_mask', 'input_type_ids'])"
            ]
          },
          "metadata": {},
          "execution_count": 32
        }
      ]
    },
    {
      "cell_type": "code",
      "metadata": {
        "id": "XkX1_kOtgvkR"
      },
      "source": [
        "data_progress['response_label'] = [np.argmax(i) for i in model.predict(test_input)]"
      ],
      "execution_count": null,
      "outputs": []
    },
    {
      "cell_type": "code",
      "metadata": {
        "colab": {
          "base_uri": "https://localhost:8080/"
        },
        "id": "SPtgrb3xg1S8",
        "outputId": "76656f0c-826e-426f-8e4f-3b6b5f56b9ed"
      },
      "source": [
        "data_progress['response_label'].value_counts()"
      ],
      "execution_count": 34,
      "outputs": [
        {
          "output_type": "execute_result",
          "data": {
            "text/plain": [
              "1    846\n",
              "0     85\n",
              "Name: response_label, dtype: int64"
            ]
          },
          "metadata": {},
          "execution_count": 34
        }
      ]
    },
    {
      "cell_type": "markdown",
      "metadata": {
        "id": "h2aLApEFkNA2"
      },
      "source": [
        "Now we have a proper train and test data that also has NLP included in it. As we have extracted a new feature from the NLP text, we don't need that anymore."
      ]
    },
    {
      "cell_type": "code",
      "metadata": {
        "id": "5nITowRxkMzV"
      },
      "source": [
        "data_closed.drop(['Extracted Interaction Text'], axis=1, inplace=True)\n",
        "data_progress.drop(['Extracted Interaction Text'], axis=1, inplace=True)"
      ],
      "execution_count": null,
      "outputs": []
    },
    {
      "cell_type": "markdown",
      "metadata": {
        "id": "to0Cs6Qrn6Zr"
      },
      "source": [
        "We are going to create a new feature as age of sales, this is the difference between the sales start date and current date, 01 June 2019(as per pdf)"
      ]
    },
    {
      "cell_type": "code",
      "metadata": {
        "id": "OQmSsS6Zn5u5"
      },
      "source": [
        "def date_diff(start_date):\n",
        "  present_date = date(2019,6,1)\n",
        "  return (present_date - start_date.date()).days"
      ],
      "execution_count": 37,
      "outputs": []
    },
    {
      "cell_type": "code",
      "metadata": {
        "id": "PaIR36ZgkKJ4"
      },
      "source": [
        "data_progress['Deal_Age'] = data_progress['Created Date'].apply(date_diff)\n",
        "data_closed['Deal_Age'] = data_closed['Created Date'].apply(date_diff)"
      ],
      "execution_count": null,
      "outputs": []
    },
    {
      "cell_type": "markdown",
      "metadata": {
        "id": "Cgz8Tp0T4gdq"
      },
      "source": [
        "We can not directly use the datetime field. We are going to process both Close and Create dates. We are going to extract the month and day of the week on which the sales were created and closed."
      ]
    },
    {
      "cell_type": "code",
      "metadata": {
        "id": "j0qnJGXUwD8K"
      },
      "source": [
        "data_progress['Create_month'] = data_progress['Created Date'].dt.month\n",
        "data_progress['Close_month']  = data_progress['Close Date'].dt.month\n",
        "data_progress['Create_day']   = data_progress['Created Date'].dt.dayofweek\n",
        "data_progress['Close_day']    = data_progress['Close Date'].dt.dayofweek\n",
        "data_progress['Close_year']   = data_progress['Close_Date'].dt.year "
      ],
      "execution_count": null,
      "outputs": []
    },
    {
      "cell_type": "code",
      "metadata": {
        "id": "IhgHoJZ73o_I"
      },
      "source": [
        "data_closed['Create_month'] = data_closed['Created Date'].dt.month\n",
        "data_closed['Close_month']  = data_closed['Close Date'].dt.month\n",
        "data_closed['Create_day']   = data_closed['Created Date'].dt.dayofweek\n",
        "data_closed['Close_day']    = data_closed['Close Date'].dt.dayofweek"
      ],
      "execution_count": null,
      "outputs": []
    },
    {
      "cell_type": "markdown",
      "metadata": {
        "id": "kw-Vvk5k3zO2"
      },
      "source": [
        "We are gonna drop the columns that we are not gonna use for sure. "
      ]
    },
    {
      "cell_type": "code",
      "metadata": {
        "id": "6EVzpttG4Bdq"
      },
      "source": [
        "data_closed.drop(['Opportunity_ID',\t'SalesAgentEmailID',\t'ContactEmailID',\t'Created Date',\t'Close Date','fromEmailId',\t'toEmailId',\t'InteractionDate'], axis=1, inplace=True)\n",
        "data_progress.drop(['Opportunity_ID',\t'SalesAgentEmailID',\t'ContactEmailID',\t'Created Date',\t'Close Date','fromEmailId',\t'toEmailId',\t'InteractionDate'], axis=1, inplace=True)"
      ],
      "execution_count": null,
      "outputs": []
    },
    {
      "cell_type": "code",
      "metadata": {
        "id": "REL6TJEY6wPT"
      },
      "source": [
        "import matplotlib.pyplot as plt\n",
        "from sklearn.ensemble import RandomForestClassifier\n",
        "from sklearn.model_selection import train_test_split\n",
        "from sklearn.metrics import f1_score,confusion_matrix,classification_report\n",
        "from sklearn.metrics import accuracy_score\n",
        "from sklearn.feature_selection import RFECV\n",
        "from sklearn.preprocessing import LabelEncoder"
      ],
      "execution_count": 47,
      "outputs": []
    },
    {
      "cell_type": "markdown",
      "metadata": {
        "id": "MV9svC2q6w6z"
      },
      "source": [
        "Encode all the columns to in such a way that it can be used inside ML model."
      ]
    },
    {
      "cell_type": "code",
      "metadata": {
        "id": "6irLvxE_7Nk6"
      },
      "source": [
        "le = LabelEncoder()"
      ],
      "execution_count": 48,
      "outputs": []
    },
    {
      "cell_type": "code",
      "metadata": {
        "id": "CHxnwhcVm1RN"
      },
      "source": [
        "data_closed['InteractionType(Call/Email/SMS)'] = le.fit_transform(data_closed['InteractionType(Call/Email/SMS)']) \n",
        "data_progress['InteractionType(Call/Email/SMS)'] = le.fit_transform(data_progress['InteractionType(Call/Email/SMS)']) "
      ],
      "execution_count": null,
      "outputs": []
    },
    {
      "cell_type": "code",
      "metadata": {
        "id": "Eq9sQ8nEnfw8"
      },
      "source": [
        "data_closed['Deal_Stage'] = le.fit_transform(data_closed['Deal_Stage']) "
      ],
      "execution_count": null,
      "outputs": []
    },
    {
      "cell_type": "code",
      "metadata": {
        "id": "if0LARLan8jP"
      },
      "source": [
        "data_closed['Sales_Agent'] = le.fit_transform(data_closed['Sales_Agent']) \n",
        "data_progress['Sales_Agent'] = le.fit_transform(data_progress['Sales_Agent']) \n",
        "\n",
        "data_closed['Product'] = le.fit_transform(data_closed['Product']) \n",
        "data_progress['Product'] = le.fit_transform(data_progress['Product']) "
      ],
      "execution_count": null,
      "outputs": []
    },
    {
      "cell_type": "code",
      "metadata": {
        "colab": {
          "base_uri": "https://localhost:8080/"
        },
        "id": "dZKJtoqLoVJo",
        "outputId": "c44e8ee9-863d-4997-cfea-ba513c6f7413"
      },
      "source": [
        "data_closed.info()"
      ],
      "execution_count": 58,
      "outputs": [
        {
          "output_type": "stream",
          "name": "stdout",
          "text": [
            "<class 'pandas.core.frame.DataFrame'>\n",
            "Int64Index: 813 entries, 0 to 7547\n",
            "Data columns (total 12 columns):\n",
            " #   Column                           Non-Null Count  Dtype\n",
            "---  ------                           --------------  -----\n",
            " 0   Sales_Agent                      813 non-null    int64\n",
            " 1   Deal_Stage                       813 non-null    int64\n",
            " 2   Product                          813 non-null    int64\n",
            " 3   Close_Value                      813 non-null    int64\n",
            " 4   DateDiff                         813 non-null    int64\n",
            " 5   InteractionType(Call/Email/SMS)  813 non-null    int64\n",
            " 6   response_label                   813 non-null    int64\n",
            " 7   Deal_Age                         813 non-null    int64\n",
            " 8   Create_month                     813 non-null    int64\n",
            " 9   Close_month                      813 non-null    int64\n",
            " 10  Create_day                       813 non-null    int64\n",
            " 11  Close_day                        813 non-null    int64\n",
            "dtypes: int64(12)\n",
            "memory usage: 82.6 KB\n"
          ]
        }
      ]
    },
    {
      "cell_type": "markdown",
      "metadata": {
        "id": "rk2R0jbEobN5"
      },
      "source": [
        "We have successfully Converted all our data to int data type."
      ]
    },
    {
      "cell_type": "markdown",
      "metadata": {
        "id": "dFpuRO4l5_ox"
      },
      "source": [
        "Feature importance Analysis.We are gonna use Random Forest Classifier for this"
      ]
    },
    {
      "cell_type": "code",
      "metadata": {
        "id": "WKravEr66guq"
      },
      "source": [
        "X = data_closed.drop(['Deal_Stage'], axis=1) \n",
        "y = data_closed['Deal_Stage']"
      ],
      "execution_count": 59,
      "outputs": []
    },
    {
      "cell_type": "code",
      "metadata": {
        "id": "NoSjBjaa5-9L",
        "colab": {
          "base_uri": "https://localhost:8080/"
        },
        "outputId": "fc76e2e4-9cbe-4832-882a-3bacbd25cde5"
      },
      "source": [
        "X_train, X_test, y_train, y_test = train_test_split(X, y, test_size=0.20, \n",
        "                                                    random_state=101)\n",
        "\n",
        "clf_rf = RandomForestClassifier(random_state=43)      \n",
        "clr_rf = clf_rf.fit(X_train,y_train)\n",
        "pred = clf_rf.predict(X_test)\n",
        "ac = accuracy_score(y_test,pred)\n",
        "print('Accuracy is: ',ac)"
      ],
      "execution_count": 60,
      "outputs": [
        {
          "output_type": "stream",
          "name": "stdout",
          "text": [
            "Accuracy is:  1.0\n"
          ]
        }
      ]
    },
    {
      "cell_type": "markdown",
      "metadata": {
        "id": "S5Ha2romo64E"
      },
      "source": [
        "Our accuracy here is 100% this is because we are doing in-sample test. This results in over-fitting, but over here it is okay to have 100% accurasy because,we are not going to use this model. This is only for feature analysis purpose."
      ]
    },
    {
      "cell_type": "code",
      "metadata": {
        "id": "OWPlti7J68o7",
        "colab": {
          "base_uri": "https://localhost:8080/",
          "height": 1000
        },
        "outputId": "46133e75-f6d0-4ee9-8274-751c336dc22c"
      },
      "source": [
        "clf_rf_5 = RandomForestClassifier()      \n",
        "clr_rf_5 = clf_rf_5.fit(X_train,y_train)\n",
        "importances = clr_rf_5.feature_importances_\n",
        "std = np.std([tree.feature_importances_ for tree in clf_rf.estimators_],\n",
        "             axis=0)\n",
        "indices = np.argsort(importances)[::-1]\n",
        "\n",
        "# Print the feature ranking\n",
        "print(\"Feature ranking:\")\n",
        "\n",
        "for f in range(X_train.shape[1]):\n",
        "    print(\"%d. feature %d (%f)\" % (f + 1, indices[f], importances[indices[f]]))\n",
        "\n",
        "# Plot the feature importances of the forest\n",
        "\n",
        "plt.figure(1, figsize=(14, 13))\n",
        "plt.title(\"Feature importances\")\n",
        "plt.bar(range(X_train.shape[1]), importances[indices],\n",
        "       color=\"g\", yerr=std[indices], align=\"center\")\n",
        "plt.xticks(range(X_train.shape[1]), X_train.columns[indices],rotation=90)\n",
        "plt.xlim([-1, X_train.shape[1]])\n",
        "plt.show()"
      ],
      "execution_count": 61,
      "outputs": [
        {
          "output_type": "stream",
          "name": "stdout",
          "text": [
            "Feature ranking:\n",
            "1. feature 5 (0.805085)\n",
            "2. feature 2 (0.055461)\n",
            "3. feature 6 (0.045577)\n",
            "4. feature 3 (0.017255)\n",
            "5. feature 1 (0.016979)\n",
            "6. feature 0 (0.016621)\n",
            "7. feature 7 (0.011831)\n",
            "8. feature 8 (0.010575)\n",
            "9. feature 10 (0.009594)\n",
            "10. feature 9 (0.007095)\n",
            "11. feature 4 (0.003926)\n"
          ]
        },
        {
          "output_type": "display_data",
          "data": {
            "image/png": "[encoded data removed]",
            "text/plain": [
              "<Figure size 1008x936 with 1 Axes>"
            ]
          },
          "metadata": {
            "needs_background": "light"
          }
        }
      ]
    },
    {
      "cell_type": "markdown",
      "metadata": {
        "id": "UHyKB8-apmnT"
      },
      "source": [
        "Over here we can see that our response_label that we extracted using NLP data as the highest feature importance. So we are going to use all the features to train our actual Model."
      ]
    },
    {
      "cell_type": "code",
      "metadata": {
        "id": "SZvJ83cwqHm8"
      },
      "source": [
        "!pip install catboost"
      ],
      "execution_count": null,
      "outputs": []
    },
    {
      "cell_type": "markdown",
      "metadata": {
        "id": "wc38CAMzxmq5"
      },
      "source": [
        "We are gonna use multiple Binary Classification models."
      ]
    },
    {
      "cell_type": "code",
      "metadata": {
        "id": "vH4e-oZGp1Un"
      },
      "source": [
        "from sklearn.linear_model import LogisticRegression\n",
        "from sklearn.ensemble import GradientBoostingClassifier\n",
        "from sklearn.tree import DecisionTreeClassifier\n",
        "from sklearn.ensemble import RandomForestClassifier\n",
        "from catboost import CatBoostClassifier\n",
        "from lightgbm import LGBMClassifier"
      ],
      "execution_count": 67,
      "outputs": []
    },
    {
      "cell_type": "markdown",
      "metadata": {
        "id": "MUNbAv0x6CNn"
      },
      "source": [
        "We have to drop the Deal_Stage and Close_year from the data_progress as Deal_Stage is what we want to predict and the year feature does not impact the target so much."
      ]
    },
    {
      "cell_type": "code",
      "metadata": {
        "id": "T-Tyaa1gtcEv"
      },
      "source": [
        "X = data_closed.drop(['Deal_Stage'], axis=1) \n",
        "y = data_closed['Deal_Stage']\n",
        "X_test = data_progress.drop(['Deal_Stage','Close_year'], axis=1)"
      ],
      "execution_count": 73,
      "outputs": []
    },
    {
      "cell_type": "code",
      "metadata": {
        "id": "mYDgQGtbs6Qc"
      },
      "source": [
        "def model_selection(X, y, X_test,model):\n",
        "    model = model()\n",
        "    model.fit(X, y)\n",
        "    pred = model.predict(X_test)\n",
        "    return pred"
      ],
      "execution_count": 101,
      "outputs": []
    },
    {
      "cell_type": "code",
      "metadata": {
        "id": "x_Jigf_ywNZR"
      },
      "source": [
        "solutions = pd.DataFrame()"
      ],
      "execution_count": 99,
      "outputs": []
    },
    {
      "cell_type": "code",
      "metadata": {
        "id": "pHN0rDP9vKlm"
      },
      "source": [
        "logistic_regression = model_selection(X, y, X_test, LogisticRegression)\n",
        "solutions['log_reg'] = logistic_regression"
      ],
      "execution_count": null,
      "outputs": []
    },
    {
      "cell_type": "code",
      "metadata": {
        "id": "iIQ7ormEwxYc"
      },
      "source": [
        "gradient_boosting = model_selection(X, y, X_test, GradientBoostingClassifier)\n",
        "solutions['gb'] = gradient_boosting"
      ],
      "execution_count": 103,
      "outputs": []
    },
    {
      "cell_type": "code",
      "metadata": {
        "id": "ALU2i6iAvZDI"
      },
      "source": [
        "decision_tree = model_selection(X, y, X_test, DecisionTreeClassifier)\n",
        "solutions['d_tress'] = decision_tree"
      ],
      "execution_count": 104,
      "outputs": []
    },
    {
      "cell_type": "code",
      "metadata": {
        "id": "uEkrlqP_xKpw"
      },
      "source": [
        "random_forest = model_selection(X, y, X_test, RandomForestClassifier)\n",
        "solutions['r_forest'] = random_forest"
      ],
      "execution_count": 106,
      "outputs": []
    },
    {
      "cell_type": "code",
      "metadata": {
        "id": "fF6bHKT_xU3a"
      },
      "source": [
        "catboost = model_selection(X, y, X_test, CatBoostClassifier)\n",
        "solutions['catboost'] = catboost"
      ],
      "execution_count": null,
      "outputs": []
    },
    {
      "cell_type": "markdown",
      "metadata": {
        "id": "g1o8UQwHxsch"
      },
      "source": [
        "We are going to select the best model out of all based on the output consistensy"
      ]
    },
    {
      "cell_type": "code",
      "metadata": {
        "colab": {
          "base_uri": "https://localhost:8080/"
        },
        "id": "1rAJkkAgxr2S",
        "outputId": "ab9a62cb-abc3-4d3b-b574-171e630c6739"
      },
      "source": [
        "solutions['log_reg'].value_counts()"
      ],
      "execution_count": 109,
      "outputs": [
        {
          "output_type": "execute_result",
          "data": {
            "text/plain": [
              "1    846\n",
              "0     85\n",
              "Name: log_reg, dtype: int64"
            ]
          },
          "metadata": {},
          "execution_count": 109
        }
      ]
    },
    {
      "cell_type": "code",
      "metadata": {
        "colab": {
          "base_uri": "https://localhost:8080/"
        },
        "id": "4OYKTDUQyOw0",
        "outputId": "fd179804-72a7-452d-d160-a13a6855e399"
      },
      "source": [
        "solutions['gb'].value_counts()"
      ],
      "execution_count": 110,
      "outputs": [
        {
          "output_type": "execute_result",
          "data": {
            "text/plain": [
              "1    846\n",
              "0     85\n",
              "Name: gb, dtype: int64"
            ]
          },
          "metadata": {},
          "execution_count": 110
        }
      ]
    },
    {
      "cell_type": "code",
      "metadata": {
        "colab": {
          "base_uri": "https://localhost:8080/"
        },
        "id": "Ayc2vzTDyOz9",
        "outputId": "4c8f9d86-ac6f-4378-ed3c-c3fe0ebee571"
      },
      "source": [
        "solutions['d_tress'].value_counts()"
      ],
      "execution_count": 113,
      "outputs": [
        {
          "output_type": "execute_result",
          "data": {
            "text/plain": [
              "1    846\n",
              "0     85\n",
              "Name: d_tress, dtype: int64"
            ]
          },
          "metadata": {},
          "execution_count": 113
        }
      ]
    },
    {
      "cell_type": "code",
      "metadata": {
        "colab": {
          "base_uri": "https://localhost:8080/"
        },
        "id": "8e3IOp0EycW9",
        "outputId": "862c884a-92f9-46a3-eda7-0bdce9a9afa5"
      },
      "source": [
        "solutions['r_forest'].value_counts()"
      ],
      "execution_count": 114,
      "outputs": [
        {
          "output_type": "execute_result",
          "data": {
            "text/plain": [
              "1    846\n",
              "0     85\n",
              "Name: r_forest, dtype: int64"
            ]
          },
          "metadata": {},
          "execution_count": 114
        }
      ]
    },
    {
      "cell_type": "code",
      "metadata": {
        "colab": {
          "base_uri": "https://localhost:8080/"
        },
        "id": "1NbSELsBycmP",
        "outputId": "30c6d227-aa67-497e-db6c-5f018d5e1cf5"
      },
      "source": [
        "solutions['catboost'].value_counts()"
      ],
      "execution_count": 115,
      "outputs": [
        {
          "output_type": "execute_result",
          "data": {
            "text/plain": [
              "1    846\n",
              "0     85\n",
              "Name: catboost, dtype: int64"
            ]
          },
          "metadata": {},
          "execution_count": 115
        }
      ]
    },
    {
      "cell_type": "markdown",
      "metadata": {
        "id": "4OX3ZW3wyrLk"
      },
      "source": [
        "To our Suprise all our model had predicted the Win/Lost in the same percentage.So we are going with the most sophisticated and least memory consuming model, Random Forest. "
      ]
    },
    {
      "cell_type": "code",
      "metadata": {
        "id": "gA0y2Q4H7fEk"
      },
      "source": [
        "data_progress['Deal_Stage'] = solutions['r_forest']"
      ],
      "execution_count": null,
      "outputs": []
    },
    {
      "cell_type": "markdown",
      "metadata": {
        "id": "8fNYZukBzO5b"
      },
      "source": [
        "Now we can go ahead and find the sales."
      ]
    },
    {
      "cell_type": "markdown",
      "metadata": {
        "id": "P4TWW41s3-un"
      },
      "source": [
        "First Problem : To find the Sales of next month after June, that is sales is July.\n"
      ]
    },
    {
      "cell_type": "markdown",
      "metadata": {
        "id": "WpE7cjbf5NqH"
      },
      "source": [
        "We get all the Sales that has close Month as July 2019. So that we can get the Won Sales for that month, sum the Close Value to get the Sales made that Month "
      ]
    },
    {
      "cell_type": "code",
      "metadata": {
        "id": "6TdIkKYo4tHP"
      },
      "source": [
        "data_july = data_progress[(data_progress['Close_year'] == 2019) & (data_progress['Close_month'] == 7)]"
      ],
      "execution_count": 182,
      "outputs": []
    },
    {
      "cell_type": "markdown",
      "metadata": {
        "id": "GgH3UQuP6899"
      },
      "source": [
        "data_july contains all deals that has closing month as july and year 2019. We then get all the Won Deal_Stage to find the sum of sales made this month"
      ]
    },
    {
      "cell_type": "code",
      "metadata": {
        "id": "Qk82US417PfP"
      },
      "source": [
        "sales_july = data_july[data_july['Deal_Stage'] == 1]['Close_Value'].sum()"
      ],
      "execution_count": 168,
      "outputs": []
    },
    {
      "cell_type": "markdown",
      "metadata": {
        "id": "JCAgrE-B-MIj"
      },
      "source": [
        "The Sales Made after One Month : 19,945"
      ]
    },
    {
      "cell_type": "markdown",
      "metadata": {
        "id": "MRKcWRRO-UyA"
      },
      "source": [
        "We have to now predict for Finanical Quarter, that is for upcoming three months after June, that is July, August, Spetember."
      ]
    },
    {
      "cell_type": "code",
      "metadata": {
        "id": "Qvti2nBI-Ljr"
      },
      "source": [
        "data_aug = data_progress[(data_progress['Close_year'] == 2019) & (data_progress['Close_month'] == 8)]"
      ],
      "execution_count": 159,
      "outputs": []
    },
    {
      "cell_type": "code",
      "metadata": {
        "id": "-myIlJiT66af"
      },
      "source": [
        "sales_aug = data_aug[data_aug['Deal_Stage'] == 1]['Close_Value'].sum()"
      ],
      "execution_count": 169,
      "outputs": []
    },
    {
      "cell_type": "markdown",
      "metadata": {
        "id": "YqKKk0wh_cNS"
      },
      "source": [
        "The Sales Made on August Month : 21,021"
      ]
    },
    {
      "cell_type": "code",
      "metadata": {
        "id": "asba2YHd_UAI"
      },
      "source": [
        "data_sep = data_progress[(data_progress['Close_year'] == 2019) & (data_progress['Close_month'] == 9)]"
      ],
      "execution_count": 166,
      "outputs": []
    },
    {
      "cell_type": "code",
      "metadata": {
        "id": "W8rfi1oc_UEq"
      },
      "source": [
        "sales_sep = data_sep[data_sep['Deal_Stage'] == 1]['Close_Value'].sum()"
      ],
      "execution_count": 170,
      "outputs": []
    },
    {
      "cell_type": "markdown",
      "metadata": {
        "id": "aL_mmzPR_r2e"
      },
      "source": [
        "The Sales Made on Septempber Month : 22,510"
      ]
    },
    {
      "cell_type": "markdown",
      "metadata": {
        "id": "A4CgEFGU__RU"
      },
      "source": [
        "Now, let's aggregate all three month sales to find the Quarter Financial Year Sale"
      ]
    },
    {
      "cell_type": "code",
      "metadata": {
        "id": "eFMEWOEw_UHw"
      },
      "source": [
        "Quarter_sale = (sales_july + sales_aug + sales_sep)"
      ],
      "execution_count": 172,
      "outputs": []
    },
    {
      "cell_type": "code",
      "metadata": {
        "colab": {
          "base_uri": "https://localhost:8080/"
        },
        "id": "fPsOaFEP_ULx",
        "outputId": "a20e8989-31da-4cc4-d139-4d5a40e49540"
      },
      "source": [
        "Quarter_sale"
      ],
      "execution_count": 173,
      "outputs": [
        {
          "output_type": "execute_result",
          "data": {
            "text/plain": [
              "63476"
            ]
          },
          "metadata": {},
          "execution_count": 173
        }
      ]
    },
    {
      "cell_type": "markdown",
      "metadata": {
        "id": "pBZgQwe9AxRg"
      },
      "source": [
        "The Quarter Financial Year Sale is expected to be : 63,476"
      ]
    },
    {
      "cell_type": "markdown",
      "metadata": {
        "id": "HRZHcgFDDIp9"
      },
      "source": [
        "Now we have to calculate the sales till End of Financial Year 2019. That is from June 2019 to December 2019."
      ]
    },
    {
      "cell_type": "code",
      "metadata": {
        "id": "gB7z8p7tDhaI"
      },
      "source": [
        "data_oct = data_progress[(data_progress['Close_year'] == 2019) & (data_progress['Close_month'] == 10)]"
      ],
      "execution_count": 197,
      "outputs": []
    },
    {
      "cell_type": "code",
      "metadata": {
        "id": "X3d5bLsqWOj_"
      },
      "source": [
        "sales_oct = data_oct[data_oct['Deal_Stage'] == 1]['Close_Value'].sum()"
      ],
      "execution_count": 200,
      "outputs": []
    },
    {
      "cell_type": "code",
      "metadata": {
        "id": "4Ykpg31EWd47"
      },
      "source": [
        "data_nov = data_progress[(data_progress['Close_year'] == 2019) & (data_progress['Close_month'] == 11)]"
      ],
      "execution_count": 207,
      "outputs": []
    },
    {
      "cell_type": "code",
      "metadata": {
        "id": "E4I8qDZ3Wify"
      },
      "source": [
        "sales_nov = data_nov[data_nov['Deal_Stage'] == 1]['Close_Value'].sum()"
      ],
      "execution_count": 208,
      "outputs": []
    },
    {
      "cell_type": "code",
      "metadata": {
        "id": "eC_e8GltWiig"
      },
      "source": [
        "data_dec = data_progress[(data_progress['Close_year'] == 2019) & (data_progress['Close_month'] == 12)]"
      ],
      "execution_count": 209,
      "outputs": []
    },
    {
      "cell_type": "code",
      "metadata": {
        "id": "AAbRJAXlWimw"
      },
      "source": [
        "sales_dec = data_dec[data_dec['Deal_Stage'] == 1]['Close_Value'].sum()"
      ],
      "execution_count": 211,
      "outputs": []
    },
    {
      "cell_type": "markdown",
      "metadata": {
        "id": "dHOaFFh8Ys8r"
      },
      "source": [
        "Now we have all the sales from July 2019 to December 2019."
      ]
    },
    {
      "cell_type": "code",
      "metadata": {
        "id": "lWQTY9S4YsSA"
      },
      "source": [
        "Yearly_Sales = sales_july + sales_aug + sales_sep + sales_oct + sales_nov + sales_dec"
      ],
      "execution_count": 213,
      "outputs": []
    },
    {
      "cell_type": "code",
      "metadata": {
        "colab": {
          "base_uri": "https://localhost:8080/"
        },
        "id": "Uri9TMxka4xa",
        "outputId": "90d285f1-f801-4ce3-efb5-880491314287"
      },
      "source": [
        "Yearly_Sales"
      ],
      "execution_count": 214,
      "outputs": [
        {
          "output_type": "execute_result",
          "data": {
            "text/plain": [
              "167193"
            ]
          },
          "metadata": {},
          "execution_count": 214
        }
      ]
    },
    {
      "cell_type": "markdown",
      "metadata": {
        "id": "S_zqRHePcFCd"
      },
      "source": [
        "The Predicted Sales from July-December is : 1,67,193"
      ]
    },
    {
      "cell_type": "markdown",
      "metadata": {
        "id": "ZL6s__wgdwaO"
      },
      "source": [
        "The data has been give only till 2019 end and the prediction has been made accordingly."
      ]
    }
  ]
}