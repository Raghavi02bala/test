{
  "nbformat": 4,
  "nbformat_minor": 0,
  "metadata": {
    "colab": {
      "name": "Microsoft_with_low_computing_power.ipynb",
      "provenance": [],
      "collapsed_sections": [],
      "private_outputs": true
    },
    "kernelspec": {
      "display_name": "Python 3",
      "name": "python3"
    },
    "gpuClass": "standard"
  },
  "cells": [
    {
      "cell_type": "code",
      "metadata": {
        "id": "EOkBkLzV1TMT"
      },
      "source": [
        "!pip install kaggle"
      ],
      "execution_count": null,
      "outputs": []
    },
    {
      "cell_type": "code",
      "source": [
        "!pip install py7zr"
      ],
      "metadata": {
        "id": "L1vt5XwI4CgA"
      },
      "execution_count": null,
      "outputs": []
    },
    {
      "cell_type": "code",
      "source": [
        "from google.colab import files\n",
        "\n",
        "files.upload()"
      ],
      "metadata": {
        "id": "AnDnxPLq0Y2G"
      },
      "execution_count": null,
      "outputs": []
    },
    {
      "cell_type": "code",
      "metadata": {
        "id": "9Vv6TBsj1twd"
      },
      "source": [
        "!mkdir ~/.kaggle\n",
        "!cp kaggle.json ~/.kaggle/"
      ],
      "execution_count": null,
      "outputs": []
    },
    {
      "cell_type": "code",
      "source": [
        "! kaggle competitions download -c malware-classification -f train.7z"
      ],
      "metadata": {
        "id": "65Lyv6H43Dtt"
      },
      "execution_count": null,
      "outputs": []
    },
    {
      "cell_type": "code",
      "metadata": {
        "id": "5F8PsyL7Fi8t"
      },
      "source": [
        "# !7z e train.7z -o/content *.bytes -r"
      ],
      "execution_count": null,
      "outputs": []
    },
    {
      "cell_type": "code",
      "source": [
        "import py7zr\n",
        "with py7zr.SevenZipFile('train.7z', 'r') as zf:\n",
        "  ls = zf.getnames()\n",
        "  byt_f = [x for x in ls if x.endswith('.bytes')]"
      ],
      "metadata": {
        "id": "4TKTXxWW1Esh"
      },
      "execution_count": null,
      "outputs": []
    },
    {
      "cell_type": "code",
      "source": [
        "with py7zr.SevenZipFile('train.7z', 'r') as zf:\n",
        "    zf.extract(path=\"bytefiles\", targets=byt_f)"
      ],
      "metadata": {
        "id": "B7RoLvEh3gvh"
      },
      "execution_count": null,
      "outputs": []
    },
    {
      "cell_type": "code",
      "source": [
        "from sklearn.feature_extraction.text import TfidfVectorizer\n",
        "import scipy.sparse as sp"
      ],
      "metadata": {
        "id": "TIzTYzrzDIex"
      },
      "execution_count": null,
      "outputs": []
    },
    {
      "cell_type": "code",
      "source": [
        "vectorizer = TfidfVectorizer(ngram_range=(2,2))\n",
        "byte_bigram_data = sp.csr_matrix((1, 66049))"
      ],
      "metadata": {
        "id": "oz6tX50y3HB0"
      },
      "execution_count": null,
      "outputs": []
    },
    {
      "cell_type": "code",
      "source": [
        "file = open('bytefiles/' + byt_f[0])\n",
        "corpus = [file.read().replace('\\n', ' ').lower()] \n",
        "bigrams=vectorizer.fit_transform(corpus)\n",
        "byte_bigram_data = sp.csr_matrix(bigrams)"
      ],
      "metadata": {
        "id": "3_alR5fQnU6Q"
      },
      "execution_count": null,
      "outputs": []
    },
    {
      "cell_type": "code",
      "source": [
        "vectorizer = TfidfVectorizer(tokenizer=lambda x: x.split(),lowercase=False,ngram_range=(2,2)) \n",
        "byte_bigram_data=sp.csr_matrix((1, 66049))\n",
        "\n",
        "file = open('bytefiles/' + byt_f[0])\n",
        "corpus = [file.read().replace('\\n', ' ').lower()] \n",
        "bigrams=vectorizer.fit_transform(corpus)\n",
        "byte_bigram_data = sp.csr_matrix(bigrams)\n",
        "\n",
        "for i in range(1,10868): \n",
        "    file = open('bytefiles/' + byt_f[i])\n",
        "    corpus = [file.read().replace('\\n', ' ').lower()] \n",
        "    bigrams=vectorizer.fit_transform(corpus)\n",
        "    byte_bigram_data = sp.vstack((byte_bigram_data,bigrams))\n",
        "    file.close()"
      ],
      "metadata": {
        "id": "REIj7-KEYzvB"
      },
      "execution_count": null,
      "outputs": []
    },
    {
      "cell_type": "code",
      "metadata": {
        "id": "zwcQqNDrLToF"
      },
      "source": [
        "# you can extract only one set of files\n",
        "# first try changing the run time to GPU so that you can get more hard disk\n",
        "# download only train.7z file, if you have dowloaded all the files from the competiion you can remove other files except train.7z\n",
        "# then as shown in the above cell you can extract only the byte files\n",
        "# after you extract byte files\n",
        "# for every bytefile:\n",
        "#   create bigrams from that files, it should be stright forward for you, \n",
        "#   you can reuse the code in your tfidf assignment or you can use the tfidf vectorizer with fixed vocabulary\n",
        "#   so after the computing of the bigrams it will be a 1*vocab size sparse matrix\n",
        "#   delete the file extracted byte file\n",
        "\n",
        "# you need to concatinate all the sparse matrices, which makes the final matrix of size (number_of_bytefiles, len_vocab)\n",
        "\n",
        "# you can do the same thing for the asm files also, after you the above for loop, all the byte files might have been removed\n",
        "# extract only asm files \n",
        "# for every asm file:\n",
        "#   create pixel features, check the reference we have given\n",
        "#   so after the computing of the pixel features it will be a 1*len_pixel_values a dense matrix\n",
        "#   delete the file extracting asm file"
      ],
      "execution_count": null,
      "outputs": []
    },
    {
      "cell_type": "code",
      "metadata": {
        "id": "lO3HD4r7PySL"
      },
      "source": [
        "# Store both the sparse matrix, which holds the bigrams and the the dense matrix which holds the pixel matrix into pickle files so that you can reuse them later\n",
        "\n",
        "# if you can identify each row of the matrix by a unique file name, that might be help you in train test split separation \n"
      ],
      "execution_count": null,
      "outputs": []
    }
  ]
}