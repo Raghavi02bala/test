{
  "cells": [
    {
      "cell_type": "markdown",
      "metadata": {
        "id": "fwPL0hIlGKoA"
      },
      "source": [
        "# <font color='red'>**Sequence to sequence implementation**</font>"
      ]
    },
    {
      "cell_type": "markdown",
      "metadata": {
        "id": "QyfZo8fmLOec"
      },
      "source": [
        "## Task -1: Simple Encoder and Decoder\n",
        "Implement simple Encoder-Decoder model"
      ]
    },
    {
      "cell_type": "code",
      "execution_count": null,
      "metadata": {
        "id": "8XjOdQCvKJLC",
        "outputId": "f90137ae-01f1-4ba7-afb0-7b7399bd550f"
      },
      "outputs": [
        {
          "name": "stderr",
          "output_type": "stream",
          "text": [
            "Using TensorFlow backend.\n"
          ]
        }
      ],
      "source": [
        "import matplotlib.pyplot as plt\n",
        "%matplotlib inline\n",
        "import pandas as pd\n",
        "import re\n",
        "import tensorflow as tf\n",
        "from tensorflow.keras.layers import Embedding, LSTM, Dense\n",
        "from tensorflow.keras.models import Model\n",
        "from tensorflow.keras.preprocessing.text import Tokenizer\n",
        "from tensorflow.keras.preprocessing.sequence import pad_sequences\n",
        "import numpy as np\n",
        "from bs4 import BeautifulSoup"
      ]
    },
    {
      "cell_type": "code",
      "execution_count": null,
      "metadata": {
        "id": "EEqXyzNmKJLE",
        "outputId": "2f0e662f-e8c2-4a7a-a3d6-36a505bd955f"
      },
      "outputs": [
        {
          "data": {
            "text/plain": [
              "'1.19.2'"
            ]
          },
          "execution_count": 2,
          "metadata": {},
          "output_type": "execute_result"
        }
      ],
      "source": [
        "np.__version__"
      ]
    },
    {
      "cell_type": "markdown",
      "metadata": {
        "id": "3k_AlAuKJqVA"
      },
      "source": [
        "<font color='blue'>**Load the data**</font>"
      ]
    },
    {
      "cell_type": "code",
      "execution_count": null,
      "metadata": {
        "id": "fU80Ao-AGaob",
        "outputId": "4f3efd75-aae7-4a8b-db88-ed80b0bd3dac"
      },
      "outputs": [
        {
          "data": {
            "text/plain": [
              "(353281, 2)"
            ]
          },
          "execution_count": 3,
          "metadata": {},
          "output_type": "execute_result"
        }
      ],
      "source": [
        "with open('ita.txt','r', encoding=\"utf8\") as f:\n",
        "    eng=[]\n",
        "    ita=[]\n",
        "    for line in f:\n",
        "        eng.append(line.split('\\t')[0])\n",
        "        ita.append(line.split('\\t')[1])\n",
        "df = pd.DataFrame(data=list(zip(eng,ita)),columns=[\"English\",\"Italian\"])\n",
        "df.head()\n",
        "df.shape"
      ]
    },
    {
      "cell_type": "markdown",
      "metadata": {
        "id": "vmGWTdRmKRph"
      },
      "source": [
        "<font color='blue'>**Preprocess data**</font>"
      ]
    },
    {
      "cell_type": "code",
      "execution_count": null,
      "metadata": {
        "id": "UqKbMooJKJLG"
      },
      "outputs": [],
      "source": [
        "from bs4 import BeautifulSoup\n",
        "def remove_tags(html):\n",
        "      soup = BeautifulSoup(html, \"html.parser\")\n",
        "    for data in soup(['style', 'script']):\n",
        "        data.decompose()\n",
        "      return ' '.join(soup.stripped_strings)\n",
        "\n",
        "def text_pp_eng(text):\n",
        "    txt = remove_tags(text)\n",
        "    \n",
        "    tokens = txt.split()\n",
        "    \n",
        "    for i,tok in enumerate(tokens):\n",
        "        tokens[i] = re.sub(r'[^http?\\:\\/\\/\\S*]','',tok)\n",
        "        tokens[i] = re.sub(r'[^https?\\:\\/\\/\\S*]','',tokens[i])\n",
        "        tokens[i] = re.sub(r'u200b', ' ', tokens[i])\n",
        "        tokens[i] = re.sub(r'u200', ' ', tokens[i])\n",
        "        tokens[i] = re.sub(r'xa0', ' ', tokens[i])\n",
        "        \n",
        "        tokens[i] = re.sub(r\"won\\'t\", \"will not\", tokens[i])\n",
        "        tokens[i] = re.sub(r\"can\\'t\", \"can not\", tokens[i])\n",
        "        tokens[i] = re.sub(r\"won\\’t\", \"will not\", tokens[i])\n",
        "        tokens[i] = re.sub(r\"can\\’t\", \"can not\", tokens[i])\n",
        "        tokens[i] = re.sub(r\"ain\\’t\", \"is not\", tokens[i])\n",
        "        tokens[i] = re.sub(r\"\\’tis\", \"is\", tokens[i])\n",
        "        tokens[i] = re.sub(r\"y\\’all\", \"you all\", tokens[i])\n",
        "        tokens[i] = re.sub(r\"n\\'t\", \" not\", tokens[i])\n",
        "        tokens[i] = re.sub(r\"\\'re\", \" are\", tokens[i])\n",
        "        tokens[i] = re.sub(r\"\\'s\", \" is\", tokens[i])\n",
        "        tokens[i] = re.sub(r\"\\'d\", \" would\", tokens[i])\n",
        "        tokens[i] = re.sub(r\"\\'ll\", \" will\", tokens[i])\n",
        "        tokens[i] = re.sub(r\"\\'t\", \" not\", tokens[i])\n",
        "        tokens[i] = re.sub(r\"\\'ve\", \" have\", tokens[i])\n",
        "        tokens[i] = re.sub(r\"\\'m\", \" am\", tokens[i])\n",
        "        tokens[i] = re.sub(r\"n\\’t\", \" not\", tokens[i])\n",
        "        tokens[i] = re.sub(r\"\\’re\", \" are\", tokens[i])\n",
        "        tokens[i] = re.sub(r\"\\’s\", \" is\", tokens[i])\n",
        "        tokens[i] = re.sub(r\"\\’d\", \" would\", tokens[i])\n",
        "        tokens[i] = re.sub(r\"\\’ll\", \" will\", tokens[i])\n",
        "        tokens[i] = re.sub(r\"\\’t\", \" not\", tokens[i])\n",
        "        tokens[i] = re.sub(r\"\\’ve\", \" have\", tokens[i])\n",
        "        tokens[i] = re.sub(r\"\\’m\", \" am\", tokens[i])\n",
        "        \n",
        "        tokens[i] = re.sub(r'^()$', ' ', tokens[i])\n",
        "        tokens[i] = re.sub(r'^\\[\\]$', ' ', tokens[i])\n",
        "        tokens[i] = re.sub(r'^<>$', ' ', tokens[i])\n",
        "        tokens[i] = re.sub(r'^{}$', ' ', tokens[i])\n",
        "        \n",
        "        tokens[i] = re.sub('[^A-Za-z0-9\\s]','',tokens[i])\n",
        "            \n",
        "    tokens = [tok for tok in tokens if tok != '']\n",
        "    \n",
        "    for i,tok in enumerate(tokens):\n",
        "        tokens[i] = tok.lower()\n",
        "    \n",
        "    pptxt = ' '.join(tokens)\n",
        "    \n",
        "    return pptxt\n",
        "\n",
        "\n",
        "def text_pp_ita(text):\n",
        "    txt = remove_tags(text)    \n",
        "    tokens = txt.split()\n",
        "    for i,tok in enumerate(tokens):\n",
        "        tokens[i] = re.sub(r'http?\\:\\/\\/\\S*','',tok)\n",
        "        tokens[i] = re.sub(r'https?\\:\\/\\/\\S*','',tokens[i])\n",
        "        tokens[i] = re.sub(r'u200b', ' ', tokens[i])\n",
        "        tokens[i] = re.sub(r'u200', ' ', tokens[i])\n",
        "        tokens[i] = re.sub(r'xa0', ' ', tokens[i])\n",
        "        \n",
        "        tokens[i] = re.sub(r'^()$', ' ', tokens[i])\n",
        "        tokens[i] = re.sub(r'^\\[\\]$', ' ', tokens[i])\n",
        "        tokens[i] = re.sub(r'^<>$', ' ', tokens[i])\n",
        "        tokens[i] = re.sub(r'^{}$', ' ', tokens[i])\n",
        "        \n",
        "        tokens[i] = re.sub('[#$)\\?\"’.°!;\\'\\]\\[€%:,&@>\\-<=+(/_]','',tokens[i])\n",
        "            \n",
        "    tokens = [tok for tok in tokens if tok != '']\n",
        "    \n",
        "    for i,tok in enumerate(tokens):\n",
        "        tokens[i] = tok.lower()\n",
        "    pptxt = ' '.join(tokens)\n",
        "    return pptxt"
      ]
    },
    {
      "cell_type": "code",
      "execution_count": null,
      "metadata": {
        "id": "9QqElB_nKZos",
        "outputId": "7eb21e93-8461-4a8c-fbd9-31ea5fe25b98"
      },
      "outputs": [
        {
          "name": "stdout",
          "output_type": "stream",
          "text": [
            "Runtime 98.83728337287903 seconds\n"
          ]
        }
      ],
      "source": [
        "import time\n",
        "strt = time.time()\n",
        "df[\"English\"] = df[\"English\"].apply(text_pp_eng)\n",
        "df[\"Italian\"] = df[\"Italian\"].apply(text_pp_ita)\n",
        "end = time.time()\n",
        "print(\"Runtime\",end-strt,\"seconds\")"
      ]
    },
    {
      "cell_type": "markdown",
      "metadata": {
        "id": "ihdYKVA9KJLR"
      },
      "source": [
        "*CHECK FREQUENCY OF SENTENCES WITH RESPECT TO LENGTH OF SENTENCES*"
      ]
    },
    {
      "cell_type": "code",
      "execution_count": null,
      "metadata": {
        "id": "RIBVHYflKJLR"
      },
      "outputs": [],
      "source": [
        "ita_len = df['Italian'].str.split().apply(len)\n",
        "eng_len = df['English'].str.split().apply(len)"
      ]
    },
    {
      "cell_type": "code",
      "execution_count": null,
      "metadata": {
        "id": "1eFtGPoYKJLR",
        "outputId": "956f27cb-eb58-4980-8c50-b55dc12468f2"
      },
      "outputs": [
        {
          "name": "stdout",
          "output_type": "stream",
          "text": [
            "90th percentile of italian sentence length 8.0\n",
            "91th percentile of italian sentence length 8.0\n",
            "92th percentile of italian sentence length 8.0\n",
            "93th percentile of italian sentence length 9.0\n",
            "94th percentile of italian sentence length 9.0\n",
            "95th percentile of italian sentence length 9.0\n",
            "96th percentile of italian sentence length 9.0\n",
            "97th percentile of italian sentence length 10.0\n",
            "98th percentile of italian sentence length 11.0\n",
            "99th percentile of italian sentence length 12.0\n",
            "100th percentile of italian sentence length 92.0\n"
          ]
        }
      ],
      "source": [
        "for i in range(90,101):\n",
        "    print('{}th percentile of italian sentence length'.format(i),np.percentile(ita_len,i))"
      ]
    },
    {
      "cell_type": "code",
      "execution_count": null,
      "metadata": {
        "id": "pbOpPN2NKJLR",
        "outputId": "cb1c77c5-9cb8-4c82-b5ab-dc3415c60b62"
      },
      "outputs": [
        {
          "name": "stdout",
          "output_type": "stream",
          "text": [
            "99.0th percentile of italian sentence length 12.0\n",
            "99.1th percentile of italian sentence length 12.0\n",
            "99.19999999999999th percentile of italian sentence length 12.0\n",
            "99.29999999999998th percentile of italian sentence length 13.0\n",
            "99.39999999999998th percentile of italian sentence length 13.0\n",
            "99.49999999999997th percentile of italian sentence length 13.0\n",
            "99.59999999999997th percentile of italian sentence length 14.0\n",
            "99.69999999999996th percentile of italian sentence length 15.0\n",
            "99.79999999999995th percentile of italian sentence length 16.0\n",
            "99.89999999999995th percentile of italian sentence length 22.0\n",
            "99.99th percentile of italian sentence length 44.0\n",
            "100th percentile of italian sentence length 92.0\n"
          ]
        }
      ],
      "source": [
        "for i in np.arange(99,100,0.1):\n",
        "    print('{}th percentile of italian sentence length'.format(i),np.percentile(ita_len,i))\n",
        "print('{}th percentile of italian sentence length'.format(99.99),np.percentile(ita_len,99.99))\n",
        "print('{}th percentile of italian sentence length'.format(100),np.percentile(ita_len,100))"
      ]
    },
    {
      "cell_type": "markdown",
      "metadata": {
        "id": "KoJkwas4KJLS"
      },
      "source": [
        "**For italian text 99.89% of the texts are having length < 22**"
      ]
    },
    {
      "cell_type": "code",
      "execution_count": null,
      "metadata": {
        "id": "4r3AGHbTKJLS",
        "outputId": "2b489aa6-11de-42b0-bfdb-8c32bd4cc8b5"
      },
      "outputs": [
        {
          "name": "stdout",
          "output_type": "stream",
          "text": [
            "90th percentile of english sentence length 8.0\n",
            "91th percentile of english sentence length 9.0\n",
            "92th percentile of english sentence length 9.0\n",
            "93th percentile of english sentence length 9.0\n",
            "94th percentile of english sentence length 9.0\n",
            "95th percentile of english sentence length 9.0\n",
            "96th percentile of english sentence length 10.0\n",
            "97th percentile of english sentence length 10.0\n",
            "98th percentile of english sentence length 11.0\n",
            "99th percentile of english sentence length 12.0\n",
            "100th percentile of english sentence length 101.0\n"
          ]
        }
      ],
      "source": [
        "for i in range(90,101):\n",
        "    print('{}th percentile of english sentence length'.format(i),np.percentile(eng_len,i))"
      ]
    },
    {
      "cell_type": "code",
      "execution_count": null,
      "metadata": {
        "id": "Xbr9T7naKJLS",
        "outputId": "c06b9a65-aa5a-4b89-ce03-d0419c504333"
      },
      "outputs": [
        {
          "name": "stdout",
          "output_type": "stream",
          "text": [
            "99.0th percentile of english sentence length 12.0\n",
            "99.1th percentile of english sentence length 12.0\n",
            "99.19999999999999th percentile of english sentence length 13.0\n",
            "99.29999999999998th percentile of english sentence length 13.0\n",
            "99.39999999999998th percentile of english sentence length 13.0\n",
            "99.49999999999997th percentile of english sentence length 14.0\n",
            "99.59999999999997th percentile of english sentence length 14.0\n",
            "99.69999999999996th percentile of english sentence length 15.0\n",
            "99.79999999999995th percentile of english sentence length 16.0\n",
            "99.89999999999995th percentile of english sentence length 25.0\n",
            "99.99th percentile of english sentence length 41.0\n",
            "100th percentile of english sentence length 101.0\n"
          ]
        }
      ],
      "source": [
        "for i in np.arange(99,100,0.1):\n",
        "    print('{}th percentile of english sentence length'.format(i),np.percentile(eng_len,i))\n",
        "print('{}th percentile of english sentence length'.format(99.99),np.percentile(eng_len,99.99))\n",
        "print('{}th percentile of english sentence length'.format(100),np.percentile(eng_len,100))"
      ]
    },
    {
      "cell_type": "markdown",
      "metadata": {
        "id": "ZW1wWiN3KJLS"
      },
      "source": [
        "**For english text 99.89% of the texts are having length < 24**"
      ]
    },
    {
      "cell_type": "markdown",
      "metadata": {
        "id": "W5upSWaCKJLT"
      },
      "source": [
        "**So we will select texts of length < 24 for training our model**"
      ]
    },
    {
      "cell_type": "markdown",
      "metadata": {
        "id": "x0I7lS9JKJLT"
      },
      "source": [
        "*TEACHER FORCING*"
      ]
    },
    {
      "cell_type": "code",
      "execution_count": null,
      "metadata": {
        "id": "2xTNqSjNKJLT",
        "outputId": "6e877a85-f71e-467b-a1fc-a149f26fff00"
      },
      "outputs": [
        {
          "data": {
            "text/html": [
              "<div>\n",
              "<style scoped>\n",
              "    .dataframe tbody tr th:only-of-type {\n",
              "        vertical-align: middle;\n",
              "    }\n",
              "\n",
              "    .dataframe tbody tr th {\n",
              "        vertical-align: top;\n",
              "    }\n",
              "\n",
              "    .dataframe thead th {\n",
              "        text-align: right;\n",
              "    }\n",
              "</style>\n",
              "<table border=\"1\" class=\"dataframe\">\n",
              "  <thead>\n",
              "    <tr style=\"text-align: right;\">\n",
              "      <th></th>\n",
              "      <th>Italian</th>\n",
              "      <th>eng_inp</th>\n",
              "      <th>eng_out</th>\n",
              "    </tr>\n",
              "  </thead>\n",
              "  <tbody>\n",
              "    <tr>\n",
              "      <th>0</th>\n",
              "      <td>ciao</td>\n",
              "      <td>&lt;sos&gt; hi</td>\n",
              "      <td>hi &lt;eos&gt;</td>\n",
              "    </tr>\n",
              "    <tr>\n",
              "      <th>1</th>\n",
              "      <td>ciao</td>\n",
              "      <td>&lt;sos&gt; hi</td>\n",
              "      <td>hi &lt;eos&gt;</td>\n",
              "    </tr>\n",
              "    <tr>\n",
              "      <th>2</th>\n",
              "      <td>corri</td>\n",
              "      <td>&lt;sos&gt; run</td>\n",
              "      <td>run &lt;eos&gt;</td>\n",
              "    </tr>\n",
              "    <tr>\n",
              "      <th>3</th>\n",
              "      <td>corra</td>\n",
              "      <td>&lt;sos&gt; run</td>\n",
              "      <td>run &lt;eos&gt;</td>\n",
              "    </tr>\n",
              "    <tr>\n",
              "      <th>4</th>\n",
              "      <td>correte</td>\n",
              "      <td>&lt;sos&gt; run</td>\n",
              "      <td>run &lt;eos&gt;</td>\n",
              "    </tr>\n",
              "  </tbody>\n",
              "</table>\n",
              "</div>"
            ],
            "text/plain": [
              "   Italian    eng_inp    eng_out\n",
              "0     ciao   <sos> hi   hi <eos>\n",
              "1     ciao   <sos> hi   hi <eos>\n",
              "2    corri  <sos> run  run <eos>\n",
              "3    corra  <sos> run  run <eos>\n",
              "4  correte  <sos> run  run <eos>"
            ]
          },
          "execution_count": 11,
          "metadata": {},
          "output_type": "execute_result"
        }
      ],
      "source": [
        "df[\"eng_len\"] = eng_len\n",
        "df[\"ita_len\"] = ita_len\n",
        "df = df[df[\"eng_len\"]<24]\n",
        "df = df[df[\"ita_len\"]<24]\n",
        "df[\"eng_inp\"] = '<sos> ' + df[\"English\"]\n",
        "df[\"eng_out\"] = df[\"English\"] + ' <eos>'\n",
        "df.drop(['eng_len','ita_len','English'],axis=1,inplace=True)\n",
        "df.head()"
      ]
    },
    {
      "cell_type": "code",
      "execution_count": null,
      "metadata": {
        "id": "gffcDU4MKJLT",
        "outputId": "66cf2ae9-a6f4-4c82-b886-0ab5a5c4cac3"
      },
      "outputs": [
        {
          "data": {
            "text/plain": [
              "(352885, 3)"
            ]
          },
          "execution_count": 12,
          "metadata": {},
          "output_type": "execute_result"
        }
      ],
      "source": [
        "df.shape"
      ]
    },
    {
      "cell_type": "code",
      "execution_count": null,
      "metadata": {
        "id": "QPKKH4PkKJLT"
      },
      "outputs": [],
      "source": [
        "df.to_csv(\"df_preprocessed\",index=False)"
      ]
    },
    {
      "cell_type": "code",
      "execution_count": null,
      "metadata": {
        "id": "H7lqWfVvKJLU",
        "outputId": "1470bcaa-2a00-421d-da00-6ba63d4fe52f"
      },
      "outputs": [
        {
          "name": "stdout",
          "output_type": "stream",
          "text": [
            "(282308, 3) (70577, 3)\n"
          ]
        }
      ],
      "source": [
        "from sklearn.model_selection import train_test_split\n",
        "xtr,xval = train_test_split(df, test_size=0.2)\n",
        "print(xtr.shape, xval.shape)\n",
        "xtr.iloc[0]['eng_inp']= str(xtr.iloc[0]['eng_inp'])+' <eos>'\n",
        "xtr.iloc[0]['eng_out']= str(xtr.iloc[0]['eng_out'])+' <eos>'"
      ]
    },
    {
      "cell_type": "code",
      "execution_count": null,
      "metadata": {
        "id": "4K1oAzO2KJLU"
      },
      "outputs": [],
      "source": [
        "tok_ita = Tokenizer()\n",
        "tok_eng = Tokenizer(filters='!\"#$%&()*+,-./:;=?@[\\\\]^_`{|}~\\t\\n') #removing <> from filters for <sos> and <eos>\n",
        "tok_ita.fit_on_texts(xtr[\"Italian\"].values)\n",
        "tok_eng.fit_on_texts(xtr[\"eng_inp\"].values)"
      ]
    },
    {
      "cell_type": "code",
      "execution_count": null,
      "metadata": {
        "id": "hVy2nR0_KJLV",
        "outputId": "25ce4d1d-b68d-490b-a1c0-87470cfa7f48"
      },
      "outputs": [
        {
          "name": "stdout",
          "output_type": "stream",
          "text": [
            "Length of italian vocabulary: 26709\n",
            "========================================\n",
            "Length of english vocabulary: 13081\n"
          ]
        }
      ],
      "source": [
        "voc_size_ita = len(tok_ita.word_index.keys())\n",
        "print(\"Length of italian vocabulary:\", voc_size_ita)\n",
        "print(\"=\"*40)\n",
        "voc_size_eng = len(tok_eng.word_index.keys())\n",
        "print(\"Length of english vocabulary:\",voc_size_eng)"
      ]
    },
    {
      "cell_type": "code",
      "execution_count": null,
      "metadata": {
        "id": "JNcNacWLKJLV",
        "outputId": "5ef924bb-3a7d-46f1-b8cd-e605be0ed660"
      },
      "outputs": [
        {
          "data": {
            "text/plain": [
              "(1, 10336)"
            ]
          },
          "execution_count": 19,
          "metadata": {},
          "output_type": "execute_result"
        }
      ],
      "source": [
        "tok_eng.word_index['<sos>'], tok_eng.word_index['<eos>']"
      ]
    },
    {
      "cell_type": "code",
      "execution_count": null,
      "metadata": {
        "id": "cBT24JGnKJLV",
        "outputId": "fb1dfd67-8f24-4518-c934-0a774d1be79f"
      },
      "outputs": [
        {
          "data": {
            "text/plain": [
              "(13074, 100)"
            ]
          },
          "execution_count": 21,
          "metadata": {},
          "output_type": "execute_result"
        }
      ],
      "source": [
        "embeddings_index = dict()\n",
        "f = open('glove.6B.100d.txt',encoding=\"utf8\")\n",
        "for line in f:\n",
        "    values = line.split()\n",
        "    word = values[0]\n",
        "    vec = np.asarray(values[1:], dtype='float32')\n",
        "    embeddings_index[word] = vec\n",
        "f.close()\n",
        "\n",
        "embedding_matrix = np.zeros((voc_size_eng+1, 100))\n",
        "for word, i in tok_eng.word_index.items():\n",
        "    embedding_vector = embeddings_index.get(word)\n",
        "    if embedding_vector is not None:\n",
        "        embedding_matrix[i] = embedding_vector\n",
        "embedding_matrix.shape"
      ]
    },
    {
      "cell_type": "code",
      "execution_count": null,
      "metadata": {
        "id": "hzJSHt0DKJLV"
      },
      "outputs": [],
      "source": [
        "max_len_eng = max([len(txt.split()) for txt in df[\"eng_out\"].values])\n",
        "max_len_ita = max([len(txt.split()) for txt in df[\"Italian\"].values])"
      ]
    },
    {
      "cell_type": "markdown",
      "metadata": {
        "id": "S8RDrP4xKabR"
      },
      "source": [
        "## <font color='blue'>**Implement custom encoder decoder**</font>"
      ]
    },
    {
      "cell_type": "markdown",
      "metadata": {
        "id": "A45uc0JILMlV"
      },
      "source": [
        "<font color='blue'>**Encoder**</font>"
      ]
    },
    {
      "cell_type": "code",
      "execution_count": null,
      "metadata": {
        "id": "9cex2XfCLOew"
      },
      "outputs": [],
      "source": [
        "class Encoder(tf.keras.Model):\n",
        "    '''\n",
        "    Encoder model -- That takes a input sequence and returns encoder-outputs,encoder_final_state_h,encoder_final_state_c\n",
        "    '''\n",
        "\n",
        "    def __init__(self,inp_vocab_size,embedding_size,lstm_size,input_length):\n",
        "        super().__init__()\n",
        "        #Initialize Embedding layer\n",
        "        #Intialize Encoder LSTM layer\n",
        "        self.inp_voc_size = inp_vocab_size\n",
        "        self.emb_size = embedding_size\n",
        "        self.lstm_units = lstm_size\n",
        "        self.seq_len = input_length\n",
        "        self.emb_layer = Embedding(input_dim=self.inp_voc_size,output_dim=self.emb_size,mask_zero=True,\n",
        "                                   input_length=self.seq_len,name=\"enc_emb_layer\")\n",
        "        self.enc_lstm = LSTM(self.lstm_units,return_sequences=True,return_state=True,name=\"enc_lstm\")\n",
        "        self.lstm_out = 0\n",
        "        self.h_state = 0\n",
        "        self.c_state=0\n",
        "        \n",
        "\n",
        "    def call(self,input_sequence,states):\n",
        "        '''\n",
        "          This function takes a sequence input and the initial states of the encoder.\n",
        "          Pass the input_sequence input to the Embedding layer, Pass the embedding layer ouput to encoder_lstm\n",
        "          returns -- encoder_output, last time step's hidden and cell state\n",
        "        '''\n",
        "        emb_out = self.emb_layer(input_sequence)\n",
        "        self.lstm_out,self.h_state,self.c_state = self.enc_lstm(emb_out)\n",
        "        \n",
        "        return self.lstm_out,self.h_state,self.c_state\n",
        "\n",
        "    \n",
        "    def initialize_states(self,batch_size):\n",
        "        '''\n",
        "      Given a batch size it will return intial hidden state and intial cell state.\n",
        "      If batch size is 32- Hidden state is zeros of size [32,lstm_units], cell state zeros is of size [32,lstm_units]\n",
        "      '''\n",
        "        init_h_state = np.zeros((batch_size,self.lstm_units))\n",
        "        init_c_state = np.zeros((batch_size,self.lstm_units))\n",
        "      \n",
        "        return init_h_state,init_c_state\n",
        "        \n"
      ]
    },
    {
      "cell_type": "markdown",
      "metadata": {
        "id": "EtbOI3VwLOe0"
      },
      "source": [
        "<font color='orange'>**Grader function - 1**</font>"
      ]
    },
    {
      "cell_type": "code",
      "execution_count": null,
      "metadata": {
        "id": "ziSqOgmhLOe1",
        "outputId": "c769c289-3465-4614-abab-553dc18f8a69"
      },
      "outputs": [
        {
          "name": "stdout",
          "output_type": "stream",
          "text": [
            "True\n"
          ]
        }
      ],
      "source": [
        "def grader_check_encoder():\n",
        "    '''\n",
        "        vocab-size: Unique words of the input language,\n",
        "        embedding_size: output embedding dimension for each word after embedding layer,\n",
        "        lstm_size: Number of lstm units,\n",
        "        input_length: Length of the input sentence,\n",
        "        batch_size\n",
        "    '''\n",
        "    vocab_size=10\n",
        "    embedding_size=20\n",
        "    lstm_size=32\n",
        "    input_length=10\n",
        "    batch_size=16\n",
        "    #Intialzing encoder \n",
        "    encoder=Encoder(vocab_size,embedding_size,lstm_size,input_length)\n",
        "    input_sequence=tf.random.uniform(shape=[batch_size,input_length],maxval=vocab_size,minval=0,dtype=tf.int32)\n",
        "    #Intializing encoder initial states\n",
        "    initial_state=encoder.initialize_states(batch_size)\n",
        "    \n",
        "    encoder_output,state_h,state_c=encoder(input_sequence,initial_state)\n",
        "    \n",
        "    assert(encoder_output.shape==(batch_size,input_length,lstm_size) and state_h.shape==(batch_size,lstm_size) and state_c.shape==(batch_size,lstm_size))\n",
        "    return True\n",
        "print(grader_check_encoder())"
      ]
    },
    {
      "cell_type": "code",
      "execution_count": null,
      "metadata": {
        "id": "x1ES1-sJLOe4"
      },
      "outputs": [],
      "source": [
        "class Decoder(tf.keras.Model):\n",
        "    '''\n",
        "    Encoder model -- That takes a input sequence and returns output sequence\n",
        "    '''\n",
        "\n",
        "    def __init__(self,out_vocab_size,embedding_size,lstm_size,input_length):\n",
        "        super().__init__()\n",
        "\n",
        "        #Initialize Embedding layer\n",
        "        #Intialize Decoder LSTM layer\n",
        "        self.out_voc_size = out_vocab_size\n",
        "        self.emb_size = embedding_size\n",
        "        self.lstm_units = lstm_size\n",
        "        self.seq_len = input_length\n",
        "        self.emb_layer = Embedding(input_dim=self.out_voc_size,output_dim=self.emb_size,mask_zero=True,\n",
        "                                   input_length=self.seq_len,name=\"dec_emb_layer\")\n",
        "        self.dec_lstm = LSTM(self.lstm_units,return_sequences=True,return_state=True,name=\"dec_lstm\")\n",
        "        self.lstm_out = 0\n",
        "        self.h_state = 0\n",
        "        self.c_state=0\n",
        "\n",
        "    def call(self,input_sequence,initial_states):\n",
        "        '''\n",
        "          This function takes a sequence input and the initial states of the encoder.\n",
        "          Pass the input_sequence input to the Embedding layer, Pass the embedding layer ouput to decoder_lstm\n",
        "        \n",
        "          returns -- decoder_output,decoder_final_state_h,decoder_final_state_c\n",
        "        '''\n",
        "        emb_out = self.emb_layer(input_sequence)\n",
        "        self.lstm_out,self.h_state,self.c_state = self.dec_lstm(emb_out,initial_states)\n",
        "        \n",
        "        return self.lstm_out,self.h_state,self.c_state\n",
        "\n",
        "      \n"
      ]
    },
    {
      "cell_type": "markdown",
      "metadata": {
        "id": "Hq-I0SUbLOe8"
      },
      "source": [
        "<font color='orange'>**Grader function - 2**</font>"
      ]
    },
    {
      "cell_type": "code",
      "execution_count": null,
      "metadata": {
        "id": "0B0gokgKLOe8",
        "outputId": "6142619e-2448-480b-b4aa-2edfd87a86e4"
      },
      "outputs": [
        {
          "name": "stdout",
          "output_type": "stream",
          "text": [
            "True\n"
          ]
        }
      ],
      "source": [
        "def grader_decoder():\n",
        "    '''\n",
        "        out_vocab_size: Unique words of the target language,\n",
        "        embedding_size: output embedding dimension for each word after embedding layer,\n",
        "        dec_units: Number of lstm units in decoder,\n",
        "        input_length: Length of the input sentence,\n",
        "        batch_size\n",
        "        \n",
        "    \n",
        "    '''\n",
        "    out_vocab_size=13 \n",
        "    embedding_dim=12 \n",
        "    input_length=10\n",
        "    dec_units=16 \n",
        "    batch_size=32\n",
        "    \n",
        "    target_sentences=tf.random.uniform(shape=(batch_size,input_length),maxval=10,minval=0,dtype=tf.int32)\n",
        "    encoder_output=tf.random.uniform(shape=[batch_size,input_length,dec_units])\n",
        "    state_h=tf.random.uniform(shape=[batch_size,dec_units])\n",
        "    state_c=tf.random.uniform(shape=[batch_size,dec_units])\n",
        "    states=[state_h,state_c]\n",
        "    decoder=Decoder(out_vocab_size, embedding_dim, dec_units,input_length )\n",
        "    output,_,_=decoder(target_sentences, states)\n",
        "    assert(output.shape==(batch_size,input_length,dec_units))\n",
        "    return True\n",
        "print(grader_decoder())\n"
      ]
    },
    {
      "cell_type": "markdown",
      "metadata": {
        "id": "KKDvQrwSKJLX"
      },
      "source": [
        "***DATA LOADER***"
      ]
    },
    {
      "cell_type": "code",
      "execution_count": null,
      "metadata": {
        "id": "2jub2kaFKJLX"
      },
      "outputs": [],
      "source": [
        "class Dataset:\n",
        "    def __init__(self, data, tknizer_ita, tknizer_eng, max_len_eng,max_len_ita):\n",
        "        self.encoder_inps = data['Italian'].values\n",
        "        self.decoder_inps = data['eng_inp'].values\n",
        "        self.decoder_outs = data['eng_out'].values\n",
        "        self.tknizer_eng = tknizer_eng\n",
        "        self.tknizer_ita = tknizer_ita\n",
        "        self.max_len_eng = max_len_eng\n",
        "        self.max_len_ita = max_len_ita\n",
        "\n",
        "    def __getitem__(self, i):\n",
        "        self.encoder_seq = self.tknizer_ita.texts_to_sequences([self.encoder_inps[i]]) # need to pass list of values\n",
        "        self.decoder_inp_seq = self.tknizer_eng.texts_to_sequences([self.decoder_inps[i]])\n",
        "        self.decoder_out_seq = self.tknizer_eng.texts_to_sequences([self.decoder_outs[i]])\n",
        "\n",
        "        self.encoder_seq = pad_sequences(self.encoder_seq, maxlen=self.max_len_ita, dtype='int32', padding='post')\n",
        "        self.decoder_inp_seq = pad_sequences(self.decoder_inp_seq, maxlen=self.max_len_eng, dtype='int32', padding='post')\n",
        "        self.decoder_out_seq = pad_sequences(self.decoder_out_seq, maxlen=self.max_len_eng, dtype='int32', padding='post')\n",
        "        return self.encoder_seq, self.decoder_inp_seq, self.decoder_out_seq\n",
        "\n",
        "    def __len__(self): # your model.fit_gen requires this function\n",
        "        return len(self.encoder_inps)\n",
        "\n",
        "class Dataloder(tf.keras.utils.Sequence):    \n",
        "    def __init__(self, dataset, batch_size=1):\n",
        "        self.dataset = dataset\n",
        "        self.batch_size = batch_size\n",
        "        self.indexes = np.arange(len(self.dataset.encoder_inps))\n",
        "\n",
        "\n",
        "    def __getitem__(self, i):\n",
        "        start = i * self.batch_size\n",
        "        stop = (i + 1) * self.batch_size\n",
        "        data = []\n",
        "        for j in range(start, stop):\n",
        "            data.append(self.dataset[j])\n",
        "\n",
        "        batch = [np.squeeze(np.stack(samples, axis=1), axis=0) for samples in zip(*data)]\n",
        "        # we are creating data like ([italian, english_inp], english_out) these are already converted into seq\n",
        "        return tuple([[batch[0],batch[1]],batch[2]])\n",
        "\n",
        "    def __len__(self):  # your model.fit_gen requires this function\n",
        "        return len(self.indexes) // self.batch_size\n",
        "\n",
        "    def on_epoch_end(self):\n",
        "        self.indexes = np.random.permutation(self.indexes)\n",
        "        \n",
        "        "
      ]
    },
    {
      "cell_type": "code",
      "execution_count": null,
      "metadata": {
        "id": "lGaWutcVKJLY",
        "outputId": "3f36eda7-e5c0-4936-c665-851573b8bf3e"
      },
      "outputs": [
        {
          "name": "stdout",
          "output_type": "stream",
          "text": [
            "(64, 23) (64, 24) (64, 24)\n"
          ]
        }
      ],
      "source": [
        "train_dataset = Dataset(xtr, tok_ita, tok_eng, max_len_eng=max_len_eng,max_len_ita=max_len_ita)\n",
        "test_dataset  = Dataset(xval, tok_ita, tok_eng, max_len_eng=max_len_eng,max_len_ita=max_len_ita)\n",
        "\n",
        "batch_size=64\n",
        "\n",
        "train_dataloader = Dataloder(train_dataset, batch_size=batch_size)\n",
        "test_dataloader = Dataloder(test_dataset, batch_size=batch_size)\n",
        "\n",
        "\n",
        "print(train_dataloader[0][0][0].shape, train_dataloader[0][0][1].shape, train_dataloader[0][1].shape)"
      ]
    },
    {
      "cell_type": "code",
      "execution_count": null,
      "metadata": {
        "id": "BXrIj4scLOe_"
      },
      "outputs": [],
      "source": [
        "class Encoder_decoder(tf.keras.Model):\n",
        "    \n",
        "    def __init__(self,enc_voc_size,dec_voc_size,emb_size,lstm_units,seq_len_ita,seq_len_eng,batch_size,out_voc_size):\n",
        "        super().__init__()\n",
        "        self.batch_size=batch_size\n",
        "        #Create encoder object\n",
        "        self.encoder = Encoder(enc_voc_size,emb_size,lstm_units,seq_len_ita)\n",
        "        #Create decoder object\n",
        "        self.decoder = Decoder(dec_voc_size,emb_size,lstm_units,seq_len_eng)\n",
        "        #Intialize Dense layer(out_vocab_size) with activation='softmax'\n",
        "        self.dense_layer = Dense(out_voc_size,activation='softmax')\n",
        "    \n",
        "    \n",
        "    def call(self,data):\n",
        "        '''\n",
        "        A. Pass the input sequence to Encoder layer -- Return encoder_output,encoder_final_state_h,encoder_final_state_c\n",
        "        B. Pass the target sequence to Decoder layer with intial states as encoder_final_state_h,encoder_final_state_C\n",
        "        C. Pass the decoder_outputs into Dense layer \n",
        "        \n",
        "        Return decoder_outputs\n",
        "        '''\n",
        "        inp,out = data[0],data[1]\n",
        "        enc_out,enc_h_state,enc_c_state = self.encoder(inp,states=self.encoder.initialize_states(self.batch_size))\n",
        "        dec_out,_,_ = self.decoder(input_sequence=out,initial_states=[enc_h_state,enc_c_state])\n",
        "        enc_dec_out = self.dense_layer(dec_out)\n",
        "        \n",
        "        return enc_dec_out\n",
        "        \n",
        "        "
      ]
    },
    {
      "cell_type": "code",
      "execution_count": null,
      "metadata": {
        "id": "kcL61dJXLOfB"
      },
      "outputs": [],
      "source": [
        "#Create an object of encoder_decoder Model class, +\n",
        "enc_dec_model = Encoder_decoder(enc_voc_size=voc_size_ita+1,dec_voc_size=voc_size_eng+1,emb_size=100,lstm_units=64,\n",
        "                                seq_len_ita=max_len_ita,seq_len_eng=max_len_eng,batch_size=batch_size,out_voc_size=voc_size_eng+1)\n",
        "# Compile the model and fit the model\n",
        "enc_dec_model.compile(optimizer='Adam',loss='sparse_categorical_crossentropy')"
      ]
    },
    {
      "cell_type": "code",
      "execution_count": null,
      "metadata": {
        "scrolled": true,
        "id": "DT6HsnrFKJLZ",
        "outputId": "efe45784-e42c-4ed9-8541-c20be2793c02"
      },
      "outputs": [
        {
          "name": "stdout",
          "output_type": "stream",
          "text": [
            "Epoch 1/20\n",
            "4411/4411 [==============================] - 118s 26ms/step - loss: 1.0870 - val_loss: 0.7909\n",
            "Epoch 2/20\n",
            "4411/4411 [==============================] - 112s 25ms/step - loss: 0.6698 - val_loss: 0.5819\n",
            "Epoch 3/20\n",
            "4411/4411 [==============================] - 112s 25ms/step - loss: 0.5017 - val_loss: 0.4667\n",
            "Epoch 4/20\n",
            "4411/4411 [==============================] - 112s 25ms/step - loss: 0.3984 - val_loss: 0.3953\n",
            "Epoch 5/20\n",
            "4411/4411 [==============================] - 113s 26ms/step - loss: 0.3300 - val_loss: 0.3485\n",
            "Epoch 6/20\n",
            "4411/4411 [==============================] - 113s 26ms/step - loss: 0.2816 - val_loss: 0.3168\n",
            "Epoch 7/20\n",
            "4411/4411 [==============================] - 112s 25ms/step - loss: 0.2459 - val_loss: 0.2937\n",
            "Epoch 8/20\n",
            "4411/4411 [==============================] - 112s 26ms/step - loss: 0.2188 - val_loss: 0.2773\n",
            "Epoch 9/20\n",
            "4411/4411 [==============================] - 112s 25ms/step - loss: 0.1975 - val_loss: 0.2645\n",
            "Epoch 10/20\n",
            "4411/4411 [==============================] - 112s 25ms/step - loss: 0.1802 - val_loss: 0.2561\n",
            "Epoch 11/20\n",
            "4411/4411 [==============================] - 113s 26ms/step - loss: 0.1661 - val_loss: 0.2482\n",
            "Epoch 12/20\n",
            "4411/4411 [==============================] - 113s 26ms/step - loss: 0.1540 - val_loss: 0.2417\n",
            "Epoch 13/20\n",
            "4411/4411 [==============================] - 113s 26ms/step - loss: 0.1438 - val_loss: 0.2366\n",
            "Epoch 14/20\n",
            "4411/4411 [==============================] - 112s 25ms/step - loss: 0.1349 - val_loss: 0.2340\n",
            "Epoch 15/20\n",
            "4411/4411 [==============================] - 112s 25ms/step - loss: 0.1274 - val_loss: 0.2302\n",
            "Epoch 16/20\n",
            "4411/4411 [==============================] - 113s 26ms/step - loss: 0.1205 - val_loss: 0.2289\n",
            "Epoch 17/20\n",
            "4411/4411 [==============================] - 113s 26ms/step - loss: 0.1145 - val_loss: 0.2267\n",
            "Epoch 18/20\n",
            "4411/4411 [==============================] - 113s 26ms/step - loss: 0.1091 - val_loss: 0.2246\n",
            "Epoch 19/20\n",
            "4411/4411 [==============================] - 112s 25ms/step - loss: 0.1043 - val_loss: 0.2238\n",
            "Epoch 20/20\n",
            "4411/4411 [==============================] - 112s 25ms/step - loss: 0.1000 - val_loss: 0.2243\n"
          ]
        },
        {
          "data": {
            "text/plain": [
              "<tensorflow.python.keras.callbacks.History at 0x2d9f0cac5e0>"
            ]
          },
          "execution_count": 32,
          "metadata": {},
          "output_type": "execute_result"
        }
      ],
      "source": [
        "enc_dec_model.fit(train_dataloader,epochs=20,validation_data=test_dataloader)"
      ]
    },
    {
      "cell_type": "code",
      "execution_count": null,
      "metadata": {
        "id": "KEvZl7yZKJLZ",
        "outputId": "6045ea75-3cad-46d1-cdfb-5213a73a2d95"
      },
      "outputs": [
        {
          "name": "stdout",
          "output_type": "stream",
          "text": [
            "Model: \"encoder_decoder_1\"\n",
            "_________________________________________________________________\n",
            "Layer (type)                 Output Shape              Param #   \n",
            "=================================================================\n",
            "encoder_2 (Encoder)          multiple                  2704140   \n",
            "_________________________________________________________________\n",
            "decoder_3 (Decoder)          multiple                  1350240   \n",
            "_________________________________________________________________\n",
            "dense_1 (Dense)              multiple                  850200    \n",
            "=================================================================\n",
            "Total params: 4,904,580\n",
            "Trainable params: 4,904,580\n",
            "Non-trainable params: 0\n",
            "_________________________________________________________________\n"
          ]
        }
      ],
      "source": [
        "enc_dec_model.summary()"
      ]
    },
    {
      "cell_type": "code",
      "execution_count": null,
      "metadata": {
        "id": "0LxdPkLsKJLa",
        "outputId": "b2ebbeff-9ccd-44b5-d7d8-513cd35086fc"
      },
      "outputs": [
        {
          "data": {
            "text/plain": [
              "[<__main__.Encoder at 0x2d98649e400>,\n",
              " <__main__.Decoder at 0x2d9f080dfa0>,\n",
              " <tensorflow.python.keras.layers.core.Dense at 0x2d9e7e36dc0>]"
            ]
          },
          "execution_count": 34,
          "metadata": {},
          "output_type": "execute_result"
        }
      ],
      "source": [
        "enc_dec_model.layers"
      ]
    },
    {
      "cell_type": "code",
      "execution_count": null,
      "metadata": {
        "id": "SkARSlZgLOfE"
      },
      "outputs": [],
      "source": [
        "def predict(input_sentence):\n",
        "    #A. Given input sentence, convert the sentence into integers using tokenizer used earlier\n",
        "    inp = tok_ita.texts_to_sequences([input_sentence])\n",
        "    inp = pad_sequences(inp, maxlen=max_len_ita, dtype='int32', padding='post')\n",
        "    print(inp.shape)\n",
        "    #B. Pass the input_sequence to encoder. we get encoder_outputs, last time step hidden and cell state\n",
        "    enc_out,enc_h_state,enc_c_state = enc_dec_model.layers[0](inp,enc_dec_model.encoder.initialize_states(batch_size=1))\n",
        "    #C. Initialize index of <start> as input to decoder. and encoder final states as input_states to decoder\n",
        "    dec_inp = np.array(tok_eng.word_index['<sos>']).reshape(1,1)\n",
        "    #print(enc_out.shape,enc_h_state.shape,enc_c_state.shape,dec_inp.shape)\n",
        "    dec_stop = tok_eng.word_index['<eos>']\n",
        "    states=[enc_h_state,enc_c_state]\n",
        "    stop_condition=False\n",
        "    sent=''\n",
        "    k=0\n",
        "    while not stop_condition:\n",
        "        #D. till we reach max_length of decoder or till the model predicted word <end>:\n",
        "        predicted_out,state_h,state_c=enc_dec_model.layers[1](dec_inp,states)\n",
        "        #pass the predicted_out to the dense layer\n",
        "        pred_proba = enc_dec_model.layers[2](predicted_out)\n",
        "        #print(\"Shape of dense layer output:\",pred_proba.shape)\n",
        "    \n",
        "        #update the states=[state_h,state_c]\n",
        "        states=[state_h,state_c]\n",
        "        #And get the index of the word with maximum probability of the dense layer output, \n",
        "        #using the tokenizer(word index) get the word and then store it in a string.\n",
        "        word_ind = np.argmax(pred_proba,-1)\n",
        "        pred_str = list(tok_eng.word_index.keys())[int(word_ind-1)]\n",
        "        sent += ' '+pred_str\n",
        "        k+=1\n",
        "        if k>max_len_eng or int(word_ind) == int(dec_stop):\n",
        "            stop_condition=True\n",
        "        dec_inp = word_ind.reshape(1,1)\n",
        "    return sent,enc_out,state_h"
      ]
    },
    {
      "cell_type": "code",
      "execution_count": null,
      "metadata": {
        "id": "foRhmLzFKJLa",
        "outputId": "c609c84a-07de-44ce-be2c-c8544bc62643"
      },
      "outputs": [
        {
          "data": {
            "text/plain": [
              "('vidi un ufo', 'i saw a ufo <eos>')"
            ]
          },
          "execution_count": 138,
          "metadata": {},
          "output_type": "execute_result"
        }
      ],
      "source": [
        "xval['Italian'].values[100],xval[\"eng_out\"].values[100]"
      ]
    },
    {
      "cell_type": "code",
      "execution_count": null,
      "metadata": {
        "id": "njIBzIJiKJLb",
        "outputId": "29c81106-1c71-489c-8a90-2dc1779b1c1c"
      },
      "outputs": [
        {
          "name": "stdout",
          "output_type": "stream",
          "text": [
            "(1, 23)\n",
            "Translation time: 0.07 seconds\n"
          ]
        },
        {
          "data": {
            "text/plain": [
              "' i saw a ufo <eos>'"
            ]
          },
          "execution_count": 140,
          "metadata": {},
          "output_type": "execute_result"
        }
      ],
      "source": [
        "start = time.time()\n",
        "pred_sent,enc_output,dec_hid = predict(xval['Italian'].values[100])\n",
        "end = time.time()\n",
        "print(\"Translation time:\",round(end-start,2),\"seconds\")\n",
        "pred_sent"
      ]
    },
    {
      "cell_type": "code",
      "execution_count": null,
      "metadata": {
        "id": "yT6jB3UsKJLb",
        "outputId": "8edee527-e105-42fa-89bb-94ed2e111dcf"
      },
      "outputs": [
        {
          "data": {
            "text/plain": [
              "1.0"
            ]
          },
          "execution_count": 106,
          "metadata": {},
          "output_type": "execute_result"
        }
      ],
      "source": [
        "import nltk.translate.bleu_score as bleu\n",
        "act = [xval[\"eng_out\"].values[2].split()]\n",
        "translated = pred_sent.split()\n",
        "bleu.sentence_bleu(act,translated)"
      ]
    },
    {
      "cell_type": "code",
      "execution_count": null,
      "metadata": {
        "id": "pGRBClDhKJLb",
        "outputId": "2fdabfef-76a3-43a6-bc0a-2aa6b9fb5e74"
      },
      "outputs": [
        {
          "data": {
            "text/plain": [
              "' do not worry about it <eos>'"
            ]
          },
          "execution_count": 105,
          "metadata": {},
          "output_type": "execute_result"
        }
      ],
      "source": [
        "predict(\"non ti preoccupare\")"
      ]
    },
    {
      "cell_type": "code",
      "execution_count": null,
      "metadata": {
        "id": "d2IGIqt3KJLb",
        "outputId": "0eb4c21d-45a7-4fbd-d468-fdd081c8dc93"
      },
      "outputs": [
        {
          "data": {
            "text/html": [
              "<div>\n",
              "<style scoped>\n",
              "    .dataframe tbody tr th:only-of-type {\n",
              "        vertical-align: middle;\n",
              "    }\n",
              "\n",
              "    .dataframe tbody tr th {\n",
              "        vertical-align: top;\n",
              "    }\n",
              "\n",
              "    .dataframe thead th {\n",
              "        text-align: right;\n",
              "    }\n",
              "</style>\n",
              "<table border=\"1\" class=\"dataframe\">\n",
              "  <thead>\n",
              "    <tr style=\"text-align: right;\">\n",
              "      <th></th>\n",
              "      <th>Italian</th>\n",
              "      <th>eng_inp</th>\n",
              "      <th>eng_out</th>\n",
              "    </tr>\n",
              "  </thead>\n",
              "  <tbody>\n",
              "    <tr>\n",
              "      <th>174060</th>\n",
              "      <td>sia tom che mary hanno riso</td>\n",
              "      <td>&lt;sos&gt; tom and mary both laughed</td>\n",
              "      <td>tom and mary both laughed &lt;eos&gt;</td>\n",
              "    </tr>\n",
              "    <tr>\n",
              "      <th>284872</th>\n",
              "      <td>dovrebbe essere pronta al peggio</td>\n",
              "      <td>&lt;sos&gt; you should be ready for the worst</td>\n",
              "      <td>you should be ready for the worst &lt;eos&gt;</td>\n",
              "    </tr>\n",
              "    <tr>\n",
              "      <th>226422</th>\n",
              "      <td>anche tu lo farai</td>\n",
              "      <td>&lt;sos&gt; are you going to do that too</td>\n",
              "      <td>are you going to do that too &lt;eos&gt;</td>\n",
              "    </tr>\n",
              "    <tr>\n",
              "      <th>280951</th>\n",
              "      <td>non vuole parlarne</td>\n",
              "      <td>&lt;sos&gt; she does not want to talk about it</td>\n",
              "      <td>she does not want to talk about it &lt;eos&gt;</td>\n",
              "    </tr>\n",
              "    <tr>\n",
              "      <th>52941</th>\n",
              "      <td>oggi offro io</td>\n",
              "      <td>&lt;sos&gt; today is my treat</td>\n",
              "      <td>today is my treat &lt;eos&gt;</td>\n",
              "    </tr>\n",
              "    <tr>\n",
              "      <th>...</th>\n",
              "      <td>...</td>\n",
              "      <td>...</td>\n",
              "      <td>...</td>\n",
              "    </tr>\n",
              "    <tr>\n",
              "      <th>319103</th>\n",
              "      <td>hai mai mangiato del cibo turco prima</td>\n",
              "      <td>&lt;sos&gt; have you ever eaten turkish food before</td>\n",
              "      <td>have you ever eaten turkish food before &lt;eos&gt;</td>\n",
              "    </tr>\n",
              "    <tr>\n",
              "      <th>279563</th>\n",
              "      <td>ero sposata quando avevo diciannove anni</td>\n",
              "      <td>&lt;sos&gt; i was married when i was nineteen</td>\n",
              "      <td>i was married when i was nineteen &lt;eos&gt;</td>\n",
              "    </tr>\n",
              "    <tr>\n",
              "      <th>178120</th>\n",
              "      <td>perché avevi bisogno di un martello</td>\n",
              "      <td>&lt;sos&gt; why did you need a hammer</td>\n",
              "      <td>why did you need a hammer &lt;eos&gt;</td>\n",
              "    </tr>\n",
              "    <tr>\n",
              "      <th>105040</th>\n",
              "      <td>so che qualcuno è qui</td>\n",
              "      <td>&lt;sos&gt; i know someone is here</td>\n",
              "      <td>i know someone is here &lt;eos&gt;</td>\n",
              "    </tr>\n",
              "    <tr>\n",
              "      <th>146638</th>\n",
              "      <td>non vi dovete preoccupare</td>\n",
              "      <td>&lt;sos&gt; you do not need to worry</td>\n",
              "      <td>you do not need to worry &lt;eos&gt;</td>\n",
              "    </tr>\n",
              "  </tbody>\n",
              "</table>\n",
              "<p>1000 rows × 3 columns</p>\n",
              "</div>"
            ],
            "text/plain": [
              "                                         Italian  \\\n",
              "174060               sia tom che mary hanno riso   \n",
              "284872          dovrebbe essere pronta al peggio   \n",
              "226422                         anche tu lo farai   \n",
              "280951                        non vuole parlarne   \n",
              "52941                              oggi offro io   \n",
              "...                                          ...   \n",
              "319103     hai mai mangiato del cibo turco prima   \n",
              "279563  ero sposata quando avevo diciannove anni   \n",
              "178120       perché avevi bisogno di un martello   \n",
              "105040                     so che qualcuno è qui   \n",
              "146638                 non vi dovete preoccupare   \n",
              "\n",
              "                                              eng_inp  \\\n",
              "174060                <sos> tom and mary both laughed   \n",
              "284872        <sos> you should be ready for the worst   \n",
              "226422             <sos> are you going to do that too   \n",
              "280951       <sos> she does not want to talk about it   \n",
              "52941                         <sos> today is my treat   \n",
              "...                                               ...   \n",
              "319103  <sos> have you ever eaten turkish food before   \n",
              "279563        <sos> i was married when i was nineteen   \n",
              "178120                <sos> why did you need a hammer   \n",
              "105040                   <sos> i know someone is here   \n",
              "146638                 <sos> you do not need to worry   \n",
              "\n",
              "                                              eng_out  \n",
              "174060                tom and mary both laughed <eos>  \n",
              "284872        you should be ready for the worst <eos>  \n",
              "226422             are you going to do that too <eos>  \n",
              "280951       she does not want to talk about it <eos>  \n",
              "52941                         today is my treat <eos>  \n",
              "...                                               ...  \n",
              "319103  have you ever eaten turkish food before <eos>  \n",
              "279563        i was married when i was nineteen <eos>  \n",
              "178120                why did you need a hammer <eos>  \n",
              "105040                   i know someone is here <eos>  \n",
              "146638                 you do not need to worry <eos>  \n",
              "\n",
              "[1000 rows x 3 columns]"
            ]
          },
          "execution_count": 94,
          "metadata": {},
          "output_type": "execute_result"
        }
      ],
      "source": [
        "xval.sample(1000)"
      ]
    },
    {
      "cell_type": "code",
      "execution_count": null,
      "metadata": {
        "id": "996pFO8BLOfG",
        "outputId": "356e133f-ea88-4cbd-8f27-d5ef739780e1"
      },
      "outputs": [
        {
          "name": "stdout",
          "output_type": "stream",
          "text": [
            "Average BLEU score of 1000 sample translations: 0.581992\n",
            "Translation time for 1000 sentences: 58.03 seconds\n"
          ]
        }
      ],
      "source": [
        "# Predict on 1000 random sentences on test data and calculate the average BLEU score of these sentences.\n",
        "# https://www.nltk.org/_modules/nltk/translate/bleu_score.html\n",
        "start = time.time()\n",
        "\n",
        "import warnings\n",
        "warnings.filterwarnings(\"ignore\")\n",
        "\n",
        "sample = xval.sample(1000)\n",
        "predicted_sent=[]\n",
        "b_score = []\n",
        "for i,sent in enumerate(sample[\"Italian\"].values):\n",
        "    pred_sent = predict(sent)\n",
        "    predicted_sent.append(pred_sent)\n",
        "    bs = bleu.sentence_bleu([sample[\"eng_out\"].values[i].split()],pred_sent.split())\n",
        "    b_score.append(round(bs,3))\n",
        "sample[\"machine_translation\"] = predicted_sent\n",
        "sample[\"BLEU_score\"] = b_score\n",
        "sample.drop(\"eng_inp\",axis=1,inplace=True)\n",
        "\n",
        "print(\"Average BLEU score of 1000 sample translations:\",np.mean(b_score))\n",
        "    \n",
        "end = time.time()\n",
        "\n",
        "print(\"Translation time for 1000 sentences:\",round(end-start,2),\"seconds\")\n",
        "    "
      ]
    },
    {
      "cell_type": "markdown",
      "metadata": {
        "id": "CxWFDxZXLOfJ"
      },
      "source": [
        " "
      ]
    },
    {
      "cell_type": "markdown",
      "metadata": {
        "id": "yZhX3K9GLOfJ"
      },
      "source": [
        "## Task -2: Including Attention mechanisum"
      ]
    },
    {
      "cell_type": "markdown",
      "metadata": {
        "id": "PU4KIsGxLOfK"
      },
      "source": [
        "### <font color='blue'>**Implement custom encoder decoder and attention layers**</font>"
      ]
    },
    {
      "cell_type": "markdown",
      "metadata": {
        "id": "TMm3ADQDLOfK"
      },
      "source": [
        "<font color='blue'>**Encoder**</font>"
      ]
    },
    {
      "cell_type": "code",
      "execution_count": null,
      "metadata": {
        "id": "Lx_5NA24KzRp"
      },
      "outputs": [],
      "source": [
        "class Encoder(tf.keras.Model):\n",
        "    '''\n",
        "    Encoder model -- That takes a input sequence and returns encoder-outputs,encoder_final_state_h,encoder_final_state_c\n",
        "    '''\n",
        "\n",
        "    def __init__(self,inp_vocab_size,embedding_size,lstm_size,input_length):\n",
        "        super().__init__()\n",
        "        #Initialize Embedding layer\n",
        "        #Intialize Encoder LSTM layer\n",
        "        self.inp_voc_size = inp_vocab_size\n",
        "        self.emb_size = embedding_size\n",
        "        self.lstm_units = lstm_size\n",
        "        self.seq_len = input_length\n",
        "        self.emb_layer = Embedding(input_dim=self.inp_voc_size,output_dim=self.emb_size,mask_zero=True,\n",
        "                                   input_length=self.seq_len,name=\"enc_emb_layer\")\n",
        "        self.enc_lstm = LSTM(self.lstm_units,return_sequences=True,return_state=True,name=\"enc_lstm\")\n",
        "        self.lstm_out = 0\n",
        "        self.h_state = 0\n",
        "        self.c_state=0\n",
        "        \n",
        "\n",
        "    def call(self,input_sequence,states):\n",
        "        '''\n",
        "          This function takes a sequence input and the initial states of the encoder.\n",
        "          Pass the input_sequence input to the Embedding layer, Pass the embedding layer ouput to encoder_lstm\n",
        "          returns -- encoder_output, last time step's hidden and cell state\n",
        "        '''\n",
        "        emb_out = self.emb_layer(input_sequence)\n",
        "        self.lstm_out,self.h_state,self.c_state = self.enc_lstm(emb_out)\n",
        "        \n",
        "        return self.lstm_out,self.h_state,self.c_state\n",
        "\n",
        "    \n",
        "    def initialize_states(self,batch_size):\n",
        "        '''\n",
        "      Given a batch size it will return intial hidden state and intial cell state.\n",
        "      If batch size is 32- Hidden state is zeros of size [32,lstm_units], cell state zeros is of size [32,lstm_units]\n",
        "      '''\n",
        "        init_h_state = tf.zeros((batch_size,self.lstm_units))\n",
        "        init_c_state = tf.zeros((batch_size,self.lstm_units))\n",
        "      \n",
        "        return init_h_state,init_c_state\n",
        "        \n"
      ]
    },
    {
      "cell_type": "markdown",
      "metadata": {
        "id": "4ub9aN-hK244"
      },
      "source": [
        "<font color='cyan'>**Grader function - 1**</font>"
      ]
    },
    {
      "cell_type": "code",
      "execution_count": null,
      "metadata": {
        "id": "wRoe65b9LB0D",
        "outputId": "8aa5dc9a-ca82-44b8-dcba-08769ebb6425"
      },
      "outputs": [
        {
          "name": "stdout",
          "output_type": "stream",
          "text": [
            "True\n"
          ]
        }
      ],
      "source": [
        "def grader_check_encoder():\n",
        "    \n",
        "    '''\n",
        "        vocab-size: Unique words of the input language,\n",
        "        embedding_size: output embedding dimension for each word after embedding layer,\n",
        "        lstm_size: Number of lstm units in encoder,\n",
        "        input_length: Length of the input sentence,\n",
        "        batch_size\n",
        "    '''\n",
        "    \n",
        "    vocab_size=10\n",
        "    embedding_size=20\n",
        "    lstm_size=32\n",
        "    input_length=10\n",
        "    batch_size=16\n",
        "    encoder=Encoder(vocab_size,embedding_size,lstm_size,input_length)\n",
        "    input_sequence=tf.random.uniform(shape=[batch_size,input_length],maxval=vocab_size,minval=0,dtype=tf.int32)\n",
        "    initial_state=encoder.initialize_states(batch_size)\n",
        "    encoder_output,state_h,state_c=encoder(input_sequence,initial_state)\n",
        "    \n",
        "    assert(encoder_output.shape==(batch_size,input_length,lstm_size) and state_h.shape==(batch_size,lstm_size) and state_c.shape==(batch_size,lstm_size))\n",
        "    return True\n",
        "print(grader_check_encoder())"
      ]
    },
    {
      "cell_type": "markdown",
      "metadata": {
        "id": "lXn278lhLYRM"
      },
      "source": [
        "<font color='blue'>**Attention**</font>"
      ]
    },
    {
      "cell_type": "code",
      "execution_count": null,
      "metadata": {
        "id": "ab5SNdPZLlur"
      },
      "outputs": [],
      "source": [
        "class Attention(tf.keras.layers.Layer):\n",
        "    \n",
        "    def __init__(self,scoring_function, att_units):\n",
        "        super().__init__()\n",
        "        \n",
        "        self.scoring_function = scoring_function\n",
        "        self.att_units = att_units\n",
        "\n",
        "        if self.scoring_function=='dot':\n",
        "            pass\n",
        "            # Intialize variables needed for Dot score function here\n",
        "\n",
        "        elif scoring_function == 'general':\n",
        "          # Intialize variables needed for General score function here\n",
        "            self.wa = Dense(att_units)\n",
        "            \n",
        "        elif scoring_function == 'concat':\n",
        "            self.w1 = Dense(att_units)\n",
        "            self.w2 = Dense(att_units)\n",
        "            self.v = Dense(1)\n",
        "          # Intialize variables needed for Concat score function here\n",
        "            \n",
        "  \n",
        "  \n",
        "    def call(self,decoder_hidden_state,encoder_output):\n",
        "  \n",
        "    \n",
        "        if self.scoring_function == 'dot':\n",
        "            # Implement Dot score function here\n",
        "            state = tf.expand_dims(decoder_hidden_state,-1)\n",
        "            score = tf.matmul(encoder_output,state)\n",
        "            weights = tf.nn.softmax(score,axis=1)\n",
        "            weighted_out = encoder_output*weights\n",
        "            context_vec = tf.reduce_sum(weighted_out,axis=1)\n",
        "            \n",
        "            \"\"\"print(state.shape)\n",
        "            print(score.shape)\n",
        "            print(weights.shape)\n",
        "            print(weighted_out.shape)\n",
        "            print(context_vec.shape)\n",
        "            print(\"=\"*100)\"\"\"\n",
        "            \n",
        "            return context_vec,weights\n",
        "        \n",
        "        elif self.scoring_function == 'general':\n",
        "            # Implement General score function here\n",
        "            state = tf.expand_dims(decoder_hidden_state,2)\n",
        "            #print(state.shape)\n",
        "            score = tf.matmul(self.wa(encoder_output),state)\n",
        "            #print(\"score:\",score)\n",
        "            weights = tf.nn.softmax(score,axis=1)\n",
        "            weighted_out = encoder_output*weights\n",
        "            context_vec = tf.reduce_sum(weighted_out,axis=1)\n",
        "            \n",
        "            \"\"\"print(state.shape)\n",
        "            print(score.shape)\n",
        "            print(weights.shape)\n",
        "            print(weighted_out.shape)\n",
        "            print(context_vec.shape)\"\"\"\n",
        "            \n",
        "            return context_vec,weights\n",
        "           \n",
        "            \n",
        "        elif self.scoring_function == 'concat':\n",
        "            # Implement concat score function here\n",
        "            state = tf.expand_dims(decoder_hidden_state,1)\n",
        "            score = self.v(tf.nn.tanh(self.w1(state)+self.w2(encoder_output)))\n",
        "            #print(self.w1(state).shape,self.w2(encoder_output).shape)\n",
        "            #print(\"score:\",score.shape)\n",
        "            weights = tf.nn.softmax(score,axis=1)\n",
        "            #print(\"weights:\",weights.shape)\n",
        "            weighted_out = encoder_output*weights\n",
        "            context_vec = tf.reduce_sum(weighted_out,axis=1)\n",
        "            #print(\"context_vec:\",context_vec.shape)\n",
        "                \n",
        "            return context_vec,weights\n",
        "    \n",
        "    "
      ]
    },
    {
      "cell_type": "markdown",
      "metadata": {
        "id": "ExQDlxI9LuqK"
      },
      "source": [
        "<font color='cyan'>**Grader function - 2**</font>"
      ]
    },
    {
      "cell_type": "code",
      "execution_count": null,
      "metadata": {
        "id": "51x50h_TLrl9",
        "outputId": "cdc43de7-207a-4bbd-e07c-c22f1aa393c5"
      },
      "outputs": [
        {
          "name": "stdout",
          "output_type": "stream",
          "text": [
            "True\n",
            "True\n",
            "True\n"
          ]
        }
      ],
      "source": [
        "def grader_check_attention(scoring_fun):\n",
        "    \n",
        "    ''' \n",
        "        att_units: Used in matrix multiplications for scoring functions,\n",
        "        input_length: Length of the input sentence,\n",
        "        batch_size\n",
        "    '''\n",
        "    \n",
        "    input_length=10\n",
        "    batch_size=16\n",
        "    att_units=32\n",
        "    \n",
        "    state_h=tf.random.uniform(shape=[batch_size,att_units])\n",
        "    encoder_output=tf.random.uniform(shape=[batch_size,input_length,att_units])\n",
        "    attention=Attention(scoring_fun,att_units)\n",
        "    context_vector,attention_weights=attention(state_h,encoder_output)\n",
        "    assert(context_vector.shape==(batch_size,att_units) and attention_weights.shape==(batch_size,input_length,1))\n",
        "    return True\n",
        "print(grader_check_attention('dot'))\n",
        "print(grader_check_attention('general'))\n",
        "print(grader_check_attention('concat'))"
      ]
    },
    {
      "cell_type": "markdown",
      "metadata": {
        "id": "ic-FNEbfL2DN"
      },
      "source": [
        "<font color='blue'>**OneStepDecoder**</font>"
      ]
    },
    {
      "cell_type": "code",
      "execution_count": null,
      "metadata": {
        "id": "Kc8m7lmOL097"
      },
      "outputs": [],
      "source": [
        "class OneStepDecoder(tf.keras.Model):\n",
        "    def __init__(self,tar_vocab_size, embedding_dim, input_length, dec_units ,score_fun ,att_units):\n",
        "        super().__init__()\n",
        "        self.tar_voc_size = tar_vocab_size\n",
        "        self.embed_dim = embedding_dim\n",
        "        self.inp_len = input_length\n",
        "        self.dec_units = dec_units\n",
        "        self.score_fun = score_fun\n",
        "        self.att_units = att_units\n",
        "        \n",
        "        self.emb_layer = Embedding(self.tar_voc_size,self.embed_dim,input_length=self.inp_len)\n",
        "        self.lstm = LSTM(self.dec_units, return_sequences=True, return_state=True)\n",
        "        self.out_layer = Dense(self.tar_voc_size)\n",
        "        self.attention = Attention(self.score_fun, self.att_units)\n",
        "        \n",
        "        # Initialize decoder embedding layer, LSTM and any other objects needed\n",
        "        \n",
        "    def call(self,input_to_decoder, encoder_output, state_h,state_c):\n",
        "        emb = self.emb_layer(input_to_decoder)\n",
        "        context_vec,weights = self.attention(state_h,encoder_output)\n",
        "        concat = tf.concat([tf.expand_dims(context_vec,1),emb],axis=-1)\n",
        "        dec_output,dec_h_state,dec_c_state = self.lstm(concat, initial_state=[state_h, state_c])\n",
        "        rs_out = tf.reshape(dec_output,(-1,dec_output.shape[2]))\n",
        "        osd_out = self.out_layer(rs_out)\n",
        "        #print(emb.shape,context_vec.shape,concat.shape,dec_output.shape,rs_out.shape,osd_out.shape)\n",
        "        \n",
        "        return osd_out,dec_h_state,dec_c_state,weights,context_vec\n",
        "        \n",
        "    '''\n",
        "        One step decoder mechanisim step by step:\n",
        "      A. Pass the input_to_decoder to the embedding layer and then get the output(batch_size,1,embedding_dim)\n",
        "      B. Using the encoder_output and decoder hidden state, compute the context vector.\n",
        "      C. Concat the context vector with the step A output\n",
        "      D. Pass the Step-C output to LSTM/GRU and get the decoder output and states(hidden and cell state)\n",
        "      E. Pass the decoder output to dense layer(vocab size) and store the result into output.\n",
        "      F. Return the states from step D, output from Step E, attention weights from Step -B\n",
        "    '''\n"
      ]
    },
    {
      "cell_type": "markdown",
      "metadata": {
        "id": "R_I8I4EIMAXq"
      },
      "source": [
        "<font color='cyan'>**Grader function - 3**</font>"
      ]
    },
    {
      "cell_type": "code",
      "execution_count": null,
      "metadata": {
        "id": "uLEXhChnMC1k",
        "outputId": "76f3a2a6-842e-4ce0-9ba9-727fd8933d0e"
      },
      "outputs": [
        {
          "name": "stdout",
          "output_type": "stream",
          "text": [
            "True\n",
            "True\n",
            "True\n"
          ]
        }
      ],
      "source": [
        "def grader_onestepdecoder(score_fun):\n",
        "    \n",
        "    '''\n",
        "        tar_vocab_size: Unique words of the target language,\n",
        "        embedding_dim: output embedding dimension for each word after embedding layer,\n",
        "        dec_units: Number of lstm units in decoder,\n",
        "        att_units: Used in matrix multiplications for scoring functions in attention class,\n",
        "        input_length: Length of the target sentence,\n",
        "        batch_size\n",
        "        \n",
        "    \n",
        "    '''\n",
        "    \n",
        "    tar_vocab_size=13 \n",
        "    embedding_dim=12 \n",
        "    input_length=10\n",
        "    dec_units=16 \n",
        "    att_units=16\n",
        "    batch_size=32\n",
        "    onestepdecoder=OneStepDecoder(tar_vocab_size, embedding_dim, input_length, dec_units ,score_fun ,att_units)\n",
        "    input_to_decoder=tf.random.uniform(shape=(batch_size,1),maxval=10,minval=0,dtype=tf.int32)\n",
        "    encoder_output=tf.random.uniform(shape=[batch_size,input_length,dec_units])\n",
        "    state_h=tf.random.uniform(shape=[batch_size,dec_units])\n",
        "    state_c=tf.random.uniform(shape=[batch_size,dec_units])\n",
        "    output,state_h,state_c,attention_weights,context_vector=onestepdecoder(input_to_decoder,encoder_output,state_h,state_c)\n",
        "    assert(output.shape==(batch_size,tar_vocab_size))\n",
        "    assert(state_h.shape==(batch_size,dec_units))\n",
        "    assert(state_c.shape==(batch_size,dec_units))\n",
        "    assert(attention_weights.shape==(batch_size,input_length,1))\n",
        "    assert(context_vector.shape==(batch_size,dec_units))\n",
        "    return True\n",
        "    \n",
        "print(grader_onestepdecoder('dot'))\n",
        "print(grader_onestepdecoder('general'))\n",
        "print(grader_onestepdecoder('concat'))\n",
        "    "
      ]
    },
    {
      "cell_type": "markdown",
      "metadata": {
        "id": "6FHrurjUMGAi"
      },
      "source": [
        "<font color='blue'>**Decoder**</font>"
      ]
    },
    {
      "cell_type": "code",
      "execution_count": null,
      "metadata": {
        "id": "NV-x31rj6Hc4"
      },
      "outputs": [],
      "source": [
        "class Decoder(tf.keras.Model):\n",
        "    def __init__(self,out_vocab_size, embedding_dim, input_length, dec_units ,score_fun ,att_units):\n",
        "        super().__init__()\n",
        "        self.out_voc_size = out_vocab_size\n",
        "        self.emb_dim = embedding_dim\n",
        "        self.inp_len = input_length\n",
        "        self.dec_units = dec_units\n",
        "        self.score_fun = score_fun\n",
        "        self.att_units = att_units\n",
        "        self.OSD = OneStepDecoder(self.out_voc_size, self.emb_dim, self.inp_len, self.dec_units, self.score_fun, self.att_units)\n",
        "      #Intialize necessary variables and create an object from the class onestepdecoder\n",
        "\n",
        "        \n",
        "    def call(self, input_to_decoder,encoder_output,decoder_hidden_state,decoder_cell_state ):\n",
        "\n",
        "        #Initialize an empty Tensor array, that will store the outputs at each and every time step\n",
        "        #Create a tensor array as shown in the reference notebook\n",
        "        allstep_out = tf.TensorArray(tf.float32, size=tf.shape(input_to_decoder)[1], name=\"allstep_output\")\n",
        "        \n",
        "        for timestep in range(tf.shape(input_to_decoder)[1]):\n",
        "            osd_out,dec_h_state,dec_c_state,weights,context_vec=self.OSD(input_to_decoder[:,timestep:timestep+1], \n",
        "                                                                         encoder_output,decoder_hidden_state,decoder_cell_state)\n",
        "            allstep_out = allstep_out.write(timestep,osd_out)\n",
        "        allstep_out = tf.transpose(allstep_out.stack(), (1, 0, 2))\n",
        "        \n",
        "        return allstep_out\n",
        "        \n",
        "        #Iterate till the length of the decoder input\n",
        "            # Call onestepdecoder for each token in decoder_input\n",
        "            # Store the output in tensorarray\n",
        "        # Return the tensor array\n",
        "        \n",
        "        \n",
        "    "
      ]
    },
    {
      "cell_type": "markdown",
      "metadata": {
        "id": "FxrL-P8bMJH6"
      },
      "source": [
        "<font color='cyan'>**Grader function - 4**</font>"
      ]
    },
    {
      "cell_type": "code",
      "execution_count": null,
      "metadata": {
        "id": "rtbx6onFMJXb",
        "outputId": "ed6b970e-59e4-4456-f077-36061ac2d2bd"
      },
      "outputs": [
        {
          "name": "stdout",
          "output_type": "stream",
          "text": [
            "True\n",
            "True\n",
            "True\n"
          ]
        }
      ],
      "source": [
        "def grader_decoder(score_fun):\n",
        "    \n",
        "    '''\n",
        "        out_vocab_size: Unique words of the target language,\n",
        "        embedding_dim: output embedding dimension for each word after embedding layer,\n",
        "        dec_units: Number of lstm units in decoder,\n",
        "        att_units: Used in matrix multiplications for scoring functions in attention class,\n",
        "        input_length: Length of the target sentence,\n",
        "        batch_size\n",
        "        \n",
        "    \n",
        "    '''\n",
        "    \n",
        "    out_vocab_size=13 \n",
        "    embedding_dim=12 \n",
        "    input_length=11\n",
        "    dec_units=16 \n",
        "    att_units=16\n",
        "    batch_size=32\n",
        "    \n",
        "    target_sentences=tf.random.uniform(shape=(batch_size,input_length),maxval=10,minval=0,dtype=tf.int32)\n",
        "    encoder_output=tf.random.uniform(shape=[batch_size,input_length,dec_units])\n",
        "    state_h=tf.random.uniform(shape=[batch_size,dec_units])\n",
        "    state_c=tf.random.uniform(shape=[batch_size,dec_units])\n",
        "    \n",
        "    decoder=Decoder(out_vocab_size, embedding_dim, input_length, dec_units ,score_fun ,att_units)\n",
        "    output=decoder(target_sentences,encoder_output, state_h, state_c)\n",
        "    assert(output.shape==(batch_size,input_length,out_vocab_size))\n",
        "    return True\n",
        "print(grader_decoder('dot'))\n",
        "print(grader_decoder('general'))\n",
        "print(grader_decoder('concat'))"
      ]
    },
    {
      "cell_type": "markdown",
      "metadata": {
        "id": "fC1T1EOoMTqC"
      },
      "source": [
        "<font color='blue'>**Encoder Decoder model**</font>"
      ]
    },
    {
      "cell_type": "code",
      "execution_count": null,
      "metadata": {
        "id": "FfqBIe20MT3D"
      },
      "outputs": [],
      "source": [
        "class encoder_decoder(tf.keras.Model):\n",
        "    def __init__(self,batch_size,inp_vocab_size,embedding_size,lstm_size,enc_input_length,\n",
        "                out_vocab_size, dec_input_length, dec_units ,score_fun ,att_units):\n",
        "        super().__init__()\n",
        "        self.encoder = Encoder(inp_vocab_size, embedding_size, lstm_size, enc_input_length)\n",
        "        self.decoder = Decoder(out_vocab_size, embedding_size, dec_input_length, dec_units, score_fun, att_units)\n",
        "        \n",
        "            \n",
        "    def call(self,data):\n",
        "        #Intialize encoder states, Pass the encoder_sequence to the embedding layer\n",
        "        input_sequence, input_to_decoder = data[0],data[1]\n",
        "        initial_state = self.encoder.initialize_states(batch_size)\n",
        "        encoder_output, state_h, state_c = self.encoder(input_sequence, initial_state)\n",
        "        \n",
        "        # Decoder initial states are encoder final states, Initialize it accordingly\n",
        "        dec_h_state = state_h\n",
        "        dec_c_state = state_c\n",
        "        \n",
        "        # Pass the decoder sequence,encoder_output,decoder states to Decoder\n",
        "        decoder_output = self.decoder(input_to_decoder, encoder_output, dec_h_state, dec_c_state)\n",
        "        \n",
        "        # return the decoder output\n",
        "        return decoder_output"
      ]
    },
    {
      "cell_type": "markdown",
      "metadata": {
        "id": "WVRxB-FDMJWL"
      },
      "source": [
        "<font color='blue'>**Custom loss function**</font>"
      ]
    },
    {
      "cell_type": "code",
      "execution_count": null,
      "metadata": {
        "id": "QY_3izrXMs8y"
      },
      "outputs": [],
      "source": [
        "optimizer = tf.keras.optimizers.Adam()\n",
        "#https://www.tensorflow.org/tutorials/text/image_captioning#model\n",
        "loss_object = tf.keras.losses.SparseCategoricalCrossentropy(\n",
        "    from_logits=True, reduction='none')\n",
        "\n",
        "\n",
        "def loss_function(real, pred):\n",
        "    \"\"\" Custom loss function that will not consider the loss for padded zeros.\n",
        "    why are we using this, can't we use simple sparse categorical crossentropy?\n",
        "    Yes, you can use simple sparse categorical crossentropy as loss like we did in task-1. But in this loss function we are ignoring the loss\n",
        "    for the padded zeros. i.e when the input is zero then we donot need to worry what the output is. This padded zeros are added from our end\n",
        "    during preprocessing to make equal length for all the sentences.\n",
        "\n",
        "    \"\"\"\n",
        "    \n",
        "    \n",
        "    mask = tf.math.logical_not(tf.math.equal(real, 0))\n",
        "    loss_ = loss_object(real, pred)\n",
        "\n",
        "    mask = tf.cast(mask, dtype=loss_.dtype)\n",
        "    loss_ *= mask\n",
        "\n",
        "    return tf.reduce_mean(loss_)\n",
        "\n",
        "from tensorflow.keras.callbacks import ModelCheckpoint\n",
        "checkpoint = ModelCheckpoint(\"dot_score_model.h5\", monitor='val_loss', \n",
        "                             verbose=1, save_weights_only = True, save_best_only=True, mode='auto',save_freq='epoch')\n",
        "\n",
        "%reload_ext tensorboard\n",
        "import datetime\n",
        "log_dir = \"log2/\" + datetime.datetime.now().strftime(\"%Y%m%d-%H%M%S\")\n",
        "tensorboard_callback = tf.keras.callbacks.TensorBoard(log_dir=log_dir, histogram_freq=1)\n",
        "\n",
        "callbacks=[checkpoint,tensorboard_callback]"
      ]
    },
    {
      "cell_type": "markdown",
      "metadata": {
        "id": "2QlbWAqNNlqe"
      },
      "source": [
        "<font color='blue'>**Training**</font>"
      ]
    },
    {
      "cell_type": "markdown",
      "metadata": {
        "id": "wqtZUQF2NuZE"
      },
      "source": [
        "Implement dot function here."
      ]
    },
    {
      "cell_type": "code",
      "execution_count": null,
      "metadata": {
        "id": "fgyWwZWeMxGQ"
      },
      "outputs": [],
      "source": [
        "# Implement teacher forcing while training your model. You can do it two ways.\n",
        "# Prepare your data, encoder_input,decoder_input and decoder_output\n",
        "# if decoder input is \n",
        "# <start> Hi how are you\n",
        "# decoder output should be\n",
        "# Hi How are you <end>\n",
        "# i.e when you have send <start>-- decoder predicted Hi, 'Hi' decoder predicted 'How' .. e.t.c\n",
        "\n",
        "# or\n",
        " \n",
        "# model.fit([train_ita,train_eng],train_eng[:,1:]..)\n",
        "# Note: If you follow this approach some grader functions might return false and this is fine.\n",
        "batch_size=64\n",
        "inp_vocab_size=voc_size_ita+1\n",
        "out_vocab_size=voc_size_eng+1\n",
        "embedding_size=100\n",
        "lstm_size=64\n",
        "enc_input_length=max_len_ita\n",
        "dec_input_length=max_len_eng\n",
        "dec_units=64\n",
        "score_fun='dot'\n",
        "att_units=64\n",
        "att_model = encoder_decoder(batch_size,inp_vocab_size,embedding_size,lstm_size,enc_input_length,\n",
        "                out_vocab_size, dec_input_length, dec_units ,score_fun ,att_units)\n",
        "att_model.compile(optimizer=optimizer,loss=loss_function)\n"
      ]
    },
    {
      "cell_type": "code",
      "execution_count": null,
      "metadata": {
        "scrolled": true,
        "id": "hO_YT6I2KJLh",
        "outputId": "b9305dac-1134-4607-d691-b63652aa5f5a"
      },
      "outputs": [
        {
          "name": "stdout",
          "output_type": "stream",
          "text": [
            "Epoch 1/20\n",
            "4411/4411 [==============================] - 1365s 309ms/step - loss: 1.2782 - val_loss: 1.0380\n",
            "\n",
            "Epoch 00001: val_loss improved from inf to 1.03800, saving model to dot_score_model.h5\n",
            "Epoch 2/20\n",
            "4411/4411 [==============================] - 1362s 309ms/step - loss: 0.8988 - val_loss: 0.8012\n",
            "\n",
            "Epoch 00002: val_loss improved from 1.03800 to 0.80115, saving model to dot_score_model.h5\n",
            "Epoch 3/20\n",
            "4411/4411 [==============================] - 1358s 308ms/step - loss: 0.7217 - val_loss: 0.6763\n",
            "\n",
            "Epoch 00003: val_loss improved from 0.80115 to 0.67625, saving model to dot_score_model.h5\n",
            "Epoch 4/20\n",
            "4411/4411 [==============================] - 1355s 307ms/step - loss: 0.6035 - val_loss: 0.5859\n",
            "\n",
            "Epoch 00004: val_loss improved from 0.67625 to 0.58594, saving model to dot_score_model.h5\n",
            "Epoch 5/20\n",
            "4411/4411 [==============================] - 1354s 307ms/step - loss: 0.5142 - val_loss: 0.5193\n",
            "\n",
            "Epoch 00005: val_loss improved from 0.58594 to 0.51934, saving model to dot_score_model.h5\n",
            "Epoch 6/20\n",
            "4411/4411 [==============================] - 1355s 307ms/step - loss: 0.4470 - val_loss: 0.4718\n",
            "\n",
            "Epoch 00006: val_loss improved from 0.51934 to 0.47184, saving model to dot_score_model.h5\n",
            "Epoch 7/20\n",
            "4411/4411 [==============================] - 1355s 307ms/step - loss: 0.3952 - val_loss: 0.4359\n",
            "\n",
            "Epoch 00007: val_loss improved from 0.47184 to 0.43585, saving model to dot_score_model.h5\n",
            "Epoch 8/20\n",
            "4411/4411 [==============================] - 1355s 307ms/step - loss: 0.3547 - val_loss: 0.4093\n",
            "\n",
            "Epoch 00008: val_loss improved from 0.43585 to 0.40933, saving model to dot_score_model.h5\n",
            "Epoch 9/20\n",
            "4411/4411 [==============================] - 1354s 307ms/step - loss: 0.3227 - val_loss: 0.3885\n",
            "\n",
            "Epoch 00009: val_loss improved from 0.40933 to 0.38848, saving model to dot_score_model.h5\n",
            "Epoch 10/20\n",
            "4411/4411 [==============================] - 1356s 307ms/step - loss: 0.2968 - val_loss: 0.3728\n",
            "\n",
            "Epoch 00010: val_loss improved from 0.38848 to 0.37281, saving model to dot_score_model.h5\n",
            "Epoch 11/20\n",
            "4411/4411 [==============================] - 1355s 307ms/step - loss: 0.2756 - val_loss: 0.3606\n",
            "\n",
            "Epoch 00011: val_loss improved from 0.37281 to 0.36057, saving model to dot_score_model.h5\n",
            "Epoch 12/20\n",
            "4411/4411 [==============================] - 1353s 307ms/step - loss: 0.2577 - val_loss: 0.3506\n",
            "\n",
            "Epoch 00012: val_loss improved from 0.36057 to 0.35060, saving model to dot_score_model.h5\n",
            "Epoch 13/20\n",
            "4411/4411 [==============================] - 1354s 307ms/step - loss: 0.2425 - val_loss: 0.3434\n",
            "\n",
            "Epoch 00013: val_loss improved from 0.35060 to 0.34337, saving model to dot_score_model.h5\n",
            "Epoch 14/20\n",
            "4411/4411 [==============================] - 1354s 307ms/step - loss: 0.2296 - val_loss: 0.3376\n",
            "\n",
            "Epoch 00014: val_loss improved from 0.34337 to 0.33759, saving model to dot_score_model.h5\n",
            "Epoch 15/20\n",
            "4411/4411 [==============================] - 1353s 307ms/step - loss: 0.2184 - val_loss: 0.3324\n",
            "\n",
            "Epoch 00015: val_loss improved from 0.33759 to 0.33238, saving model to dot_score_model.h5\n",
            "Epoch 16/20\n",
            "4411/4411 [==============================] - 1354s 307ms/step - loss: 0.2085 - val_loss: 0.3295\n",
            "\n",
            "Epoch 00016: val_loss improved from 0.33238 to 0.32955, saving model to dot_score_model.h5\n",
            "Epoch 17/20\n",
            "4411/4411 [==============================] - 1352s 307ms/step - loss: 0.1999 - val_loss: 0.3260\n",
            "\n",
            "Epoch 00017: val_loss improved from 0.32955 to 0.32600, saving model to dot_score_model.h5\n",
            "Epoch 18/20\n",
            "4411/4411 [==============================] - 1352s 306ms/step - loss: 0.1923 - val_loss: 0.3246\n",
            "\n",
            "Epoch 00018: val_loss improved from 0.32600 to 0.32464, saving model to dot_score_model.h5\n",
            "Epoch 19/20\n",
            "4411/4411 [==============================] - 1353s 307ms/step - loss: 0.1857 - val_loss: 0.3226\n",
            "\n",
            "Epoch 00019: val_loss improved from 0.32464 to 0.32259, saving model to dot_score_model.h5\n",
            "Epoch 20/20\n",
            "4411/4411 [==============================] - 1351s 306ms/step - loss: 0.1796 - val_loss: 0.3215\n",
            "\n",
            "Epoch 00020: val_loss improved from 0.32259 to 0.32153, saving model to dot_score_model.h5\n"
          ]
        },
        {
          "data": {
            "text/plain": [
              "<tensorflow.python.keras.callbacks.History at 0x1de2edd5be0>"
            ]
          },
          "execution_count": 67,
          "metadata": {},
          "output_type": "execute_result"
        }
      ],
      "source": [
        "att_model.fit(train_dataloader,epochs=20,callbacks=callbacks,validation_data=test_dataloader)"
      ]
    },
    {
      "cell_type": "markdown",
      "metadata": {
        "id": "6DpC9zlzMcXp"
      },
      "source": [
        "## <font color='blue'>**Inference**</font>"
      ]
    },
    {
      "cell_type": "markdown",
      "metadata": {
        "id": "Z5NhESYyMW_t"
      },
      "source": [
        "<font color='blue'>**Plot attention weights**</font>"
      ]
    },
    {
      "cell_type": "code",
      "execution_count": null,
      "metadata": {
        "id": "pkEY7SsBMtrC"
      },
      "outputs": [],
      "source": [
        "import matplotlib\n",
        "def plot_attention(attention, sentence, predicted_sentence):\n",
        "    sentence = sentence.split()\n",
        "    sentence = ['<sos>'] + sentence + ['<eos>']\n",
        "    predicted_sentence =predicted_sentence.split()+ ['<eos>']\n",
        "    \n",
        "    fig = plt.figure(figsize=(10, 10))\n",
        "    ax = fig.add_subplot(1, 1, 1)\n",
        "    \n",
        "    attention = attention[:len(predicted_sentence), :len(sentence)]\n",
        "\n",
        "    ax.matshow(attention, cmap='viridis', vmin=0.0)\n",
        "\n",
        "    fontdict = {'fontsize': 14}\n",
        "\n",
        "    ax.set_xticklabels([''] + sentence, fontdict=fontdict, rotation=90)\n",
        "    ax.set_yticklabels([''] + predicted_sentence, fontdict=fontdict)\n",
        "\n",
        "    ax.xaxis.set_major_locator(matplotlib.ticker.MultipleLocator(1))\n",
        "    ax.yaxis.set_major_locator(matplotlib.ticker.MultipleLocator(1))\n",
        "\n",
        "    ax.set_xlabel('Input text')\n",
        "    ax.set_ylabel('Output text')\n",
        "    plt.suptitle('Attention weights')\n",
        "\n"
      ]
    },
    {
      "cell_type": "code",
      "execution_count": null,
      "metadata": {
        "id": "apnpkNuKKJLi",
        "outputId": "e4b65f23-fa3e-47fd-fc58-904d50ffc189"
      },
      "outputs": [
        {
          "data": {
            "text/plain": [
              "['tom', 'non', 'lha', 'fatto']"
            ]
          },
          "execution_count": 205,
          "metadata": {},
          "output_type": "execute_result"
        }
      ],
      "source": [
        "xval['Italian'].values[80].split()"
      ]
    },
    {
      "cell_type": "markdown",
      "metadata": {
        "id": "e1IhdBrgQYJr"
      },
      "source": [
        "<font color='blue'>**Predict the sentence translation**</font>"
      ]
    },
    {
      "cell_type": "code",
      "execution_count": null,
      "metadata": {
        "id": "MP3kLZoPMvSu"
      },
      "outputs": [],
      "source": [
        "def predict(input_sentence):\n",
        "    #A. Given input sentence, convert the sentence into integers using tokenizer used earlier\n",
        "    inp = tok_ita.texts_to_sequences([input_sentence])\n",
        "    inp = pad_sequences(inp, maxlen=max_len_ita, dtype='int32', padding='post')\n",
        "    #print(\"input_shape\",inp.shape)\n",
        "    #B. Pass the input_sequence to encoder. we get encoder_outputs, last time step hidden and cell state\n",
        "    enc_out,enc_h_state,enc_c_state = att_model.layers[0](inp,att_model.encoder.initialize_states(batch_size=1))\n",
        "    #C. Initialize index of <start> as input to decoder. and encoder final states as input_states to decoder\n",
        "    dec_inp = np.array(tok_eng.word_index['<sos>']).reshape(1,1)\n",
        "    #print(enc_out.shape,enc_h_state.shape,enc_c_state.shape,dec_inp.shape)\n",
        "    dec_stop = tok_eng.word_index['<eos>']\n",
        "    states=[enc_h_state,enc_c_state]\n",
        "    stop_condition=False\n",
        "    sent=''\n",
        "    k=0\n",
        "    output_len = max_len_eng\n",
        "    input_len = max_len_ita\n",
        "    attention_weights_list = []\n",
        "    #print(\"att_plot shape:\",attention_plot.shape)\n",
        "    \n",
        "    for t in range(output_len):\n",
        "        predictions,state_h,state_c,attention_weights,context_vector = att_model.layers[1].OSD(dec_inp,\n",
        "                                                                                                      enc_out,\n",
        "                                                                                                      enc_h_state,enc_c_state)\n",
        "        #print(\"OSD pred shape:\",predictions.shape)\n",
        "        attention_weights_list.append(attention_weights[0,:,0])\n",
        "        \n",
        "        word_ind = np.argmax(predictions,-1)\n",
        "        \n",
        "        pred_str = list(tok_eng.word_index.keys())[int(word_ind-1)]\n",
        "        \n",
        "        sent += ' '+pred_str\n",
        "        k+=1\n",
        "        if k>max_len_eng or int(word_ind) == int(dec_stop):\n",
        "            return sent,attention_plot\n",
        "        \n",
        "        dec_inp = word_ind.reshape(1,1)\n",
        "        \n",
        "    return sent, np.array(attention_weights_list)"
      ]
    },
    {
      "cell_type": "markdown",
      "metadata": {
        "id": "6mZVDqmtKJLi"
      },
      "source": [
        "**SAMPLE TRANSLATION AND ATTENTION PLOT USING TRAINED MODEL**"
      ]
    },
    {
      "cell_type": "code",
      "execution_count": null,
      "metadata": {
        "id": "MbLm3_0UKJLi",
        "outputId": "b4a95f31-e97a-4f7f-8473-da570efcfe6b"
      },
      "outputs": [
        {
          "data": {
            "text/plain": [
              "Italian    lasciate che lo dica a tom\n",
              "eng_inp         <sos> let me tell tom\n",
              "eng_out         let me tell tom <eos>\n",
              "Name: 28961, dtype: object"
            ]
          },
          "execution_count": 283,
          "metadata": {},
          "output_type": "execute_result"
        }
      ],
      "source": [
        "xval.iloc[150]"
      ]
    },
    {
      "cell_type": "code",
      "execution_count": null,
      "metadata": {
        "id": "8rZS05qSKJLj",
        "outputId": "2e0aa120-0db0-43bd-be45-2815ac3b70e2"
      },
      "outputs": [
        {
          "name": "stdout",
          "output_type": "stream",
          "text": [
            "Italian sentence:   lasciate che lo dica a tom\n",
            "Translated sentence:    let me tell tom <eos>\n",
            "Translation time: 0.05 seconds\n"
          ]
        }
      ],
      "source": [
        "print(\"Italian sentence:  \",xval['Italian'].values[150])\n",
        "start = time.time()\n",
        "pred_sent,attention_plot = predict(xval['Italian'].values[150])\n",
        "end = time.time()\n",
        "print(\"Translated sentence:  \",pred_sent)\n",
        "print(\"Translation time:\",round(end-start,2),\"seconds\")"
      ]
    },
    {
      "cell_type": "code",
      "execution_count": null,
      "metadata": {
        "id": "dSVgqPaOKJLj",
        "outputId": "12fe58a8-4a2f-4095-fff4-c79a54701da3"
      },
      "outputs": [
        {
          "name": "stderr",
          "output_type": "stream",
          "text": [
            "<ipython-input-292-7524cf7920bc>:16: UserWarning: FixedFormatter should only be used together with FixedLocator\n",
            "  ax.set_xticklabels([''] + sentence, fontdict=fontdict, rotation=90)\n",
            "<ipython-input-292-7524cf7920bc>:17: UserWarning: FixedFormatter should only be used together with FixedLocator\n",
            "  ax.set_yticklabels([''] + predicted_sentence, fontdict=fontdict)\n"
          ]
        },
        {
          "data": {
            "image/png": "[encoded data removed]",
            "text/plain": [
              "<Figure size 720x720 with 1 Axes>"
            ]
          },
          "metadata": {
            "needs_background": "light"
          },
          "output_type": "display_data"
        }
      ],
      "source": [
        "plot_attention(attention_plot, xval['Italian'].values[150], pred_sent)"
      ]
    },
    {
      "cell_type": "code",
      "execution_count": null,
      "metadata": {
        "id": "ZIinP3TEKJLj",
        "outputId": "e72b070d-d172-4b6b-8e19-37208a148f75"
      },
      "outputs": [
        {
          "data": {
            "text/plain": [
              "Italian               tom in realtà non vive a boston\n",
              "eng_inp    <sos> tom does not actually live in boston\n",
              "eng_out    tom does not actually live in boston <eos>\n",
              "Name: 298899, dtype: object"
            ]
          },
          "execution_count": 321,
          "metadata": {},
          "output_type": "execute_result"
        }
      ],
      "source": [
        "xval.iloc[235]"
      ]
    },
    {
      "cell_type": "code",
      "execution_count": null,
      "metadata": {
        "id": "HamBes9rKJLj",
        "outputId": "3d4b339a-77ce-4e4c-bafe-b4141bf1d1e9"
      },
      "outputs": [
        {
          "name": "stdout",
          "output_type": "stream",
          "text": [
            "Italian sentence:   tom in realtà non vive a boston\n",
            "Translated sentence:    tom does not actually live in boston <eos>\n",
            "Translation time: 0.1 seconds\n"
          ]
        }
      ],
      "source": [
        "print(\"Italian sentence:  \",xval['Italian'].values[235])\n",
        "start = time.time()\n",
        "pred_sent,attention_plot = predict(xval['Italian'].values[235])\n",
        "end = time.time()\n",
        "print(\"Translated sentence:  \",pred_sent)\n",
        "print(\"Translation time:\",round(end-start,2),\"seconds\")"
      ]
    },
    {
      "cell_type": "markdown",
      "metadata": {
        "id": "jmxIVOOQPWMu"
      },
      "source": [
        "<font color='blue'>**Calculate BLEU score**</font>"
      ]
    },
    {
      "cell_type": "code",
      "execution_count": null,
      "metadata": {
        "id": "uc63xgu2KJLj",
        "outputId": "955c7a4f-2651-4ac8-fcde-9f084b81ecaa"
      },
      "outputs": [
        {
          "name": "stdout",
          "output_type": "stream",
          "text": [
            "Average BLEU score of 1000 sample translations: 0.40623699999999996\n",
            "Translation time for 1000 sentences: 58.37 seconds\n"
          ]
        }
      ],
      "source": [
        "# Predict on 1000 random sentences on test data and calculate the average BLEU score of these sentences.\n",
        "# https://www.nltk.org/_modules/nltk/translate/bleu_score.html\n",
        "import nltk.translate.bleu_score as bleu\n",
        "\n",
        "start = time.time()\n",
        "\n",
        "import warnings\n",
        "warnings.filterwarnings(\"ignore\")\n",
        "\n",
        "sample = xval.sample(1000)\n",
        "predicted_sent=[]\n",
        "b_score = []\n",
        "for i,sent in enumerate(sample[\"Italian\"].values):\n",
        "    pred_sent,attention_plot = predict(sent)\n",
        "    predicted_sent.append(pred_sent)\n",
        "    bs = bleu.sentence_bleu([sample[\"eng_out\"].values[i].split()],pred_sent.split())\n",
        "    b_score.append(round(bs,3))\n",
        "sample[\"machine_translation\"] = predicted_sent\n",
        "sample[\"BLEU_score\"] = b_score\n",
        "sample.drop(\"eng_inp\",axis=1,inplace=True)\n",
        "\n",
        "print(\"Average BLEU score of 1000 sample translations:\",np.mean(b_score))\n",
        "    \n",
        "end = time.time()\n",
        "\n",
        "print(\"Translation time for 1000 sentences:\",round(end-start,2),\"seconds\")\n",
        "    "
      ]
    },
    {
      "cell_type": "code",
      "execution_count": null,
      "metadata": {
        "scrolled": true,
        "id": "C0iLdEQoKJLk",
        "outputId": "b2962782-04ce-4ea8-82b3-dc4f0ecad441"
      },
      "outputs": [
        {
          "data": {
            "text/html": [
              "<div>\n",
              "<style scoped>\n",
              "    .dataframe tbody tr th:only-of-type {\n",
              "        vertical-align: middle;\n",
              "    }\n",
              "\n",
              "    .dataframe tbody tr th {\n",
              "        vertical-align: top;\n",
              "    }\n",
              "\n",
              "    .dataframe thead th {\n",
              "        text-align: right;\n",
              "    }\n",
              "</style>\n",
              "<table border=\"1\" class=\"dataframe\">\n",
              "  <thead>\n",
              "    <tr style=\"text-align: right;\">\n",
              "      <th></th>\n",
              "      <th>Italian</th>\n",
              "      <th>eng_out</th>\n",
              "      <th>machine_translation</th>\n",
              "      <th>BLEU_score</th>\n",
              "    </tr>\n",
              "  </thead>\n",
              "  <tbody>\n",
              "    <tr>\n",
              "      <th>135819</th>\n",
              "      <td>io ho molti rimpianti</td>\n",
              "      <td>i have a lot of regrets &lt;eos&gt;</td>\n",
              "      <td>i have a lot of regrets &lt;eos&gt;</td>\n",
              "      <td>1.000</td>\n",
              "    </tr>\n",
              "    <tr>\n",
              "      <th>327756</th>\n",
              "      <td>io ho molte cose da fare stamattina</td>\n",
              "      <td>i have a lot of things to do this morning &lt;eos&gt;</td>\n",
              "      <td>i have many things to do this kind of doing t...</td>\n",
              "      <td>0.122</td>\n",
              "    </tr>\n",
              "    <tr>\n",
              "      <th>180206</th>\n",
              "      <td>voi avete molto denaro</td>\n",
              "      <td>do you have a lot of money &lt;eos&gt;</td>\n",
              "      <td>do you have a lot of money &lt;eos&gt;</td>\n",
              "      <td>1.000</td>\n",
              "    </tr>\n",
              "    <tr>\n",
              "      <th>312570</th>\n",
              "      <td>tom cominciò a lavorare a boston nel 2013</td>\n",
              "      <td>tom started working in boston in 2013 &lt;eos&gt;</td>\n",
              "      <td>tom started working in 2013 &lt;eos&gt;</td>\n",
              "      <td>0.507</td>\n",
              "    </tr>\n",
              "    <tr>\n",
              "      <th>80007</th>\n",
              "      <td>hanno bisogno del vostro aiuto</td>\n",
              "      <td>they need your help &lt;eos&gt;</td>\n",
              "      <td>they need your help &lt;eos&gt;</td>\n",
              "      <td>1.000</td>\n",
              "    </tr>\n",
              "    <tr>\n",
              "      <th>106310</th>\n",
              "      <td>mi è stato detto di entrare</td>\n",
              "      <td>i was told to come in &lt;eos&gt;</td>\n",
              "      <td>i was too &lt;eos&gt;</td>\n",
              "      <td>0.000</td>\n",
              "    </tr>\n",
              "    <tr>\n",
              "      <th>297181</th>\n",
              "      <td>se non ti dispiace andrò con tom</td>\n",
              "      <td>if you do not mind i will go with tom &lt;eos&gt;</td>\n",
              "      <td>if you do not go i will not go i will not go ...</td>\n",
              "      <td>0.122</td>\n",
              "    </tr>\n",
              "    <tr>\n",
              "      <th>304902</th>\n",
              "      <td>non succederà questa volta</td>\n",
              "      <td>that is not going to happen this time &lt;eos&gt;</td>\n",
              "      <td>it is not happen this is not happen this is n...</td>\n",
              "      <td>0.000</td>\n",
              "    </tr>\n",
              "    <tr>\n",
              "      <th>265414</th>\n",
              "      <td>state dicendo che è sbagliato</td>\n",
              "      <td>are you saying that that is wrong &lt;eos&gt;</td>\n",
              "      <td>are you saying that is wrong &lt;eos&gt;</td>\n",
              "      <td>0.689</td>\n",
              "    </tr>\n",
              "    <tr>\n",
              "      <th>21792</th>\n",
              "      <td>sono felici</td>\n",
              "      <td>they are happy &lt;eos&gt;</td>\n",
              "      <td>they are happy &lt;eos&gt;</td>\n",
              "      <td>1.000</td>\n",
              "    </tr>\n",
              "    <tr>\n",
              "      <th>334157</th>\n",
              "      <td>cè qualcuno che riesce a pronunciare questa pa...</td>\n",
              "      <td>is there anyone who can pronounce this word &lt;eos&gt;</td>\n",
              "      <td>is this word &lt;eos&gt;</td>\n",
              "      <td>0.000</td>\n",
              "    </tr>\n",
              "    <tr>\n",
              "      <th>187763</th>\n",
              "      <td>può avermi detto una menzogna</td>\n",
              "      <td>she may have told me a lie &lt;eos&gt;</td>\n",
              "      <td>could lie &lt;eos&gt;</td>\n",
              "      <td>0.000</td>\n",
              "    </tr>\n",
              "    <tr>\n",
              "      <th>311717</th>\n",
              "      <td>io e tom ci conosciamo a vicenda molto bene</td>\n",
              "      <td>tom and i know each other fairly well &lt;eos&gt;</td>\n",
              "      <td>tom and i see each other guys i see each othe...</td>\n",
              "      <td>0.000</td>\n",
              "    </tr>\n",
              "    <tr>\n",
              "      <th>197535</th>\n",
              "      <td>tutti guardavano tom</td>\n",
              "      <td>everyone looked over at tom &lt;eos&gt;</td>\n",
              "      <td>everyone looked at tom &lt;eos&gt;</td>\n",
              "      <td>0.000</td>\n",
              "    </tr>\n",
              "    <tr>\n",
              "      <th>137089</th>\n",
              "      <td>penso che noi eravamo fantastiche</td>\n",
              "      <td>i think we were awesome &lt;eos&gt;</td>\n",
              "      <td>i think we were awesome &lt;eos&gt;</td>\n",
              "      <td>1.000</td>\n",
              "    </tr>\n",
              "    <tr>\n",
              "      <th>311146</th>\n",
              "      <td>mi dica tutto quello che sa su di tom</td>\n",
              "      <td>tell me everything you know about tom &lt;eos&gt;</td>\n",
              "      <td>tell me to tell me to tell me to tell me to t...</td>\n",
              "      <td>0.000</td>\n",
              "    </tr>\n",
              "    <tr>\n",
              "      <th>126872</th>\n",
              "      <td>tom è dispotico vero</td>\n",
              "      <td>tom is bossy is not he &lt;eos&gt;</td>\n",
              "      <td>tom is bossy is bossy is bossy is bossy is bo...</td>\n",
              "      <td>0.098</td>\n",
              "    </tr>\n",
              "    <tr>\n",
              "      <th>266443</th>\n",
              "      <td>ha mai imbrogliato a un esame</td>\n",
              "      <td>have you ever cheated on an exam &lt;eos&gt;</td>\n",
              "      <td>have an exam &lt;eos&gt;</td>\n",
              "      <td>0.000</td>\n",
              "    </tr>\n",
              "    <tr>\n",
              "      <th>193009</th>\n",
              "      <td>beh rivoglio indietro il mio denaro</td>\n",
              "      <td>well i want my money back &lt;eos&gt;</td>\n",
              "      <td>well i want my money back &lt;eos&gt;</td>\n",
              "      <td>1.000</td>\n",
              "    </tr>\n",
              "    <tr>\n",
              "      <th>93262</th>\n",
              "      <td>posso prendere un messaggio</td>\n",
              "      <td>may i take a message &lt;eos&gt;</td>\n",
              "      <td>can i take a message &lt;eos&gt;</td>\n",
              "      <td>0.760</td>\n",
              "    </tr>\n",
              "  </tbody>\n",
              "</table>\n",
              "</div>"
            ],
            "text/plain": [
              "                                                  Italian  \\\n",
              "135819                              io ho molti rimpianti   \n",
              "327756                io ho molte cose da fare stamattina   \n",
              "180206                             voi avete molto denaro   \n",
              "312570          tom cominciò a lavorare a boston nel 2013   \n",
              "80007                      hanno bisogno del vostro aiuto   \n",
              "106310                        mi è stato detto di entrare   \n",
              "297181                   se non ti dispiace andrò con tom   \n",
              "304902                         non succederà questa volta   \n",
              "265414                      state dicendo che è sbagliato   \n",
              "21792                                         sono felici   \n",
              "334157  cè qualcuno che riesce a pronunciare questa pa...   \n",
              "187763                      può avermi detto una menzogna   \n",
              "311717        io e tom ci conosciamo a vicenda molto bene   \n",
              "197535                               tutti guardavano tom   \n",
              "137089                  penso che noi eravamo fantastiche   \n",
              "311146              mi dica tutto quello che sa su di tom   \n",
              "126872                               tom è dispotico vero   \n",
              "266443                      ha mai imbrogliato a un esame   \n",
              "193009                beh rivoglio indietro il mio denaro   \n",
              "93262                         posso prendere un messaggio   \n",
              "\n",
              "                                                  eng_out  \\\n",
              "135819                      i have a lot of regrets <eos>   \n",
              "327756    i have a lot of things to do this morning <eos>   \n",
              "180206                   do you have a lot of money <eos>   \n",
              "312570        tom started working in boston in 2013 <eos>   \n",
              "80007                           they need your help <eos>   \n",
              "106310                        i was told to come in <eos>   \n",
              "297181        if you do not mind i will go with tom <eos>   \n",
              "304902        that is not going to happen this time <eos>   \n",
              "265414            are you saying that that is wrong <eos>   \n",
              "21792                                they are happy <eos>   \n",
              "334157  is there anyone who can pronounce this word <eos>   \n",
              "187763                   she may have told me a lie <eos>   \n",
              "311717        tom and i know each other fairly well <eos>   \n",
              "197535                  everyone looked over at tom <eos>   \n",
              "137089                      i think we were awesome <eos>   \n",
              "311146        tell me everything you know about tom <eos>   \n",
              "126872                       tom is bossy is not he <eos>   \n",
              "266443             have you ever cheated on an exam <eos>   \n",
              "193009                    well i want my money back <eos>   \n",
              "93262                          may i take a message <eos>   \n",
              "\n",
              "                                      machine_translation  BLEU_score  \n",
              "135819                      i have a lot of regrets <eos>       1.000  \n",
              "327756   i have many things to do this kind of doing t...       0.122  \n",
              "180206                   do you have a lot of money <eos>       1.000  \n",
              "312570                  tom started working in 2013 <eos>       0.507  \n",
              "80007                           they need your help <eos>       1.000  \n",
              "106310                                    i was too <eos>       0.000  \n",
              "297181   if you do not go i will not go i will not go ...       0.122  \n",
              "304902   it is not happen this is not happen this is n...       0.000  \n",
              "265414                 are you saying that is wrong <eos>       0.689  \n",
              "21792                                they are happy <eos>       1.000  \n",
              "334157                                 is this word <eos>       0.000  \n",
              "187763                                    could lie <eos>       0.000  \n",
              "311717   tom and i see each other guys i see each othe...       0.000  \n",
              "197535                       everyone looked at tom <eos>       0.000  \n",
              "137089                      i think we were awesome <eos>       1.000  \n",
              "311146   tell me to tell me to tell me to tell me to t...       0.000  \n",
              "126872   tom is bossy is bossy is bossy is bossy is bo...       0.098  \n",
              "266443                                 have an exam <eos>       0.000  \n",
              "193009                    well i want my money back <eos>       1.000  \n",
              "93262                          can i take a message <eos>       0.760  "
            ]
          },
          "execution_count": 296,
          "metadata": {},
          "output_type": "execute_result"
        }
      ],
      "source": [
        "sample.head(20)"
      ]
    },
    {
      "cell_type": "markdown",
      "metadata": {
        "id": "SWg2ferDQvT3"
      },
      "source": [
        "<font color='blue'>**Repeat the same steps for Concat scoring function**</font>"
      ]
    },
    {
      "cell_type": "code",
      "execution_count": null,
      "metadata": {
        "id": "TU2pH8XmKJLk"
      },
      "outputs": [],
      "source": [
        "optimizer = tf.keras.optimizers.Adam()\n",
        "#https://www.tensorflow.org/tutorials/text/image_captioning#model\n",
        "loss_object = tf.keras.losses.SparseCategoricalCrossentropy(\n",
        "    from_logits=True, reduction='none')\n",
        "\n",
        "\n",
        "def loss_function(real, pred):\n",
        "    \"\"\" Custom loss function that will not consider the loss for padded zeros.\n",
        "    why are we using this, can't we use simple sparse categorical crossentropy?\n",
        "    Yes, you can use simple sparse categorical crossentropy as loss like we did in task-1. But in this loss function we are ignoring the loss\n",
        "    for the padded zeros. i.e when the input is zero then we donot need to worry what the output is. This padded zeros are added from our end\n",
        "    during preprocessing to make equal length for all the sentences.\n",
        "\n",
        "    \"\"\"\n",
        "    \n",
        "    \n",
        "    mask = tf.math.logical_not(tf.math.equal(real, 0))\n",
        "    loss_ = loss_object(real, pred)\n",
        "\n",
        "    mask = tf.cast(mask, dtype=loss_.dtype)\n",
        "    loss_ *= mask\n",
        "\n",
        "    return tf.reduce_mean(loss_)\n",
        "\n",
        "from tensorflow.keras.callbacks import ModelCheckpoint\n",
        "checkpoint = ModelCheckpoint(\"concat_score_model.h5\", monitor='val_loss', \n",
        "                             verbose=1, save_weights_only = True, save_best_only=True, mode='auto',save_freq='epoch')\n",
        "\n",
        "%reload_ext tensorboard\n",
        "import datetime\n",
        "log_dir = \"log3/\" + datetime.datetime.now().strftime(\"%Y%m%d-%H%M%S\")\n",
        "tensorboard_callback = tf.keras.callbacks.TensorBoard(log_dir=log_dir, histogram_freq=1)\n",
        "\n",
        "callbacks=[checkpoint,tensorboard_callback]"
      ]
    },
    {
      "cell_type": "code",
      "execution_count": null,
      "metadata": {
        "id": "4Rh9_w79M5JO"
      },
      "outputs": [],
      "source": [
        "#Compile and train your model on general scoring function.\n",
        "# Visualize few sentences randomly in Test data\n",
        "# Predict on 1000 random sentences on test data and calculate the average BLEU score of these sentences.\n",
        "# https://www.nltk.org/_modules/nltk/translate/bleu_score.html\n",
        "batch_size=64\n",
        "inp_vocab_size=voc_size_ita+1\n",
        "out_vocab_size=voc_size_eng+1\n",
        "embedding_size=100\n",
        "lstm_size=64\n",
        "enc_input_length=max_len_ita\n",
        "dec_input_length=max_len_eng\n",
        "dec_units=64\n",
        "score_fun='concat'\n",
        "att_units=64\n",
        "att_model_conc = encoder_decoder(batch_size,inp_vocab_size,embedding_size,lstm_size,enc_input_length,\n",
        "                out_vocab_size, dec_input_length, dec_units ,score_fun ,att_units)\n",
        "att_model_conc.compile(optimizer=optimizer,loss=loss_function)\n"
      ]
    },
    {
      "cell_type": "code",
      "execution_count": null,
      "metadata": {
        "scrolled": true,
        "id": "PYmt7cr0KJLk",
        "outputId": "6b14b262-1ac9-4b6f-b42c-b119381c0a82"
      },
      "outputs": [
        {
          "name": "stdout",
          "output_type": "stream",
          "text": [
            "Epoch 1/20\n",
            "4411/4411 [==============================] - 1818s 411ms/step - loss: 1.2861 - val_loss: 1.1802\n",
            "\n",
            "Epoch 00001: val_loss improved from inf to 1.18024, saving model to concat_score_model.h5\n",
            "Epoch 2/20\n",
            "4411/4411 [==============================] - 2258s 512ms/step - loss: 0.8890 - val_loss: 0.9595\n",
            "\n",
            "Epoch 00002: val_loss improved from 1.18024 to 0.95950, saving model to concat_score_model.h5\n",
            "Epoch 3/20\n",
            "4411/4411 [==============================] - 1784s 404ms/step - loss: 0.6895 - val_loss: 0.8704\n",
            "\n",
            "Epoch 00003: val_loss improved from 0.95950 to 0.87037, saving model to concat_score_model.h5\n",
            "Epoch 4/20\n",
            "4411/4411 [==============================] - 1795s 407ms/step - loss: 0.5594 - val_loss: 0.8224\n",
            "\n",
            "Epoch 00004: val_loss improved from 0.87037 to 0.82237, saving model to concat_score_model.h5\n",
            "Epoch 5/20\n",
            "4411/4411 [==============================] - 1795s 407ms/step - loss: 0.4705 - val_loss: 0.8317\n",
            "\n",
            "Epoch 00005: val_loss did not improve from 0.82237\n",
            "Epoch 6/20\n",
            "4411/4411 [==============================] - 1773s 402ms/step - loss: 0.4075 - val_loss: 0.8083\n",
            "\n",
            "Epoch 00006: val_loss improved from 0.82237 to 0.80831, saving model to concat_score_model.h5\n",
            "Epoch 7/20\n",
            "4411/4411 [==============================] - 1834s 416ms/step - loss: 0.3611 - val_loss: 0.8023\n",
            "\n",
            "Epoch 00007: val_loss improved from 0.80831 to 0.80233, saving model to concat_score_model.h5\n",
            "Epoch 8/20\n",
            "4411/4411 [==============================] - 1797s 407ms/step - loss: 0.3252 - val_loss: 0.7684\n",
            "\n",
            "Epoch 00008: val_loss improved from 0.80233 to 0.76838, saving model to concat_score_model.h5\n",
            "Epoch 9/20\n",
            "4411/4411 [==============================] - 1788s 405ms/step - loss: 0.2968 - val_loss: 0.7580\n",
            "\n",
            "Epoch 00009: val_loss improved from 0.76838 to 0.75798, saving model to concat_score_model.h5\n",
            "Epoch 10/20\n",
            "4411/4411 [==============================] - 1818s 412ms/step - loss: 0.2734 - val_loss: 0.8099\n",
            "\n",
            "Epoch 00010: val_loss did not improve from 0.75798\n",
            "Epoch 11/20\n",
            "4411/4411 [==============================] - 1827s 414ms/step - loss: 0.2544 - val_loss: 0.7594\n",
            "\n",
            "Epoch 00011: val_loss did not improve from 0.75798\n",
            "Epoch 12/20\n",
            "4411/4411 [==============================] - 1807s 410ms/step - loss: 0.2382 - val_loss: 0.7666\n",
            "\n",
            "Epoch 00012: val_loss did not improve from 0.75798\n",
            "Epoch 13/20\n",
            "4411/4411 [==============================] - 1783s 404ms/step - loss: 0.2245 - val_loss: 0.7668\n",
            "\n",
            "Epoch 00013: val_loss did not improve from 0.75798\n",
            "Epoch 14/20\n",
            "4411/4411 [==============================] - 1796s 407ms/step - loss: 0.2126 - val_loss: 0.7570\n",
            "\n",
            "Epoch 00014: val_loss improved from 0.75798 to 0.75703, saving model to concat_score_model.h5\n",
            "Epoch 15/20\n",
            "4411/4411 [==============================] - 1789s 406ms/step - loss: 0.2023 - val_loss: 0.7609\n",
            "\n",
            "Epoch 00015: val_loss did not improve from 0.75703\n",
            "Epoch 16/20\n",
            "4411/4411 [==============================] - 1791s 406ms/step - loss: 0.1933 - val_loss: 0.7415\n",
            "\n",
            "Epoch 00016: val_loss improved from 0.75703 to 0.74154, saving model to concat_score_model.h5\n",
            "Epoch 17/20\n",
            "4411/4411 [==============================] - 1792s 406ms/step - loss: 0.1852 - val_loss: 0.7207\n",
            "\n",
            "Epoch 00017: val_loss improved from 0.74154 to 0.72066, saving model to concat_score_model.h5\n",
            "Epoch 18/20\n",
            "4411/4411 [==============================] - 1796s 407ms/step - loss: 0.1781 - val_loss: 0.7175\n",
            "\n",
            "Epoch 00018: val_loss improved from 0.72066 to 0.71753, saving model to concat_score_model.h5\n",
            "Epoch 19/20\n",
            "4411/4411 [==============================] - 1793s 407ms/step - loss: 0.1718 - val_loss: 0.7452\n",
            "\n",
            "Epoch 00019: val_loss did not improve from 0.71753\n",
            "Epoch 20/20\n",
            "4411/4411 [==============================] - 1785s 405ms/step - loss: 0.1660 - val_loss: 0.7146\n",
            "\n",
            "Epoch 00020: val_loss improved from 0.71753 to 0.71456, saving model to concat_score_model.h5\n"
          ]
        },
        {
          "data": {
            "text/plain": [
              "<tensorflow.python.keras.callbacks.History at 0x1df6d44b8e0>"
            ]
          },
          "execution_count": 312,
          "metadata": {},
          "output_type": "execute_result"
        }
      ],
      "source": [
        "att_model_conc.fit(train_dataloader,epochs=20,callbacks=callbacks,validation_data=test_dataloader)"
      ]
    },
    {
      "cell_type": "code",
      "execution_count": null,
      "metadata": {
        "id": "WshSOXntKJLl"
      },
      "outputs": [],
      "source": [
        "def predict_conc(input_sentence):\n",
        "    #A. Given input sentence, convert the sentence into integers using tokenizer used earlier\n",
        "    inp = tok_ita.texts_to_sequences([input_sentence])\n",
        "    inp = pad_sequences(inp, maxlen=max_len_ita, dtype='int32', padding='post')\n",
        "    #print(\"input_shape\",inp.shape)\n",
        "    #B. Pass the input_sequence to encoder. we get encoder_outputs, last time step hidden and cell state\n",
        "    enc_out,enc_h_state,enc_c_state = att_model_conc.layers[0](inp,att_model.encoder.initialize_states(batch_size=1))\n",
        "    #C. Initialize index of <start> as input to decoder. and encoder final states as input_states to decoder\n",
        "    dec_inp = np.array(tok_eng.word_index['<sos>']).reshape(1,1)\n",
        "    #print(enc_out.shape,enc_h_state.shape,enc_c_state.shape,dec_inp.shape)\n",
        "    dec_stop = tok_eng.word_index['<eos>']\n",
        "    states=[enc_h_state,enc_c_state]\n",
        "    stop_condition=False\n",
        "    sent=''\n",
        "    k=0\n",
        "    output_len = max_len_eng\n",
        "    input_len = max_len_ita\n",
        "    attention_weights_list = []\n",
        "    #print(\"att_plot shape:\",attention_plot.shape)\n",
        "    \n",
        "    for t in range(output_len):\n",
        "        predictions,state_h,state_c,attention_weights,context_vector = att_model_conc.layers[1].OSD(dec_inp,\n",
        "                                                                                                      enc_out,\n",
        "                                                                                                      enc_h_state,enc_c_state)\n",
        "        #print(\"OSD pred shape:\",predictions.shape)\n",
        "        attention_weights_list.append(attention_weights[0,:,0])\n",
        "        \n",
        "        word_ind = np.argmax(predictions,-1)\n",
        "        \n",
        "        pred_str = list(tok_eng.word_index.keys())[int(word_ind-1)]\n",
        "        \n",
        "        sent += ' '+pred_str\n",
        "        k+=1\n",
        "        if k>max_len_eng or int(word_ind) == int(dec_stop):\n",
        "            return sent,np.array(attention_weights_list)\n",
        "        \n",
        "        dec_inp = word_ind.reshape(1,1)\n",
        "        \n",
        "    return sent, np.array(attention_weights_list)"
      ]
    },
    {
      "cell_type": "code",
      "execution_count": null,
      "metadata": {
        "id": "86LS-C-BKJLl",
        "outputId": "790ae30c-3d8f-4696-8728-10593fc8c27e"
      },
      "outputs": [
        {
          "data": {
            "text/plain": [
              "Italian    lasciate che lo dica a tom\n",
              "eng_inp         <sos> let me tell tom\n",
              "eng_out         let me tell tom <eos>\n",
              "Name: 28961, dtype: object"
            ]
          },
          "execution_count": 316,
          "metadata": {},
          "output_type": "execute_result"
        }
      ],
      "source": [
        "xval.iloc[150]"
      ]
    },
    {
      "cell_type": "code",
      "execution_count": null,
      "metadata": {
        "id": "ll7MNntiKJLl",
        "outputId": "ef1c9e17-775a-4273-d377-e4d7502b114f"
      },
      "outputs": [
        {
          "name": "stdout",
          "output_type": "stream",
          "text": [
            "Italian sentence:   lasciate che lo dica a tom\n",
            "Translated sentence:    if tom <eos>\n",
            "Translation time: 13.57 seconds\n"
          ]
        }
      ],
      "source": [
        "print(\"Italian sentence:  \",xval['Italian'].values[150])\n",
        "start = time.time()\n",
        "pred_sent,attention_plot = predict_conc(xval['Italian'].values[150])\n",
        "end = time.time()\n",
        "print(\"Translated sentence:  \",pred_sent)\n",
        "print(\"Translation time:\",round(end-start,2),\"seconds\")"
      ]
    },
    {
      "cell_type": "code",
      "execution_count": null,
      "metadata": {
        "id": "T7aaNInIKJLl",
        "outputId": "6a9b7c5b-c2fe-4c22-c529-4dda33a72fb4"
      },
      "outputs": [
        {
          "data": {
            "text/plain": [
              "Italian               tom in realtà non vive a boston\n",
              "eng_inp    <sos> tom does not actually live in boston\n",
              "eng_out    tom does not actually live in boston <eos>\n",
              "Name: 298899, dtype: object"
            ]
          },
          "execution_count": 318,
          "metadata": {},
          "output_type": "execute_result"
        }
      ],
      "source": [
        "xval.iloc[235]"
      ]
    },
    {
      "cell_type": "code",
      "execution_count": null,
      "metadata": {
        "id": "QsR-04UzKJLl",
        "outputId": "f2568d4d-3030-4e1d-9c1d-f6f19ef31168"
      },
      "outputs": [
        {
          "name": "stdout",
          "output_type": "stream",
          "text": [
            "Italian sentence:   tom in realtà non vive a boston\n",
            "Translated sentence:    he still get still get still get still get still get still get still get still get still get still get still get still\n",
            "Translation time: 0.23 seconds\n"
          ]
        }
      ],
      "source": [
        "print(\"Italian sentence:  \",xval['Italian'].values[235])\n",
        "start = time.time()\n",
        "pred_sent,attention_plot = predict_conc(xval['Italian'].values[235])\n",
        "end = time.time()\n",
        "print(\"Translated sentence:  \",pred_sent)\n",
        "print(\"Translation time:\",round(end-start,2),\"seconds\")"
      ]
    },
    {
      "cell_type": "code",
      "execution_count": null,
      "metadata": {
        "id": "3znayKysKJLm",
        "outputId": "a762a700-4cc1-465b-d6fd-bacf86bac1cd"
      },
      "outputs": [
        {
          "data": {
            "image/png": "[encoded data removed]",
            "text/plain": [
              "<Figure size 720x720 with 1 Axes>"
            ]
          },
          "metadata": {
            "needs_background": "light"
          },
          "output_type": "display_data"
        }
      ],
      "source": [
        "plot_attention(attention_plot, xval['Italian'].values[150], pred_sent)"
      ]
    },
    {
      "cell_type": "code",
      "execution_count": null,
      "metadata": {
        "id": "6eYVCLBIKJLm",
        "outputId": "758cf950-0b9f-4614-a067-2e8712dc57ac"
      },
      "outputs": [
        {
          "name": "stdout",
          "output_type": "stream",
          "text": [
            "Average BLEU score of 1000 sample translations: 0.110006\n",
            "Translation time for 1000 sentences: 69.75 seconds\n"
          ]
        }
      ],
      "source": [
        "# Predict on 1000 random sentences on test data and calculate the average BLEU score of these sentences.\n",
        "# https://www.nltk.org/_modules/nltk/translate/bleu_score.html\n",
        "import nltk.translate.bleu_score as bleu\n",
        "\n",
        "start = time.time()\n",
        "\n",
        "import warnings\n",
        "warnings.filterwarnings(\"ignore\")\n",
        "\n",
        "sample = xval.sample(1000)\n",
        "predicted_sent=[]\n",
        "b_score = []\n",
        "for i,sent in enumerate(sample[\"Italian\"].values):\n",
        "    pred_sent,attention_plot = predict_conc(sent)\n",
        "    predicted_sent.append(pred_sent)\n",
        "    bs = bleu.sentence_bleu([sample[\"eng_out\"].values[i].split()],pred_sent.split())\n",
        "    b_score.append(round(bs,3))\n",
        "sample[\"machine_translation\"] = predicted_sent\n",
        "sample[\"BLEU_score\"] = b_score\n",
        "sample.drop(\"eng_inp\",axis=1,inplace=True)\n",
        "\n",
        "print(\"Average BLEU score of 1000 sample translations:\",np.mean(b_score))\n",
        "    \n",
        "end = time.time()\n",
        "\n",
        "print(\"Translation time for 1000 sentences:\",round(end-start,2),\"seconds\")\n",
        "    "
      ]
    },
    {
      "cell_type": "markdown",
      "metadata": {
        "id": "VB1jRUqZQ9AM"
      },
      "source": [
        "<font color='blue'>**Repeat the same steps for General scoring function**</font>"
      ]
    },
    {
      "cell_type": "code",
      "execution_count": null,
      "metadata": {
        "id": "DIWe80k2KJLm"
      },
      "outputs": [],
      "source": [
        "optimizer = tf.keras.optimizers.Adam()\n",
        "#https://www.tensorflow.org/tutorials/text/image_captioning#model\n",
        "loss_object = tf.keras.losses.SparseCategoricalCrossentropy(\n",
        "    from_logits=True, reduction='none')\n",
        "\n",
        "\n",
        "def loss_function(real, pred):\n",
        "    \"\"\" Custom loss function that will not consider the loss for padded zeros.\n",
        "    why are we using this, can't we use simple sparse categorical crossentropy?\n",
        "    Yes, you can use simple sparse categorical crossentropy as loss like we did in task-1. But in this loss function we are ignoring the loss\n",
        "    for the padded zeros. i.e when the input is zero then we donot need to worry what the output is. This padded zeros are added from our end\n",
        "    during preprocessing to make equal length for all the sentences.\n",
        "\n",
        "    \"\"\"\n",
        "    \n",
        "    \n",
        "    mask = tf.math.logical_not(tf.math.equal(real, 0))\n",
        "    loss_ = loss_object(real, pred)\n",
        "\n",
        "    mask = tf.cast(mask, dtype=loss_.dtype)\n",
        "    loss_ *= mask\n",
        "\n",
        "    return tf.reduce_mean(loss_)\n",
        "\n",
        "from tensorflow.keras.callbacks import ModelCheckpoint\n",
        "checkpoint = ModelCheckpoint(\"gen_score_model.h5\", monitor='val_loss', \n",
        "                             verbose=1, save_weights_only = True, save_best_only=True, mode='auto',save_freq='epoch')\n",
        "\n",
        "%reload_ext tensorboard\n",
        "import datetime\n",
        "log_dir = \"log3/\" + datetime.datetime.now().strftime(\"%Y%m%d-%H%M%S\")\n",
        "tensorboard_callback = tf.keras.callbacks.TensorBoard(log_dir=log_dir, histogram_freq=1)\n",
        "\n",
        "callbacks=[checkpoint,tensorboard_callback]"
      ]
    },
    {
      "cell_type": "code",
      "execution_count": null,
      "metadata": {
        "id": "1kN9ZWViQNMB"
      },
      "outputs": [],
      "source": [
        "#Compile and train your model on concat scoring function.\n",
        "# Visualize few sentences randomly in Test data\n",
        "# Predict on 1000 random sentences on test data and calculate the average BLEU score of these sentences.\n",
        "# https://www.nltk.org/_modules/nltk/translate/bleu_score.html\n",
        "#Compile and train your model on general scoring function.\n",
        "# Visualize few sentences randomly in Test data\n",
        "# Predict on 1000 random sentences on test data and calculate the average BLEU score of these sentences.\n",
        "# https://www.nltk.org/_modules/nltk/translate/bleu_score.html\n",
        "batch_size=1\n",
        "inp_vocab_size=voc_size_ita+1\n",
        "out_vocab_size=voc_size_eng+1\n",
        "embedding_size=100\n",
        "lstm_size=64\n",
        "enc_input_length=max_len_ita\n",
        "dec_input_length=max_len_eng\n",
        "dec_units=64\n",
        "score_fun='general'\n",
        "att_units=64\n",
        "att_model_gen = encoder_decoder(batch_size,inp_vocab_size,embedding_size,lstm_size,enc_input_length,\n",
        "                out_vocab_size, dec_input_length, dec_units ,score_fun ,att_units)\n",
        "att_model_gen.compile(optimizer=optimizer,loss=loss_function)\n"
      ]
    },
    {
      "cell_type": "code",
      "execution_count": null,
      "metadata": {
        "id": "Ff1lV0ITM6_p",
        "scrolled": true,
        "outputId": "433e3d1a-beb9-4ed4-8e1e-73a87d98cd4a"
      },
      "outputs": [
        {
          "name": "stdout",
          "output_type": "stream",
          "text": [
            "Epoch 1/20\n",
            "4411/4411 [==============================] - 1489s 337ms/step - loss: 1.2681 - val_loss: 1.0091\n",
            "\n",
            "Epoch 00001: val_loss improved from inf to 1.00913, saving model to gen_score_model.h5\n",
            "Epoch 2/20\n",
            "4411/4411 [==============================] - 1483s 336ms/step - loss: 0.8837 - val_loss: 0.7867\n",
            "\n",
            "Epoch 00002: val_loss improved from 1.00913 to 0.78667, saving model to gen_score_model.h5\n",
            "Epoch 3/20\n",
            "4411/4411 [==============================] - 1484s 336ms/step - loss: 0.7015 - val_loss: 0.6511\n",
            "\n",
            "Epoch 00003: val_loss improved from 0.78667 to 0.65109, saving model to gen_score_model.h5\n",
            "Epoch 4/20\n",
            "4411/4411 [==============================] - 1498s 340ms/step - loss: 0.5784 - val_loss: 0.5641\n",
            "\n",
            "Epoch 00004: val_loss improved from 0.65109 to 0.56412, saving model to gen_score_model.h5\n",
            "Epoch 5/20\n",
            "4411/4411 [==============================] - 1516s 344ms/step - loss: 0.4884 - val_loss: 0.4983\n",
            "\n",
            "Epoch 00005: val_loss improved from 0.56412 to 0.49834, saving model to gen_score_model.h5\n",
            "Epoch 6/20\n",
            "4411/4411 [==============================] - 1497s 339ms/step - loss: 0.4213 - val_loss: 0.4518\n",
            "\n",
            "Epoch 00006: val_loss improved from 0.49834 to 0.45175, saving model to gen_score_model.h5\n",
            "Epoch 7/20\n",
            "4411/4411 [==============================] - 1483s 336ms/step - loss: 0.3709 - val_loss: 0.4198\n",
            "\n",
            "Epoch 00007: val_loss improved from 0.45175 to 0.41983, saving model to gen_score_model.h5\n",
            "Epoch 8/20\n",
            "4411/4411 [==============================] - 1488s 337ms/step - loss: 0.3323 - val_loss: 0.3963\n",
            "\n",
            "Epoch 00008: val_loss improved from 0.41983 to 0.39631, saving model to gen_score_model.h5\n",
            "Epoch 9/20\n",
            "4411/4411 [==============================] - 1484s 336ms/step - loss: 0.3020 - val_loss: 0.3741\n",
            "\n",
            "Epoch 00009: val_loss improved from 0.39631 to 0.37411, saving model to gen_score_model.h5\n",
            "Epoch 10/20\n",
            "4411/4411 [==============================] - 1498s 340ms/step - loss: 0.2775 - val_loss: 0.3607\n",
            "\n",
            "Epoch 00010: val_loss improved from 0.37411 to 0.36072, saving model to gen_score_model.h5\n",
            "Epoch 11/20\n",
            "4411/4411 [==============================] - 1493s 338ms/step - loss: 0.2574 - val_loss: 0.3452\n",
            "\n",
            "Epoch 00011: val_loss improved from 0.36072 to 0.34516, saving model to gen_score_model.h5\n",
            "Epoch 12/20\n",
            "4411/4411 [==============================] - 1489s 338ms/step - loss: 0.2405 - val_loss: 0.3369\n",
            "\n",
            "Epoch 00012: val_loss improved from 0.34516 to 0.33690, saving model to gen_score_model.h5\n",
            "Epoch 13/20\n",
            "4411/4411 [==============================] - 1490s 338ms/step - loss: 0.2262 - val_loss: 0.3377\n",
            "\n",
            "Epoch 00013: val_loss did not improve from 0.33690\n",
            "Epoch 14/20\n",
            "4411/4411 [==============================] - 1486s 337ms/step - loss: 0.2138 - val_loss: 0.3233\n",
            "\n",
            "Epoch 00014: val_loss improved from 0.33690 to 0.32332, saving model to gen_score_model.h5\n",
            "Epoch 15/20\n",
            "4411/4411 [==============================] - 1481s 336ms/step - loss: 0.2031 - val_loss: 0.3196\n",
            "\n",
            "Epoch 00015: val_loss improved from 0.32332 to 0.31964, saving model to gen_score_model.h5\n",
            "Epoch 16/20\n",
            "4411/4411 [==============================] - 1484s 336ms/step - loss: 0.1937 - val_loss: 0.3171\n",
            "\n",
            "Epoch 00016: val_loss improved from 0.31964 to 0.31708, saving model to gen_score_model.h5\n",
            "Epoch 17/20\n",
            "4411/4411 [==============================] - 1484s 336ms/step - loss: 0.1854 - val_loss: 0.3149\n",
            "\n",
            "Epoch 00017: val_loss improved from 0.31708 to 0.31491, saving model to gen_score_model.h5\n",
            "Epoch 18/20\n",
            "4411/4411 [==============================] - 1486s 337ms/step - loss: 0.1780 - val_loss: 0.3073\n",
            "\n",
            "Epoch 00018: val_loss improved from 0.31491 to 0.30732, saving model to gen_score_model.h5\n",
            "Epoch 19/20\n",
            "4411/4411 [==============================] - 1486s 337ms/step - loss: 0.1716 - val_loss: 0.3084\n",
            "\n",
            "Epoch 00019: val_loss did not improve from 0.30732\n",
            "Epoch 20/20\n",
            "4411/4411 [==============================] - 1486s 337ms/step - loss: 0.1656 - val_loss: 0.3023\n",
            "\n",
            "Epoch 00020: val_loss improved from 0.30732 to 0.30228, saving model to gen_score_model.h5\n"
          ]
        },
        {
          "data": {
            "text/plain": [
              "<tensorflow.python.keras.callbacks.History at 0x2520c2357c0>"
            ]
          },
          "execution_count": 36,
          "metadata": {},
          "output_type": "execute_result"
        }
      ],
      "source": [
        "att_model_gen.fit(train_dataloader,epochs=20,callbacks=callbacks,validation_data=test_dataloader)"
      ]
    },
    {
      "cell_type": "code",
      "execution_count": null,
      "metadata": {
        "id": "A9eqLj3IKJLn"
      },
      "outputs": [],
      "source": [
        "def predict_gen(input_sentence):\n",
        "    #A. Given input sentence, convert the sentence into integers using tokenizer used earlier\n",
        "    inp = tok_ita.texts_to_sequences([input_sentence])\n",
        "    inp = pad_sequences(inp, maxlen=max_len_ita, dtype='int32', padding='post')\n",
        "    #print(\"input_shape\",inp.shape)\n",
        "    #B. Pass the input_sequence to encoder. we get encoder_outputs, last time step hidden and cell state\n",
        "    enc_out,enc_h_state,enc_c_state = att_model_gen.layers[0](inp,att_model_gen.encoder.initialize_states(batch_size=1))\n",
        "    #C. Initialize index of <start> as input to decoder. and encoder final states as input_states to decoder\n",
        "    dec_inp = np.array(tok_eng.word_index['<sos>']).reshape(1,1)\n",
        "    #print(enc_out.shape,enc_h_state.shape,enc_c_state.shape,dec_inp.shape)\n",
        "    dec_stop = tok_eng.word_index['<eos>']\n",
        "    states=[enc_h_state,enc_c_state]\n",
        "    stop_condition=False\n",
        "    sent=''\n",
        "    k=0\n",
        "    output_len = max_len_eng\n",
        "    input_len = max_len_ita\n",
        "    attention_weights_list = []\n",
        "    #print(\"att_plot shape:\",attention_plot.shape)\n",
        "    \n",
        "    for t in range(output_len):\n",
        "        predictions,state_h,state_c,attention_weights,context_vector = att_model_gen.layers[1].OSD(dec_inp,\n",
        "                                                                                                      enc_out,\n",
        "                                                                                                      enc_h_state,enc_c_state)\n",
        "        #print(\"OSD pred shape:\",predictions.shape)\n",
        "        attention_weights_list.append(attention_weights[0,:,0])\n",
        "        \n",
        "        word_ind = np.argmax(predictions,-1)\n",
        "        \n",
        "        pred_str = list(tok_eng.word_index.keys())[int(word_ind-1)]\n",
        "        \n",
        "        sent += ' '+pred_str\n",
        "        k+=1\n",
        "        if k>max_len_eng or int(word_ind) == int(dec_stop):\n",
        "            return sent,np.array(attention_weights_list)\n",
        "        \n",
        "        dec_inp = word_ind.reshape(1,1)\n",
        "        \n",
        "    return sent, np.array(attention_weights_list)"
      ]
    },
    {
      "cell_type": "code",
      "execution_count": null,
      "metadata": {
        "id": "nM0PlBFRKJLn",
        "outputId": "57816b92-2bd2-4771-9c03-822fb2f66e94"
      },
      "outputs": [
        {
          "name": "stdout",
          "output_type": "stream",
          "text": [
            "Italian            loro non torneranno\n",
            "eng_inp    <sos> they will not be back\n",
            "eng_out    they will not be back <eos>\n",
            "Name: 65628, dtype: object\n",
            "====================================================================================================\n",
            "Italian sentence:   loro non torneranno\n",
            "Translated sentence:    they will not be back <eos>\n",
            "Translation time: 0.05 seconds\n",
            "====================================================================================================\n"
          ]
        },
        {
          "name": "stderr",
          "output_type": "stream",
          "text": [
            "<ipython-input-50-7524cf7920bc>:16: UserWarning: FixedFormatter should only be used together with FixedLocator\n",
            "  ax.set_xticklabels([''] + sentence, fontdict=fontdict, rotation=90)\n",
            "<ipython-input-50-7524cf7920bc>:17: UserWarning: FixedFormatter should only be used together with FixedLocator\n",
            "  ax.set_yticklabels([''] + predicted_sentence, fontdict=fontdict)\n"
          ]
        },
        {
          "data": {
            "image/png": "[encoded data removed]",
            "text/plain": [
              "<Figure size 720x720 with 1 Axes>"
            ]
          },
          "metadata": {
            "needs_background": "light"
          },
          "output_type": "display_data"
        }
      ],
      "source": [
        "print(xval.iloc[150])\n",
        "print(\"=\"*100)\n",
        "print(\"Italian sentence:  \",xval['Italian'].values[150])\n",
        "start = time.time()\n",
        "pred_sent,attention_plot = predict_gen(xval['Italian'].values[150])\n",
        "end = time.time()\n",
        "print(\"Translated sentence:  \",pred_sent)\n",
        "print(\"Translation time:\",round(end-start,2),\"seconds\")\n",
        "print(\"=\"*100)\n",
        "plot_attention(attention_plot, xval['Italian'].values[150], pred_sent)"
      ]
    },
    {
      "cell_type": "code",
      "execution_count": null,
      "metadata": {
        "id": "upUBWeSrKJLo",
        "outputId": "a2a25c0f-afd1-4771-c620-c76aed674f77"
      },
      "outputs": [
        {
          "name": "stdout",
          "output_type": "stream",
          "text": [
            "Italian    adesso andate a casa\n",
            "eng_inp    <sos> now go on home\n",
            "eng_out    now go on home <eos>\n",
            "Name: 21216, dtype: object\n",
            "====================================================================================================\n",
            "Italian sentence:   adesso andate a casa\n",
            "Translated sentence:    now go home <eos>\n",
            "Translation time: 0.05 seconds\n",
            "====================================================================================================\n"
          ]
        },
        {
          "name": "stderr",
          "output_type": "stream",
          "text": [
            "<ipython-input-50-7524cf7920bc>:16: UserWarning: FixedFormatter should only be used together with FixedLocator\n",
            "  ax.set_xticklabels([''] + sentence, fontdict=fontdict, rotation=90)\n",
            "<ipython-input-50-7524cf7920bc>:17: UserWarning: FixedFormatter should only be used together with FixedLocator\n",
            "  ax.set_yticklabels([''] + predicted_sentence, fontdict=fontdict)\n"
          ]
        },
        {
          "data": {
            "image/png": "[encoded data removed]",
            "text/plain": [
              "<Figure size 720x720 with 1 Axes>"
            ]
          },
          "metadata": {
            "needs_background": "light"
          },
          "output_type": "display_data"
        }
      ],
      "source": [
        "print(xval.iloc[165])\n",
        "print(\"=\"*100)\n",
        "print(\"Italian sentence:  \",xval['Italian'].values[165])\n",
        "start = time.time()\n",
        "pred_sent,attention_plot = predict_gen(xval['Italian'].values[165])\n",
        "end = time.time()\n",
        "print(\"Translated sentence:  \",pred_sent)\n",
        "print(\"Translation time:\",round(end-start,2),\"seconds\")\n",
        "print(\"=\"*100)\n",
        "plot_attention(attention_plot, xval['Italian'].values[165], pred_sent)"
      ]
    },
    {
      "cell_type": "code",
      "execution_count": null,
      "metadata": {
        "id": "bY4meDZyKJLo",
        "outputId": "c2725ffb-1306-4c0b-91f9-f56d9e19b26d"
      },
      "outputs": [
        {
          "name": "stdout",
          "output_type": "stream",
          "text": [
            "Italian     hai chiesto il nostro aiuto\n",
            "eng_inp    <sos> you asked for our help\n",
            "eng_out    you asked for our help <eos>\n",
            "Name: 130782, dtype: object\n",
            "====================================================================================================\n",
            "Italian sentence:   hai chiesto il nostro aiuto\n",
            "Translated sentence:    did you ask our help <eos>\n",
            "Translation time: 0.06 seconds\n",
            "====================================================================================================\n"
          ]
        },
        {
          "name": "stderr",
          "output_type": "stream",
          "text": [
            "<ipython-input-50-7524cf7920bc>:16: UserWarning: FixedFormatter should only be used together with FixedLocator\n",
            "  ax.set_xticklabels([''] + sentence, fontdict=fontdict, rotation=90)\n",
            "<ipython-input-50-7524cf7920bc>:17: UserWarning: FixedFormatter should only be used together with FixedLocator\n",
            "  ax.set_yticklabels([''] + predicted_sentence, fontdict=fontdict)\n"
          ]
        },
        {
          "data": {
            "image/png": "[encoded data removed]",
            "text/plain": [
              "<Figure size 720x720 with 1 Axes>"
            ]
          },
          "metadata": {
            "needs_background": "light"
          },
          "output_type": "display_data"
        }
      ],
      "source": [
        "print(xval.iloc[202])\n",
        "print(\"=\"*100)\n",
        "print(\"Italian sentence:  \",xval['Italian'].values[202])\n",
        "start = time.time()\n",
        "pred_sent,attention_plot = predict_gen(xval['Italian'].values[202])\n",
        "end = time.time()\n",
        "print(\"Translated sentence:  \",pred_sent)\n",
        "print(\"Translation time:\",round(end-start,2),\"seconds\")\n",
        "print(\"=\"*100)\n",
        "plot_attention(attention_plot, xval['Italian'].values[202], pred_sent)"
      ]
    },
    {
      "cell_type": "code",
      "execution_count": null,
      "metadata": {
        "id": "SFGrwDaxKJLo",
        "outputId": "2404afd4-e7b3-449b-e07c-6e1033c7a9cd"
      },
      "outputs": [
        {
          "name": "stdout",
          "output_type": "stream",
          "text": [
            "Average BLEU score of 1000 sample translations: 0.413175\n",
            "Translation time for 1000 sentences: 64.87 seconds\n"
          ]
        }
      ],
      "source": [
        "# Predict on 1000 random sentences on test data and calculate the average BLEU score of these sentences.\n",
        "# https://www.nltk.org/_modules/nltk/translate/bleu_score.html\n",
        "import nltk.translate.bleu_score as bleu\n",
        "\n",
        "start = time.time()\n",
        "\n",
        "import warnings\n",
        "warnings.filterwarnings(\"ignore\")\n",
        "\n",
        "sample = xval.sample(1000)\n",
        "predicted_sent=[]\n",
        "b_score = []\n",
        "for i,sent in enumerate(sample[\"Italian\"].values):\n",
        "    pred_sent,attention_plot = predict_gen(sent)\n",
        "    predicted_sent.append(pred_sent)\n",
        "    bs = bleu.sentence_bleu([sample[\"eng_out\"].values[i].split()],pred_sent.split())\n",
        "    b_score.append(round(bs,3))\n",
        "sample[\"machine_translation\"] = predicted_sent\n",
        "sample[\"BLEU_score\"] = b_score\n",
        "sample.drop(\"eng_inp\",axis=1,inplace=True)\n",
        "\n",
        "print(\"Average BLEU score of 1000 sample translations:\",np.mean(b_score))\n",
        "    \n",
        "end = time.time()\n",
        "\n",
        "print(\"Translation time for 1000 sentences:\",round(end-start,2),\"seconds\")\n",
        "    "
      ]
    },
    {
      "cell_type": "markdown",
      "metadata": {
        "id": "i6U7XfGdKJLo"
      },
      "source": [
        "**OBSERVATIONS:**\n",
        "\n",
        "Average BLEU score of random 1000 translations for various models achieved were as follows:\n",
        "\n",
        "1. Attention encoder decoder model with dot scoring function:\n",
        "   Average BLEU score of 1000 sample translations: 0.4062\n",
        "\n",
        "2. Attention encoder decoder model with concat scoring function:\n",
        "   Average BLEU score of 1000 sample translations: 0.1100\n",
        "   \n",
        "3. Attention encoder decoder model with general scoring function:\n",
        "   Average BLEU score of 1000 sample translations: 0.4131\n",
        "   \n",
        "As we can observe attention encoder-decoder model with concat scoring function performs the worst with a average BLEU score of just 0.11 for 1000 translations, whereas those with dot scoring and general scoring perform well out of which the model with general scoring function has the highest BLEU score of 0.4131.\n",
        "\n",
        "Validation loss for model  general scoring is also lowest at 0.3023 compared to 0.7146 val_loss of model with concat scoring and 0.3215 val_loss of model with dot scoring function.\n",
        "\n",
        "Model with concat scoring is overfitting as training loss is good but validation loss is high."
      ]
    }
  ],
  "metadata": {
    "colab": {
      "collapsed_sections": [],
      "provenance": []
    },
    "kernelspec": {
      "display_name": "Python 3",
      "language": "python",
      "name": "python3"
    },
    "language_info": {
      "codemirror_mode": {
        "name": "ipython",
        "version": 3
      },
      "file_extension": ".py",
      "mimetype": "text/x-python",
      "name": "python",
      "nbconvert_exporter": "python",
      "pygments_lexer": "ipython3",
      "version": "3.8.5"
    }
  },
  "nbformat": 4,
  "nbformat_minor": 0
}