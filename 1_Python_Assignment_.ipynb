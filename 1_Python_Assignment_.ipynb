{
  "nbformat": 4,
  "nbformat_minor": 0,
  "metadata": {
    "kernelspec": {
      "display_name": "Python 3",
      "language": "python",
      "name": "python3"
    },
    "language_info": {
      "codemirror_mode": {
        "name": "ipython",
        "version": 3
      },
      "file_extension": ".py",
      "mimetype": "text/x-python",
      "name": "python",
      "nbconvert_exporter": "python",
      "pygments_lexer": "ipython3",
      "version": "3.6.8"
    },
    "colab": {
      "name": "1_Python_Assignment .ipynb",
      "provenance": [],
      "collapsed_sections": []
    }
  },
  "cells": [
    {
      "cell_type": "markdown",
      "metadata": {
        "id": "l0ZzOlyxB-kf"
      },
      "source": [
        "<h1>Python: without numpy or sklearn </h1>"
      ]
    },
    {
      "cell_type": "markdown",
      "metadata": {
        "id": "C0xO8JV9B-ki"
      },
      "source": [
        "<h3> Q1: Given two matrices please print the product of those two matrices </h3>\n",
        "<pre>\n",
        "\n",
        "Ex 1: A   = [[1 3 4]\n",
        "             [2 5 7]\n",
        "             [5 9 6]]\n",
        "      B   = [[1 0 0]\n",
        "             [0 1 0]\n",
        "             [0 0 1]]\n",
        "      A*B = [[1 3 4]\n",
        "             [2 5 7]\n",
        "             [5 9 6]]\n",
        "\n",
        "     \n",
        "Ex 2: A   = [[1 2]\n",
        "             [3 4]]\n",
        "      B   = [[1 2 3 4 5]\n",
        "             [5 6 7 8 9]]\n",
        "      A*B = [[11 14 17 20 23]\n",
        "             [23 30 36 42 51]]\n",
        "             \n",
        "Ex 3: A   = [[1 2]\n",
        "             [3 4]]\n",
        "      B   = [[1 4]\n",
        "             [5 6]\n",
        "             [7 8]\n",
        "             [9 6]]\n",
        "      A*B =Not possible\n",
        "</pre>"
      ]
    },
    {
      "cell_type": "code",
      "metadata": {
        "id": "rnssAfpgB-kj",
        "colab": {
          "base_uri": "https://localhost:8080/"
        },
        "outputId": "8eca65fb-fcfd-4805-9840-40756b3bf4ff"
      },
      "source": [
        "def matrix_mul(A, B):\n",
        "    a_m = len(A)\n",
        "    a_n = len(A[0])\n",
        "    b_m = len(B)\n",
        "    b_n = len(B[0])\n",
        "    if a_n == b_m:\n",
        "      c = [[0 for x in range(b_n)] for y in range(a_m)]\n",
        "      for i in range(len(A)):\n",
        "        for j in range(len(B[0])):\n",
        "          for k in range(len(B)):\n",
        "            c[i][j] += A[i][k] * B[k][j]\n",
        "      return c\n",
        "    else:\n",
        "      print('Not possible')\n",
        "\n",
        "A = [[1, 3, 4], [2, 5, 7], [5, 9, 6]]\n",
        "B = [[1, 0, 0], [0, 1, 0], [0, 0, 1]]\n",
        "matrix_mul(A, B)"
      ],
      "execution_count": 27,
      "outputs": [
        {
          "output_type": "execute_result",
          "data": {
            "text/plain": [
              "[[1, 3, 4], [2, 5, 7], [5, 9, 6]]"
            ]
          },
          "metadata": {},
          "execution_count": 27
        }
      ]
    },
    {
      "cell_type": "markdown",
      "metadata": {
        "id": "at4VwLggB-kn"
      },
      "source": [
        "<h3> Q2: Select a number randomly with probability proportional to its magnitude from the given array of n elements</h3>\n",
        "\n",
        "consider an experiment, selecting an element from the list A randomly with probability proportional to its magnitude.\n",
        "assume we are doing the same experiment for 100 times with replacement, in each experiment you will print a number that is selected randomly from A.\n",
        "\n",
        "<pre>\n",
        "Ex 1: A = [0 5 27 6 13 28 100 45 10 79]\n",
        "let f(x) denote the number of times x getting selected in 100 experiments.\n",
        "f(100) > f(79) > f(45) > f(28) > f(27) > f(13) > f(10) > f(6) > f(5) > f(0)\n",
        "</pre>"
      ]
    },
    {
      "cell_type": "code",
      "metadata": {
        "id": "B6S2dpBhB-kn",
        "colab": {
          "base_uri": "https://localhost:8080/"
        },
        "outputId": "20d7bb1b-0c0a-4e73-c7c6-4ae01cd0c1c2"
      },
      "source": [
        "from random import uniform\n",
        "\n",
        "def pick_a_number_from_list(A):\n",
        "  sum_A = sum(A)\n",
        "  normalized_A = [ele/sum_A for ele in A]\n",
        "  cum_sum = []\n",
        "  sum_i = 0\n",
        "  for i in normalized_A:\n",
        "    sum_i += i\n",
        "    cum_sum.append(sum_i)\n",
        "  r = uniform(0,1) \n",
        "  number = 0\n",
        "  for index in range(len(cum_sum)):\n",
        "    if (r>=cum_sum[index] and r<cum_sum[index+1]):\n",
        "      return A[index+1]\n",
        "  return number\n",
        "\n",
        "\n",
        "def sampling_based_on_magnitued():\n",
        "    A = [1, 5, 27, 6, 13, 28, 100, 45, 10, 79]\n",
        "    a = dict()\n",
        "    for i in range(1,100):\n",
        "        number = pick_a_number_from_list(A)\n",
        "        if number not in a:\n",
        "            a[number] = 1\n",
        "        else:\n",
        "            a[number]+=1\n",
        "    return a\n",
        "\n",
        "sampling_based_on_magnitued()"
      ],
      "execution_count": 26,
      "outputs": [
        {
          "output_type": "execute_result",
          "data": {
            "text/plain": [
              "{0: 1, 5: 2, 6: 2, 10: 3, 27: 6, 28: 10, 45: 11, 79: 31, 100: 33}"
            ]
          },
          "metadata": {},
          "execution_count": 26
        }
      ]
    },
    {
      "cell_type": "markdown",
      "metadata": {
        "id": "D1xQy2WWB-kq"
      },
      "source": [
        "<h3> Q3: Replace the digits in the string with #</h3>\n",
        "\n",
        "consider a string that will have digits in that, we need to remove all the not digits and replace the digits with #\n",
        "<pre>\n",
        "Ex 1: A = 234                Output: ###\n",
        "Ex 2: A = a2b3c4             Output: ###\n",
        "Ex 3: A = abc                Output:   (empty string)\n",
        "Ex 5: A = #2a$#b%c%561#      Output: ####\n",
        "</pre>"
      ]
    },
    {
      "cell_type": "code",
      "metadata": {
        "id": "fxczi2jzB-kr",
        "colab": {
          "base_uri": "https://localhost:8080/",
          "height": 35
        },
        "outputId": "827c204c-3f9b-4852-d4e2-30ad38439a5f"
      },
      "source": [
        "import re\n",
        "def replace_digits(String):\n",
        "  return len(re.sub('\\D','', String))*'#'\n",
        "\n",
        "replace_digits('#2a$#b%c%561#')"
      ],
      "execution_count": 28,
      "outputs": [
        {
          "output_type": "execute_result",
          "data": {
            "application/vnd.google.colaboratory.intrinsic+json": {
              "type": "string"
            },
            "text/plain": [
              "'####'"
            ]
          },
          "metadata": {},
          "execution_count": 28
        }
      ]
    },
    {
      "cell_type": "markdown",
      "metadata": {
        "id": "j7h0Ywg7B-kw"
      },
      "source": [
        "<h3> Q4: Students marks dashboard</h3>\n",
        "\n",
        "consider the marks list of class students given two lists <br>\n",
        "Students = ['student1','student2','student3','student4','student5','student6','student7','student8','student9','student10'] <br>\n",
        "Marks = [45, 78, 12, 14, 48, 43, 45, 98, 35, 80] <br>\n",
        "from the above two lists the Student[0] got Marks[0],  Student[1] got Marks[1] and so on <br><br>\n",
        "your task is to print the name of students\n",
        "<strong>a. Who got top 5 ranks, in the descending order of marks</strong> <br>\n",
        "<strong>b. Who got least 5 ranks, in the increasing order of marks</strong><br>\n",
        "<strong>d. Who got marks between  &gt;25th percentile &lt;75th percentile, in the increasing order of marks</strong>\n",
        "\n",
        "<pre>\n",
        "Ex 1: \n",
        "Students=['student1','student2','student3','student4','student5','student6','student7','student8','student9','student10'] \n",
        "Marks = [45, 78, 12, 14, 48, 43, 47, 98, 35, 80]\n",
        "a. \n",
        "student8  98\n",
        "student10 80\n",
        "student2  78\n",
        "student5  48\n",
        "student7  47\n",
        "b.\n",
        "student3 12\n",
        "student4 14\n",
        "student9 35\n",
        "student6 43\n",
        "student1 45\n",
        "c.\n",
        "student9 35\n",
        "student6 43\n",
        "student1 45\n",
        "student7 47\n",
        "student5 48\n",
        "</pre>"
      ]
    },
    {
      "cell_type": "code",
      "metadata": {
        "id": "cxPJgItsB-kx",
        "colab": {
          "base_uri": "https://localhost:8080/"
        },
        "outputId": "a175c2d7-0f2d-4d78-f228-47fa8e734f2c"
      },
      "source": [
        "def display_dash_board(students, marks):\n",
        "  stud_marks = {students[i]: marks[i] for i in range(len(students))}\n",
        "  top_5_students = sorted(stud_marks.items(), key = lambda item: item[1], reverse=True)[:5]\n",
        "  least_5_students = sorted(stud_marks.items(),key = lambda item: item[1])[:5]\n",
        "  sorted_dict = sorted(stud_marks.items(), key = lambda item: item[1])\n",
        "  students_within_25_and_75 = []\n",
        "  max_mark = max(stud_marks.values())\n",
        "  min_mark = min(stud_marks.values())\n",
        "  diff     = max_mark - min_mark\n",
        "  pre_25   = diff*0.25\n",
        "  pre_75   = diff*0.75\n",
        "  for i in sorted(stud_marks.items(),key=lambda item: item[1]):\n",
        "    if(i[1]>pre_25 and i[1]<pre_75):\n",
        "      students_within_25_and_75.append((i[0],i[1]))\n",
        "  print(\"Top 5\")\n",
        "  [print(key,':',value) for key, value in top_5_students]\n",
        "  print(\"\\n\")\n",
        "  print(\"Least 5\")\n",
        "  [print(key,':',value) for key, value in least_5_students]\n",
        "  print(\"\\n\")\n",
        "  print(\"25-75 Percentile\")\n",
        "  [print(key,':',value) for key, value in students_within_25_and_75]\n",
        "\n",
        "\n",
        "students=['student1','student2','student3','student4','student5','student6','student7','student8','student9','student10'] \n",
        "marks = [45, 78, 12, 14, 48, 43, 47, 98, 35, 80]\n",
        "display_dash_board(students, marks)"
      ],
      "execution_count": 29,
      "outputs": [
        {
          "output_type": "stream",
          "name": "stdout",
          "text": [
            "Top 5\n",
            "student8 : 98\n",
            "student10 : 80\n",
            "student2 : 78\n",
            "student5 : 48\n",
            "student7 : 47\n",
            "\n",
            "\n",
            "Least 5\n",
            "student3 : 12\n",
            "student4 : 14\n",
            "student9 : 35\n",
            "student6 : 43\n",
            "student1 : 45\n",
            "\n",
            "\n",
            "25-75 Percentile\n",
            "student9 : 35\n",
            "student6 : 43\n",
            "student1 : 45\n",
            "student7 : 47\n",
            "student5 : 48\n"
          ]
        }
      ]
    },
    {
      "cell_type": "markdown",
      "metadata": {
        "id": "qha0OhQHB-k1"
      },
      "source": [
        "<h3> Q5: Find the closest points</h3>\n",
        "\n",
        "consider you have given n data points in the form of list of tuples like S=[(x1,y1),(x2,y2),(x3,y3),(x4,y4),(x5,y5),..,(xn,yn)] and a point P=(p,q) <br> your task is to find 5 closest points(based on cosine distance) in S from P\n",
        "<br>cosine distance between two points (x,y) and (p,q) is defind as $cos^{-1}(\\frac{(x\\cdot p+y\\cdot q)}{\\sqrt(x^2+y^2)\\cdot\\sqrt(p^2+q^2)})$\n",
        "<pre>\n",
        "Ex:\n",
        "\n",
        "S= [(1,2),(3,4),(-1,1),(6,-7),(0, 6),(-5,-8),(-1,-1)(6,0),(1,-1)]\n",
        "P= (3,-4)\n",
        "<img src='https://i.imgur.com/vIFPOcG.jpg', width=300>\n",
        "Output:\n",
        "(6,-7)\n",
        "(1,-1)\n",
        "(6,0)\n",
        "(-5,-8)\n",
        "(-1,-1)\n",
        "</pre>"
      ]
    },
    {
      "cell_type": "code",
      "metadata": {
        "id": "wA5I1g-2B-k2",
        "colab": {
          "base_uri": "https://localhost:8080/"
        },
        "outputId": "edb540cf-0d07-430b-b00c-1700fd4c0c78"
      },
      "source": [
        "import math\n",
        "\n",
        "def closest_points_to_p(S, P):\n",
        "  closest_points = []\n",
        "  for point in S:\n",
        "    denominator = math.sqrt((point[0] ** 2) + (point[1] ** 2)) * math.sqrt((P[0] ** 2) + (P[1] ** 2))\n",
        "    numerator = point[0] * P[0] + point[1] * P[1]\n",
        "    if denominator != 0:\n",
        "      cosine_dist = math.acos(numerator / denominator)\n",
        "      closest_points.append((cosine_dist, point))\n",
        "\n",
        "  results = [x[1] for x in sorted(closest_points,key=lambda x: x[0])[:5]]\n",
        "  return results\n",
        "\n",
        "S= [(1,2),(3,4),(-1,1),(6,-7),(0, 6),(-5,-8),(-1,-1),(6,0),(1,-1)]\n",
        "P= (3,-4)\n",
        "closest_points_to_p(S, P)"
      ],
      "execution_count": 30,
      "outputs": [
        {
          "output_type": "execute_result",
          "data": {
            "text/plain": [
              "[(6, -7), (1, -1), (6, 0), (-5, -8), (-1, -1)]"
            ]
          },
          "metadata": {},
          "execution_count": 30
        }
      ]
    },
    {
      "cell_type": "markdown",
      "metadata": {
        "id": "-g11jeAiB-k5"
      },
      "source": [
        "<h3> Q6: Find Which line separates oranges and apples</h3>\n",
        "consider you have given two set of data points in the form of list of tuples like \n",
        "<pre>\n",
        "Red =[(R11,R12),(R21,R22),(R31,R32),(R41,R42),(R51,R52),..,(Rn1,Rn2)]\n",
        "Blue=[(B11,B12),(B21,B22),(B31,B32),(B41,B42),(B51,B52),..,(Bm1,Bm2)]\n",
        "</pre>\n",
        "and set of line equations(in the string formate, i.e list of strings)\n",
        "<pre>\n",
        "Lines = [a1x+b1y+c1,a2x+b2y+c2,a3x+b3y+c3,a4x+b4y+c4,..,K lines]\n",
        "Note: you need to string parsing here and get the coefficients of x,y and intercept\n",
        "</pre>\n",
        "your task is to for each line that is given print \"YES\"/\"NO\", you will print yes, if all the red points are one side of the line and blue points are other side of the line, otherwise no\n",
        "<pre>\n",
        "Ex:\n",
        "Red= [(1,1),(2,1),(4,2),(2,4), (-1,4)]\n",
        "Blue= [(-2,-1),(-1,-2),(-3,-2),(-3,-1),(1,-3)]\n",
        "Lines=[\"1x+1y+0\",\"1x-1y+0\",\"1x+0y-3\",\"0x+1y-0.5\"]\n",
        "<img src='https://i.imgur.com/DoQf7mE.jpg' width=400>\n",
        "Output:\n",
        "YES\n",
        "NO\n",
        "NO\n",
        "YES\n",
        "</pre>"
      ]
    },
    {
      "cell_type": "code",
      "metadata": {
        "id": "eRxExaTRB-k6",
        "colab": {
          "base_uri": "https://localhost:8080/"
        },
        "outputId": "80c53980-1cac-4d87-90bb-eb22f27d6c20"
      },
      "source": [
        "def i_am_the_one(red,blue,line):\n",
        "  red_sign = -1\n",
        "\n",
        "  if eval(line.replace('x', '*%s' %red[0][0]).replace('y', '*%s' %red[0][1])) > 0:\n",
        "    red_sign = 1\n",
        "  \n",
        "  for r_point in red:\n",
        "    if eval(line.replace('x', '*%s' %r_point[0]).replace('y', '*%s' %r_point[1])) < 0 and red_sign == 1:\n",
        "      return 'NO'\n",
        "          \n",
        "    if eval(line.replace('x', '*%s' %r_point[0]).replace('y', '*%s' %r_point[1])) > 0 and red_sign == -1:\n",
        "      return 'NO'\n",
        "    \n",
        "\n",
        "  blue_sign = -1*red_sign\n",
        "\n",
        "  for b_point in blue:\n",
        "    if eval(line.replace('x', '*%s' %b_point[0]).replace('y', '*%s' %b_point[1])) < 0 and blue_sign == 1:\n",
        "      return 'NO'\n",
        "\n",
        "    if eval(line.replace('x', '*%s' %b_point[0]).replace('y', '*%s' %b_point[1])) > 0 and blue_sign == -1:\n",
        "      return 'NO'\n",
        "    \n",
        "  return 'YES'\n",
        "\n",
        "Red= [(1,1),(2,1),(4,2),(2,4), (-1,4)]\n",
        "Blue= [(-2,-1),(-1,-2),(-3,-2),(-3,-1),(1,-3)]\n",
        "Lines=[\"1x+1y+0\",\"1x-1y+0\",\"1x+0y-3\",\"0x+1y-0.5\"]\n",
        "\n",
        "for i in Lines:\n",
        "    yes_or_no = i_am_the_one(Red, Blue, i)\n",
        "    print(yes_or_no) "
      ],
      "execution_count": 31,
      "outputs": [
        {
          "output_type": "stream",
          "name": "stdout",
          "text": [
            "YES\n",
            "NO\n",
            "NO\n",
            "YES\n"
          ]
        }
      ]
    },
    {
      "cell_type": "markdown",
      "metadata": {
        "id": "9OBpURbNB-k9"
      },
      "source": [
        "<h3> Q7: Filling the missing values in the specified formate</h3>\n",
        "You will be given a string with digits and '\\_'(missing value) symbols you have to replace the '\\_' symbols as explained \n",
        "<pre>\n",
        "Ex 1: _, _, _, 24 ==> 24/4, 24/4, 24/4, 24/4 i.e we. have distributed the 24 equally to all 4 places <br>\n",
        "Ex 2: 40, _, _, _, 60 ==> (60+40)/5,(60+40)/5,(60+40)/5,(60+40)/5,(60+40)/5 ==> 20, 20, 20, 20, 20 i.e. the sum of (60+40) is distributed qually to all 5 places<br>\n",
        "Ex 3: 80, _, _, _, _  ==> 80/5,80/5,80/5,80/5,80/5 ==> 16, 16, 16, 16, 16 i.e. the 80 is distributed qually to all 5 missing values that are right to it<br>\n",
        "Ex 4: _, _, 30, _, _, _, 50, _, _  \n",
        "==> we will fill the missing values from left to right \n",
        "    a. first we will distribute the 30 to left two missing values (10, 10, 10, _, _, _, 50, _, _)\n",
        "    b. now distribute the sum (10+50) missing values in between (10, 10, 12, 12, 12, 12, 12, _, _) \n",
        "    c. now we will distribute 12 to right side missing values (10, 10, 12, 12, 12, 12, 4, 4, 4)\n",
        "</pre>\n",
        "for a given string with comma seprate values, which will have both missing values numbers like ex: \"_, _, x, _, _, _\"\n",
        "you need fill the missing values\n",
        "\n",
        "Q: your program reads a string like ex: \"_, _, x, _, _, _\" and returns the filled sequence\n",
        "\n",
        "Ex: \n",
        "<pre>\n",
        "Input1: \"_,_,_,24\"\n",
        "Output1: 6,6,6,6\n",
        "\n",
        "Input2: \"40,_,_,_,60\"\n",
        "Output2: 20,20,20,20,20\n",
        "\n",
        "Input3: \"80,_,_,_,_\"\n",
        "Output3: 16,16,16,16,16\n",
        "\n",
        "Input4: \"_,_,30,_,_,_,50,_,_\"\n",
        "Output4: 10,10,12,12,12,12,4,4,4\n",
        "</pre>\n",
        "\n"
      ]
    },
    {
      "cell_type": "code",
      "metadata": {
        "id": "nZmpzHs_B-k-",
        "colab": {
          "base_uri": "https://localhost:8080/"
        },
        "outputId": "6125c268-a1cc-4adb-8e92-1bbf0d1a1b8c"
      },
      "source": [
        "def curve_smoothing(string):\n",
        "  string_list = string.split(',')\n",
        "  digit_index = [string_list.index(x) for x in string_list if x!='_']\n",
        "  digit_index.append(len(string_list)-1)\n",
        "\n",
        "  start = 0\n",
        "  for i in digit_index:\n",
        "    digit_sum = int(string_list[i]) if string_list[i] != '_' else 0\n",
        "    digit_sum += int(string_list[start]) if string_list[start] != '_' and start != i else 0 \n",
        "\n",
        "    sub_value = digit_sum // (i-start+1)\n",
        "\n",
        "    string_list = [sub_value if start <= x <= i else string_list[x] for x in range(len(string_list))]\n",
        "    start = i\n",
        "  \n",
        "  return string_list\n",
        "\n",
        "\n",
        "\n",
        "\n",
        "S=  \"_,_,30,_,_,_,50,_,_\"\n",
        "smoothed_values= curve_smoothing(S)\n",
        "print(smoothed_values)"
      ],
      "execution_count": 32,
      "outputs": [
        {
          "output_type": "stream",
          "name": "stdout",
          "text": [
            "[10, 10, 12, 12, 12, 12, 4, 4, 4]\n"
          ]
        }
      ]
    },
    {
      "cell_type": "markdown",
      "metadata": {
        "id": "RBz4pzlfB-lB"
      },
      "source": [
        "<h3> Q8: Filling the missing values in the specified formate</h3>\n",
        "You will be given a list of lists, each sublist will be of length 2 i.e. [[x,y],[p,q],[l,m]..[r,s]]\n",
        "consider its like a martrix of n rows and two columns\n",
        "1. the first column F will contain only 5 uniques values (F1, F2, F3, F4, F5)\n",
        "2. the second column S will contain only 3 uniques values (S1, S2, S3)\n",
        "<pre>\n",
        "your task is to find\n",
        "a. Probability of P(F=F1|S==S1), P(F=F1|S==S2), P(F=F1|S==S3)\n",
        "b. Probability of P(F=F2|S==S1), P(F=F2|S==S2), P(F=F2|S==S3)\n",
        "c. Probability of P(F=F3|S==S1), P(F=F3|S==S2), P(F=F3|S==S3)\n",
        "d. Probability of P(F=F4|S==S1), P(F=F4|S==S2), P(F=F4|S==S3)\n",
        "e. Probability of P(F=F5|S==S1), P(F=F5|S==S2), P(F=F5|S==S3)\n",
        "</pre>\n",
        "Ex:\n",
        "\n",
        "<pre>\n",
        "[[F1,S1],[F2,S2],[F3,S3],[F1,S2],[F2,S3],[F3,S2],[F2,S1],[F4,S1],[F4,S3],[F5,S1]]\n",
        "\n",
        "a. P(F=F1|S==S1)=1/4, P(F=F1|S==S2)=1/3, P(F=F1|S==S3)=0/3\n",
        "b. P(F=F2|S==S1)=1/4, P(F=F2|S==S2)=1/3, P(F=F2|S==S3)=1/3\n",
        "c. P(F=F3|S==S1)=0/4, P(F=F3|S==S2)=1/3, P(F=F3|S==S3)=1/3\n",
        "d. P(F=F4|S==S1)=1/4, P(F=F4|S==S2)=0/3, P(F=F4|S==S3)=1/3\n",
        "e. P(F=F5|S==S1)=1/4, P(F=F5|S==S2)=0/3, P(F=F5|S==S3)=0/3\n",
        "</pre>\n",
        "\n",
        "\n"
      ]
    },
    {
      "cell_type": "code",
      "metadata": {
        "id": "e-1giz1MB-lC",
        "colab": {
          "base_uri": "https://localhost:8080/"
        },
        "outputId": "88d83139-6999-4487-f527-10194b6ab2ac"
      },
      "source": [
        "def compute_conditional_probabilites(A):\n",
        "  fs_count = dict()\n",
        "  for i in A:\n",
        "    dict_key = i[0] + i[1]\n",
        "    fs_count[dict_key] = 0\n",
        "\n",
        "  s_count = {'S1':0,'S2':0,'S3':0}\n",
        "\n",
        "  for i in A:\n",
        "    fs_inter = i[0]+i[1]\n",
        "    fs_count[fs_inter] += 1\n",
        "\n",
        "    s_item = i[1]\n",
        "    s_count[s_item] += 1\n",
        "\n",
        "  print('{0:c}. P(F=F1|S==S1) = {F1S1}/{S1}, P(F=F1|S==S2) = {F1S2}/{S2}, P(F=F1|S==S3) = {F1S3}/{S3}'.format(97, F1S1=fs_count.get('F1S1', 0),S1=s_count['S1'],F1S2=fs_count.get('F1S2', 0),S2=s_count['S2'],F1S3=fs_count.get('F1S3', 0),S3=s_count['S3']))\n",
        "\n",
        "  print('{0:c}. P(F=F2|S==S1) = {F2S1}/{S1}, P(F=F2|S==S2) = {F2S2}/{S2}, P(F=F2|S==S3) = {F2S3}/{S3}'.format(98, F2S1=fs_count.get('F2S1', 0),S1=s_count['S1'],F2S2=fs_count.get('F2S2', 0),S2=s_count['S2'],F2S3=fs_count.get('F2S3', 0),S3=s_count['S3']))\n",
        "\n",
        "  print('{0:c}. P(F=F3|S==S1) = {F3S1}/{S1}, P(F=F3|S==S2) = {F3S2}/{S2}, P(F=F3|S==S3) = {F3S3}/{S3}'.format(99, F3S1=fs_count.get('F3S1', 0),S1=s_count['S1'],F3S2=fs_count.get('F3S2', 0),S2=s_count['S2'],F3S3=fs_count.get('F3S3', 0),S3=s_count['S3']))\n",
        "\n",
        "  print('{0:c}. P(F=F4|S==S1) = {F4S1}/{S1}, P(F=F4|S==S2) = {F4S2}/{S2}, P(F=F4|S==S3) = {F4S3}/{S3}'.format(100, F4S1=fs_count.get('F4S1', 0),S1=s_count['S1'],F4S2=fs_count.get('F4S2', 0),S2=s_count['S2'],F4S3=fs_count.get('F4S3', 0),S3=s_count['S3']))\n",
        "\n",
        "  print('{0:c}. P(F=F5|S==S1) = {F5S1}/{S1}, P(F=F5|S==S2) = {F5S2}/{S2}, P(F=F5|S==S3) = {F5S3}/{S3}'.format(101, F5S1=fs_count.get('F5S1', 0),S1=s_count['S1'],F5S2=fs_count.get('F5S2', 0),S2=s_count['S2'],F5S3=fs_count.get('F5S3', 0),S3=s_count['S3']))\n",
        "\n",
        "A = [['F1','S1'],['F2','S2'],['F3','S3'],['F1','S2'],['F2','S3'],['F3','S2'],['F2','S1'],['F4','S1'],['F4','S3'],['F5','S1']]\n",
        "\n",
        "compute_conditional_probabilites(A)"
      ],
      "execution_count": 33,
      "outputs": [
        {
          "output_type": "stream",
          "name": "stdout",
          "text": [
            "a. P(F=F1|S==S1) = 1/4, P(F=F1|S==S2) = 1/3, P(F=F1|S==S3) = 0/3\n",
            "b. P(F=F2|S==S1) = 1/4, P(F=F2|S==S2) = 1/3, P(F=F2|S==S3) = 1/3\n",
            "c. P(F=F3|S==S1) = 0/4, P(F=F3|S==S2) = 1/3, P(F=F3|S==S3) = 1/3\n",
            "d. P(F=F4|S==S1) = 1/4, P(F=F4|S==S2) = 0/3, P(F=F4|S==S3) = 1/3\n",
            "e. P(F=F5|S==S1) = 1/4, P(F=F5|S==S2) = 0/3, P(F=F5|S==S3) = 0/3\n"
          ]
        }
      ]
    },
    {
      "cell_type": "markdown",
      "metadata": {
        "id": "n4HS87QmB-lF"
      },
      "source": [
        "<h3> Q9: Given two sentances S1, S2</h3>\n",
        "You will be given two sentances S1, S2 your task is to find \n",
        "<pre>\n",
        "a. Number of common words between S1, S2\n",
        "b. Words in S1 but not in S2\n",
        "c. Words in S2 but not in S1\n",
        "</pre>\n",
        "\n",
        "Ex: \n",
        "<pre>\n",
        "S1= \"the first column F will contain only 5 uniques values\"\n",
        "S2= \"the second column S will contain only 3 uniques values\"\n",
        "Output:\n",
        "a. 7\n",
        "b. ['first','F','5']\n",
        "c. ['second','S','3']\n",
        "</pre>"
      ]
    },
    {
      "cell_type": "code",
      "metadata": {
        "id": "Ez7hlHK0B-lG",
        "colab": {
          "base_uri": "https://localhost:8080/"
        },
        "outputId": "eea3cb05-91d5-4325-efa4-ea9ca0a78b9d"
      },
      "source": [
        "def string_features(S1, S2):\n",
        "  s1_split = set(S1.split(\" \"))\n",
        "  s2_split = set(S2.split(\" \"))\n",
        "\n",
        "  a = len(s1_split.intersection(s2_split))\n",
        "  b = s1_split - s2_split\n",
        "  c = s2_split - s1_split\n",
        "\n",
        "  return a, b, c\n",
        "\n",
        "S1= \"the first column F will contain only 5 uniques values\"\n",
        "S2= \"the second column S will contain only 3 uniques values\"\n",
        "a,b,c = string_features(S1, S2)\n",
        "print(a,'\\n',b,'\\n',c)"
      ],
      "execution_count": 34,
      "outputs": [
        {
          "output_type": "stream",
          "name": "stdout",
          "text": [
            "7 \n",
            " {'first', '5', 'F'} \n",
            " {'3', 'second', 'S'}\n"
          ]
        }
      ]
    },
    {
      "cell_type": "markdown",
      "metadata": {
        "id": "XefXVEjCB-lI"
      },
      "source": [
        "<h3> Q10: Given two sentances S1, S2</h3>\n",
        "You will be given a list of lists, each sublist will be of length 2 i.e. [[x,y],[p,q],[l,m]..[r,s]]\n",
        "consider its like a martrix of n rows and two columns\n",
        "\n",
        "a. the first column Y will contain interger values <br>\n",
        "b. the second column $Y_{score}$ will be having float values <br>\n",
        "Your task is to find the value of $f(Y,Y_{score}) = -1*\\frac{1}{n}\\Sigma_{for each Y,Y_{score} pair}(Ylog10(Y_{score})+(1-Y)log10(1-Y_{score}))$ here n is the number of rows in the matrix\n",
        "<pre>\n",
        "Ex:\n",
        "[[1, 0.4], [0, 0.5], [0, 0.9], [0, 0.3], [0, 0.6], [1, 0.1], [1, 0.9], [1, 0.8]]\n",
        "output:\n",
        "0.4243099\n",
        "</pre>\n",
        "$\\frac{-1}{8}\\cdot((1\\cdot log_{10}(0.4)+0\\cdot log_{10}(0.6))+(0\\cdot log_{10}(0.5)+1\\cdot log_{10}(0.5)) + ... + (1\\cdot log_{10}(0.8)+0\\cdot log_{10}(0.2)) )$"
      ]
    },
    {
      "cell_type": "code",
      "metadata": {
        "id": "N9zkagyNB-lJ",
        "colab": {
          "base_uri": "https://localhost:8080/"
        },
        "outputId": "2765e33a-172f-411f-e19c-441487dc3fac"
      },
      "source": [
        "from math import log\n",
        "\n",
        "def compute_log_loss(A):\n",
        "  summation = 0\n",
        "  for i in A:\n",
        "    summation += (i[0]*log(i[1],10) + ((1-i[0])*log(1-i[1],10)))\n",
        "\n",
        "  loss = -1 * summation / len(A)\n",
        "  return loss\n",
        "\n",
        "A = [[1, 0.4], [0, 0.5], [0, 0.9], [0, 0.3], [0, 0.6], [1, 0.1], [1, 0.9], [1, 0.8]]\n",
        "loss = compute_log_loss(A)\n",
        "print(loss)"
      ],
      "execution_count": 35,
      "outputs": [
        {
          "output_type": "stream",
          "name": "stdout",
          "text": [
            "0.42430993457031635\n"
          ]
        }
      ]
    }
  ]
}