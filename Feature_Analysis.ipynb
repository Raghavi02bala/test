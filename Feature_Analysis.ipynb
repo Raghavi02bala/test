{
  "nbformat": 4,
  "nbformat_minor": 0,
  "metadata": {
    "colab": {
      "name": "Feature Analysis.ipynb",
      "provenance": [],
      "collapsed_sections": []
    },
    "kernelspec": {
      "name": "python3",
      "display_name": "Python 3"
    },
    "language_info": {
      "name": "python"
    }
  },
  "cells": [
    {
      "cell_type": "code",
      "metadata": {
        "colab": {
          "base_uri": "https://localhost:8080/"
        },
        "id": "NCPWlXTbqME_",
        "outputId": "4b46ff74-7445-4642-e6a8-72f05bfe9f6e"
      },
      "source": [
        "from google.colab import drive\n",
        "drive.mount('/content/drive')"
      ],
      "execution_count": null,
      "outputs": [
        {
          "output_type": "stream",
          "name": "stdout",
          "text": [
            "Drive already mounted at /content/drive; to attempt to forcibly remount, call drive.mount(\"/content/drive\", force_remount=True).\n"
          ]
        }
      ]
    },
    {
      "cell_type": "code",
      "metadata": {
        "id": "WWBVvXfhYDkM"
      },
      "source": [
        "import os\n",
        "import pandas as pd"
      ],
      "execution_count": 1,
      "outputs": []
    },
    {
      "cell_type": "code",
      "metadata": {
        "id": "2YoG8t7yY0ty"
      },
      "source": [
        "os.chdir(\"/content/drive/MyDrive/Colab Notebooks/features\")\n",
        "files = os.listdir()"
      ],
      "execution_count": 2,
      "outputs": []
    },
    {
      "cell_type": "code",
      "metadata": {
        "id": "tLw7DNXlkh_y"
      },
      "source": [
        "dataframes_list = []"
      ],
      "execution_count": 3,
      "outputs": []
    },
    {
      "cell_type": "code",
      "metadata": {
        "id": "Qh82cH5CYYhq"
      },
      "source": [
        "for file in files:\n",
        "  df = pd.read_excel(file)\n",
        "  df = df.rename(columns={df.columns[0]:'Year_'+str(file[:5]), df.columns[1]:'Value_'+str(file[:5])})\n",
        "  dataframes_list.append(df)"
      ],
      "execution_count": 4,
      "outputs": []
    },
    {
      "cell_type": "code",
      "metadata": {
        "id": "QqQcOJ5OmEgZ",
        "colab": {
          "base_uri": "https://localhost:8080/"
        },
        "outputId": "4906bf04-7e34-41bf-9e96-d78abc4588ea"
      },
      "source": [
        "type(dataframes_list[0])"
      ],
      "execution_count": 5,
      "outputs": [
        {
          "output_type": "execute_result",
          "data": {
            "text/plain": [
              "pandas.core.frame.DataFrame"
            ]
          },
          "metadata": {},
          "execution_count": 5
        }
      ]
    },
    {
      "cell_type": "code",
      "metadata": {
        "colab": {
          "base_uri": "https://localhost:8080/"
        },
        "id": "eRnY2QTobFi9",
        "outputId": "1af732c4-027b-4c51-d020-25d4fc20ca64"
      },
      "source": [
        "print(dataframes_list[0].shape)\n",
        "print(dataframes_list[1].shape)\n",
        "print(dataframes_list[2].shape)\n",
        "print(dataframes_list[3].shape)\n",
        "print(dataframes_list[4].shape)\n",
        "print(dataframes_list[5].shape)\n",
        "print(dataframes_list[6].shape)\n",
        "print(dataframes_list[7].shape)\n",
        "print(dataframes_list[8].shape)"
      ],
      "execution_count": 6,
      "outputs": [
        {
          "output_type": "stream",
          "name": "stdout",
          "text": [
            "(413, 2)\n",
            "(413, 2)\n",
            "(136, 2)\n",
            "(413, 2)\n",
            "(413, 2)\n",
            "(413, 2)\n",
            "(413, 2)\n",
            "(136, 2)\n",
            "(136, 2)\n"
          ]
        }
      ]
    },
    {
      "cell_type": "code",
      "metadata": {
        "colab": {
          "base_uri": "https://localhost:8080/"
        },
        "id": "gPBGfpLpwFh7",
        "outputId": "6231713e-368d-4f04-c6bd-9c3c297a7f94"
      },
      "source": [
        "files"
      ],
      "execution_count": 8,
      "outputs": [
        {
          "output_type": "execute_result",
          "data": {
            "text/plain": [
              "['price.xls',\n",
              " 'mortage_interest.xls',\n",
              " 'missing_mortages.xls',\n",
              " 'job_growth.xls',\n",
              " 'inventory.xls',\n",
              " 'demographics.xls',\n",
              " 'credit_availability.xls',\n",
              " 'forbearance.xls',\n",
              " 'government_influence.xls']"
            ]
          },
          "metadata": {},
          "execution_count": 8
        }
      ]
    },
    {
      "cell_type": "markdown",
      "metadata": {
        "id": "YfNWVnrm8__X"
      },
      "source": [
        "Now we have all the datas on seperate data frames, we are going to merge them to create a proper dataframe that consists of all data. We start by merging those data frames with same number of rows."
      ]
    },
    {
      "cell_type": "markdown",
      "metadata": {
        "id": "ReJJilYJ9p2g"
      },
      "source": [
        "We merge all the data frames that has 413 rows."
      ]
    },
    {
      "cell_type": "code",
      "metadata": {
        "id": "XwL2Kmap6mUg"
      },
      "source": [
        "new_data =  pd.merge(dataframes_list[0],dataframes_list[1],  how='left', left_on = dataframes_list[0].columns[0], right_on = dataframes_list[1].columns[0])\n",
        "new_data.drop(dataframes_list[1].columns[0],inplace=True,axis=1)"
      ],
      "execution_count": 7,
      "outputs": []
    },
    {
      "cell_type": "code",
      "metadata": {
        "id": "1LYoIrX49vRR"
      },
      "source": [
        "new_data =  pd.merge(new_data,dataframes_list[3],  how='left', left_on = dataframes_list[0].columns[0], right_on = dataframes_list[3].columns[0])\n",
        "new_data.drop(dataframes_list[3].columns[0],inplace=True,axis=1)"
      ],
      "execution_count": 8,
      "outputs": []
    },
    {
      "cell_type": "code",
      "metadata": {
        "id": "nUCIfEed9S5I"
      },
      "source": [
        "new_data =  pd.merge(new_data,dataframes_list[4],  how='left', left_on = dataframes_list[0].columns[0], right_on = dataframes_list[4].columns[0])\n",
        "new_data.drop(dataframes_list[4].columns[0],inplace=True,axis=1)"
      ],
      "execution_count": 9,
      "outputs": []
    },
    {
      "cell_type": "code",
      "metadata": {
        "id": "aizZ08waEPcT"
      },
      "source": [
        "new_data =  pd.merge(new_data,dataframes_list[5],  how='left', left_on = dataframes_list[0].columns[0], right_on = dataframes_list[5].columns[0])\n",
        "new_data.drop(dataframes_list[5].columns[0],inplace=True,axis=1)"
      ],
      "execution_count": 10,
      "outputs": []
    },
    {
      "cell_type": "code",
      "metadata": {
        "id": "sZEFXxhBFPkB"
      },
      "source": [
        "new_data =  pd.merge(new_data,dataframes_list[6],  how='left', left_on = dataframes_list[0].columns[0], right_on = dataframes_list[6].columns[0])\n",
        "new_data.drop(dataframes_list[6].columns[0],inplace=True,axis=1)"
      ],
      "execution_count": 11,
      "outputs": []
    },
    {
      "cell_type": "markdown",
      "metadata": {
        "id": "H3aUkEn_GSq_"
      },
      "source": [
        "After joining the datas with 413 rows each as that of price, now we have to join the seasonal data that has 136 rows."
      ]
    },
    {
      "cell_type": "code",
      "metadata": {
        "id": "RaJ8uqyMF6wR"
      },
      "source": [
        "new_data_2 =  pd.merge(dataframes_list[2],dataframes_list[7],  how='left', left_on = dataframes_list[2].columns[0], right_on = dataframes_list[7].columns[0])\n",
        "new_data_2.drop(dataframes_list[7].columns[0],inplace=True,axis=1)"
      ],
      "execution_count": 12,
      "outputs": []
    },
    {
      "cell_type": "code",
      "metadata": {
        "id": "mcHQZtziK0nd"
      },
      "source": [
        "new_data_2 =  pd.merge(new_data_2,dataframes_list[8],  how='left', left_on = dataframes_list[2].columns[0], right_on = dataframes_list[8].columns[0])\n",
        "new_data_2.drop(dataframes_list[8].columns[0],inplace=True,axis=1)"
      ],
      "execution_count": 13,
      "outputs": []
    },
    {
      "cell_type": "markdown",
      "metadata": {
        "id": "mCbPDgm5SINI"
      },
      "source": [
        "Now we have two data frames, one has data from 1987-2021 monthly and the other one has seasonal.We have to go ahead combine both and handle the missing values."
      ]
    },
    {
      "cell_type": "code",
      "metadata": {
        "id": "h_zr9G5iCTv7"
      },
      "source": [
        "new_data['Date'] = pd.to_datetime(new_data['Year_price']).dt.to_period('M')"
      ],
      "execution_count": 14,
      "outputs": []
    },
    {
      "cell_type": "code",
      "metadata": {
        "id": "3QdVw1zrFx2w"
      },
      "source": [
        "new_data_2['Date'] = pd.to_datetime(new_data_2['Year_missi']).dt.to_period('M')\n",
        "new_data_2 = new_data_2.set_index('Date').resample('M').interpolate()"
      ],
      "execution_count": 15,
      "outputs": []
    },
    {
      "cell_type": "code",
      "metadata": {
        "id": "mYyWYJ7f27Nh"
      },
      "source": [
        "data =  pd.merge(new_data,new_data_2,  how='left', left_on = ['Date'], right_on = ['Date'])\n",
        "data.drop(['Year_missi', 'Year_price'],axis=1,inplace=True)"
      ],
      "execution_count": 16,
      "outputs": []
    },
    {
      "cell_type": "markdown",
      "metadata": {
        "id": "0T1BIDmWIPVy"
      },
      "source": [
        "After interpolating Quraterly data to Anual and merging the columns. We remove few NAN values."
      ]
    },
    {
      "cell_type": "code",
      "metadata": {
        "colab": {
          "base_uri": "https://localhost:8080/"
        },
        "id": "7Q8e6ARk-Emy",
        "outputId": "5780f709-6b0a-46cb-d7ed-c62a03acf73d"
      },
      "source": [
        "data.isnull().sum()"
      ],
      "execution_count": 17,
      "outputs": [
        {
          "output_type": "execute_result",
          "data": {
            "text/plain": [
              "Value_price    0\n",
              "Value_morta    0\n",
              "Value_job_g    0\n",
              "Value_inven    0\n",
              "Value_demog    0\n",
              "Value_credi    0\n",
              "Date           0\n",
              "Value_missi    7\n",
              "Value_forbe    7\n",
              "Value_gover    7\n",
              "dtype: int64"
            ]
          },
          "metadata": {},
          "execution_count": 17
        }
      ]
    },
    {
      "cell_type": "code",
      "metadata": {
        "id": "P3ujLGTQHmSI"
      },
      "source": [
        "data.dropna(inplace=True)"
      ],
      "execution_count": 18,
      "outputs": []
    },
    {
      "cell_type": "markdown",
      "metadata": {
        "id": "82cbtuWBIX4u"
      },
      "source": [
        "We don't need the Date column as well. Let's go ahead and remove that."
      ]
    },
    {
      "cell_type": "code",
      "metadata": {
        "id": "ucgDliZ7IdXT"
      },
      "source": [
        "data.drop(['Date'],axis=1,inplace=True)"
      ],
      "execution_count": 19,
      "outputs": []
    },
    {
      "cell_type": "code",
      "metadata": {
        "colab": {
          "base_uri": "https://localhost:8080/"
        },
        "id": "dBjzn0iSKzYt",
        "outputId": "896818af-a09a-448c-fce8-40add05e647b"
      },
      "source": [
        "data.info()"
      ],
      "execution_count": null,
      "outputs": [
        {
          "output_type": "stream",
          "name": "stdout",
          "text": [
            "<class 'pandas.core.frame.DataFrame'>\n",
            "Int64Index: 406 entries, 2 to 407\n",
            "Data columns (total 9 columns):\n",
            " #   Column       Non-Null Count  Dtype  \n",
            "---  ------       --------------  -----  \n",
            " 0   Value_price  406 non-null    float64\n",
            " 1   Value_morta  406 non-null    float64\n",
            " 2   Value_job_g  406 non-null    float64\n",
            " 3   Value_inven  406 non-null    float64\n",
            " 4   Value_demog  406 non-null    int64  \n",
            " 5   Value_credi  406 non-null    float64\n",
            " 6   Value_missi  406 non-null    float64\n",
            " 7   Value_forbe  406 non-null    float64\n",
            " 8   Value_gover  406 non-null    float64\n",
            "dtypes: float64(8), int64(1)\n",
            "memory usage: 31.7 KB\n"
          ]
        }
      ]
    },
    {
      "cell_type": "code",
      "metadata": {
        "id": "Hor6V2Zg_jI6"
      },
      "source": [
        "X = data[['Value_morta', 'Value_job_g', 'Value_forbe', 'Value_gover', 'Value_inven', 'Value_missi', 'Value_demog','Value_credi']]\n",
        "y = data['Value_price']"
      ],
      "execution_count": 20,
      "outputs": []
    },
    {
      "cell_type": "code",
      "metadata": {
        "colab": {
          "base_uri": "https://localhost:8080/"
        },
        "id": "YnvKI6y4AGT4",
        "outputId": "1f4ae444-f0ba-4d72-823a-33859e12acb1"
      },
      "source": [
        "data[data.columns[0:]].corr()['Value_price'][:]"
      ],
      "execution_count": 28,
      "outputs": [
        {
          "output_type": "execute_result",
          "data": {
            "text/plain": [
              "Value_price    1.000000\n",
              "Value_morta   -0.847521\n",
              "Value_job_g   -0.478936\n",
              "Value_inven    0.017222\n",
              "Value_demog    0.929723\n",
              "Value_credi    0.952618\n",
              "Value_missi   -0.392226\n",
              "Value_forbe   -0.615066\n",
              "Value_gover    0.924638\n",
              "Name: Value_price, dtype: float64"
            ]
          },
          "metadata": {},
          "execution_count": 28
        }
      ]
    },
    {
      "cell_type": "code",
      "metadata": {
        "id": "ArkhieLmQtv6"
      },
      "source": [
        "import seaborn as sn"
      ],
      "execution_count": 29,
      "outputs": []
    },
    {
      "cell_type": "code",
      "metadata": {
        "colab": {
          "base_uri": "https://localhost:8080/",
          "height": 343
        },
        "id": "z_pqGp9nC1RQ",
        "outputId": "36875c2a-90aa-4428-d375-81b08be2d287"
      },
      "source": [
        "sn.heatmap(data.corr(), cmap=\"YlGnBu\", annot=True)"
      ],
      "execution_count": 32,
      "outputs": [
        {
          "output_type": "execute_result",
          "data": {
            "text/plain": [
              "<matplotlib.axes._subplots.AxesSubplot at 0x7f4a6f4d2050>"
            ]
          },
          "metadata": {},
          "execution_count": 32
        },
        {
          "output_type": "display_data",
          "data": {
            "image/png": "[encoded data removed]",
            "text/plain": [
              "<Figure size 432x288 with 2 Axes>"
            ]
          },
          "metadata": {
            "needs_background": "light"
          }
        }
      ]
    },
    {
      "cell_type": "markdown",
      "metadata": {
        "id": "JMvZoQowDNX3"
      },
      "source": [
        "I haven't used any ML based functions like SelectKBest or Model building. Because the amount of data is very less for performing such tasks."
      ]
    },
    {
      "cell_type": "markdown",
      "metadata": {
        "id": "HWMBg9I0Dj3S"
      },
      "source": [
        "The features with highest to lowest correlations is \n",
        "\n",
        "\n",
        "1.   Credit Availability\n",
        "2.   Demographics\n",
        "3.   Government Involvement\n",
        "4.   Mortage Interest is negatively correlated. As the mortage interest increases population of people buying houses decreases \n",
        "5.   Forbearance is also negatively correlated.\n",
        "6.   Job Growth is negatively correlated, which might be because, when jobs increases number of people buying houses increases and thus the cost increases.(Or thtis might be an error)\n",
        "7.   Missing mortage is negatively correlated.\n",
        "8.   Inventory level is least correlated, but it has positive effect."
      ]
    }
  ]
}