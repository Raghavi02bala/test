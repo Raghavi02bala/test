{
  "nbformat": 4,
  "nbformat_minor": 0,
  "metadata": {
    "kernelspec": {
      "display_name": "Python 3",
      "language": "python",
      "name": "python3"
    },
    "language_info": {
      "codemirror_mode": {
        "name": "ipython",
        "version": 3
      },
      "file_extension": ".py",
      "mimetype": "text/x-python",
      "name": "python",
      "nbconvert_exporter": "python",
      "pygments_lexer": "ipython3",
      "version": "3.6.9"
    },
    "colab": {
      "provenance": [],
      "collapsed_sections": []
    },
    "accelerator": "GPU",
    "gpuClass": "standard"
  },
  "cells": [
    {
      "cell_type": "code",
      "metadata": {
        "id": "E6JSKPjKwOLP",
        "colab": {
          "base_uri": "https://localhost:8080/"
        },
        "outputId": "9a905888-b095-49fc-f3f1-7b4006aee58f"
      },
      "source": [
        "!pip install gdown"
      ],
      "execution_count": null,
      "outputs": [
        {
          "output_type": "stream",
          "name": "stdout",
          "text": [
            "Looking in indexes: https://pypi.org/simple, https://us-python.pkg.dev/colab-wheels/public/simple/\n",
            "Requirement already satisfied: gdown in /usr/local/lib/python3.7/dist-packages (4.4.0)\n",
            "Requirement already satisfied: six in /usr/local/lib/python3.7/dist-packages (from gdown) (1.15.0)\n",
            "Requirement already satisfied: filelock in /usr/local/lib/python3.7/dist-packages (from gdown) (3.8.0)\n",
            "Requirement already satisfied: beautifulsoup4 in /usr/local/lib/python3.7/dist-packages (from gdown) (4.6.3)\n",
            "Requirement already satisfied: requests[socks] in /usr/local/lib/python3.7/dist-packages (from gdown) (2.23.0)\n",
            "Requirement already satisfied: tqdm in /usr/local/lib/python3.7/dist-packages (from gdown) (4.64.0)\n",
            "Requirement already satisfied: chardet<4,>=3.0.2 in /usr/local/lib/python3.7/dist-packages (from requests[socks]->gdown) (3.0.4)\n",
            "Requirement already satisfied: urllib3!=1.25.0,!=1.25.1,<1.26,>=1.21.1 in /usr/local/lib/python3.7/dist-packages (from requests[socks]->gdown) (1.24.3)\n",
            "Requirement already satisfied: certifi>=2017.4.17 in /usr/local/lib/python3.7/dist-packages (from requests[socks]->gdown) (2022.6.15)\n",
            "Requirement already satisfied: idna<3,>=2.5 in /usr/local/lib/python3.7/dist-packages (from requests[socks]->gdown) (2.10)\n",
            "Requirement already satisfied: PySocks!=1.5.7,>=1.5.6 in /usr/local/lib/python3.7/dist-packages (from requests[socks]->gdown) (1.7.1)\n"
          ]
        }
      ]
    },
    {
      "cell_type": "code",
      "source": [
        "import gdown"
      ],
      "metadata": {
        "id": "rl6T0iUi9poX"
      },
      "execution_count": null,
      "outputs": []
    },
    {
      "cell_type": "code",
      "metadata": {
        "colab": {
          "base_uri": "https://localhost:8080/"
        },
        "id": "NUGbEZafwwzX",
        "outputId": "7f07027c-5b7c-4d35-dafe-81f05a290421"
      },
      "source": [
        "!gdown 1GsD8JlAc_0yJ-1151LNr6rLw83RRUPgt\n",
        "!gdown 13exfXiyiByluh1PfYK1EyZyizqxeCVG9"
      ],
      "execution_count": null,
      "outputs": [
        {
          "output_type": "stream",
          "name": "stdout",
          "text": [
            "Downloading...\n",
            "From: https://drive.google.com/uc?id=1GsD8JlAc_0yJ-1151LNr6rLw83RRUPgt\n",
            "To: /content/Reviews.csv\n",
            "100% 301M/301M [00:04<00:00, 75.0MB/s]\n",
            "Downloading...\n",
            "From: https://drive.google.com/uc?id=13exfXiyiByluh1PfYK1EyZyizqxeCVG9\n",
            "To: /content/tokenization.py\n",
            "100% 17.3k/17.3k [00:00<00:00, 27.4MB/s]\n"
          ]
        }
      ]
    },
    {
      "cell_type": "code",
      "metadata": {
        "id": "wOtG4cf0qVAZ"
      },
      "source": [
        "#all imports\n",
        "import numpy as np\n",
        "import pandas as pd\n",
        "import tensorflow as tf\n",
        "import tensorflow_hub as hub\n",
        "from tensorflow.keras.models import Model\n",
        "import re\n",
        "from sklearn.model_selection import train_test_split\n",
        "import matplotlib.pyplot as plt"
      ],
      "execution_count": null,
      "outputs": []
    },
    {
      "cell_type": "code",
      "metadata": {
        "id": "OcmiHdAJqVAi",
        "colab": {
          "base_uri": "https://localhost:8080/",
          "height": 35
        },
        "outputId": "d018745d-b63b-405e-af96-7a23f1fa5787"
      },
      "source": [
        "tf.test.gpu_device_name()"
      ],
      "execution_count": null,
      "outputs": [
        {
          "output_type": "execute_result",
          "data": {
            "text/plain": [
              "'/device:GPU:0'"
            ],
            "application/vnd.google.colaboratory.intrinsic+json": {
              "type": "string"
            }
          },
          "metadata": {},
          "execution_count": 5
        }
      ]
    },
    {
      "cell_type": "markdown",
      "metadata": {
        "id": "LBsay58AqVAo"
      },
      "source": [
        "<font size=4>Grader function 1 </font>"
      ]
    },
    {
      "cell_type": "code",
      "metadata": {
        "id": "aTBvOKFeqVAq",
        "colab": {
          "base_uri": "https://localhost:8080/"
        },
        "outputId": "02e65c2a-70ea-442d-91d7-e59a7a6b6f34"
      },
      "source": [
        "def grader_tf_version():\n",
        "    assert((tf.__version__)>'2')\n",
        "    return True\n",
        "grader_tf_version()"
      ],
      "execution_count": null,
      "outputs": [
        {
          "output_type": "execute_result",
          "data": {
            "text/plain": [
              "True"
            ]
          },
          "metadata": {},
          "execution_count": 6
        }
      ]
    },
    {
      "cell_type": "markdown",
      "metadata": {
        "id": "ZTWRqbrBqVAu"
      },
      "source": [
        "<pre><font size=6>Part-1: Preprocessing</font></pre>"
      ]
    },
    {
      "cell_type": "code",
      "metadata": {
        "id": "B3csZKDrqVAv",
        "colab": {
          "base_uri": "https://localhost:8080/"
        },
        "outputId": "f817fb16-6493-4957-903f-5cb13f403bf2"
      },
      "source": [
        "#Read the dataset - Amazon fine food reviews\n",
        "reviews = pd.read_csv(\"Reviews.csv\")\n",
        "#check the info of the dataset\n",
        "reviews.info()"
      ],
      "execution_count": null,
      "outputs": [
        {
          "output_type": "stream",
          "name": "stdout",
          "text": [
            "<class 'pandas.core.frame.DataFrame'>\n",
            "RangeIndex: 568454 entries, 0 to 568453\n",
            "Data columns (total 10 columns):\n",
            " #   Column                  Non-Null Count   Dtype \n",
            "---  ------                  --------------   ----- \n",
            " 0   Id                      568454 non-null  int64 \n",
            " 1   ProductId               568454 non-null  object\n",
            " 2   UserId                  568454 non-null  object\n",
            " 3   ProfileName             568438 non-null  object\n",
            " 4   HelpfulnessNumerator    568454 non-null  int64 \n",
            " 5   HelpfulnessDenominator  568454 non-null  int64 \n",
            " 6   Score                   568454 non-null  int64 \n",
            " 7   Time                    568454 non-null  int64 \n",
            " 8   Summary                 568427 non-null  object\n",
            " 9   Text                    568454 non-null  object\n",
            "dtypes: int64(5), object(5)\n",
            "memory usage: 43.4+ MB\n"
          ]
        }
      ]
    },
    {
      "cell_type": "code",
      "metadata": {
        "id": "xokNn7qZqVAz"
      },
      "source": [
        "reviews = reviews[['Text', 'Score']]\n",
        "# Retain only Text and Score"
      ],
      "execution_count": null,
      "outputs": []
    },
    {
      "cell_type": "code",
      "source": [
        "reviews.isnull().values.any()\n",
        "# There's no null values"
      ],
      "metadata": {
        "colab": {
          "base_uri": "https://localhost:8080/"
        },
        "id": "LoNNZLfrfESI",
        "outputId": "67012eb1-5c5b-4abb-852a-5d408692260b"
      },
      "execution_count": null,
      "outputs": [
        {
          "output_type": "execute_result",
          "data": {
            "text/plain": [
              "False"
            ]
          },
          "metadata": {},
          "execution_count": 9
        }
      ]
    },
    {
      "cell_type": "code",
      "metadata": {
        "id": "5GZt7pVkqVA4",
        "colab": {
          "base_uri": "https://localhost:8080/"
        },
        "outputId": "0178823f-8c0f-4c8b-e12a-3a2c7b4888dc"
      },
      "source": [
        "reviews.loc[reviews['Score'] <=2, 'Score'] = 0\n",
        "reviews.loc[reviews['Score'] > 3, 'Score'] = 1\n",
        "reviews.drop(reviews[reviews['Score']==3].index,inplace=True)\n",
        "# set score values and drop score withe the column value as 3"
      ],
      "execution_count": null,
      "outputs": [
        {
          "output_type": "stream",
          "name": "stderr",
          "text": [
            "/usr/local/lib/python3.7/dist-packages/pandas/core/indexing.py:1817: SettingWithCopyWarning: \n",
            "A value is trying to be set on a copy of a slice from a DataFrame.\n",
            "Try using .loc[row_indexer,col_indexer] = value instead\n",
            "\n",
            "See the caveats in the documentation: https://pandas.pydata.org/pandas-docs/stable/user_guide/indexing.html#returning-a-view-versus-a-copy\n",
            "  self._setitem_single_column(loc, value, pi)\n"
          ]
        }
      ]
    },
    {
      "cell_type": "markdown",
      "metadata": {
        "id": "oVe8LlkrqVA6"
      },
      "source": [
        "<font size=4>Grader function 2 </font>"
      ]
    },
    {
      "cell_type": "code",
      "metadata": {
        "id": "7mDXSiJpqVA7",
        "colab": {
          "base_uri": "https://localhost:8080/"
        },
        "outputId": "340d534f-32aa-43d1-f1e1-0c4ede3d6602"
      },
      "source": [
        "def grader_reviews():\n",
        "    temp_shape = (reviews.shape == (525814, 2)) and (reviews.Score.value_counts()[1]==443777)\n",
        "    assert(temp_shape == True)\n",
        "    return True\n",
        "grader_reviews()"
      ],
      "execution_count": null,
      "outputs": [
        {
          "output_type": "execute_result",
          "data": {
            "text/plain": [
              "True"
            ]
          },
          "metadata": {},
          "execution_count": 11
        }
      ]
    },
    {
      "cell_type": "code",
      "metadata": {
        "id": "xYZ-UB9UqVA-"
      },
      "source": [
        "def get_wordlen(x):\n",
        "    return len(x.split())\n",
        "reviews['len'] = reviews.Text.apply(get_wordlen)\n",
        "reviews = reviews[reviews.len<50]\n",
        "reviews = reviews.sample(n=100000, random_state=30)"
      ],
      "execution_count": null,
      "outputs": []
    },
    {
      "cell_type": "code",
      "metadata": {
        "id": "CvldQriGqVBB"
      },
      "source": [
        "reviews['Text']=reviews['Text'].apply(lambda row : re.sub('<.*?>','',row))"
      ],
      "execution_count": null,
      "outputs": []
    },
    {
      "cell_type": "code",
      "metadata": {
        "id": "NsYDd3okqVBF"
      },
      "source": [
        "X_train, X_test, y_train, y_test = train_test_split(reviews[['Text', 'len']], reviews.Score, test_size=0.2, stratify=reviews.Score)"
      ],
      "execution_count": null,
      "outputs": []
    },
    {
      "cell_type": "code",
      "metadata": {
        "id": "-Q6OAcrOqVBI",
        "colab": {
          "base_uri": "https://localhost:8080/",
          "height": 265
        },
        "outputId": "2e0e98fa-f32d-4c12-d036-63d92d418744"
      },
      "source": [
        "ytrain = y_train.value_counts().to_dict()\n",
        "plt.bar([str(x) for x in ytrain.keys()],list(ytrain.values()))\n",
        "ytest = y_test.value_counts().to_dict()\n",
        "plt.bar([str(x) for x in ytest.keys()],list(ytest.values()))\n",
        "plt.show()"
      ],
      "execution_count": null,
      "outputs": [
        {
          "output_type": "display_data",
          "data": {
            "text/plain": [
              "<Figure size 432x288 with 1 Axes>"
            ],
            "image/png": "[encoded data removed]"
          },
          "metadata": {
            "needs_background": "light"
          }
        }
      ]
    },
    {
      "cell_type": "code",
      "metadata": {
        "id": "Up-z5boWqVBK"
      },
      "source": [
        "#saving to disk. if we need, we can load preprocessed data directly. \n",
        "reviews.to_csv('preprocessed.csv', index=False)"
      ],
      "execution_count": null,
      "outputs": []
    },
    {
      "cell_type": "markdown",
      "metadata": {
        "id": "bBtqNGN9qVBM"
      },
      "source": [
        "<pre><font size=6>Part-2: Creating BERT Model</font> \n",
        "\n",
        "If you want to know more about BERT, You can watch live sessions on Transformers and BERt. \n",
        "we will strongly recommend you to read <a href=\"https://jalammar.github.io/illustrated-transformer/\">Transformers</a>, <a href=\"https://arxiv.org/abs/1810.04805\">BERT Paper</a> and, <a href=\"https://jalammar.github.io/a-visual-guide-to-using-bert-for-the-first-time/\">This blog</a>.\n",
        "\n",
        "\n",
        "For this assignment, we are using <a href=\"https://tfhub.dev/tensorflow/bert_en_uncased_L-12_H-768_A-12/1\">BERT uncased Base model</a>. \n",
        "It uses L=12 hidden layers (i.e., Transformer blocks), a hidden size of H=768, and A=12 attention heads. </pre>"
      ]
    },
    {
      "cell_type": "code",
      "metadata": {
        "id": "i8xd2HejqVBN"
      },
      "source": [
        "## Loading the Pretrained Model from tensorflow HUB\n",
        "tf.keras.backend.clear_session()\n",
        "\n",
        "# maximum length of a seq in the data we have, for now i am making it as 55. You can change this\n",
        "max_seq_length = 55\n",
        "\n",
        "#BERT takes 3 inputs\n",
        "\n",
        "#this is input words. Sequence of words represented as integers\n",
        "input_word_ids = tf.keras.layers.Input(shape=(max_seq_length,), dtype=tf.int32, name=\"input_word_ids\")\n",
        "\n",
        "#mask vector if you are padding anything\n",
        "input_mask = tf.keras.layers.Input(shape=(max_seq_length,), dtype=tf.int32, name=\"input_mask\")\n",
        "\n",
        "#segment vectors. If you are giving only one sentence for the classification, total seg vector is 0. \n",
        "#If you are giving two sentenced with [sep] token separated, first seq segment vectors are zeros and \n",
        "#second seq segment vector are 1's\n",
        "segment_ids = tf.keras.layers.Input(shape=(max_seq_length,), dtype=tf.int32, name=\"segment_ids\")\n",
        "\n",
        "#bert layer \n",
        "bert_layer = hub.KerasLayer(\"https://tfhub.dev/tensorflow/bert_en_uncased_L-12_H-768_A-12/1\", trainable=False)\n",
        "pooled_output, sequence_output = bert_layer([input_word_ids, input_mask, segment_ids])\n",
        "\n",
        "#Bert model\n",
        "#We are using only pooled output not sequence out. \n",
        "#If you want to know about those, please read https://www.kaggle.com/questions-and-answers/86510\n",
        "bert_model = Model(inputs=[input_word_ids, input_mask, segment_ids], outputs=pooled_output)\n"
      ],
      "execution_count": null,
      "outputs": []
    },
    {
      "cell_type": "code",
      "metadata": {
        "id": "lQJsjg6fqVBQ",
        "colab": {
          "base_uri": "https://localhost:8080/"
        },
        "outputId": "728229fa-0c3b-473b-a5bd-c098cc08cb46"
      },
      "source": [
        "bert_model.summary()"
      ],
      "execution_count": null,
      "outputs": [
        {
          "output_type": "stream",
          "name": "stdout",
          "text": [
            "Model: \"model\"\n",
            "__________________________________________________________________________________________________\n",
            " Layer (type)                   Output Shape         Param #     Connected to                     \n",
            "==================================================================================================\n",
            " input_word_ids (InputLayer)    [(None, 55)]         0           []                               \n",
            "                                                                                                  \n",
            " input_mask (InputLayer)        [(None, 55)]         0           []                               \n",
            "                                                                                                  \n",
            " segment_ids (InputLayer)       [(None, 55)]         0           []                               \n",
            "                                                                                                  \n",
            " keras_layer (KerasLayer)       [(None, 768),        109482241   ['input_word_ids[0][0]',         \n",
            "                                 (None, 55, 768)]                 'input_mask[0][0]',             \n",
            "                                                                  'segment_ids[0][0]']            \n",
            "                                                                                                  \n",
            "==================================================================================================\n",
            "Total params: 109,482,241\n",
            "Trainable params: 0\n",
            "Non-trainable params: 109,482,241\n",
            "__________________________________________________________________________________________________\n"
          ]
        }
      ]
    },
    {
      "cell_type": "code",
      "metadata": {
        "id": "w3z0OMA5qVBS",
        "colab": {
          "base_uri": "https://localhost:8080/"
        },
        "outputId": "fc9af37b-45a3-4bd0-830c-ef535c73cfa4"
      },
      "source": [
        "bert_model.output"
      ],
      "execution_count": null,
      "outputs": [
        {
          "output_type": "execute_result",
          "data": {
            "text/plain": [
              "<KerasTensor: shape=(None, 768) dtype=float32 (created by layer 'keras_layer')>"
            ]
          },
          "metadata": {},
          "execution_count": 19
        }
      ]
    },
    {
      "cell_type": "markdown",
      "metadata": {
        "id": "Ewv4hFCsqVBU"
      },
      "source": [
        "<pre><font size=6>Part-3: Tokenization</font></pre>"
      ]
    },
    {
      "cell_type": "code",
      "metadata": {
        "id": "tX3VEFjiqVBU"
      },
      "source": [
        "vocab_file = bert_layer.resolved_object.vocab_file.asset_path.numpy()\n",
        "do_lower_case = bert_layer.resolved_object.do_lower_case.numpy()"
      ],
      "execution_count": null,
      "outputs": []
    },
    {
      "cell_type": "code",
      "source": [
        "vocab_file"
      ],
      "metadata": {
        "colab": {
          "base_uri": "https://localhost:8080/"
        },
        "id": "UFVU0P0gVLDv",
        "outputId": "7e2c3fad-dce4-4363-cfd9-8ad7afd26e26"
      },
      "execution_count": null,
      "outputs": [
        {
          "output_type": "execute_result",
          "data": {
            "text/plain": [
              "b'/tmp/tfhub_modules/03d6fb3ce1605ad9e5e9ed5346b2fb9623ef4d3d/assets/vocab.txt'"
            ]
          },
          "metadata": {},
          "execution_count": 21
        }
      ]
    },
    {
      "cell_type": "code",
      "source": [
        "!pip install sentencepiece"
      ],
      "metadata": {
        "colab": {
          "base_uri": "https://localhost:8080/"
        },
        "id": "DyIDvG88k7km",
        "outputId": "efa7067a-9cf2-4615-c680-6d3eb4939b68"
      },
      "execution_count": null,
      "outputs": [
        {
          "output_type": "stream",
          "name": "stdout",
          "text": [
            "Looking in indexes: https://pypi.org/simple, https://us-python.pkg.dev/colab-wheels/public/simple/\n",
            "Collecting sentencepiece\n",
            "  Downloading sentencepiece-0.1.97-cp37-cp37m-manylinux_2_17_x86_64.manylinux2014_x86_64.whl (1.3 MB)\n",
            "\u001b[K     |████████████████████████████████| 1.3 MB 14.2 MB/s \n",
            "\u001b[?25hInstalling collected packages: sentencepiece\n",
            "Successfully installed sentencepiece-0.1.97\n"
          ]
        }
      ]
    },
    {
      "cell_type": "code",
      "metadata": {
        "id": "Y_iPwa99qVBW"
      },
      "source": [
        "import tokenization "
      ],
      "execution_count": null,
      "outputs": []
    },
    {
      "cell_type": "code",
      "metadata": {
        "id": "qlGFtp2xxzt6"
      },
      "source": [
        "tokenizer=tokenization.FullTokenizer(vocab_file,do_lower_case )"
      ],
      "execution_count": null,
      "outputs": []
    },
    {
      "cell_type": "markdown",
      "metadata": {
        "id": "KKkGLhR-qVBd"
      },
      "source": [
        "<font size=4>Grader function 3 </font>"
      ]
    },
    {
      "cell_type": "code",
      "metadata": {
        "id": "2CPu850xqVBe",
        "colab": {
          "base_uri": "https://localhost:8080/"
        },
        "outputId": "d663da49-1940-49ab-fd1d-4fa0992ab036"
      },
      "source": [
        "#it has to give no error \n",
        "def grader_tokenize(tokenizer):\n",
        "    out = False\n",
        "    try:\n",
        "        out=('[CLS]' in tokenizer.vocab) and ('[SEP]' in tokenizer.vocab)\n",
        "    except:\n",
        "        out = False\n",
        "    assert(out==True)\n",
        "    return out\n",
        "grader_tokenize(tokenizer)"
      ],
      "execution_count": null,
      "outputs": [
        {
          "output_type": "execute_result",
          "data": {
            "text/plain": [
              "True"
            ]
          },
          "metadata": {},
          "execution_count": 25
        }
      ]
    },
    {
      "cell_type": "code",
      "metadata": {
        "id": "9crhPylQqVBg"
      },
      "source": [
        "def bert_preprocess(sentences,tokenizer,max_seq_len=512):\n",
        "  tokens=[]\n",
        "  masks=[]\n",
        "  segments=[]\n",
        "  for sent in sentences:\n",
        "    sent=tokenizer.tokenize(sent)\n",
        "    sent=sent[:max_seq_len-2]\n",
        "    seq=[\"[CLS]\"] + sent + [\"[SEP]\"]\n",
        "    token = tokenizer.convert_tokens_to_ids(seq)\n",
        "    padding_tokens=token+[0]*(max_seq_len-len(token))\n",
        "    mask=[1]*len(seq)\n",
        "    masking=mask+[0]*(max_seq_len-len(token))\n",
        "    segment=np.zeros(max_seq_length)\n",
        "    \n",
        "    tokens.append(padding_tokens)\n",
        "    masks.append(masking)\n",
        "    segments.append(segment)\n",
        "  return np.array(tokens),np.array(masks),np.array(segments)"
      ],
      "execution_count": null,
      "outputs": []
    },
    {
      "cell_type": "code",
      "source": [
        "data = pd.read_csv('/content/preprocessed.csv')"
      ],
      "metadata": {
        "id": "VtkbPO97uSFE"
      },
      "execution_count": null,
      "outputs": []
    },
    {
      "cell_type": "code",
      "source": [
        "X_train, X_test, y_train, y_test = train_test_split(data[['Text', 'len']], data.Score, test_size=0.2, stratify=data.Score)"
      ],
      "metadata": {
        "id": "a8LVKsTIuXcJ"
      },
      "execution_count": null,
      "outputs": []
    },
    {
      "cell_type": "code",
      "source": [
        "X_train_tokens, X_train_mask, X_train_segment=bert_preprocess(X_train.Text.values,tokenizer,55)\n",
        "X_test_tokens, X_test_mask, X_test_segment=bert_preprocess(X_test.Text.values,tokenizer,55)"
      ],
      "metadata": {
        "id": "cnnk9NBCsUfa"
      },
      "execution_count": null,
      "outputs": []
    },
    {
      "cell_type": "code",
      "metadata": {
        "id": "dxhggBxwqVBj"
      },
      "source": [
        "import pickle"
      ],
      "execution_count": null,
      "outputs": []
    },
    {
      "cell_type": "code",
      "metadata": {
        "id": "xF0idMRDqVBm"
      },
      "source": [
        "##save all your results to disk so that, no need to run all again. \n",
        "pickle.dump((X_train, X_train_tokens, X_train_mask, X_train_segment, y_train),open('train_data.pkl','wb'))\n",
        "pickle.dump((X_test, X_test_tokens, X_test_mask, X_test_segment, y_test),open('test_data.pkl','wb'))"
      ],
      "execution_count": null,
      "outputs": []
    },
    {
      "cell_type": "code",
      "metadata": {
        "id": "Leu1URGzqVBo"
      },
      "source": [
        "#you can load from disk\n",
        "X_train, X_train_tokens, X_train_mask, X_train_segment, y_train = pickle.load(open(\"train_data.pkl\", 'rb')) \n",
        "X_test, X_test_tokens, X_test_mask, X_test_segment, y_test = pickle.load(open(\"test_data.pkl\", 'rb')) "
      ],
      "execution_count": null,
      "outputs": []
    },
    {
      "cell_type": "markdown",
      "metadata": {
        "id": "sjPv8VkJqVBr"
      },
      "source": [
        "<font size=4>Grader function 4 </font>"
      ]
    },
    {
      "cell_type": "code",
      "metadata": {
        "id": "qekHJgmdqVBs",
        "colab": {
          "base_uri": "https://localhost:8080/"
        },
        "outputId": "b47f986d-1715-4b5f-c6eb-044009477e33"
      },
      "source": [
        "def grader_alltokens_train():\n",
        "    out = False\n",
        "    \n",
        "    if type(X_train_tokens) == np.ndarray:\n",
        "        \n",
        "        temp_shapes = (X_train_tokens.shape[1]==max_seq_length) and (X_train_mask.shape[1]==max_seq_length) and \\\n",
        "        (X_train_segment.shape[1]==max_seq_length)\n",
        "        \n",
        "        segment_temp = not np.any(X_train_segment)\n",
        "        \n",
        "        mask_temp = np.sum(X_train_mask==0) == np.sum(X_train_tokens==0)\n",
        "        \n",
        "        no_cls = np.sum(X_train_tokens==tokenizer.vocab['[CLS]'])==X_train_tokens.shape[0]\n",
        "        \n",
        "        no_sep = np.sum(X_train_tokens==tokenizer.vocab['[SEP]'])==X_train_tokens.shape[0]\n",
        "        \n",
        "        out = temp_shapes and segment_temp and mask_temp and no_cls and no_sep\n",
        "      \n",
        "    else:\n",
        "        print('Type of all above token arrays should be numpy array not list')\n",
        "        out = False\n",
        "    assert(out==True)\n",
        "    return out\n",
        "\n",
        "grader_alltokens_train()"
      ],
      "execution_count": null,
      "outputs": [
        {
          "output_type": "execute_result",
          "data": {
            "text/plain": [
              "True"
            ]
          },
          "metadata": {},
          "execution_count": 33
        }
      ]
    },
    {
      "cell_type": "markdown",
      "metadata": {
        "id": "KnvC6X_wqVBu"
      },
      "source": [
        "<font size=4>Grader function 5 </font>"
      ]
    },
    {
      "cell_type": "code",
      "metadata": {
        "id": "Av4SRMPSqVBv",
        "colab": {
          "base_uri": "https://localhost:8080/"
        },
        "outputId": "ee06d226-0f0c-4a40-c562-c688ad412014"
      },
      "source": [
        "def grader_alltokens_test():\n",
        "    out = False\n",
        "    if type(X_test_tokens) == np.ndarray:\n",
        "        \n",
        "        temp_shapes = (X_test_tokens.shape[1]==max_seq_length) and (X_test_mask.shape[1]==max_seq_length) and \\\n",
        "        (X_test_segment.shape[1]==max_seq_length)\n",
        "        \n",
        "        segment_temp = not np.any(X_test_segment)\n",
        "        \n",
        "        mask_temp = np.sum(X_test_mask==0) == np.sum(X_test_tokens==0)\n",
        "        \n",
        "        no_cls = np.sum(X_test_tokens==tokenizer.vocab['[CLS]'])==X_test_tokens.shape[0]\n",
        "        \n",
        "        no_sep = np.sum(X_test_tokens==tokenizer.vocab['[SEP]'])==X_test_tokens.shape[0]\n",
        "        \n",
        "        out = temp_shapes and segment_temp and mask_temp and no_cls and no_sep\n",
        "      \n",
        "    else:\n",
        "        print('Type of all above token arrays should be numpy array not list')\n",
        "        out = False\n",
        "    assert(out==True)\n",
        "    return out\n",
        "grader_alltokens_test()"
      ],
      "execution_count": null,
      "outputs": [
        {
          "output_type": "execute_result",
          "data": {
            "text/plain": [
              "True"
            ]
          },
          "metadata": {},
          "execution_count": 34
        }
      ]
    },
    {
      "cell_type": "markdown",
      "metadata": {
        "id": "SEj-Eua5qVBx"
      },
      "source": [
        "<pre><font size=6>Part-4: Getting Embeddings from BERT Model</font>\n",
        "We already created the BERT model in the part-2 and input data in the part-3. \n",
        "We will utlize those two and will get the embeddings for each sentence in the \n",
        "Train and test data.</pre>"
      ]
    },
    {
      "cell_type": "code",
      "metadata": {
        "id": "QwOVgQFDqVBy",
        "colab": {
          "base_uri": "https://localhost:8080/"
        },
        "outputId": "32d4e4e5-a722-4ce8-a8e2-dafa8822e9bf"
      },
      "source": [
        "bert_model.input"
      ],
      "execution_count": null,
      "outputs": [
        {
          "output_type": "execute_result",
          "data": {
            "text/plain": [
              "[<KerasTensor: shape=(None, 55) dtype=int32 (created by layer 'input_word_ids')>,\n",
              " <KerasTensor: shape=(None, 55) dtype=int32 (created by layer 'input_mask')>,\n",
              " <KerasTensor: shape=(None, 55) dtype=int32 (created by layer 'segment_ids')>]"
            ]
          },
          "metadata": {},
          "execution_count": 35
        }
      ]
    },
    {
      "cell_type": "code",
      "metadata": {
        "id": "ZcpkQq1OqVB0",
        "colab": {
          "base_uri": "https://localhost:8080/"
        },
        "outputId": "79161271-a829-4336-a9a1-cff8784367d5"
      },
      "source": [
        "bert_model.output"
      ],
      "execution_count": null,
      "outputs": [
        {
          "output_type": "execute_result",
          "data": {
            "text/plain": [
              "<KerasTensor: shape=(None, 768) dtype=float32 (created by layer 'keras_layer')>"
            ]
          },
          "metadata": {},
          "execution_count": 36
        }
      ]
    },
    {
      "cell_type": "code",
      "metadata": {
        "id": "IxdIlOIBlm7j"
      },
      "source": [
        "# get the train output, BERT model will give one output so save in\n",
        "# X_train_pooled_output\n",
        "#this cell will take some time to execute, make sure thay you have stable internet connection\n",
        "X_train_pooled_output=bert_model.predict([X_train_tokens,X_train_mask,X_train_segment])"
      ],
      "execution_count": null,
      "outputs": []
    },
    {
      "cell_type": "code",
      "source": [
        "X_train_pooled_output_seq=bert_model.predict([X_train_tokens,X_train_mask,X_train_segment])"
      ],
      "metadata": {
        "id": "THtWNmq-erTS"
      },
      "execution_count": null,
      "outputs": []
    },
    {
      "cell_type": "code",
      "metadata": {
        "id": "yZT11BCol4gL"
      },
      "source": [
        "# get the test output, BERT model will give one output so save in\n",
        "# X_test_pooled_output\n",
        "X_test_pooled_output=bert_model.predict([X_test_tokens,X_test_mask,X_test_segment])"
      ],
      "execution_count": null,
      "outputs": []
    },
    {
      "cell_type": "code",
      "metadata": {
        "id": "DL6JVojfqVB8"
      },
      "source": [
        "##save all your results to disk so that, no need to run all again. \n",
        "pickle.dump((X_train_pooled_output, X_test_pooled_output),open('final_output.pkl','wb'))"
      ],
      "execution_count": null,
      "outputs": []
    },
    {
      "cell_type": "code",
      "metadata": {
        "id": "oSQcBdROqVB9"
      },
      "source": [
        "# X_train_pooled_output, X_test_pooled_output= pickle.load(open('final_output.pkl', 'rb'))"
      ],
      "execution_count": null,
      "outputs": []
    },
    {
      "cell_type": "markdown",
      "metadata": {
        "id": "ulEXFE7aqVCA"
      },
      "source": [
        "<font size=4>Grader function 6 </font>"
      ]
    },
    {
      "cell_type": "code",
      "metadata": {
        "id": "oHCsW0IvqVCB",
        "colab": {
          "base_uri": "https://localhost:8080/"
        },
        "outputId": "4721ec5a-574c-4c87-ceae-b5db1495142c"
      },
      "source": [
        "#now we have X_train_pooled_output, y_train\n",
        "#X_test_pooled_ouput, y_test\n",
        "\n",
        "#please use this grader to evaluate\n",
        "def greader_output():\n",
        "    assert(X_train_pooled_output.shape[1]==768)\n",
        "    assert(len(y_train)==len(X_train_pooled_output))\n",
        "    assert(X_test_pooled_output.shape[1]==768)\n",
        "    assert(len(y_test)==len(X_test_pooled_output))\n",
        "    assert(len(y_train.shape)==1)\n",
        "    assert(len(X_train_pooled_output.shape)==2)\n",
        "    assert(len(y_test.shape)==1)\n",
        "    assert(len(X_test_pooled_output.shape)==2)\n",
        "    return True\n",
        "greader_output()"
      ],
      "execution_count": null,
      "outputs": [
        {
          "output_type": "execute_result",
          "data": {
            "text/plain": [
              "True"
            ]
          },
          "metadata": {},
          "execution_count": 50
        }
      ]
    },
    {
      "cell_type": "markdown",
      "metadata": {
        "id": "oYwS1QbAqVCD"
      },
      "source": [
        "<pre><font size=6>Part-5: Training a NN with 768 features</font>\n",
        "\n",
        "Create a NN and train the NN. \n",
        "1.<b> You have to use AUC as metric. Do not use tf.keras.metrics.AUC</b> \n",
        "<b> You have to write custom code for AUC and print it at the end of each epoch</b> \n",
        "2. You can use any architecture you want. \n",
        "3. You have to use tensorboard to log all your metrics and Losses. You have to send those logs. \n",
        "4. Print the loss and metric at every epoch. \n",
        "5. You have to submit without overfitting and underfitting. \n",
        "</pre>"
      ]
    },
    {
      "cell_type": "code",
      "metadata": {
        "id": "od8PQlYRqVCE"
      },
      "source": [
        "##imports\n",
        "from tensorflow.keras.layers import Input, Dense, Activation, Dropout, LSTM\n",
        "from tensorflow.keras.models import Model"
      ],
      "execution_count": null,
      "outputs": []
    },
    {
      "cell_type": "code",
      "source": [
        "import datetime\n",
        "from sklearn.metrics import roc_auc_score"
      ],
      "metadata": {
        "id": "tHKuybj9JBCH"
      },
      "execution_count": null,
      "outputs": []
    },
    {
      "cell_type": "code",
      "source": [
        "auc=[]\n",
        "val_auc=[]\n",
        "class LossHistory(tf.keras.callbacks.Callback):\n",
        "  def on_train_begin(self, logs={}):\n",
        "    self.history={'val_accuracy': []}\n",
        "  def on_epoch_end(self, epoch, logs={}):\n",
        "    if logs.get('val_accuracy', -1) != -1:\n",
        "        self.history['val_accuracy'].append(logs.get('val_accuracy'))\n",
        "    auc_tr=(roc_auc_score(y_train,(self.model.predict(X_train_pooled_output))) )\n",
        "    auc_test=(roc_auc_score (y_test, (self.model.predict(X_test_pooled_output) ) ) )\n",
        "    print('\\n  train_auc : ',auc_tr)\n",
        "    print('  val_auc : ',auc_test)\n",
        "    auc.append(auc_tr)\n",
        "    val_auc.append(auc_test)\n",
        "    loss=logs.get('loss')"
      ],
      "metadata": {
        "id": "WKgP6K2XJBGQ"
      },
      "execution_count": null,
      "outputs": []
    },
    {
      "cell_type": "code",
      "source": [
        "filepath=\"model1_save/weights-{epoch:02d}-{val_accuracy:.4f}.hdf5\"\n",
        "checkpoint = tf.keras.callbacks.ModelCheckpoint(filepath=filepath, monitor='val_loss',  verbose=1, save_best_only=True, mode='auto')\n",
        "history_own = LossHistory()\n",
        "earlystop = tf.keras.callbacks.EarlyStopping(monitor='val_accuracy',mode='max', patience=2, verbose=1)"
      ],
      "metadata": {
        "id": "5KMKIQZUKpUA"
      },
      "execution_count": null,
      "outputs": []
    },
    {
      "cell_type": "code",
      "metadata": {
        "id": "DSnmX3WnqVCG",
        "colab": {
          "base_uri": "https://localhost:8080/",
          "height": 533
        },
        "outputId": "1f927102-89c5-427c-da12-53958116c326"
      },
      "source": [
        "input = Input(shape=[768,],name='input_layer')\n",
        "dense1=Dense(400, activation='relu',name='dense_1')(input)\n",
        "dense2=Dense(220, activation='relu',name='dense_2')(dense1)\n",
        "dense3=Dense(40, activation='relu',name='dense_3')(dense2)\n",
        "output=Dense(1, activation='sigmoid',name='dense_4')(dense3)\n",
        "model1 = Model(inputs=input, outputs=output)\n",
        "tf.keras.utils.plot_model(model1,\"model_1.png\",show_shapes=True)"
      ],
      "execution_count": null,
      "outputs": [
        {
          "output_type": "execute_result",
          "data": {
            "image/png": "[encoded data removed]",
            "text/plain": [
              "<IPython.core.display.Image object>"
            ]
          },
          "metadata": {},
          "execution_count": 43
        }
      ]
    },
    {
      "cell_type": "code",
      "source": [
        "optimizer= tf.keras.optimizers.Adam(learning_rate=0.001)\n",
        "model1.compile(optimizer=optimizer,loss=\"binary_crossentropy\", metrics='accuracy')"
      ],
      "metadata": {
        "id": "b_UmWLiYKwsg"
      },
      "execution_count": null,
      "outputs": []
    },
    {
      "cell_type": "code",
      "source": [
        "model1.fit(X_train_pooled_output,y_train,validation_data=(X_test_pooled_output,y_test),epochs=50,callbacks=[history_own])"
      ],
      "metadata": {
        "colab": {
          "base_uri": "https://localhost:8080/"
        },
        "id": "kuYzAlq8Occa",
        "outputId": "94604732-cc16-4e3c-850a-f974ad40da63"
      },
      "execution_count": null,
      "outputs": [
        {
          "output_type": "stream",
          "name": "stdout",
          "text": [
            "Epoch 1/50\n",
            "2498/2500 [============================>.] - ETA: 0s - loss: 0.2429 - accuracy: 0.9004\n",
            "  train_auc :  0.9456140625940032\n",
            "  val_auc :  0.9455435232026287\n",
            "2500/2500 [==============================] - 17s 6ms/step - loss: 0.2429 - accuracy: 0.9004 - val_loss: 0.1944 - val_accuracy: 0.9255\n",
            "Epoch 2/50\n",
            "2496/2500 [============================>.] - ETA: 0s - loss: 0.2045 - accuracy: 0.9155\n",
            "  train_auc :  0.9496298917100972\n",
            "  val_auc :  0.949749065780783\n",
            "2500/2500 [==============================] - 13s 5ms/step - loss: 0.2044 - accuracy: 0.9156 - val_loss: 0.1805 - val_accuracy: 0.9273\n",
            "Epoch 3/50\n",
            "2497/2500 [============================>.] - ETA: 0s - loss: 0.1981 - accuracy: 0.9190\n",
            "  train_auc :  0.9518358644397206\n",
            "  val_auc :  0.9513460736789682\n",
            "2500/2500 [==============================] - 18s 7ms/step - loss: 0.1981 - accuracy: 0.9190 - val_loss: 0.1762 - val_accuracy: 0.9279\n",
            "Epoch 4/50\n",
            "2487/2500 [============================>.] - ETA: 0s - loss: 0.1937 - accuracy: 0.9207\n",
            "  train_auc :  0.9531295298445321\n",
            "  val_auc :  0.9528010700406206\n",
            "2500/2500 [==============================] - 14s 6ms/step - loss: 0.1937 - accuracy: 0.9208 - val_loss: 0.1825 - val_accuracy: 0.9269\n",
            "Epoch 5/50\n",
            "2487/2500 [============================>.] - ETA: 0s - loss: 0.1891 - accuracy: 0.9222\n",
            "  train_auc :  0.954354688856561\n",
            "  val_auc :  0.9533245613800395\n",
            "2500/2500 [==============================] - 15s 6ms/step - loss: 0.1892 - accuracy: 0.9222 - val_loss: 0.1895 - val_accuracy: 0.9201\n",
            "Epoch 6/50\n",
            "2495/2500 [============================>.] - ETA: 0s - loss: 0.1840 - accuracy: 0.9244\n",
            "  train_auc :  0.9554855732443335\n",
            "  val_auc :  0.9542228990523623\n",
            "2500/2500 [==============================] - 14s 6ms/step - loss: 0.1838 - accuracy: 0.9245 - val_loss: 0.1892 - val_accuracy: 0.9199\n",
            "Epoch 7/50\n",
            "2494/2500 [============================>.] - ETA: 0s - loss: 0.1829 - accuracy: 0.9262\n",
            "  train_auc :  0.9569186537980526\n",
            "  val_auc :  0.9562112816794902\n",
            "2500/2500 [==============================] - 15s 6ms/step - loss: 0.1829 - accuracy: 0.9261 - val_loss: 0.1753 - val_accuracy: 0.9316\n",
            "Epoch 8/50\n",
            "2499/2500 [============================>.] - ETA: 0s - loss: 0.1819 - accuracy: 0.9255\n",
            "  train_auc :  0.9579332304972583\n",
            "  val_auc :  0.9566390852144177\n",
            "2500/2500 [==============================] - 15s 6ms/step - loss: 0.1819 - accuracy: 0.9255 - val_loss: 0.1717 - val_accuracy: 0.9307\n",
            "Epoch 9/50\n",
            "2488/2500 [============================>.] - ETA: 0s - loss: 0.1788 - accuracy: 0.9271\n",
            "  train_auc :  0.9582451915758048\n",
            "  val_auc :  0.9571662139065436\n",
            "2500/2500 [==============================] - 12s 5ms/step - loss: 0.1787 - accuracy: 0.9271 - val_loss: 0.1666 - val_accuracy: 0.9333\n",
            "Epoch 10/50\n",
            "2483/2500 [============================>.] - ETA: 0s - loss: 0.1801 - accuracy: 0.9262\n",
            "  train_auc :  0.9590404242798352\n",
            "  val_auc :  0.9577377094570662\n",
            "2500/2500 [==============================] - 13s 5ms/step - loss: 0.1798 - accuracy: 0.9263 - val_loss: 0.1693 - val_accuracy: 0.9297\n",
            "Epoch 11/50\n",
            "2499/2500 [============================>.] - ETA: 0s - loss: 0.1751 - accuracy: 0.9285\n",
            "  train_auc :  0.9591797689538906\n",
            "  val_auc :  0.9576562615014695\n",
            "2500/2500 [==============================] - 13s 5ms/step - loss: 0.1750 - accuracy: 0.9285 - val_loss: 0.1810 - val_accuracy: 0.9282\n",
            "Epoch 12/50\n",
            "2490/2500 [============================>.] - ETA: 0s - loss: 0.1749 - accuracy: 0.9289\n",
            "  train_auc :  0.9573329263977184\n",
            "  val_auc :  0.9561090156839331\n",
            "2500/2500 [==============================] - 13s 5ms/step - loss: 0.1748 - accuracy: 0.9289 - val_loss: 0.1951 - val_accuracy: 0.9261\n",
            "Epoch 13/50\n",
            "2497/2500 [============================>.] - ETA: 0s - loss: 0.1732 - accuracy: 0.9296\n",
            "  train_auc :  0.9598949961184318\n",
            "  val_auc :  0.958293472627948\n",
            "2500/2500 [==============================] - 17s 7ms/step - loss: 0.1732 - accuracy: 0.9297 - val_loss: 0.1736 - val_accuracy: 0.9257\n",
            "Epoch 14/50\n",
            "2487/2500 [============================>.] - ETA: 0s - loss: 0.1725 - accuracy: 0.9294\n",
            "  train_auc :  0.9603474930342207\n",
            "  val_auc :  0.9581962038464441\n",
            "2500/2500 [==============================] - 13s 5ms/step - loss: 0.1724 - accuracy: 0.9294 - val_loss: 0.1905 - val_accuracy: 0.9178\n",
            "Epoch 15/50\n",
            "2494/2500 [============================>.] - ETA: 0s - loss: 0.1714 - accuracy: 0.9304\n",
            "  train_auc :  0.9602135410682133\n",
            "  val_auc :  0.9585687505764209\n",
            "2500/2500 [==============================] - 14s 6ms/step - loss: 0.1714 - accuracy: 0.9305 - val_loss: 0.1661 - val_accuracy: 0.9329\n",
            "Epoch 16/50\n",
            "2483/2500 [============================>.] - ETA: 0s - loss: 0.1717 - accuracy: 0.9307\n",
            "  train_auc :  0.9598713759880885\n",
            "  val_auc :  0.958059797592046\n",
            "2500/2500 [==============================] - 14s 6ms/step - loss: 0.1717 - accuracy: 0.9307 - val_loss: 0.1753 - val_accuracy: 0.9293\n",
            "Epoch 17/50\n",
            "2500/2500 [==============================] - ETA: 0s - loss: 0.1711 - accuracy: 0.9294\n",
            "  train_auc :  0.961424350156674\n",
            "  val_auc :  0.9593192503144099\n",
            "2500/2500 [==============================] - 13s 5ms/step - loss: 0.1711 - accuracy: 0.9294 - val_loss: 0.1640 - val_accuracy: 0.9352\n",
            "Epoch 18/50\n",
            "2493/2500 [============================>.] - ETA: 0s - loss: 0.1696 - accuracy: 0.9309\n",
            "  train_auc :  0.961175021875636\n",
            "  val_auc :  0.9591147846579956\n",
            "2500/2500 [==============================] - 12s 5ms/step - loss: 0.1695 - accuracy: 0.9309 - val_loss: 0.1650 - val_accuracy: 0.9322\n",
            "Epoch 19/50\n",
            "2488/2500 [============================>.] - ETA: 0s - loss: 0.1696 - accuracy: 0.9305\n",
            "  train_auc :  0.9619386438447649\n",
            "  val_auc :  0.9598649195551356\n",
            "2500/2500 [==============================] - 12s 5ms/step - loss: 0.1696 - accuracy: 0.9305 - val_loss: 0.1601 - val_accuracy: 0.9352\n",
            "Epoch 20/50\n",
            "2498/2500 [============================>.] - ETA: 0s - loss: 0.1686 - accuracy: 0.9314\n",
            "  train_auc :  0.9607446623545759\n",
            "  val_auc :  0.958242538634269\n",
            "2500/2500 [==============================] - 12s 5ms/step - loss: 0.1686 - accuracy: 0.9314 - val_loss: 0.2032 - val_accuracy: 0.9201\n",
            "Epoch 21/50\n",
            "2499/2500 [============================>.] - ETA: 0s - loss: 0.1677 - accuracy: 0.9317\n",
            "  train_auc :  0.9618517967171796\n",
            "  val_auc :  0.9599127247621398\n",
            "2500/2500 [==============================] - 15s 6ms/step - loss: 0.1677 - accuracy: 0.9317 - val_loss: 0.1669 - val_accuracy: 0.9310\n",
            "Epoch 22/50\n",
            "2497/2500 [============================>.] - ETA: 0s - loss: 0.1671 - accuracy: 0.9325\n",
            "  train_auc :  0.9617821744725711\n",
            "  val_auc :  0.9593962980682517\n",
            "2500/2500 [==============================] - 13s 5ms/step - loss: 0.1671 - accuracy: 0.9325 - val_loss: 0.1609 - val_accuracy: 0.9349\n",
            "Epoch 23/50\n",
            "2486/2500 [============================>.] - ETA: 0s - loss: 0.1670 - accuracy: 0.9321\n",
            "  train_auc :  0.9625045361794958\n",
            "  val_auc :  0.9599133549417881\n",
            "2500/2500 [==============================] - 13s 5ms/step - loss: 0.1671 - accuracy: 0.9320 - val_loss: 0.1617 - val_accuracy: 0.9342\n",
            "Epoch 24/50\n",
            "2497/2500 [============================>.] - ETA: 0s - loss: 0.1652 - accuracy: 0.9333\n",
            "  train_auc :  0.9622411454017374\n",
            "  val_auc :  0.9604026839107993\n",
            "2500/2500 [==============================] - 13s 5ms/step - loss: 0.1652 - accuracy: 0.9333 - val_loss: 0.1600 - val_accuracy: 0.9347\n",
            "Epoch 25/50\n",
            "2488/2500 [============================>.] - ETA: 0s - loss: 0.1645 - accuracy: 0.9330\n",
            "  train_auc :  0.9609847204288386\n",
            "  val_auc :  0.9591095773840597\n",
            "2500/2500 [==============================] - 14s 6ms/step - loss: 0.1647 - accuracy: 0.9329 - val_loss: 0.1684 - val_accuracy: 0.9342\n",
            "Epoch 26/50\n",
            "2497/2500 [============================>.] - ETA: 0s - loss: 0.1656 - accuracy: 0.9319\n",
            "  train_auc :  0.9633789943631325\n",
            "  val_auc :  0.9611868595647307\n",
            "2500/2500 [==============================] - 14s 6ms/step - loss: 0.1655 - accuracy: 0.9319 - val_loss: 0.1578 - val_accuracy: 0.9358\n",
            "Epoch 27/50\n",
            "2497/2500 [============================>.] - ETA: 0s - loss: 0.1646 - accuracy: 0.9325\n",
            "  train_auc :  0.9637824967471607\n",
            "  val_auc :  0.9615630768147643\n",
            "2500/2500 [==============================] - 13s 5ms/step - loss: 0.1645 - accuracy: 0.9325 - val_loss: 0.1583 - val_accuracy: 0.9358\n",
            "Epoch 28/50\n",
            "2485/2500 [============================>.] - ETA: 0s - loss: 0.1637 - accuracy: 0.9343\n",
            "  train_auc :  0.9630345236498548\n",
            "  val_auc :  0.9604842424242291\n",
            "2500/2500 [==============================] - 14s 6ms/step - loss: 0.1637 - accuracy: 0.9343 - val_loss: 0.1589 - val_accuracy: 0.9362\n",
            "Epoch 29/50\n",
            "2490/2500 [============================>.] - ETA: 0s - loss: 0.1651 - accuracy: 0.9327\n",
            "  train_auc :  0.9625100732918979\n",
            "  val_auc :  0.9600548136891559\n",
            "2500/2500 [==============================] - 15s 6ms/step - loss: 0.1652 - accuracy: 0.9327 - val_loss: 0.1756 - val_accuracy: 0.9263\n",
            "Epoch 30/50\n",
            "2485/2500 [============================>.] - ETA: 0s - loss: 0.1637 - accuracy: 0.9333\n",
            "  train_auc :  0.9637187750440936\n",
            "  val_auc :  0.9610862519366693\n",
            "2500/2500 [==============================] - 13s 5ms/step - loss: 0.1635 - accuracy: 0.9333 - val_loss: 0.1654 - val_accuracy: 0.9329\n",
            "Epoch 31/50\n",
            "2497/2500 [============================>.] - ETA: 0s - loss: 0.1628 - accuracy: 0.9335\n",
            "  train_auc :  0.9632028148330292\n",
            "  val_auc :  0.9606334181083427\n",
            "2500/2500 [==============================] - 14s 6ms/step - loss: 0.1628 - accuracy: 0.9335 - val_loss: 0.1583 - val_accuracy: 0.9359\n",
            "Epoch 32/50\n",
            "2493/2500 [============================>.] - ETA: 0s - loss: 0.1630 - accuracy: 0.9339\n",
            "  train_auc :  0.9643180199480617\n",
            "  val_auc :  0.9617203895553891\n",
            "2500/2500 [==============================] - 13s 5ms/step - loss: 0.1630 - accuracy: 0.9338 - val_loss: 0.1565 - val_accuracy: 0.9367\n",
            "Epoch 33/50\n",
            "2498/2500 [============================>.] - ETA: 0s - loss: 0.1622 - accuracy: 0.9340\n",
            "  train_auc :  0.9635376671108503\n",
            "  val_auc :  0.9616110257469513\n",
            "2500/2500 [==============================] - 14s 6ms/step - loss: 0.1623 - accuracy: 0.9340 - val_loss: 0.1625 - val_accuracy: 0.9331\n",
            "Epoch 34/50\n",
            "2498/2500 [============================>.] - ETA: 0s - loss: 0.1614 - accuracy: 0.9344\n",
            "  train_auc :  0.9650781769036273\n",
            "  val_auc :  0.9619285810107768\n",
            "2500/2500 [==============================] - 14s 6ms/step - loss: 0.1613 - accuracy: 0.9344 - val_loss: 0.1595 - val_accuracy: 0.9348\n",
            "Epoch 35/50\n",
            "2500/2500 [==============================] - ETA: 0s - loss: 0.1607 - accuracy: 0.9353\n",
            "  train_auc :  0.964406069984643\n",
            "  val_auc :  0.9614836299559456\n",
            "2500/2500 [==============================] - 12s 5ms/step - loss: 0.1607 - accuracy: 0.9353 - val_loss: 0.1659 - val_accuracy: 0.9344\n",
            "Epoch 36/50\n",
            "2486/2500 [============================>.] - ETA: 0s - loss: 0.1606 - accuracy: 0.9337\n",
            "  train_auc :  0.9645231259503162\n",
            "  val_auc :  0.9617792284341302\n",
            "2500/2500 [==============================] - 13s 5ms/step - loss: 0.1606 - accuracy: 0.9337 - val_loss: 0.1583 - val_accuracy: 0.9374\n",
            "Epoch 37/50\n",
            "2495/2500 [============================>.] - ETA: 0s - loss: 0.1611 - accuracy: 0.9341\n",
            "  train_auc :  0.9651421853426123\n",
            "  val_auc :  0.9615835742370088\n",
            "2500/2500 [==============================] - 13s 5ms/step - loss: 0.1610 - accuracy: 0.9342 - val_loss: 0.1605 - val_accuracy: 0.9377\n",
            "Epoch 38/50\n",
            "2493/2500 [============================>.] - ETA: 0s - loss: 0.1603 - accuracy: 0.9355\n",
            "  train_auc :  0.9637874472600579\n",
            "  val_auc :  0.9602999756839102\n",
            "2500/2500 [==============================] - 14s 6ms/step - loss: 0.1602 - accuracy: 0.9355 - val_loss: 0.2043 - val_accuracy: 0.9201\n",
            "Epoch 39/50\n",
            "2485/2500 [============================>.] - ETA: 0s - loss: 0.1589 - accuracy: 0.9351\n",
            "  train_auc :  0.9649662732023889\n",
            "  val_auc :  0.961530827094868\n",
            "2500/2500 [==============================] - 14s 6ms/step - loss: 0.1588 - accuracy: 0.9352 - val_loss: 0.1774 - val_accuracy: 0.9279\n",
            "Epoch 40/50\n",
            "2493/2500 [============================>.] - ETA: 0s - loss: 0.1587 - accuracy: 0.9355\n",
            "  train_auc :  0.9638616455335456\n",
            "  val_auc :  0.9600305351890215\n",
            "2500/2500 [==============================] - 14s 6ms/step - loss: 0.1585 - accuracy: 0.9356 - val_loss: 0.1970 - val_accuracy: 0.9215\n",
            "Epoch 41/50\n",
            "2495/2500 [============================>.] - ETA: 0s - loss: 0.1595 - accuracy: 0.9345\n",
            "  train_auc :  0.9652325838500013\n",
            "  val_auc :  0.9621102496420193\n",
            "2500/2500 [==============================] - 14s 6ms/step - loss: 0.1595 - accuracy: 0.9345 - val_loss: 0.1575 - val_accuracy: 0.9356\n",
            "Epoch 42/50\n",
            "2494/2500 [============================>.] - ETA: 0s - loss: 0.1598 - accuracy: 0.9352\n",
            "  train_auc :  0.9656609410561452\n",
            "  val_auc :  0.9620198796692967\n",
            "2500/2500 [==============================] - 12s 5ms/step - loss: 0.1598 - accuracy: 0.9352 - val_loss: 0.1606 - val_accuracy: 0.9343\n",
            "Epoch 43/50\n",
            "2495/2500 [============================>.] - ETA: 0s - loss: 0.1575 - accuracy: 0.9357\n",
            "  train_auc :  0.9646065218829369\n",
            "  val_auc :  0.9614880633250502\n",
            "2500/2500 [==============================] - 12s 5ms/step - loss: 0.1576 - accuracy: 0.9356 - val_loss: 0.1587 - val_accuracy: 0.9355\n",
            "Epoch 44/50\n",
            "2494/2500 [============================>.] - ETA: 0s - loss: 0.1583 - accuracy: 0.9357\n",
            "  train_auc :  0.9651231771695041\n",
            "  val_auc :  0.9605630812149659\n",
            "2500/2500 [==============================] - 15s 6ms/step - loss: 0.1582 - accuracy: 0.9358 - val_loss: 0.1891 - val_accuracy: 0.9209\n",
            "Epoch 45/50\n",
            "2487/2500 [============================>.] - ETA: 0s - loss: 0.1584 - accuracy: 0.9357\n",
            "  train_auc :  0.9657972656755076\n",
            "  val_auc :  0.9627214686219512\n",
            "2500/2500 [==============================] - 12s 5ms/step - loss: 0.1586 - accuracy: 0.9356 - val_loss: 0.1554 - val_accuracy: 0.9376\n",
            "Epoch 46/50\n",
            "2500/2500 [==============================] - ETA: 0s - loss: 0.1570 - accuracy: 0.9364\n",
            "  train_auc :  0.9659037131031452\n",
            "  val_auc :  0.9619492221582041\n",
            "2500/2500 [==============================] - 15s 6ms/step - loss: 0.1570 - accuracy: 0.9364 - val_loss: 0.1611 - val_accuracy: 0.9356\n",
            "Epoch 47/50\n",
            "2486/2500 [============================>.] - ETA: 0s - loss: 0.1585 - accuracy: 0.9354\n",
            "  train_auc :  0.9662240876353625\n",
            "  val_auc :  0.9626361179748485\n",
            "2500/2500 [==============================] - 12s 5ms/step - loss: 0.1587 - accuracy: 0.9354 - val_loss: 0.1607 - val_accuracy: 0.9373\n",
            "Epoch 48/50\n",
            "2498/2500 [============================>.] - ETA: 0s - loss: 0.1573 - accuracy: 0.9366\n",
            "  train_auc :  0.9660409794599925\n",
            "  val_auc :  0.9613009110252894\n",
            "2500/2500 [==============================] - 14s 6ms/step - loss: 0.1573 - accuracy: 0.9366 - val_loss: 0.1602 - val_accuracy: 0.9365\n",
            "Epoch 49/50\n",
            "2483/2500 [============================>.] - ETA: 0s - loss: 0.1572 - accuracy: 0.9367\n",
            "  train_auc :  0.9665322783093199\n",
            "  val_auc :  0.9625527242013905\n",
            "2500/2500 [==============================] - 13s 5ms/step - loss: 0.1574 - accuracy: 0.9367 - val_loss: 0.1648 - val_accuracy: 0.9367\n",
            "Epoch 50/50\n",
            "2488/2500 [============================>.] - ETA: 0s - loss: 0.1557 - accuracy: 0.9371\n",
            "  train_auc :  0.9659700838315364\n",
            "  val_auc :  0.9627176433209282\n",
            "2500/2500 [==============================] - 15s 6ms/step - loss: 0.1558 - accuracy: 0.9370 - val_loss: 0.1596 - val_accuracy: 0.9343\n"
          ]
        },
        {
          "output_type": "execute_result",
          "data": {
            "text/plain": [
              "<keras.callbacks.History at 0x7f882e832050>"
            ]
          },
          "metadata": {},
          "execution_count": 51
        }
      ]
    },
    {
      "cell_type": "markdown",
      "metadata": {
        "id": "kcILeYZI9pxm"
      },
      "source": [
        "<Pre><font size=6>Part-6: Creating a Data pipeline for BERT Model</font> \n",
        "1. Pipeline is a way to codify and automate the workflow.\n",
        "2. Download the test.csv file from here <a href=\"https://drive.google.com/file/d/1QwjqTsqTX2vdy7fTmeXjxP3dq8IAVLpo/view?usp=sharing\">here</a> </pre>\n"
      ]
    },
    {
      "cell_type": "code",
      "metadata": {
        "id": "_74n3sgFjvlM",
        "colab": {
          "base_uri": "https://localhost:8080/"
        },
        "outputId": "6cdb9c1a-e3b8-4adc-dfe8-32fa8f3a4070"
      },
      "source": [
        "!gdown 1QwjqTsqTX2vdy7fTmeXjxP3dq8IAVLpo"
      ],
      "execution_count": null,
      "outputs": [
        {
          "output_type": "stream",
          "name": "stdout",
          "text": [
            "Downloading...\n",
            "From: https://drive.google.com/uc?id=1QwjqTsqTX2vdy7fTmeXjxP3dq8IAVLpo\n",
            "To: /content/test.csv\n",
            "\r  0% 0.00/62.1k [00:00<?, ?B/s]\r100% 62.1k/62.1k [00:00<00:00, 74.6MB/s]\n"
          ]
        }
      ]
    },
    {
      "cell_type": "code",
      "metadata": {
        "id": "lQcoHbUKjgvF"
      },
      "source": [
        "test_df= pd.read_csv('test.csv')"
      ],
      "execution_count": null,
      "outputs": []
    },
    {
      "cell_type": "code",
      "source": [
        "def output_func(predictions):\n",
        "  if predictions > 0.5:\n",
        "    return 1\n",
        "  else:\n",
        "    return 0"
      ],
      "metadata": {
        "id": "XmjZGj9Lt0KN"
      },
      "execution_count": null,
      "outputs": []
    },
    {
      "cell_type": "code",
      "source": [
        "vfunc = np.vectorize(output_func)"
      ],
      "metadata": {
        "id": "LdF20kScuGxa"
      },
      "execution_count": null,
      "outputs": []
    },
    {
      "cell_type": "code",
      "source": [
        "def data_pipeline(x_test,model1,bert_model):\n",
        "  x_test['Text']=x_test['Text'].apply(lambda row : re.sub('<.*?>','',row))\n",
        "  x_test_tokens, x_test_mask, x_test_segment=bert_preprocess(x_test.Text.values,tokenizer,55)\n",
        "  x_test_pooled_output=bert_model.predict([x_test_tokens,x_test_mask,x_test_segment])\n",
        "  predictions = model1.predict(x_test_pooled_output)\n",
        "  final_output = vfunc(predictions)\n",
        "  print(x_test_pooled_output.shape)\n",
        "  return final_output"
      ],
      "metadata": {
        "id": "LCBL5z7QqXLd"
      },
      "execution_count": null,
      "outputs": []
    },
    {
      "cell_type": "code",
      "source": [
        "final_output = data_pipeline(test_df,model1,bert_model)"
      ],
      "metadata": {
        "id": "IgrCbGYMNQ9Z",
        "colab": {
          "base_uri": "https://localhost:8080/"
        },
        "outputId": "f722a3fe-1301-4bf8-af86-e2fed6926b37"
      },
      "execution_count": null,
      "outputs": [
        {
          "output_type": "stream",
          "name": "stdout",
          "text": [
            "(352, 768)\n"
          ]
        }
      ]
    },
    {
      "cell_type": "code",
      "source": [
        "print(test_df.shape)\n",
        "print(final_output.shape)"
      ],
      "metadata": {
        "colab": {
          "base_uri": "https://localhost:8080/"
        },
        "id": "WlW-ZTxYvh4U",
        "outputId": "721c5a5e-fe61-43f2-953c-0ac76167a680"
      },
      "execution_count": null,
      "outputs": [
        {
          "output_type": "stream",
          "name": "stdout",
          "text": [
            "(352, 1)\n",
            "(352, 1)\n"
          ]
        }
      ]
    },
    {
      "cell_type": "markdown",
      "source": [
        "Observation"
      ],
      "metadata": {
        "id": "6rMnmCDm2zhc"
      }
    },
    {
      "cell_type": "markdown",
      "source": [
        "I read through Jay Alammar's blog, I tried to implement sequence output [:,0,:] where I can get only CLS from the sequence output as one of the kaggle comment said it gave better result. But I had memory exceeding issues. \n",
        "\n",
        "I then used the output from BERT as input to my NN model.\n",
        "\n",
        "For creating the data pipeling I wrote a simple function and used a bert preprocess function and another vectorize function inside my data pipeline function.\n",
        "\n",
        "The 2 important take aways for me where that, I learned about [CLS] token in detail. And also the input structure of BERT.\n",
        "\n",
        "I also came across a kaggle discussion where they said, glove gave better results for sentence for text similarity because of which they created SBERT."
      ],
      "metadata": {
        "id": "3UzH9hgh23Vy"
      }
    }
  ]
}